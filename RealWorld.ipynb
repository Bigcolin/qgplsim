{
 "cells": [
  {
   "cell_type": "code",
   "execution_count": 1,
   "id": "3263c2bb-3063-4891-b4c0-971f9c3cb402",
   "metadata": {},
   "outputs": [],
   "source": [
    "using DataFrames, CSV"
   ]
  },
  {
   "cell_type": "code",
   "execution_count": 2,
   "id": "27a7bbdb-64bc-4c15-88c3-6ce5902babc2",
   "metadata": {},
   "outputs": [],
   "source": [
    "using Statistics"
   ]
  },
  {
   "cell_type": "code",
   "execution_count": 6,
   "id": "99f07f1a-5069-4d36-bed9-ba118b2479e0",
   "metadata": {
    "tags": []
   },
   "outputs": [
    {
     "data": {
      "text/html": [
       "<table class=\"data-frame\"><thead><tr><th></th><th>school</th><th>sex</th><th>age</th><th>address</th><th>famsize</th><th>Pstatus</th><th>Medu</th><th>Fedu</th><th>Mjob</th><th>Fjob</th></tr><tr><th></th><th>String3</th><th>String1</th><th>Int64</th><th>String1</th><th>String3</th><th>String1</th><th>Int64</th><th>Int64</th><th>String15</th><th>String15</th></tr></thead><tbody><p>5 rows × 33 columns (omitted printing of 23 columns)</p><tr><th>1</th><td>GP</td><td>F</td><td>18</td><td>U</td><td>GT3</td><td>A</td><td>4</td><td>4</td><td>at_home</td><td>teacher</td></tr><tr><th>2</th><td>GP</td><td>F</td><td>17</td><td>U</td><td>GT3</td><td>T</td><td>1</td><td>1</td><td>at_home</td><td>other</td></tr><tr><th>3</th><td>GP</td><td>F</td><td>15</td><td>U</td><td>LE3</td><td>T</td><td>1</td><td>1</td><td>at_home</td><td>other</td></tr><tr><th>4</th><td>GP</td><td>F</td><td>15</td><td>U</td><td>GT3</td><td>T</td><td>4</td><td>2</td><td>health</td><td>services</td></tr><tr><th>5</th><td>GP</td><td>F</td><td>16</td><td>U</td><td>GT3</td><td>T</td><td>3</td><td>3</td><td>other</td><td>other</td></tr></tbody></table>"
      ],
      "text/latex": [
       "\\begin{tabular}{r|ccccccccccc}\n",
       "\t& school & sex & age & address & famsize & Pstatus & Medu & Fedu & Mjob & Fjob & \\\\\n",
       "\t\\hline\n",
       "\t& String3 & String1 & Int64 & String1 & String3 & String1 & Int64 & Int64 & String15 & String15 & \\\\\n",
       "\t\\hline\n",
       "\t1 & GP & F & 18 & U & GT3 & A & 4 & 4 & at\\_home & teacher & $\\dots$ \\\\\n",
       "\t2 & GP & F & 17 & U & GT3 & T & 1 & 1 & at\\_home & other & $\\dots$ \\\\\n",
       "\t3 & GP & F & 15 & U & LE3 & T & 1 & 1 & at\\_home & other & $\\dots$ \\\\\n",
       "\t4 & GP & F & 15 & U & GT3 & T & 4 & 2 & health & services & $\\dots$ \\\\\n",
       "\t5 & GP & F & 16 & U & GT3 & T & 3 & 3 & other & other & $\\dots$ \\\\\n",
       "\\end{tabular}\n"
      ],
      "text/plain": [
       "5×33 DataFrame. Omitted printing of 26 columns\n",
       "│ Row │ school  │ sex     │ age   │ address │ famsize │ Pstatus │ Medu  │\n",
       "│     │ \u001b[90mString3\u001b[39m │ \u001b[90mString1\u001b[39m │ \u001b[90mInt64\u001b[39m │ \u001b[90mString1\u001b[39m │ \u001b[90mString3\u001b[39m │ \u001b[90mString1\u001b[39m │ \u001b[90mInt64\u001b[39m │\n",
       "├─────┼─────────┼─────────┼───────┼─────────┼─────────┼─────────┼───────┤\n",
       "│ 1   │ GP      │ F       │ 18    │ U       │ GT3     │ A       │ 4     │\n",
       "│ 2   │ GP      │ F       │ 17    │ U       │ GT3     │ T       │ 1     │\n",
       "│ 3   │ GP      │ F       │ 15    │ U       │ LE3     │ T       │ 1     │\n",
       "│ 4   │ GP      │ F       │ 15    │ U       │ GT3     │ T       │ 4     │\n",
       "│ 5   │ GP      │ F       │ 16    │ U       │ GT3     │ T       │ 3     │"
      ]
     },
     "execution_count": 6,
     "metadata": {},
     "output_type": "execute_result"
    }
   ],
   "source": [
    "filename = \"./datasets/student-mat.csv\"\n",
    "df0 = DataFrame(CSV.File(filename))\n",
    "df0[1:5,:]"
   ]
  },
  {
   "cell_type": "code",
   "execution_count": 7,
   "id": "66e44855-c830-4513-ae0c-4e2e3c97586b",
   "metadata": {},
   "outputs": [
    {
     "data": {
      "text/plain": [
       "33-element Vector{String}:\n",
       " \"school\"\n",
       " \"sex\"\n",
       " \"age\"\n",
       " \"address\"\n",
       " \"famsize\"\n",
       " \"Pstatus\"\n",
       " \"Medu\"\n",
       " \"Fedu\"\n",
       " \"Mjob\"\n",
       " \"Fjob\"\n",
       " \"reason\"\n",
       " \"guardian\"\n",
       " \"traveltime\"\n",
       " ⋮\n",
       " \"internet\"\n",
       " \"romantic\"\n",
       " \"famrel\"\n",
       " \"freetime\"\n",
       " \"goout\"\n",
       " \"Dalc\"\n",
       " \"Walc\"\n",
       " \"health\"\n",
       " \"absences\"\n",
       " \"G1\"\n",
       " \"G2\"\n",
       " \"G3\""
      ]
     },
     "execution_count": 7,
     "metadata": {},
     "output_type": "execute_result"
    }
   ],
   "source": [
    "names(df0)"
   ]
  },
  {
   "cell_type": "code",
   "execution_count": 10,
   "id": "626ac68f-995e-4286-bfcf-20d6ec4a8613",
   "metadata": {},
   "outputs": [
    {
     "data": {
      "text/html": [
       "<table class=\"data-frame\"><thead><tr><th></th><th>G1</th><th>G2</th><th>G3</th></tr><tr><th></th><th>Int64</th><th>Int64</th><th>Int64</th></tr></thead><tbody><p>6 rows × 3 columns</p><tr><th>1</th><td>5</td><td>6</td><td>6</td></tr><tr><th>2</th><td>5</td><td>5</td><td>6</td></tr><tr><th>3</th><td>7</td><td>8</td><td>10</td></tr><tr><th>4</th><td>15</td><td>14</td><td>15</td></tr><tr><th>5</th><td>6</td><td>10</td><td>10</td></tr><tr><th>6</th><td>15</td><td>15</td><td>15</td></tr></tbody></table>"
      ],
      "text/latex": [
       "\\begin{tabular}{r|ccc}\n",
       "\t& G1 & G2 & G3\\\\\n",
       "\t\\hline\n",
       "\t& Int64 & Int64 & Int64\\\\\n",
       "\t\\hline\n",
       "\t1 & 5 & 6 & 6 \\\\\n",
       "\t2 & 5 & 5 & 6 \\\\\n",
       "\t3 & 7 & 8 & 10 \\\\\n",
       "\t4 & 15 & 14 & 15 \\\\\n",
       "\t5 & 6 & 10 & 10 \\\\\n",
       "\t6 & 15 & 15 & 15 \\\\\n",
       "\\end{tabular}\n"
      ],
      "text/plain": [
       "6×3 DataFrame\n",
       "│ Row │ G1    │ G2    │ G3    │\n",
       "│     │ \u001b[90mInt64\u001b[39m │ \u001b[90mInt64\u001b[39m │ \u001b[90mInt64\u001b[39m │\n",
       "├─────┼───────┼───────┼───────┤\n",
       "│ 1   │ 5     │ 6     │ 6     │\n",
       "│ 2   │ 5     │ 5     │ 6     │\n",
       "│ 3   │ 7     │ 8     │ 10    │\n",
       "│ 4   │ 15    │ 14    │ 15    │\n",
       "│ 5   │ 6     │ 10    │ 10    │\n",
       "│ 6   │ 15    │ 15    │ 15    │"
      ]
     },
     "execution_count": 10,
     "metadata": {},
     "output_type": "execute_result"
    }
   ],
   "source": [
    "grades = df0[[:G1, :G2, :G3]]\n",
    "head(grades)"
   ]
  },
  {
   "cell_type": "markdown",
   "id": "a40dcb8b-8602-404e-8b90-69d01f6ac2d1",
   "metadata": {},
   "source": [
    "#  Boston Datasets"
   ]
  },
  {
   "cell_type": "code",
   "execution_count": 4,
   "id": "1b4d6894-eda9-4c02-a66b-b136a539972b",
   "metadata": {
    "collapsed": true,
    "jupyter": {
     "outputs_hidden": true
    },
    "tags": []
   },
   "outputs": [
    {
     "data": {
      "text/html": [
       "<table class=\"data-frame\"><thead><tr><th></th><th>Column1</th><th>crim</th><th>zn</th><th>indus</th><th>chas</th><th>nox</th><th>rm</th><th>age</th><th>dis</th><th>rad</th></tr><tr><th></th><th>Int64</th><th>Float64</th><th>Float64</th><th>Float64</th><th>Int64</th><th>Float64</th><th>Float64</th><th>Float64</th><th>Float64</th><th>Int64</th></tr></thead><tbody><p>5 rows × 15 columns (omitted printing of 5 columns)</p><tr><th>1</th><td>1</td><td>0.00632</td><td>18.0</td><td>2.31</td><td>0</td><td>0.538</td><td>6.575</td><td>65.2</td><td>4.09</td><td>1</td></tr><tr><th>2</th><td>2</td><td>0.02731</td><td>0.0</td><td>7.07</td><td>0</td><td>0.469</td><td>6.421</td><td>78.9</td><td>4.9671</td><td>2</td></tr><tr><th>3</th><td>3</td><td>0.02729</td><td>0.0</td><td>7.07</td><td>0</td><td>0.469</td><td>7.185</td><td>61.1</td><td>4.9671</td><td>2</td></tr><tr><th>4</th><td>4</td><td>0.03237</td><td>0.0</td><td>2.18</td><td>0</td><td>0.458</td><td>6.998</td><td>45.8</td><td>6.0622</td><td>3</td></tr><tr><th>5</th><td>5</td><td>0.06905</td><td>0.0</td><td>2.18</td><td>0</td><td>0.458</td><td>7.147</td><td>54.2</td><td>6.0622</td><td>3</td></tr></tbody></table>"
      ],
      "text/latex": [
       "\\begin{tabular}{r|ccccccccccc}\n",
       "\t& Column1 & crim & zn & indus & chas & nox & rm & age & dis & rad & \\\\\n",
       "\t\\hline\n",
       "\t& Int64 & Float64 & Float64 & Float64 & Int64 & Float64 & Float64 & Float64 & Float64 & Int64 & \\\\\n",
       "\t\\hline\n",
       "\t1 & 1 & 0.00632 & 18.0 & 2.31 & 0 & 0.538 & 6.575 & 65.2 & 4.09 & 1 & $\\dots$ \\\\\n",
       "\t2 & 2 & 0.02731 & 0.0 & 7.07 & 0 & 0.469 & 6.421 & 78.9 & 4.9671 & 2 & $\\dots$ \\\\\n",
       "\t3 & 3 & 0.02729 & 0.0 & 7.07 & 0 & 0.469 & 7.185 & 61.1 & 4.9671 & 2 & $\\dots$ \\\\\n",
       "\t4 & 4 & 0.03237 & 0.0 & 2.18 & 0 & 0.458 & 6.998 & 45.8 & 6.0622 & 3 & $\\dots$ \\\\\n",
       "\t5 & 5 & 0.06905 & 0.0 & 2.18 & 0 & 0.458 & 7.147 & 54.2 & 6.0622 & 3 & $\\dots$ \\\\\n",
       "\\end{tabular}\n"
      ],
      "text/plain": [
       "5×15 DataFrame. Omitted printing of 8 columns\n",
       "│ Row │ Column1 │ crim    │ zn      │ indus   │ chas  │ nox     │ rm      │\n",
       "│     │ \u001b[90mInt64\u001b[39m   │ \u001b[90mFloat64\u001b[39m │ \u001b[90mFloat64\u001b[39m │ \u001b[90mFloat64\u001b[39m │ \u001b[90mInt64\u001b[39m │ \u001b[90mFloat64\u001b[39m │ \u001b[90mFloat64\u001b[39m │\n",
       "├─────┼─────────┼─────────┼─────────┼─────────┼───────┼─────────┼─────────┤\n",
       "│ 1   │ 1       │ 0.00632 │ 18.0    │ 2.31    │ 0     │ 0.538   │ 6.575   │\n",
       "│ 2   │ 2       │ 0.02731 │ 0.0     │ 7.07    │ 0     │ 0.469   │ 6.421   │\n",
       "│ 3   │ 3       │ 0.02729 │ 0.0     │ 7.07    │ 0     │ 0.469   │ 7.185   │\n",
       "│ 4   │ 4       │ 0.03237 │ 0.0     │ 2.18    │ 0     │ 0.458   │ 6.998   │\n",
       "│ 5   │ 5       │ 0.06905 │ 0.0     │ 2.18    │ 0     │ 0.458   │ 7.147   │"
      ]
     },
     "execution_count": 4,
     "metadata": {},
     "output_type": "execute_result"
    }
   ],
   "source": [
    "filename = \"./datasets/Boston.csv\"\n",
    "df = DataFrame(CSV.File(filename))\n",
    "df[1:5,:]"
   ]
  },
  {
   "cell_type": "code",
   "execution_count": 5,
   "id": "dc3f2897-4ab2-40a8-b882-26342de3b08d",
   "metadata": {},
   "outputs": [
    {
     "data": {
      "text/plain": [
       "15-element Vector{String}:\n",
       " \"Column1\"\n",
       " \"crim\"\n",
       " \"zn\"\n",
       " \"indus\"\n",
       " \"chas\"\n",
       " \"nox\"\n",
       " \"rm\"\n",
       " \"age\"\n",
       " \"dis\"\n",
       " \"rad\"\n",
       " \"tax\"\n",
       " \"ptratio\"\n",
       " \"black\"\n",
       " \"lstat\"\n",
       " \"medv\""
      ]
     },
     "execution_count": 5,
     "metadata": {},
     "output_type": "execute_result"
    }
   ],
   "source": [
    "names(df)"
   ]
  },
  {
   "cell_type": "code",
   "execution_count": 143,
   "id": "1c59162a-faee-4eb9-af5a-e5a0872f66b8",
   "metadata": {},
   "outputs": [
    {
     "data": {
      "text/plain": [
       "2-element Vector{Symbol}:\n",
       " :rad\n",
       " :chas"
      ]
     },
     "execution_count": 143,
     "metadata": {},
     "output_type": "execute_result"
    }
   ],
   "source": [
    "name_of_y = :medv\n",
    "names_of_x = [:rm, :ptratio, :lstat]\n",
    "names_of_z = [:rad, :chas]"
   ]
  },
  {
   "cell_type": "code",
   "execution_count": 144,
   "id": "18dadcbc-f0d0-4d1f-b617-f44cf3389dbd",
   "metadata": {
    "collapsed": true,
    "jupyter": {
     "outputs_hidden": true
    },
    "tags": []
   },
   "outputs": [
    {
     "data": {
      "text/html": [
       "<div class=\"data-frame\"><p>506 rows × 2 columns</p><table class=\"data-frame\"><thead><tr><th></th><th>rad</th><th>chas</th></tr><tr><th></th><th title=\"Int64\">Int64</th><th title=\"Int64\">Int64</th></tr></thead><tbody><tr><th>1</th><td>1</td><td>0</td></tr><tr><th>2</th><td>2</td><td>0</td></tr><tr><th>3</th><td>2</td><td>0</td></tr><tr><th>4</th><td>3</td><td>0</td></tr><tr><th>5</th><td>3</td><td>0</td></tr><tr><th>6</th><td>3</td><td>0</td></tr><tr><th>7</th><td>5</td><td>0</td></tr><tr><th>8</th><td>5</td><td>0</td></tr><tr><th>9</th><td>5</td><td>0</td></tr><tr><th>10</th><td>5</td><td>0</td></tr><tr><th>11</th><td>5</td><td>0</td></tr><tr><th>12</th><td>5</td><td>0</td></tr><tr><th>13</th><td>5</td><td>0</td></tr><tr><th>14</th><td>4</td><td>0</td></tr><tr><th>15</th><td>4</td><td>0</td></tr><tr><th>16</th><td>4</td><td>0</td></tr><tr><th>17</th><td>4</td><td>0</td></tr><tr><th>18</th><td>4</td><td>0</td></tr><tr><th>19</th><td>4</td><td>0</td></tr><tr><th>20</th><td>4</td><td>0</td></tr><tr><th>21</th><td>4</td><td>0</td></tr><tr><th>22</th><td>4</td><td>0</td></tr><tr><th>23</th><td>4</td><td>0</td></tr><tr><th>24</th><td>4</td><td>0</td></tr><tr><th>25</th><td>4</td><td>0</td></tr><tr><th>26</th><td>4</td><td>0</td></tr><tr><th>27</th><td>4</td><td>0</td></tr><tr><th>28</th><td>4</td><td>0</td></tr><tr><th>29</th><td>4</td><td>0</td></tr><tr><th>30</th><td>4</td><td>0</td></tr><tr><th>&vellip;</th><td>&vellip;</td><td>&vellip;</td></tr></tbody></table></div>"
      ],
      "text/latex": [
       "\\begin{tabular}{r|cc}\n",
       "\t& rad & chas\\\\\n",
       "\t\\hline\n",
       "\t& Int64 & Int64\\\\\n",
       "\t\\hline\n",
       "\t1 & 1 & 0 \\\\\n",
       "\t2 & 2 & 0 \\\\\n",
       "\t3 & 2 & 0 \\\\\n",
       "\t4 & 3 & 0 \\\\\n",
       "\t5 & 3 & 0 \\\\\n",
       "\t6 & 3 & 0 \\\\\n",
       "\t7 & 5 & 0 \\\\\n",
       "\t8 & 5 & 0 \\\\\n",
       "\t9 & 5 & 0 \\\\\n",
       "\t10 & 5 & 0 \\\\\n",
       "\t11 & 5 & 0 \\\\\n",
       "\t12 & 5 & 0 \\\\\n",
       "\t13 & 5 & 0 \\\\\n",
       "\t14 & 4 & 0 \\\\\n",
       "\t15 & 4 & 0 \\\\\n",
       "\t16 & 4 & 0 \\\\\n",
       "\t17 & 4 & 0 \\\\\n",
       "\t18 & 4 & 0 \\\\\n",
       "\t19 & 4 & 0 \\\\\n",
       "\t20 & 4 & 0 \\\\\n",
       "\t21 & 4 & 0 \\\\\n",
       "\t22 & 4 & 0 \\\\\n",
       "\t23 & 4 & 0 \\\\\n",
       "\t24 & 4 & 0 \\\\\n",
       "\t25 & 4 & 0 \\\\\n",
       "\t26 & 4 & 0 \\\\\n",
       "\t27 & 4 & 0 \\\\\n",
       "\t28 & 4 & 0 \\\\\n",
       "\t29 & 4 & 0 \\\\\n",
       "\t30 & 4 & 0 \\\\\n",
       "\t$\\dots$ & $\\dots$ & $\\dots$ \\\\\n",
       "\\end{tabular}\n"
      ],
      "text/plain": [
       "\u001b[1m506×2 DataFrame\u001b[0m\n",
       "\u001b[1m Row \u001b[0m│\u001b[1m rad   \u001b[0m\u001b[1m chas  \u001b[0m\n",
       "\u001b[1m     \u001b[0m│\u001b[90m Int64 \u001b[0m\u001b[90m Int64 \u001b[0m\n",
       "─────┼──────────────\n",
       "   1 │     1      0\n",
       "   2 │     2      0\n",
       "   3 │     2      0\n",
       "   4 │     3      0\n",
       "   5 │     3      0\n",
       "   6 │     3      0\n",
       "   7 │     5      0\n",
       "   8 │     5      0\n",
       "   9 │     5      0\n",
       "  10 │     5      0\n",
       "  11 │     5      0\n",
       "  ⋮  │   ⋮      ⋮\n",
       " 497 │     6      0\n",
       " 498 │     6      0\n",
       " 499 │     6      0\n",
       " 500 │     6      0\n",
       " 501 │     6      0\n",
       " 502 │     1      0\n",
       " 503 │     1      0\n",
       " 504 │     1      0\n",
       " 505 │     1      0\n",
       " 506 │     1      0\n",
       "\u001b[36m    485 rows omitted\u001b[0m"
      ]
     },
     "execution_count": 144,
     "metadata": {},
     "output_type": "execute_result"
    }
   ],
   "source": [
    "dfy = df[!, name_of_y]\n",
    "dfX = df[!, names_of_x]\n",
    "dfZ = df[!, names_of_z]"
   ]
  },
  {
   "cell_type": "code",
   "execution_count": 145,
   "id": "b70a26e2-b9e3-494f-94c7-058edb5d1f6c",
   "metadata": {
    "collapsed": true,
    "jupyter": {
     "outputs_hidden": true
    },
    "tags": []
   },
   "outputs": [
    {
     "data": {
      "text/html": [
       "<div class=\"data-frame\"><p>500 rows × 2 columns</p><table class=\"data-frame\"><thead><tr><th></th><th>x1</th><th>x2</th></tr><tr><th></th><th title=\"Float64\">Float64</th><th title=\"Float64\">Float64</th></tr></thead><tbody><tr><th>1</th><td>0.263919</td><td>0.814072</td></tr><tr><th>2</th><td>-1.03512</td><td>1.25373</td></tr><tr><th>3</th><td>-0.815591</td><td>-0.345523</td></tr><tr><th>4</th><td>-0.594139</td><td>-0.936824</td></tr><tr><th>5</th><td>0.191646</td><td>-0.975697</td></tr><tr><th>6</th><td>-0.0964613</td><td>0.868968</td></tr><tr><th>7</th><td>0.255583</td><td>1.23312</td></tr><tr><th>8</th><td>0.0807954</td><td>-1.16969</td></tr><tr><th>9</th><td>0.46921</td><td>-0.315457</td></tr><tr><th>10</th><td>-0.82015</td><td>-1.14332</td></tr><tr><th>11</th><td>0.0488062</td><td>0.920558</td></tr><tr><th>12</th><td>-0.390257</td><td>-1.69926</td></tr><tr><th>13</th><td>-0.506419</td><td>0.555655</td></tr><tr><th>14</th><td>-1.21849</td><td>-0.838069</td></tr><tr><th>15</th><td>-0.304309</td><td>0.0333256</td></tr><tr><th>16</th><td>-0.400343</td><td>0.0753837</td></tr><tr><th>17</th><td>0.751507</td><td>-0.00445586</td></tr><tr><th>18</th><td>-1.62518</td><td>0.945068</td></tr><tr><th>19</th><td>-1.73486</td><td>-1.54049</td></tr><tr><th>20</th><td>-0.756911</td><td>0.974448</td></tr><tr><th>21</th><td>-0.0411428</td><td>1.43491</td></tr><tr><th>22</th><td>-1.01921</td><td>-1.20401</td></tr><tr><th>23</th><td>-0.467277</td><td>0.604893</td></tr><tr><th>24</th><td>0.377771</td><td>-0.125545</td></tr><tr><th>25</th><td>-0.0254369</td><td>0.255754</td></tr><tr><th>26</th><td>1.75443</td><td>0.557056</td></tr><tr><th>27</th><td>-1.41259</td><td>-0.346405</td></tr><tr><th>28</th><td>-0.189433</td><td>0.690364</td></tr><tr><th>29</th><td>0.692625</td><td>-0.425874</td></tr><tr><th>30</th><td>0.58462</td><td>-1.18632</td></tr><tr><th>&vellip;</th><td>&vellip;</td><td>&vellip;</td></tr></tbody></table></div>"
      ],
      "text/latex": [
       "\\begin{tabular}{r|cc}\n",
       "\t& x1 & x2\\\\\n",
       "\t\\hline\n",
       "\t& Float64 & Float64\\\\\n",
       "\t\\hline\n",
       "\t1 & 0.263919 & 0.814072 \\\\\n",
       "\t2 & -1.03512 & 1.25373 \\\\\n",
       "\t3 & -0.815591 & -0.345523 \\\\\n",
       "\t4 & -0.594139 & -0.936824 \\\\\n",
       "\t5 & 0.191646 & -0.975697 \\\\\n",
       "\t6 & -0.0964613 & 0.868968 \\\\\n",
       "\t7 & 0.255583 & 1.23312 \\\\\n",
       "\t8 & 0.0807954 & -1.16969 \\\\\n",
       "\t9 & 0.46921 & -0.315457 \\\\\n",
       "\t10 & -0.82015 & -1.14332 \\\\\n",
       "\t11 & 0.0488062 & 0.920558 \\\\\n",
       "\t12 & -0.390257 & -1.69926 \\\\\n",
       "\t13 & -0.506419 & 0.555655 \\\\\n",
       "\t14 & -1.21849 & -0.838069 \\\\\n",
       "\t15 & -0.304309 & 0.0333256 \\\\\n",
       "\t16 & -0.400343 & 0.0753837 \\\\\n",
       "\t17 & 0.751507 & -0.00445586 \\\\\n",
       "\t18 & -1.62518 & 0.945068 \\\\\n",
       "\t19 & -1.73486 & -1.54049 \\\\\n",
       "\t20 & -0.756911 & 0.974448 \\\\\n",
       "\t21 & -0.0411428 & 1.43491 \\\\\n",
       "\t22 & -1.01921 & -1.20401 \\\\\n",
       "\t23 & -0.467277 & 0.604893 \\\\\n",
       "\t24 & 0.377771 & -0.125545 \\\\\n",
       "\t25 & -0.0254369 & 0.255754 \\\\\n",
       "\t26 & 1.75443 & 0.557056 \\\\\n",
       "\t27 & -1.41259 & -0.346405 \\\\\n",
       "\t28 & -0.189433 & 0.690364 \\\\\n",
       "\t29 & 0.692625 & -0.425874 \\\\\n",
       "\t30 & 0.58462 & -1.18632 \\\\\n",
       "\t$\\dots$ & $\\dots$ & $\\dots$ \\\\\n",
       "\\end{tabular}\n"
      ],
      "text/plain": [
       "\u001b[1m500×2 DataFrame\u001b[0m\n",
       "\u001b[1m Row \u001b[0m│\u001b[1m x1          \u001b[0m\u001b[1m x2        \u001b[0m\n",
       "\u001b[1m     \u001b[0m│\u001b[90m Float64     \u001b[0m\u001b[90m Float64   \u001b[0m\n",
       "─────┼────────────────────────\n",
       "   1 │  0.263919     0.814072\n",
       "   2 │ -1.03512      1.25373\n",
       "   3 │ -0.815591    -0.345523\n",
       "   4 │ -0.594139    -0.936824\n",
       "   5 │  0.191646    -0.975697\n",
       "   6 │ -0.0964613    0.868968\n",
       "   7 │  0.255583     1.23312\n",
       "   8 │  0.0807954   -1.16969\n",
       "   9 │  0.46921     -0.315457\n",
       "  10 │ -0.82015     -1.14332\n",
       "  11 │  0.0488062    0.920558\n",
       "  ⋮  │      ⋮           ⋮\n",
       " 491 │  0.494521     1.80023\n",
       " 492 │  0.270532    -2.58242\n",
       " 493 │ -1.07061     -2.1688\n",
       " 494 │  0.648219    -0.522982\n",
       " 495 │ -0.00567463   0.822157\n",
       " 496 │  0.739406    -0.755996\n",
       " 497 │ -0.750874    -1.76903\n",
       " 498 │ -0.774356     0.256214\n",
       " 499 │ -0.77213     -0.144401\n",
       " 500 │ -0.787498     1.24391\n",
       "\u001b[36m              479 rows omitted\u001b[0m"
      ]
     },
     "execution_count": 145,
     "metadata": {},
     "output_type": "execute_result"
    }
   ],
   "source": [
    "dft = DataFrame(randn(500,2), :auto)"
   ]
  },
  {
   "cell_type": "markdown",
   "id": "9d5209c0-31bb-4c9c-b2cc-2ea31ba8fc71",
   "metadata": {},
   "source": [
    "# GlM fitting"
   ]
  },
  {
   "cell_type": "code",
   "execution_count": 57,
   "id": "f32f62b9-fcf4-40cf-b28a-038a747fc403",
   "metadata": {},
   "outputs": [],
   "source": [
    "using GLM"
   ]
  },
  {
   "cell_type": "code",
   "execution_count": 65,
   "id": "1755f886-aa51-45d4-8aef-c6239902e38a",
   "metadata": {},
   "outputs": [
    {
     "data": {
      "text/plain": [
       "FormulaTerm\n",
       "Response:\n",
       "  medv(unknown)\n",
       "Predictors:\n",
       "  rm(unknown)\n",
       "  ptratio(unknown)\n",
       "  lstat(unknown)"
      ]
     },
     "execution_count": 65,
     "metadata": {},
     "output_type": "execute_result"
    }
   ],
   "source": [
    "formula = Term(name_of_y) ~ sum([Term(x) for x in names_of_x])"
   ]
  },
  {
   "cell_type": "code",
   "execution_count": 66,
   "id": "f8098dc4-0172-413e-8aa8-53bb1d500ef7",
   "metadata": {},
   "outputs": [
    {
     "data": {
      "text/plain": [
       "StatsModels.TableRegressionModel{LinearModel{GLM.LmResp{Vector{Float64}}, GLM.DensePredChol{Float64, LinearAlgebra.CholeskyPivoted{Float64, Matrix{Float64}}}}, Matrix{Float64}}\n",
       "\n",
       "medv ~ 1 + rm + ptratio + lstat\n",
       "\n",
       "Coefficients:\n",
       "──────────────────────────────────────────────────────────────────────────\n",
       "                 Coef.  Std. Error       t  Pr(>|t|)  Lower 95%  Upper 95%\n",
       "──────────────────────────────────────────────────────────────────────────\n",
       "(Intercept)  18.5671     3.9132       4.74    <1e-05  10.8788    26.2554\n",
       "rm            4.51542    0.425872    10.60    <1e-23   3.67871    5.35213\n",
       "ptratio      -0.930723   0.117654    -7.91    <1e-13  -1.16188   -0.699568\n",
       "lstat        -0.571806   0.0422302  -13.54    <1e-35  -0.654775  -0.488836\n",
       "──────────────────────────────────────────────────────────────────────────"
      ]
     },
     "execution_count": 66,
     "metadata": {},
     "output_type": "execute_result"
    }
   ],
   "source": [
    "model = lm(formula, df)"
   ]
  },
  {
   "cell_type": "code",
   "execution_count": 69,
   "id": "c10943d6-776d-4c28-9569-416953dc1fb6",
   "metadata": {
    "collapsed": true,
    "jupyter": {
     "outputs_hidden": true
    },
    "tags": []
   },
   "outputs": [
    {
     "name": "stderr",
     "output_type": "stream",
     "text": [
      "┌ Info: Precompiling QuantReg [a0becc08-653f-40d2-91e7-721373d1053f]\n",
      "└ @ Base loading.jl:1342\n",
      "\u001b[33m\u001b[1m┌ \u001b[22m\u001b[39m\u001b[33m\u001b[1mWarning: \u001b[22m\u001b[39mModule DataFrames with build ID 738569760042 is missing from the cache.\n",
      "\u001b[33m\u001b[1m│ \u001b[22m\u001b[39mThis may mean DataFrames [a93c6f00-e57d-5684-b7b6-d8193f3e46c0] does not support precompilation but is imported by a module that does.\n",
      "\u001b[33m\u001b[1m└ \u001b[22m\u001b[39m\u001b[90m@ Base loading.jl:1030\u001b[39m\n",
      "┌ Info: Skipping precompilation since __precompile__(false). Importing QuantReg [a0becc08-653f-40d2-91e7-721373d1053f].\n",
      "└ @ Base loading.jl:1047\n",
      "┌ Info: Precompiling JuMP [4076af6c-e467-56ae-b986-b466b2749572]\n",
      "└ @ Base loading.jl:1342\n",
      "\u001b[33m\u001b[1m┌ \u001b[22m\u001b[39m\u001b[33m\u001b[1mWarning: \u001b[22m\u001b[39mModule JSON with build ID 734442267042 is missing from the cache.\n",
      "\u001b[33m\u001b[1m│ \u001b[22m\u001b[39mThis may mean JSON [682c06a0-de6a-54ab-a142-c8b1cf79cde6] does not support precompilation but is imported by a module that does.\n",
      "\u001b[33m\u001b[1m└ \u001b[22m\u001b[39m\u001b[90m@ Base loading.jl:1030\u001b[39m\n",
      "\u001b[33m\u001b[1m┌ \u001b[22m\u001b[39m\u001b[33m\u001b[1mWarning: \u001b[22m\u001b[39mModule JSON with build ID 734442267042 is missing from the cache.\n",
      "\u001b[33m\u001b[1m│ \u001b[22m\u001b[39mThis may mean JSON [682c06a0-de6a-54ab-a142-c8b1cf79cde6] does not support precompilation but is imported by a module that does.\n",
      "\u001b[33m\u001b[1m└ \u001b[22m\u001b[39m\u001b[90m@ Base loading.jl:1030\u001b[39m\n",
      "\u001b[33m\u001b[1m┌ \u001b[22m\u001b[39m\u001b[33m\u001b[1mWarning: \u001b[22m\u001b[39mModule JSON with build ID 734442267042 is missing from the cache.\n",
      "\u001b[33m\u001b[1m│ \u001b[22m\u001b[39mThis may mean JSON [682c06a0-de6a-54ab-a142-c8b1cf79cde6] does not support precompilation but is imported by a module that does.\n",
      "\u001b[33m\u001b[1m└ \u001b[22m\u001b[39m\u001b[90m@ Base loading.jl:1030\u001b[39m\n",
      "\u001b[33m\u001b[1m┌ \u001b[22m\u001b[39m\u001b[33m\u001b[1mWarning: \u001b[22m\u001b[39mModule JSON with build ID 734442267042 is missing from the cache.\n",
      "\u001b[33m\u001b[1m│ \u001b[22m\u001b[39mThis may mean JSON [682c06a0-de6a-54ab-a142-c8b1cf79cde6] does not support precompilation but is imported by a module that does.\n",
      "\u001b[33m\u001b[1m└ \u001b[22m\u001b[39m\u001b[90m@ Base loading.jl:1030\u001b[39m\n",
      "┌ Info: Skipping precompilation since __precompile__(false). Importing JuMP [4076af6c-e467-56ae-b986-b466b2749572].\n",
      "└ @ Base loading.jl:1047\n",
      "┌ Info: Precompiling MathOptInterface [b8f27783-ece8-5eb3-8dc8-9495eed66fee]\n",
      "└ @ Base loading.jl:1342\n",
      "\u001b[33m\u001b[1m┌ \u001b[22m\u001b[39m\u001b[33m\u001b[1mWarning: \u001b[22m\u001b[39mModule JSON with build ID 734442267042 is missing from the cache.\n",
      "\u001b[33m\u001b[1m│ \u001b[22m\u001b[39mThis may mean JSON [682c06a0-de6a-54ab-a142-c8b1cf79cde6] does not support precompilation but is imported by a module that does.\n",
      "\u001b[33m\u001b[1m└ \u001b[22m\u001b[39m\u001b[90m@ Base loading.jl:1030\u001b[39m\n",
      "\u001b[33m\u001b[1m┌ \u001b[22m\u001b[39m\u001b[33m\u001b[1mWarning: \u001b[22m\u001b[39mModule JSON with build ID 734442267042 is missing from the cache.\n",
      "\u001b[33m\u001b[1m│ \u001b[22m\u001b[39mThis may mean JSON [682c06a0-de6a-54ab-a142-c8b1cf79cde6] does not support precompilation but is imported by a module that does.\n",
      "\u001b[33m\u001b[1m└ \u001b[22m\u001b[39m\u001b[90m@ Base loading.jl:1030\u001b[39m\n",
      "┌ Info: Skipping precompilation since __precompile__(false). Importing MathOptInterface [b8f27783-ece8-5eb3-8dc8-9495eed66fee].\n",
      "└ @ Base loading.jl:1047\n",
      "┌ Info: Precompiling BenchmarkTools [6e4b80f9-dd63-53aa-95a3-0cdb28fa8baf]\n",
      "└ @ Base loading.jl:1342\n",
      "\u001b[33m\u001b[1m┌ \u001b[22m\u001b[39m\u001b[33m\u001b[1mWarning: \u001b[22m\u001b[39mModule JSON with build ID 734442267042 is missing from the cache.\n",
      "\u001b[33m\u001b[1m│ \u001b[22m\u001b[39mThis may mean JSON [682c06a0-de6a-54ab-a142-c8b1cf79cde6] does not support precompilation but is imported by a module that does.\n",
      "\u001b[33m\u001b[1m└ \u001b[22m\u001b[39m\u001b[90m@ Base loading.jl:1030\u001b[39m\n",
      "┌ Info: Skipping precompilation since __precompile__(false). Importing BenchmarkTools [6e4b80f9-dd63-53aa-95a3-0cdb28fa8baf].\n",
      "└ @ Base loading.jl:1047\n",
      "┌ Info: Precompiling JSONSchema [7d188eb4-7ad8-530c-ae41-71a32a6d4692]\n",
      "└ @ Base loading.jl:1342\n",
      "\u001b[33m\u001b[1m┌ \u001b[22m\u001b[39m\u001b[33m\u001b[1mWarning: \u001b[22m\u001b[39mModule JSON with build ID 734442267042 is missing from the cache.\n",
      "\u001b[33m\u001b[1m│ \u001b[22m\u001b[39mThis may mean JSON [682c06a0-de6a-54ab-a142-c8b1cf79cde6] does not support precompilation but is imported by a module that does.\n",
      "\u001b[33m\u001b[1m└ \u001b[22m\u001b[39m\u001b[90m@ Base loading.jl:1030\u001b[39m\n",
      "┌ Info: Skipping precompilation since __precompile__(false). Importing JSONSchema [7d188eb4-7ad8-530c-ae41-71a32a6d4692].\n",
      "└ @ Base loading.jl:1047\n"
     ]
    }
   ],
   "source": [
    "using QuantReg"
   ]
  },
  {
   "cell_type": "code",
   "execution_count": 70,
   "id": "3357f2e5-cf2f-490f-9df7-8d680ef6da16",
   "metadata": {},
   "outputs": [
    {
     "data": {
      "text/plain": []
     },
     "execution_count": 70,
     "metadata": {},
     "output_type": "execute_result"
    },
    {
     "name": "stdout",
     "output_type": "stream",
     "text": [
      "\n",
      "medv ~ 1 + rm + ptratio + lstat, τ=0.5\n",
      "Unfitted."
     ]
    },
    {
     "name": "stderr",
     "output_type": "stream",
     "text": [
      "WARNING: both QuantReg and GLM export \"fit\"; uses of it in module Main must be qualified\n"
     ]
    }
   ],
   "source": [
    "qmodel = QuantRegModel(formula, df)"
   ]
  },
  {
   "cell_type": "code",
   "execution_count": 71,
   "id": "a1b4d899-3b42-4a61-ac9f-834214015192",
   "metadata": {},
   "outputs": [
    {
     "data": {
      "text/plain": [
       "────────────────────────\n",
       "             Coefficient\n",
       "────────────────────────\n",
       "(Intercept)     9.36174\n",
       "rm              5.28597\n",
       "ptratio        -0.791082\n",
       "lstat          -0.48072\n",
       "────────────────────────"
      ]
     },
     "execution_count": 71,
     "metadata": {},
     "output_type": "execute_result"
    },
    {
     "name": "stdout",
     "output_type": "stream",
     "text": [
      "\n",
      "medv ~ 1 + rm + ptratio + lstat, τ=0.5\n",
      "\n",
      "\n",
      "Degrees of freedom: 506 total; 502 residual\n"
     ]
    }
   ],
   "source": [
    "QuantReg.fit(qmodel)"
   ]
  },
  {
   "cell_type": "code",
   "execution_count": 156,
   "id": "48a3ec60-ae39-4d4d-bd3f-f132ede4b7c1",
   "metadata": {},
   "outputs": [
    {
     "data": {
      "text/plain": [
       "FormulaTerm\n",
       "Response:\n",
       "  medv(unknown)\n",
       "Predictors:\n",
       "  rm(unknown)\n",
       "  ptratio(unknown)\n",
       "  lstat(unknown)\n",
       "  chas(unknown)"
      ]
     },
     "execution_count": 156,
     "metadata": {},
     "output_type": "execute_result"
    }
   ],
   "source": [
    "names_of_x2 = [:rm, :ptratio, :lstat, :chas]\n",
    "formula2 = Term(name_of_y) ~ sum([Term(x) for x in names_of_x2])"
   ]
  },
  {
   "cell_type": "code",
   "execution_count": 158,
   "id": "fa6b1057-dd8f-4f23-95f8-e4d637043f3c",
   "metadata": {},
   "outputs": [
    {
     "data": {
      "text/plain": [
       "StatsModels.TableRegressionModel{LinearModel{GLM.LmResp{Vector{Float64}}, GLM.DensePredChol{Float64, LinearAlgebra.CholeskyPivoted{Float64, Matrix{Float64}}}}, Matrix{Float64}}\n",
       "\n",
       "medv ~ 1 + rm + ptratio + lstat + chas\n",
       "\n",
       "Coefficients:\n",
       "──────────────────────────────────────────────────────────────────────────\n",
       "                 Coef.  Std. Error       t  Pr(>|t|)  Lower 95%  Upper 95%\n",
       "──────────────────────────────────────────────────────────────────────────\n",
       "(Intercept)  18.1364     3.8645       4.69    <1e-05  10.5438    25.729\n",
       "rm            4.42644    0.42105     10.51    <1e-22   3.5992     5.25368\n",
       "ptratio      -0.887437   0.116706    -7.60    <1e-12  -1.11673   -0.658144\n",
       "lstat        -0.575495   0.0416979  -13.80    <1e-36  -0.657419  -0.493571\n",
       "chas          3.43707    0.912613     3.77    0.0002   1.64405    5.23009\n",
       "──────────────────────────────────────────────────────────────────────────"
      ]
     },
     "execution_count": 158,
     "metadata": {},
     "output_type": "execute_result"
    }
   ],
   "source": [
    "lm(formula2, df)"
   ]
  },
  {
   "cell_type": "markdown",
   "id": "6b73dc4c-cc23-478c-a272-aafece00c503",
   "metadata": {},
   "source": [
    "# QGPLSIM fitting"
   ]
  },
  {
   "cell_type": "code",
   "execution_count": 121,
   "id": "f9a8723c-c776-49b3-9f41-5e84d2944307",
   "metadata": {},
   "outputs": [
    {
     "name": "stderr",
     "output_type": "stream",
     "text": [
      "WARNING: replacing module qgplsim.\n"
     ]
    },
    {
     "data": {
      "text/plain": [
       "Main.qgplsim"
      ]
     },
     "execution_count": 121,
     "metadata": {},
     "output_type": "execute_result"
    }
   ],
   "source": [
    "include(\"qgplsim.ji\")"
   ]
  },
  {
   "cell_type": "code",
   "execution_count": 148,
   "id": "63249ebc-4a91-4bf6-b451-cc21c76e8926",
   "metadata": {},
   "outputs": [
    {
     "data": {
      "text/plain": [
       "1×3 Matrix{Float64}:\n",
       " -1.0  -1.0  -1.0"
      ]
     },
     "execution_count": 148,
     "metadata": {},
     "output_type": "execute_result"
    }
   ],
   "source": [
    "X = Array(dfX)\n",
    "y = Array(dfy)\n",
    "Z = Array(dfZ.chas)\n",
    "# Z = [ones(506) Z]\n",
    "# Z = zeros(506)\n",
    "X = (X - repeat(minimum(X, dims = 1), 506, 1))./ (repeat(maximum(X, dims = 1), 506, 1) - repeat(minimum(X, dims = 1), 506, 1))\n",
    "X = X .* 2 .- 1\n",
    "minimum(X, dims = 1)"
   ]
  },
  {
   "cell_type": "code",
   "execution_count": 149,
   "id": "539ea187-44ae-4bc4-928e-2e8de0956996",
   "metadata": {},
   "outputs": [
    {
     "data": {
      "text/plain": [
       "([0.804267328442983, 0.0, 0.594267670666331], [-0.047742361209723264], [-3.5690552216926243 0.0 4.830272030443192], [8.779087665411428])"
      ]
     },
     "execution_count": 149,
     "metadata": {},
     "output_type": "execute_result"
    }
   ],
   "source": [
    "qsmodel = qgplsim.model(X, Z, y)\n",
    "alpha, gamma, theta, beta = qgplsim.estimator(qsmodel)"
   ]
  },
  {
   "cell_type": "code",
   "execution_count": 82,
   "id": "bc9e80a5-78e6-48d2-8421-b4869c094e35",
   "metadata": {
    "collapsed": true,
    "jupyter": {
     "outputs_hidden": true
    },
    "tags": []
   },
   "outputs": [
    {
     "data": {
      "text/html": [
       "<p><b>GroupedDataFrame with 2 groups based on key: chas</b></p><p><i>First Group (471 rows): chas = 0</i></p><div class=\"data-frame\"><table class=\"data-frame\"><thead><tr><th></th><th>rad</th><th>chas</th></tr><tr><th></th><th title=\"Int64\">Int64</th><th title=\"Int64\">Int64</th></tr></thead><tbody><tr><th>1</th><td>1</td><td>0</td></tr><tr><th>2</th><td>2</td><td>0</td></tr><tr><th>3</th><td>2</td><td>0</td></tr><tr><th>4</th><td>3</td><td>0</td></tr><tr><th>5</th><td>3</td><td>0</td></tr><tr><th>6</th><td>3</td><td>0</td></tr><tr><th>7</th><td>5</td><td>0</td></tr><tr><th>8</th><td>5</td><td>0</td></tr><tr><th>9</th><td>5</td><td>0</td></tr><tr><th>10</th><td>5</td><td>0</td></tr><tr><th>11</th><td>5</td><td>0</td></tr><tr><th>12</th><td>5</td><td>0</td></tr><tr><th>13</th><td>5</td><td>0</td></tr><tr><th>14</th><td>4</td><td>0</td></tr><tr><th>15</th><td>4</td><td>0</td></tr><tr><th>16</th><td>4</td><td>0</td></tr><tr><th>17</th><td>4</td><td>0</td></tr><tr><th>18</th><td>4</td><td>0</td></tr><tr><th>19</th><td>4</td><td>0</td></tr><tr><th>20</th><td>4</td><td>0</td></tr><tr><th>21</th><td>4</td><td>0</td></tr><tr><th>22</th><td>4</td><td>0</td></tr><tr><th>23</th><td>4</td><td>0</td></tr><tr><th>24</th><td>4</td><td>0</td></tr><tr><th>25</th><td>4</td><td>0</td></tr><tr><th>26</th><td>4</td><td>0</td></tr><tr><th>27</th><td>4</td><td>0</td></tr><tr><th>28</th><td>4</td><td>0</td></tr><tr><th>29</th><td>4</td><td>0</td></tr><tr><th>30</th><td>4</td><td>0</td></tr><tr><th>&vellip;</th><td>&vellip;</td><td>&vellip;</td></tr></tbody></table></div><p>&vellip;</p><p><i>Last Group (35 rows): chas = 1</i></p><div class=\"data-frame\"><table class=\"data-frame\"><thead><tr><th></th><th>rad</th><th>chas</th></tr><tr><th></th><th title=\"Int64\">Int64</th><th title=\"Int64\">Int64</th></tr></thead><tbody><tr><th>1</th><td>5</td><td>1</td></tr><tr><th>2</th><td>5</td><td>1</td></tr><tr><th>3</th><td>5</td><td>1</td></tr><tr><th>4</th><td>5</td><td>1</td></tr><tr><th>5</th><td>5</td><td>1</td></tr><tr><th>6</th><td>5</td><td>1</td></tr><tr><th>7</th><td>5</td><td>1</td></tr><tr><th>8</th><td>4</td><td>1</td></tr><tr><th>9</th><td>4</td><td>1</td></tr><tr><th>10</th><td>4</td><td>1</td></tr><tr><th>11</th><td>4</td><td>1</td></tr><tr><th>12</th><td>4</td><td>1</td></tr><tr><th>13</th><td>5</td><td>1</td></tr><tr><th>14</th><td>5</td><td>1</td></tr><tr><th>15</th><td>5</td><td>1</td></tr><tr><th>16</th><td>8</td><td>1</td></tr><tr><th>17</th><td>8</td><td>1</td></tr><tr><th>18</th><td>8</td><td>1</td></tr><tr><th>19</th><td>8</td><td>1</td></tr><tr><th>20</th><td>8</td><td>1</td></tr><tr><th>21</th><td>3</td><td>1</td></tr><tr><th>22</th><td>3</td><td>1</td></tr><tr><th>23</th><td>4</td><td>1</td></tr><tr><th>24</th><td>4</td><td>1</td></tr><tr><th>25</th><td>4</td><td>1</td></tr><tr><th>26</th><td>5</td><td>1</td></tr><tr><th>27</th><td>1</td><td>1</td></tr><tr><th>28</th><td>24</td><td>1</td></tr><tr><th>29</th><td>24</td><td>1</td></tr><tr><th>30</th><td>24</td><td>1</td></tr><tr><th>&vellip;</th><td>&vellip;</td><td>&vellip;</td></tr></tbody></table></div>"
      ],
      "text/latex": [
       "GroupedDataFrame with 2 groups based on key: chas\n",
       "\n",
       "First Group (471 rows): chas = 0\n",
       "\n",
       "\\begin{tabular}{r|cc}\n",
       "\t& rad & chas\\\\\n",
       "\t\\hline\n",
       "\t& Int64 & Int64\\\\\n",
       "\t\\hline\n",
       "\t1 & 1 & 0 \\\\\n",
       "\t2 & 2 & 0 \\\\\n",
       "\t3 & 2 & 0 \\\\\n",
       "\t4 & 3 & 0 \\\\\n",
       "\t5 & 3 & 0 \\\\\n",
       "\t6 & 3 & 0 \\\\\n",
       "\t7 & 5 & 0 \\\\\n",
       "\t8 & 5 & 0 \\\\\n",
       "\t9 & 5 & 0 \\\\\n",
       "\t10 & 5 & 0 \\\\\n",
       "\t11 & 5 & 0 \\\\\n",
       "\t12 & 5 & 0 \\\\\n",
       "\t13 & 5 & 0 \\\\\n",
       "\t14 & 4 & 0 \\\\\n",
       "\t15 & 4 & 0 \\\\\n",
       "\t16 & 4 & 0 \\\\\n",
       "\t17 & 4 & 0 \\\\\n",
       "\t18 & 4 & 0 \\\\\n",
       "\t19 & 4 & 0 \\\\\n",
       "\t20 & 4 & 0 \\\\\n",
       "\t21 & 4 & 0 \\\\\n",
       "\t22 & 4 & 0 \\\\\n",
       "\t23 & 4 & 0 \\\\\n",
       "\t24 & 4 & 0 \\\\\n",
       "\t25 & 4 & 0 \\\\\n",
       "\t26 & 4 & 0 \\\\\n",
       "\t27 & 4 & 0 \\\\\n",
       "\t28 & 4 & 0 \\\\\n",
       "\t29 & 4 & 0 \\\\\n",
       "\t30 & 4 & 0 \\\\\n",
       "\t$\\dots$ & $\\dots$ & $\\dots$ \\\\\n",
       "\\end{tabular}\n",
       "\n",
       "$\\dots$\n",
       "\n",
       "Last Group (35 rows): chas = 1\n",
       "\n",
       "\\begin{tabular}{r|cc}\n",
       "\t& rad & chas\\\\\n",
       "\t\\hline\n",
       "\t& Int64 & Int64\\\\\n",
       "\t\\hline\n",
       "\t1 & 5 & 1 \\\\\n",
       "\t2 & 5 & 1 \\\\\n",
       "\t3 & 5 & 1 \\\\\n",
       "\t4 & 5 & 1 \\\\\n",
       "\t5 & 5 & 1 \\\\\n",
       "\t6 & 5 & 1 \\\\\n",
       "\t7 & 5 & 1 \\\\\n",
       "\t8 & 4 & 1 \\\\\n",
       "\t9 & 4 & 1 \\\\\n",
       "\t10 & 4 & 1 \\\\\n",
       "\t11 & 4 & 1 \\\\\n",
       "\t12 & 4 & 1 \\\\\n",
       "\t13 & 5 & 1 \\\\\n",
       "\t14 & 5 & 1 \\\\\n",
       "\t15 & 5 & 1 \\\\\n",
       "\t16 & 8 & 1 \\\\\n",
       "\t17 & 8 & 1 \\\\\n",
       "\t18 & 8 & 1 \\\\\n",
       "\t19 & 8 & 1 \\\\\n",
       "\t20 & 8 & 1 \\\\\n",
       "\t21 & 3 & 1 \\\\\n",
       "\t22 & 3 & 1 \\\\\n",
       "\t23 & 4 & 1 \\\\\n",
       "\t24 & 4 & 1 \\\\\n",
       "\t25 & 4 & 1 \\\\\n",
       "\t26 & 5 & 1 \\\\\n",
       "\t27 & 1 & 1 \\\\\n",
       "\t28 & 24 & 1 \\\\\n",
       "\t29 & 24 & 1 \\\\\n",
       "\t30 & 24 & 1 \\\\\n",
       "\t$\\dots$ & $\\dots$ & $\\dots$ \\\\\n",
       "\\end{tabular}\n"
      ],
      "text/plain": [
       "GroupedDataFrame with 2 groups based on key: chas\n",
       "First Group (471 rows): chas = 0\n",
       "\u001b[1m Row \u001b[0m│\u001b[1m rad   \u001b[0m\u001b[1m chas  \u001b[0m\n",
       "\u001b[1m     \u001b[0m│\u001b[90m Int64 \u001b[0m\u001b[90m Int64 \u001b[0m\n",
       "─────┼──────────────\n",
       "   1 │     1      0\n",
       "   2 │     2      0\n",
       "   3 │     2      0\n",
       "   4 │     3      0\n",
       "   5 │     3      0\n",
       "   6 │     3      0\n",
       "   7 │     5      0\n",
       "   8 │     5      0\n",
       "   9 │     5      0\n",
       "  10 │     5      0\n",
       "  11 │     5      0\n",
       "  ⋮  │   ⋮      ⋮\n",
       " 461 │     6      0\n",
       " 462 │     6      0\n",
       " 463 │     6      0\n",
       " 464 │     6      0\n",
       " 465 │     6      0\n",
       " 466 │     6      0\n",
       " 467 │     1      0\n",
       " 468 │     1      0\n",
       " 469 │     1      0\n",
       " 470 │     1      0\n",
       " 471 │     1      0\n",
       "\u001b[36m    449 rows omitted\u001b[0m\n",
       "⋮\n",
       "Last Group (35 rows): chas = 1\n",
       "\u001b[1m Row \u001b[0m│\u001b[1m rad   \u001b[0m\u001b[1m chas  \u001b[0m\n",
       "\u001b[1m     \u001b[0m│\u001b[90m Int64 \u001b[0m\u001b[90m Int64 \u001b[0m\n",
       "─────┼──────────────\n",
       "   1 │     5      1\n",
       "   2 │     5      1\n",
       "   3 │     5      1\n",
       "   4 │     5      1\n",
       "   5 │     5      1\n",
       "   6 │     5      1\n",
       "   7 │     5      1\n",
       "   8 │     4      1\n",
       "   9 │     4      1\n",
       "  10 │     4      1\n",
       "  11 │     4      1\n",
       "  ⋮  │   ⋮      ⋮\n",
       "  25 │     4      1\n",
       "  26 │     5      1\n",
       "  27 │     1      1\n",
       "  28 │    24      1\n",
       "  29 │    24      1\n",
       "  30 │    24      1\n",
       "  31 │    24      1\n",
       "  32 │    24      1\n",
       "  33 │    24      1\n",
       "  34 │    24      1\n",
       "  35 │    24      1\n",
       "\u001b[36m     13 rows omitted\u001b[0m"
      ]
     },
     "execution_count": 82,
     "metadata": {},
     "output_type": "execute_result"
    }
   ],
   "source": [
    "groupby(dfZ, :chas)"
   ]
  },
  {
   "cell_type": "code",
   "execution_count": 126,
   "id": "f5440a9f-9682-4b7e-abc7-22e783592257",
   "metadata": {},
   "outputs": [
    {
     "data": {
      "text/plain": [
       "(506, 2)"
      ]
     },
     "execution_count": 126,
     "metadata": {},
     "output_type": "execute_result"
    }
   ],
   "source": [
    "n, = size(Z)"
   ]
  },
  {
   "cell_type": "code",
   "execution_count": 115,
   "id": "02aeb8d6-82dc-4d7e-9b29-228566a784fe",
   "metadata": {},
   "outputs": [
    {
     "data": {
      "text/plain": [
       "true"
      ]
     },
     "execution_count": 115,
     "metadata": {},
     "output_type": "execute_result"
    }
   ],
   "source": [
    "typeof(Z) <: Vector"
   ]
  },
  {
   "cell_type": "code",
   "execution_count": null,
   "id": "f11508d1-d380-412b-900d-60c2fa599c16",
   "metadata": {},
   "outputs": [],
   "source": []
  }
 ],
 "metadata": {
  "kernelspec": {
   "display_name": "Julia 1.6.2",
   "language": "julia",
   "name": "julia-1.6"
  },
  "language_info": {
   "file_extension": ".jl",
   "mimetype": "application/julia",
   "name": "julia",
   "version": "1.6.2"
  }
 },
 "nbformat": 4,
 "nbformat_minor": 5
}
