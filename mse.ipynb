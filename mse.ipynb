{
 "cells": [
  {
   "cell_type": "code",
   "execution_count": 1,
   "id": "5faad0d5-7231-4575-be42-332bfd3e5518",
   "metadata": {},
   "outputs": [],
   "source": [
    "using Statistics, LinearAlgebra, Plots, MAT"
   ]
  },
  {
   "cell_type": "code",
   "execution_count": 50,
   "id": "fe1c1897-431c-4d31-85e3-22c6acd4b965",
   "metadata": {},
   "outputs": [
    {
     "data": {
      "text/plain": [
       "6-element Vector{Vector{Float64}}:\n",
       " [0.001, 0.001]\n",
       " [1.0, 0.001]\n",
       " [1.0, 1.0]\n",
       " [1.0, 0.5]\n",
       " [0.001, 1.0]\n",
       " [0.5, 1.0]"
      ]
     },
     "execution_count": 50,
     "metadata": {},
     "output_type": "execute_result"
    }
   ],
   "source": [
    "Gamma =[[0.001, 0.001], [1.0, 0.001], [1.0, 1.0], [1.0, 0.5], [0.001, 1.0], [0.5, 1.0]]"
   ]
  },
  {
   "cell_type": "code",
   "execution_count": 51,
   "id": "36f960c1-cce7-47da-a886-e67f44fd6011",
   "metadata": {
    "collapsed": true,
    "jupyter": {
     "outputs_hidden": true
    },
    "tags": []
   },
   "outputs": [
    {
     "data": {
      "text/plain": [
       "100×2 Matrix{Float64}:\n",
       " 0.5  1.0\n",
       " 0.5  1.0\n",
       " 0.5  1.0\n",
       " 0.5  1.0\n",
       " 0.5  1.0\n",
       " 0.5  1.0\n",
       " 0.5  1.0\n",
       " 0.5  1.0\n",
       " 0.5  1.0\n",
       " 0.5  1.0\n",
       " 0.5  1.0\n",
       " 0.5  1.0\n",
       " 0.5  1.0\n",
       " ⋮    \n",
       " 0.5  1.0\n",
       " 0.5  1.0\n",
       " 0.5  1.0\n",
       " 0.5  1.0\n",
       " 0.5  1.0\n",
       " 0.5  1.0\n",
       " 0.5  1.0\n",
       " 0.5  1.0\n",
       " 0.5  1.0\n",
       " 0.5  1.0\n",
       " 0.5  1.0\n",
       " 0.5  1.0"
      ]
     },
     "execution_count": 51,
     "metadata": {},
     "output_type": "execute_result"
    }
   ],
   "source": [
    "alpha = repeat([1 2], 100, 1)\n",
    "theta = repeat([2 -1], 100, 1)\n",
    "beta = repeat([1 -0.5], 100, 1)\n",
    "\n",
    "g1 = repeat(Gamma[1] |> transpose, 100, 1)\n",
    "g2 = repeat(Gamma[2] |> transpose, 100, 1)\n",
    "g3 = repeat(Gamma[3] |> transpose, 100, 1)\n",
    "g4 = repeat(Gamma[4] |> transpose, 100, 1)\n",
    "g5 = repeat(Gamma[5] |> transpose, 100, 1)\n",
    "g6 = repeat(Gamma[6] |> transpose, 100, 1)"
   ]
  },
  {
   "cell_type": "code",
   "execution_count": 47,
   "id": "35904871-2a3c-48a7-babd-20d679ebd80b",
   "metadata": {},
   "outputs": [
    {
     "data": {
      "text/plain": [
       "Dict{String, Any} with 4 entries:\n",
       "  \"Beta\"  => [1.23648 0.0462806; 0.527803 -0.262096; … ; 0.618455 -0.21138; 1.4…\n",
       "  \"Gamma\" => [-0.00877625 0.0164897; 0.00708874 -0.0377016; … ; 0.0148318 0.029…\n",
       "  \"Theta\" => [1.66605 -0.626775; 1.95402 -0.987448; … ; 1.71079 -0.738966; 0.51…\n",
       "  \"Alpha\" => [0.352111 0.935958; -0.451024 -0.892512; … ; 0.396534 0.91802; -0.…"
      ]
     },
     "execution_count": 47,
     "metadata": {},
     "output_type": "execute_result"
    }
   ],
   "source": [
    "vars = matread(\"./simulation_3/records/600 f1 d0 g5.mat\")"
   ]
  },
  {
   "cell_type": "code",
   "execution_count": 65,
   "id": "5582468a-e0ea-4753-99c4-83ccdaa10f4d",
   "metadata": {},
   "outputs": [
    {
     "data": {
      "text/plain": [
       "Dict{String, Any} with 4 entries:\n",
       "  \"Beta\"  => [-0.429661 -0.360561; 1.00345 0.0602205; … ; -0.747804 -0.68478; 1…\n",
       "  \"Gamma\" => [0.218619 -0.0301078; 0.0922537 -0.119079; … ; 0.263296 -0.149202;…\n",
       "  \"Theta\" => [1.86939 -0.7968; 1.28422 -0.424446; … ; 1.87164 -0.989179; 1.4391…\n",
       "  \"Alpha\" => [-0.392103 -0.919921; -0.313813 -0.949485; … ; -0.467264 -0.884118…"
      ]
     },
     "execution_count": 65,
     "metadata": {},
     "output_type": "execute_result"
    }
   ],
   "source": [
    "vars = matread(\"./simulation_3/records/300 f1 d0 g6.mat\")"
   ]
  },
  {
   "cell_type": "code",
   "execution_count": 66,
   "id": "fb3ed5d2-8cf3-4d6d-a4b1-159539d42780",
   "metadata": {
    "tags": []
   },
   "outputs": [
    {
     "data": {
      "text/plain": [
       "1×2 Matrix{Float64}:\n",
       " -0.0384511  -0.0584225"
      ]
     },
     "execution_count": 66,
     "metadata": {},
     "output_type": "execute_result"
    }
   ],
   "source": [
    "a = vars[\"Alpha\"]\n",
    "b = vars[\"Beta\"]\n",
    "t = vars[\"Theta\"]\n",
    "g = vars[\"Gamma\"]\n",
    "sa = sign.(a * [1, 2]/sqrt(5))\n",
    "ga = g.* sa\n",
    "gt = g1\n",
    "mse = (ga - gt).^2 \n",
    "mean(ga, dims = 1) "
   ]
  },
  {
   "cell_type": "code",
   "execution_count": 53,
   "id": "a2a2830e-50ba-4d78-92f4-599a597ae6ae",
   "metadata": {
    "tags": []
   },
   "outputs": [
    {
     "data": {
      "text/plain": [
       "1×2 Matrix{Float64}:\n",
       " 0.0728638  0.0144538"
      ]
     },
     "execution_count": 53,
     "metadata": {},
     "output_type": "execute_result"
    }
   ],
   "source": [
    "mse = (ga - gt).^2 \n",
    "mean(mse, dims = 1) "
   ]
  },
  {
   "cell_type": "code",
   "execution_count": 54,
   "id": "868ca92d-aaaf-45a2-87eb-1174b09798d1",
   "metadata": {},
   "outputs": [
    {
     "data": {
      "text/plain": [
       "1×2 Matrix{Float64}:\n",
       " 0.206041  0.00459916"
      ]
     },
     "execution_count": 54,
     "metadata": {},
     "output_type": "execute_result"
    }
   ],
   "source": [
    "var(mse, dims = 1)"
   ]
  },
  {
   "cell_type": "code",
   "execution_count": 67,
   "id": "c856d9a6-b2b6-43f9-8602-14ca4ab17b67",
   "metadata": {},
   "outputs": [
    {
     "data": {
      "text/plain": [
       "1×2 Matrix{Float64}:\n",
       " 0.120061  0.0739103"
      ]
     },
     "execution_count": 67,
     "metadata": {},
     "output_type": "execute_result"
    }
   ],
   "source": [
    "mean(mse, dims = 1) "
   ]
  },
  {
   "cell_type": "code",
   "execution_count": 68,
   "id": "7148b15e-afce-443e-89d3-06419fc36cad",
   "metadata": {},
   "outputs": [
    {
     "data": {
      "text/plain": [
       "1×2 Matrix{Float64}:\n",
       " 0.0856821  0.0869012"
      ]
     },
     "execution_count": 68,
     "metadata": {},
     "output_type": "execute_result"
    }
   ],
   "source": [
    "var(mse, dims = 1)"
   ]
  },
  {
   "cell_type": "code",
   "execution_count": 192,
   "id": "81cd5e1c-e4ff-46a9-95a9-d2bdf8f1c36e",
   "metadata": {
    "collapsed": true,
    "jupyter": {
     "outputs_hidden": true
    },
    "tags": []
   },
   "outputs": [
    {
     "data": {
      "text/plain": [
       "100×2 Matrix{Float64}:\n",
       " -0.0840121  0.857426\n",
       " -0.0633903  0.767602\n",
       "  0.396944   0.761198\n",
       "  0.0558703  1.02726\n",
       "  0.101937   1.0224\n",
       " -0.234198   1.06752\n",
       "  0.412026   1.74217\n",
       "  0.671837   0.984628\n",
       "  0.247642   0.958063\n",
       " -0.0622126  0.930994\n",
       " -0.23615    1.01327\n",
       "  0.0119933  1.08632\n",
       " -0.508638   1.11643\n",
       "  ⋮          \n",
       " -0.659851   0.0180111\n",
       "  0.311254   1.04674\n",
       "  0.0811822  0.847786\n",
       "  0.065669   1.16454\n",
       " -0.0497105  0.837785\n",
       "  0.0347827  0.994476\n",
       "  0.165937   1.09544\n",
       "  0.100691   1.37025\n",
       " -0.349382   0.966852\n",
       "  0.125798   1.27966\n",
       "  0.412041   1.15477\n",
       "  0.123687   1.89746"
      ]
     },
     "execution_count": 192,
     "metadata": {},
     "output_type": "execute_result"
    }
   ],
   "source": [
    "ga"
   ]
  },
  {
   "cell_type": "code",
   "execution_count": 19,
   "id": "220de0b3-2e0a-4679-bc94-55135253a687",
   "metadata": {
    "collapsed": true,
    "jupyter": {
     "outputs_hidden": true
    },
    "tags": []
   },
   "outputs": [
    {
     "data": {
      "text/plain": [
       "100×2 Matrix{Float64}:\n",
       " -0.744734  -0.308572\n",
       "  0.779654   0.376991\n",
       "  0.640565   0.406015\n",
       "  1.05603    0.631737\n",
       " -0.895427  -0.481463\n",
       "  0.621042   0.318373\n",
       " -1.38011   -0.677878\n",
       " -0.766902  -0.342779\n",
       "  0.789993   0.280395\n",
       "  0.405028  -0.184935\n",
       "  0.800911   0.389363\n",
       "  0.573908   0.330617\n",
       "  0.602567   0.3329\n",
       "  ⋮         \n",
       " -0.725363  -0.466983\n",
       " -0.788966  -0.500424\n",
       "  0.704107   0.512415\n",
       "  0.866354   0.43902\n",
       " -0.635155  -0.85867\n",
       " -0.934794  -0.45689\n",
       "  0.895771   0.429529\n",
       "  0.817333   0.474787\n",
       " -0.857753  -0.244663\n",
       " -0.935526  -0.397547\n",
       "  0.716211   0.444846\n",
       "  0.826797   0.315186"
      ]
     },
     "execution_count": 19,
     "metadata": {},
     "output_type": "execute_result"
    }
   ],
   "source": [
    "g"
   ]
  },
  {
   "cell_type": "code",
   "execution_count": 21,
   "id": "bdd2e327-11b7-4dcb-86b7-739125a609ef",
   "metadata": {},
   "outputs": [],
   "source": [
    "using Clustering"
   ]
  },
  {
   "cell_type": "code",
   "execution_count": 40,
   "id": "c37aff4b-4983-4196-8bec-29874f2c7ac8",
   "metadata": {},
   "outputs": [
    {
     "data": {
      "text/plain": [
       "KmeansResult{Matrix{Float64}, Float64, Int64}([-0.7638512542616492 0.8468333503436123; -0.3790051252851187 0.402614914487602], [1, 2, 2, 2, 1, 2, 1, 1, 2, 2  …  2, 2, 1, 1, 2, 2, 1, 1, 2, 2], [0.0053262313736526234, 0.005169602148546559, 0.042558078308019054, 0.09626018646624512, 0.027809689798083737, 0.058078599337918924, 0.4690979119009304, 0.0013216394468735793, 0.018168521381235703, 0.5404066300387914  …  0.032426762541451604, 0.0017063734841731293, 0.24664082078936111, 0.03528730349881237, 0.0031192781161399896, 0.006079021769554105, 0.02686537888098406, 0.029815986525311367, 0.018845667472115135, 0.008045289377076381], [42, 58], [42, 58], 9.12071206824338, 2, true)"
      ]
     },
     "execution_count": 40,
     "metadata": {},
     "output_type": "execute_result"
    }
   ],
   "source": [
    "rg = kmeans(g |> transpose, 2)"
   ]
  },
  {
   "cell_type": "code",
   "execution_count": 41,
   "id": "d7f7be7b-5196-4851-ac29-d212e4cc4483",
   "metadata": {
    "collapsed": true,
    "jupyter": {
     "outputs_hidden": true
    },
    "tags": []
   },
   "outputs": [
    {
     "data": {
      "text/plain": [
       "58×2 Matrix{Float64}:\n",
       " 0.779654   0.376991\n",
       " 0.640565   0.406015\n",
       " 1.05603    0.631737\n",
       " 0.621042   0.318373\n",
       " 0.789993   0.280395\n",
       " 0.405028  -0.184935\n",
       " 0.800911   0.389363\n",
       " 0.573908   0.330617\n",
       " 0.602567   0.3329\n",
       " 1.01435    0.535392\n",
       " 0.72374    0.378236\n",
       " 1.28003    0.456503\n",
       " 0.887125   0.511508\n",
       " ⋮         \n",
       " 0.981893   0.307786\n",
       " 0.832575   0.452173\n",
       " 0.923845   0.4042\n",
       " 0.645321   0.385407\n",
       " 0.82117    0.395622\n",
       " 0.969629   0.53706\n",
       " 0.704107   0.512415\n",
       " 0.866354   0.43902\n",
       " 0.895771   0.429529\n",
       " 0.817333   0.474787\n",
       " 0.716211   0.444846\n",
       " 0.826797   0.315186"
      ]
     },
     "execution_count": 41,
     "metadata": {},
     "output_type": "execute_result"
    }
   ],
   "source": [
    "ind1 = rg.assignments .== 1\n",
    "ind2 = rg.assignments .== 2\n",
    "g1 = g[ind1, :]\n",
    "g2 = g[ind2, :]"
   ]
  },
  {
   "cell_type": "code",
   "execution_count": 46,
   "id": "4219b62b-145c-4f45-b39a-608d4f4cd589",
   "metadata": {},
   "outputs": [
    {
     "data": {
      "image/svg+xml": [
       "<?xml version=\"1.0\" encoding=\"utf-8\"?>\n",
       "<svg xmlns=\"http://www.w3.org/2000/svg\" xmlns:xlink=\"http://www.w3.org/1999/xlink\" width=\"600\" height=\"400\" viewBox=\"0 0 2400 1600\">\n",
       "<defs>\n",
       "  <clipPath id=\"clip450\">\n",
       "    <rect x=\"0\" y=\"0\" width=\"2400\" height=\"1600\"/>\n",
       "  </clipPath>\n",
       "</defs>\n",
       "<path clip-path=\"url(#clip450)\" d=\"\n",
       "M0 1600 L2400 1600 L2400 0 L0 0  Z\n",
       "  \" fill=\"#ffffff\" fill-rule=\"evenodd\" fill-opacity=\"1\"/>\n",
       "<defs>\n",
       "  <clipPath id=\"clip451\">\n",
       "    <rect x=\"480\" y=\"0\" width=\"1681\" height=\"1600\"/>\n",
       "  </clipPath>\n",
       "</defs>\n",
       "<path clip-path=\"url(#clip450)\" d=\"\n",
       "M140.696 1486.45 L2352.76 1486.45 L2352.76 47.2441 L140.696 47.2441  Z\n",
       "  \" fill=\"#ffffff\" fill-rule=\"evenodd\" fill-opacity=\"1\"/>\n",
       "<defs>\n",
       "  <clipPath id=\"clip452\">\n",
       "    <rect x=\"140\" y=\"47\" width=\"2213\" height=\"1440\"/>\n",
       "  </clipPath>\n",
       "</defs>\n",
       "<polyline clip-path=\"url(#clip452)\" style=\"stroke:#000000; stroke-linecap:butt; stroke-linejoin:round; stroke-width:2; stroke-opacity:0.1; fill:none\" points=\"\n",
       "  262.363,1486.45 262.363,47.2441 \n",
       "  \"/>\n",
       "<polyline clip-path=\"url(#clip452)\" style=\"stroke:#000000; stroke-linecap:butt; stroke-linejoin:round; stroke-width:2; stroke-opacity:0.1; fill:none\" points=\"\n",
       "  754.544,1486.45 754.544,47.2441 \n",
       "  \"/>\n",
       "<polyline clip-path=\"url(#clip452)\" style=\"stroke:#000000; stroke-linecap:butt; stroke-linejoin:round; stroke-width:2; stroke-opacity:0.1; fill:none\" points=\"\n",
       "  1246.73,1486.45 1246.73,47.2441 \n",
       "  \"/>\n",
       "<polyline clip-path=\"url(#clip452)\" style=\"stroke:#000000; stroke-linecap:butt; stroke-linejoin:round; stroke-width:2; stroke-opacity:0.1; fill:none\" points=\"\n",
       "  1738.91,1486.45 1738.91,47.2441 \n",
       "  \"/>\n",
       "<polyline clip-path=\"url(#clip452)\" style=\"stroke:#000000; stroke-linecap:butt; stroke-linejoin:round; stroke-width:2; stroke-opacity:0.1; fill:none\" points=\"\n",
       "  2231.09,1486.45 2231.09,47.2441 \n",
       "  \"/>\n",
       "<polyline clip-path=\"url(#clip450)\" style=\"stroke:#000000; stroke-linecap:butt; stroke-linejoin:round; stroke-width:4; stroke-opacity:1; fill:none\" points=\"\n",
       "  140.696,1486.45 2352.76,1486.45 \n",
       "  \"/>\n",
       "<polyline clip-path=\"url(#clip450)\" style=\"stroke:#000000; stroke-linecap:butt; stroke-linejoin:round; stroke-width:4; stroke-opacity:1; fill:none\" points=\"\n",
       "  262.363,1486.45 262.363,1467.55 \n",
       "  \"/>\n",
       "<polyline clip-path=\"url(#clip450)\" style=\"stroke:#000000; stroke-linecap:butt; stroke-linejoin:round; stroke-width:4; stroke-opacity:1; fill:none\" points=\"\n",
       "  754.544,1486.45 754.544,1467.55 \n",
       "  \"/>\n",
       "<polyline clip-path=\"url(#clip450)\" style=\"stroke:#000000; stroke-linecap:butt; stroke-linejoin:round; stroke-width:4; stroke-opacity:1; fill:none\" points=\"\n",
       "  1246.73,1486.45 1246.73,1467.55 \n",
       "  \"/>\n",
       "<polyline clip-path=\"url(#clip450)\" style=\"stroke:#000000; stroke-linecap:butt; stroke-linejoin:round; stroke-width:4; stroke-opacity:1; fill:none\" points=\"\n",
       "  1738.91,1486.45 1738.91,1467.55 \n",
       "  \"/>\n",
       "<polyline clip-path=\"url(#clip450)\" style=\"stroke:#000000; stroke-linecap:butt; stroke-linejoin:round; stroke-width:4; stroke-opacity:1; fill:none\" points=\"\n",
       "  2231.09,1486.45 2231.09,1467.55 \n",
       "  \"/>\n",
       "<path clip-path=\"url(#clip450)\" d=\"M239.747 1515.64 Q236.136 1515.64 234.307 1519.2 Q232.502 1522.75 232.502 1529.87 Q232.502 1536.98 234.307 1540.55 Q236.136 1544.09 239.747 1544.09 Q243.381 1544.09 245.187 1540.55 Q247.016 1536.98 247.016 1529.87 Q247.016 1522.75 245.187 1519.2 Q243.381 1515.64 239.747 1515.64 M239.747 1511.93 Q245.557 1511.93 248.613 1516.54 Q251.692 1521.12 251.692 1529.87 Q251.692 1538.6 248.613 1543.21 Q245.557 1547.79 239.747 1547.79 Q233.937 1547.79 230.858 1543.21 Q227.803 1538.6 227.803 1529.87 Q227.803 1521.12 230.858 1516.54 Q233.937 1511.93 239.747 1511.93 Z\" fill=\"#000000\" fill-rule=\"evenodd\" fill-opacity=\"1\" /><path clip-path=\"url(#clip450)\" d=\"M259.909 1541.24 L264.793 1541.24 L264.793 1547.12 L259.909 1547.12 L259.909 1541.24 Z\" fill=\"#000000\" fill-rule=\"evenodd\" fill-opacity=\"1\" /><path clip-path=\"url(#clip450)\" d=\"M284.978 1515.64 Q281.367 1515.64 279.539 1519.2 Q277.733 1522.75 277.733 1529.87 Q277.733 1536.98 279.539 1540.55 Q281.367 1544.09 284.978 1544.09 Q288.613 1544.09 290.418 1540.55 Q292.247 1536.98 292.247 1529.87 Q292.247 1522.75 290.418 1519.2 Q288.613 1515.64 284.978 1515.64 M284.978 1511.93 Q290.789 1511.93 293.844 1516.54 Q296.923 1521.12 296.923 1529.87 Q296.923 1538.6 293.844 1543.21 Q290.789 1547.79 284.978 1547.79 Q279.168 1547.79 276.09 1543.21 Q273.034 1538.6 273.034 1529.87 Q273.034 1521.12 276.09 1516.54 Q279.168 1511.93 284.978 1511.93 Z\" fill=\"#000000\" fill-rule=\"evenodd\" fill-opacity=\"1\" /><path clip-path=\"url(#clip450)\" d=\"M732.426 1515.64 Q728.815 1515.64 726.987 1519.2 Q725.181 1522.75 725.181 1529.87 Q725.181 1536.98 726.987 1540.55 Q728.815 1544.09 732.426 1544.09 Q736.061 1544.09 737.866 1540.55 Q739.695 1536.98 739.695 1529.87 Q739.695 1522.75 737.866 1519.2 Q736.061 1515.64 732.426 1515.64 M732.426 1511.93 Q738.236 1511.93 741.292 1516.54 Q744.371 1521.12 744.371 1529.87 Q744.371 1538.6 741.292 1543.21 Q738.236 1547.79 732.426 1547.79 Q726.616 1547.79 723.537 1543.21 Q720.482 1538.6 720.482 1529.87 Q720.482 1521.12 723.537 1516.54 Q726.616 1511.93 732.426 1511.93 Z\" fill=\"#000000\" fill-rule=\"evenodd\" fill-opacity=\"1\" /><path clip-path=\"url(#clip450)\" d=\"M752.588 1541.24 L757.472 1541.24 L757.472 1547.12 L752.588 1547.12 L752.588 1541.24 Z\" fill=\"#000000\" fill-rule=\"evenodd\" fill-opacity=\"1\" /><path clip-path=\"url(#clip450)\" d=\"M767.704 1512.56 L786.06 1512.56 L786.06 1516.5 L771.986 1516.5 L771.986 1524.97 Q773.005 1524.62 774.023 1524.46 Q775.042 1524.27 776.06 1524.27 Q781.847 1524.27 785.227 1527.44 Q788.607 1530.62 788.607 1536.03 Q788.607 1541.61 785.134 1544.71 Q781.662 1547.79 775.343 1547.79 Q773.167 1547.79 770.898 1547.42 Q768.653 1547.05 766.246 1546.31 L766.246 1541.61 Q768.329 1542.74 770.551 1543.3 Q772.773 1543.86 775.25 1543.86 Q779.255 1543.86 781.593 1541.75 Q783.931 1539.64 783.931 1536.03 Q783.931 1532.42 781.593 1530.31 Q779.255 1528.21 775.25 1528.21 Q773.375 1528.21 771.5 1528.62 Q769.648 1529.04 767.704 1529.92 L767.704 1512.56 Z\" fill=\"#000000\" fill-rule=\"evenodd\" fill-opacity=\"1\" /><path clip-path=\"url(#clip450)\" d=\"M1213.88 1543.18 L1221.52 1543.18 L1221.52 1516.82 L1213.21 1518.49 L1213.21 1514.23 L1221.47 1512.56 L1226.15 1512.56 L1226.15 1543.18 L1233.79 1543.18 L1233.79 1547.12 L1213.88 1547.12 L1213.88 1543.18 Z\" fill=\"#000000\" fill-rule=\"evenodd\" fill-opacity=\"1\" /><path clip-path=\"url(#clip450)\" d=\"M1243.23 1541.24 L1248.11 1541.24 L1248.11 1547.12 L1243.23 1547.12 L1243.23 1541.24 Z\" fill=\"#000000\" fill-rule=\"evenodd\" fill-opacity=\"1\" /><path clip-path=\"url(#clip450)\" d=\"M1268.3 1515.64 Q1264.69 1515.64 1262.86 1519.2 Q1261.05 1522.75 1261.05 1529.87 Q1261.05 1536.98 1262.86 1540.55 Q1264.69 1544.09 1268.3 1544.09 Q1271.93 1544.09 1273.74 1540.55 Q1275.57 1536.98 1275.57 1529.87 Q1275.57 1522.75 1273.74 1519.2 Q1271.93 1515.64 1268.3 1515.64 M1268.3 1511.93 Q1274.11 1511.93 1277.17 1516.54 Q1280.24 1521.12 1280.24 1529.87 Q1280.24 1538.6 1277.17 1543.21 Q1274.11 1547.79 1268.3 1547.79 Q1262.49 1547.79 1259.41 1543.21 Q1256.36 1538.6 1256.36 1529.87 Q1256.36 1521.12 1259.41 1516.54 Q1262.49 1511.93 1268.3 1511.93 Z\" fill=\"#000000\" fill-rule=\"evenodd\" fill-opacity=\"1\" /><path clip-path=\"url(#clip450)\" d=\"M1706.56 1543.18 L1714.2 1543.18 L1714.2 1516.82 L1705.89 1518.49 L1705.89 1514.23 L1714.15 1512.56 L1718.83 1512.56 L1718.83 1543.18 L1726.47 1543.18 L1726.47 1547.12 L1706.56 1547.12 L1706.56 1543.18 Z\" fill=\"#000000\" fill-rule=\"evenodd\" fill-opacity=\"1\" /><path clip-path=\"url(#clip450)\" d=\"M1735.91 1541.24 L1740.79 1541.24 L1740.79 1547.12 L1735.91 1547.12 L1735.91 1541.24 Z\" fill=\"#000000\" fill-rule=\"evenodd\" fill-opacity=\"1\" /><path clip-path=\"url(#clip450)\" d=\"M1751.03 1512.56 L1769.38 1512.56 L1769.38 1516.5 L1755.31 1516.5 L1755.31 1524.97 Q1756.33 1524.62 1757.34 1524.46 Q1758.36 1524.27 1759.38 1524.27 Q1765.17 1524.27 1768.55 1527.44 Q1771.93 1530.62 1771.93 1536.03 Q1771.93 1541.61 1768.46 1544.71 Q1764.98 1547.79 1758.66 1547.79 Q1756.49 1547.79 1754.22 1547.42 Q1751.97 1547.05 1749.57 1546.31 L1749.57 1541.61 Q1751.65 1542.74 1753.87 1543.3 Q1756.09 1543.86 1758.57 1543.86 Q1762.58 1543.86 1764.91 1541.75 Q1767.25 1539.64 1767.25 1536.03 Q1767.25 1532.42 1764.91 1530.31 Q1762.58 1528.21 1758.57 1528.21 Q1756.7 1528.21 1754.82 1528.62 Q1752.97 1529.04 1751.03 1529.92 L1751.03 1512.56 Z\" fill=\"#000000\" fill-rule=\"evenodd\" fill-opacity=\"1\" /><path clip-path=\"url(#clip450)\" d=\"M2202.33 1543.18 L2218.65 1543.18 L2218.65 1547.12 L2196.7 1547.12 L2196.7 1543.18 Q2199.36 1540.43 2203.95 1535.8 Q2208.55 1531.15 2209.73 1529.81 Q2211.98 1527.28 2212.86 1525.55 Q2213.76 1523.79 2213.76 1522.1 Q2213.76 1519.34 2211.82 1517.61 Q2209.9 1515.87 2206.79 1515.87 Q2204.6 1515.87 2202.14 1516.63 Q2199.71 1517.4 2196.93 1518.95 L2196.93 1514.23 Q2199.76 1513.09 2202.21 1512.51 Q2204.67 1511.93 2206.7 1511.93 Q2212.07 1511.93 2215.27 1514.62 Q2218.46 1517.31 2218.46 1521.8 Q2218.46 1523.93 2217.65 1525.85 Q2216.86 1527.74 2214.76 1530.34 Q2214.18 1531.01 2211.08 1534.23 Q2207.98 1537.42 2202.33 1543.18 Z\" fill=\"#000000\" fill-rule=\"evenodd\" fill-opacity=\"1\" /><path clip-path=\"url(#clip450)\" d=\"M2228.46 1541.24 L2233.35 1541.24 L2233.35 1547.12 L2228.46 1547.12 L2228.46 1541.24 Z\" fill=\"#000000\" fill-rule=\"evenodd\" fill-opacity=\"1\" /><path clip-path=\"url(#clip450)\" d=\"M2253.53 1515.64 Q2249.92 1515.64 2248.09 1519.2 Q2246.29 1522.75 2246.29 1529.87 Q2246.29 1536.98 2248.09 1540.55 Q2249.92 1544.09 2253.53 1544.09 Q2257.16 1544.09 2258.97 1540.55 Q2260.8 1536.98 2260.8 1529.87 Q2260.8 1522.75 2258.97 1519.2 Q2257.16 1515.64 2253.53 1515.64 M2253.53 1511.93 Q2259.34 1511.93 2262.4 1516.54 Q2265.48 1521.12 2265.48 1529.87 Q2265.48 1538.6 2262.4 1543.21 Q2259.34 1547.79 2253.53 1547.79 Q2247.72 1547.79 2244.64 1543.21 Q2241.59 1538.6 2241.59 1529.87 Q2241.59 1521.12 2244.64 1516.54 Q2247.72 1511.93 2253.53 1511.93 Z\" fill=\"#000000\" fill-rule=\"evenodd\" fill-opacity=\"1\" /><polyline clip-path=\"url(#clip452)\" style=\"stroke:#000000; stroke-linecap:butt; stroke-linejoin:round; stroke-width:2; stroke-opacity:0.1; fill:none\" points=\"\n",
       "  140.696,1445.72 2352.76,1445.72 \n",
       "  \"/>\n",
       "<polyline clip-path=\"url(#clip452)\" style=\"stroke:#000000; stroke-linecap:butt; stroke-linejoin:round; stroke-width:2; stroke-opacity:0.1; fill:none\" points=\"\n",
       "  140.696,1184.61 2352.76,1184.61 \n",
       "  \"/>\n",
       "<polyline clip-path=\"url(#clip452)\" style=\"stroke:#000000; stroke-linecap:butt; stroke-linejoin:round; stroke-width:2; stroke-opacity:0.1; fill:none\" points=\"\n",
       "  140.696,923.508 2352.76,923.508 \n",
       "  \"/>\n",
       "<polyline clip-path=\"url(#clip452)\" style=\"stroke:#000000; stroke-linecap:butt; stroke-linejoin:round; stroke-width:2; stroke-opacity:0.1; fill:none\" points=\"\n",
       "  140.696,662.404 2352.76,662.404 \n",
       "  \"/>\n",
       "<polyline clip-path=\"url(#clip452)\" style=\"stroke:#000000; stroke-linecap:butt; stroke-linejoin:round; stroke-width:2; stroke-opacity:0.1; fill:none\" points=\"\n",
       "  140.696,401.301 2352.76,401.301 \n",
       "  \"/>\n",
       "<polyline clip-path=\"url(#clip452)\" style=\"stroke:#000000; stroke-linecap:butt; stroke-linejoin:round; stroke-width:2; stroke-opacity:0.1; fill:none\" points=\"\n",
       "  140.696,140.197 2352.76,140.197 \n",
       "  \"/>\n",
       "<polyline clip-path=\"url(#clip450)\" style=\"stroke:#000000; stroke-linecap:butt; stroke-linejoin:round; stroke-width:4; stroke-opacity:1; fill:none\" points=\"\n",
       "  140.696,1486.45 140.696,47.2441 \n",
       "  \"/>\n",
       "<polyline clip-path=\"url(#clip450)\" style=\"stroke:#000000; stroke-linecap:butt; stroke-linejoin:round; stroke-width:4; stroke-opacity:1; fill:none\" points=\"\n",
       "  140.696,1445.72 159.593,1445.72 \n",
       "  \"/>\n",
       "<polyline clip-path=\"url(#clip450)\" style=\"stroke:#000000; stroke-linecap:butt; stroke-linejoin:round; stroke-width:4; stroke-opacity:1; fill:none\" points=\"\n",
       "  140.696,1184.61 159.593,1184.61 \n",
       "  \"/>\n",
       "<polyline clip-path=\"url(#clip450)\" style=\"stroke:#000000; stroke-linecap:butt; stroke-linejoin:round; stroke-width:4; stroke-opacity:1; fill:none\" points=\"\n",
       "  140.696,923.508 159.593,923.508 \n",
       "  \"/>\n",
       "<polyline clip-path=\"url(#clip450)\" style=\"stroke:#000000; stroke-linecap:butt; stroke-linejoin:round; stroke-width:4; stroke-opacity:1; fill:none\" points=\"\n",
       "  140.696,662.404 159.593,662.404 \n",
       "  \"/>\n",
       "<polyline clip-path=\"url(#clip450)\" style=\"stroke:#000000; stroke-linecap:butt; stroke-linejoin:round; stroke-width:4; stroke-opacity:1; fill:none\" points=\"\n",
       "  140.696,401.301 159.593,401.301 \n",
       "  \"/>\n",
       "<polyline clip-path=\"url(#clip450)\" style=\"stroke:#000000; stroke-linecap:butt; stroke-linejoin:round; stroke-width:4; stroke-opacity:1; fill:none\" points=\"\n",
       "  140.696,140.197 159.593,140.197 \n",
       "  \"/>\n",
       "<path clip-path=\"url(#clip450)\" d=\"M92.7512 1431.51 Q89.1401 1431.51 87.3114 1435.08 Q85.5058 1438.62 85.5058 1445.75 Q85.5058 1452.86 87.3114 1456.42 Q89.1401 1459.96 92.7512 1459.96 Q96.3854 1459.96 98.1909 1456.42 Q100.02 1452.86 100.02 1445.75 Q100.02 1438.62 98.1909 1435.08 Q96.3854 1431.51 92.7512 1431.51 M92.7512 1427.81 Q98.5613 1427.81 101.617 1432.42 Q104.696 1437 104.696 1445.75 Q104.696 1454.48 101.617 1459.08 Q98.5613 1463.67 92.7512 1463.67 Q86.941 1463.67 83.8623 1459.08 Q80.8068 1454.48 80.8068 1445.75 Q80.8068 1437 83.8623 1432.42 Q86.941 1427.81 92.7512 1427.81 Z\" fill=\"#000000\" fill-rule=\"evenodd\" fill-opacity=\"1\" /><path clip-path=\"url(#clip450)\" d=\"M83.7929 1167.33 L102.149 1167.33 L102.149 1171.27 L88.0753 1171.27 L88.0753 1179.74 Q89.0938 1179.39 90.1123 1179.23 Q91.1308 1179.04 92.1493 1179.04 Q97.9363 1179.04 101.316 1182.22 Q104.696 1185.39 104.696 1190.8 Q104.696 1196.38 101.223 1199.48 Q97.7511 1202.56 91.4317 1202.56 Q89.2558 1202.56 86.9873 1202.19 Q84.7419 1201.82 82.3346 1201.08 L82.3346 1196.38 Q84.4179 1197.52 86.6401 1198.07 Q88.8623 1198.63 91.3391 1198.63 Q95.3437 1198.63 97.6817 1196.52 Q100.02 1194.42 100.02 1190.8 Q100.02 1187.19 97.6817 1185.09 Q95.3437 1182.98 91.3391 1182.98 Q89.4641 1182.98 87.5892 1183.4 Q85.7373 1183.81 83.7929 1184.69 L83.7929 1167.33 Z\" fill=\"#000000\" fill-rule=\"evenodd\" fill-opacity=\"1\" /><path clip-path=\"url(#clip450)\" d=\"M53.3995 936.853 L61.0384 936.853 L61.0384 910.487 L52.7282 912.154 L52.7282 907.895 L60.9921 906.228 L65.668 906.228 L65.668 936.853 L73.3068 936.853 L73.3068 940.788 L53.3995 940.788 L53.3995 936.853 Z\" fill=\"#000000\" fill-rule=\"evenodd\" fill-opacity=\"1\" /><path clip-path=\"url(#clip450)\" d=\"M92.7512 909.307 Q89.1401 909.307 87.3114 912.872 Q85.5058 916.413 85.5058 923.543 Q85.5058 930.649 87.3114 934.214 Q89.1401 937.756 92.7512 937.756 Q96.3854 937.756 98.1909 934.214 Q100.02 930.649 100.02 923.543 Q100.02 916.413 98.1909 912.872 Q96.3854 909.307 92.7512 909.307 M92.7512 905.603 Q98.5613 905.603 101.617 910.21 Q104.696 914.793 104.696 923.543 Q104.696 932.27 101.617 936.876 Q98.5613 941.46 92.7512 941.46 Q86.941 941.46 83.8623 936.876 Q80.8068 932.27 80.8068 923.543 Q80.8068 914.793 83.8623 910.21 Q86.941 905.603 92.7512 905.603 Z\" fill=\"#000000\" fill-rule=\"evenodd\" fill-opacity=\"1\" /><path clip-path=\"url(#clip450)\" d=\"M54.3949 675.749 L62.0337 675.749 L62.0337 649.384 L53.7236 651.05 L53.7236 646.791 L61.9874 645.124 L66.6633 645.124 L66.6633 675.749 L74.3022 675.749 L74.3022 679.684 L54.3949 679.684 L54.3949 675.749 Z\" fill=\"#000000\" fill-rule=\"evenodd\" fill-opacity=\"1\" /><path clip-path=\"url(#clip450)\" d=\"M83.7929 645.124 L102.149 645.124 L102.149 649.06 L88.0753 649.06 L88.0753 657.532 Q89.0938 657.185 90.1123 657.023 Q91.1308 656.837 92.1493 656.837 Q97.9363 656.837 101.316 660.009 Q104.696 663.18 104.696 668.597 Q104.696 674.175 101.223 677.277 Q97.7511 680.356 91.4317 680.356 Q89.2558 680.356 86.9873 679.985 Q84.7419 679.615 82.3346 678.874 L82.3346 674.175 Q84.4179 675.31 86.6401 675.865 Q88.8623 676.421 91.3391 676.421 Q95.3437 676.421 97.6817 674.314 Q100.02 672.208 100.02 668.597 Q100.02 664.985 97.6817 662.879 Q95.3437 660.773 91.3391 660.773 Q89.4641 660.773 87.5892 661.189 Q85.7373 661.606 83.7929 662.486 L83.7929 645.124 Z\" fill=\"#000000\" fill-rule=\"evenodd\" fill-opacity=\"1\" /><path clip-path=\"url(#clip450)\" d=\"M56.6171 414.646 L72.9365 414.646 L72.9365 418.581 L50.9921 418.581 L50.9921 414.646 Q53.6541 411.891 58.2375 407.261 Q62.8439 402.609 64.0245 401.266 Q66.2698 398.743 67.1494 397.007 Q68.0522 395.248 68.0522 393.558 Q68.0522 390.803 66.1078 389.067 Q64.1865 387.331 61.0847 387.331 Q58.8856 387.331 56.4319 388.095 Q54.0014 388.859 51.2236 390.41 L51.2236 385.687 Q54.0477 384.553 56.5014 383.974 Q58.955 383.396 60.9921 383.396 Q66.3624 383.396 69.5568 386.081 Q72.7513 388.766 72.7513 393.257 Q72.7513 395.386 71.9411 397.308 Q71.1541 399.206 69.0476 401.798 Q68.4689 402.47 65.367 405.687 Q62.2652 408.882 56.6171 414.646 Z\" fill=\"#000000\" fill-rule=\"evenodd\" fill-opacity=\"1\" /><path clip-path=\"url(#clip450)\" d=\"M92.7512 387.099 Q89.1401 387.099 87.3114 390.664 Q85.5058 394.206 85.5058 401.335 Q85.5058 408.442 87.3114 412.007 Q89.1401 415.548 92.7512 415.548 Q96.3854 415.548 98.1909 412.007 Q100.02 408.442 100.02 401.335 Q100.02 394.206 98.1909 390.664 Q96.3854 387.099 92.7512 387.099 M92.7512 383.396 Q98.5613 383.396 101.617 388.002 Q104.696 392.586 104.696 401.335 Q104.696 410.062 101.617 414.669 Q98.5613 419.252 92.7512 419.252 Q86.941 419.252 83.8623 414.669 Q80.8068 410.062 80.8068 401.335 Q80.8068 392.586 83.8623 388.002 Q86.941 383.396 92.7512 383.396 Z\" fill=\"#000000\" fill-rule=\"evenodd\" fill-opacity=\"1\" /><path clip-path=\"url(#clip450)\" d=\"M57.6125 153.542 L73.9318 153.542 L73.9318 157.477 L51.9875 157.477 L51.9875 153.542 Q54.6495 150.787 59.2328 146.158 Q63.8393 141.505 65.0198 140.162 Q67.2652 137.639 68.1448 135.903 Q69.0476 134.144 69.0476 132.454 Q69.0476 129.699 67.1032 127.963 Q65.1819 126.227 62.08 126.227 Q59.881 126.227 57.4273 126.991 Q54.9967 127.755 52.219 129.306 L52.219 124.584 Q55.043 123.449 57.4967 122.871 Q59.9504 122.292 61.9874 122.292 Q67.3578 122.292 70.5522 124.977 Q73.7466 127.662 73.7466 132.153 Q73.7466 134.283 72.9365 136.204 Q72.1494 138.102 70.0429 140.695 Q69.4642 141.366 66.3624 144.584 Q63.2606 147.778 57.6125 153.542 Z\" fill=\"#000000\" fill-rule=\"evenodd\" fill-opacity=\"1\" /><path clip-path=\"url(#clip450)\" d=\"M83.7929 122.917 L102.149 122.917 L102.149 126.852 L88.0753 126.852 L88.0753 135.324 Q89.0938 134.977 90.1123 134.815 Q91.1308 134.63 92.1493 134.63 Q97.9363 134.63 101.316 137.801 Q104.696 140.972 104.696 146.389 Q104.696 151.968 101.223 155.07 Q97.7511 158.148 91.4317 158.148 Q89.2558 158.148 86.9873 157.778 Q84.7419 157.408 82.3346 156.667 L82.3346 151.968 Q84.4179 153.102 86.6401 153.658 Q88.8623 154.213 91.3391 154.213 Q95.3437 154.213 97.6817 152.107 Q100.02 150 100.02 146.389 Q100.02 142.778 97.6817 140.672 Q95.3437 138.565 91.3391 138.565 Q89.4641 138.565 87.5892 138.982 Q85.7373 139.398 83.7929 140.278 L83.7929 122.917 Z\" fill=\"#000000\" fill-rule=\"evenodd\" fill-opacity=\"1\" /><path clip-path=\"url(#clip452)\" d=\"\n",
       "M262.363 1445.72 L262.363 1445.72 L360.799 1445.72 L360.799 1445.72 L262.363 1445.72 L262.363 1445.72  Z\n",
       "  \" fill=\"#009af9\" fill-rule=\"evenodd\" fill-opacity=\"1\"/>\n",
       "<polyline clip-path=\"url(#clip452)\" style=\"stroke:#000000; stroke-linecap:butt; stroke-linejoin:round; stroke-width:4; stroke-opacity:1; fill:none\" points=\"\n",
       "  262.363,1445.72 262.363,1445.72 360.799,1445.72 262.363,1445.72 \n",
       "  \"/>\n",
       "<path clip-path=\"url(#clip452)\" d=\"\n",
       "M360.799 1393.49 L360.799 1445.72 L459.235 1445.72 L459.235 1393.49 L360.799 1393.49 L360.799 1393.49  Z\n",
       "  \" fill=\"#009af9\" fill-rule=\"evenodd\" fill-opacity=\"1\"/>\n",
       "<polyline clip-path=\"url(#clip452)\" style=\"stroke:#000000; stroke-linecap:butt; stroke-linejoin:round; stroke-width:4; stroke-opacity:1; fill:none\" points=\"\n",
       "  360.799,1393.49 360.799,1445.72 459.235,1445.72 459.235,1393.49 360.799,1393.49 \n",
       "  \"/>\n",
       "<path clip-path=\"url(#clip452)\" d=\"\n",
       "M459.235 1289.05 L459.235 1445.72 L557.672 1445.72 L557.672 1289.05 L459.235 1289.05 L459.235 1289.05  Z\n",
       "  \" fill=\"#009af9\" fill-rule=\"evenodd\" fill-opacity=\"1\"/>\n",
       "<polyline clip-path=\"url(#clip452)\" style=\"stroke:#000000; stroke-linecap:butt; stroke-linejoin:round; stroke-width:4; stroke-opacity:1; fill:none\" points=\"\n",
       "  459.235,1289.05 459.235,1445.72 557.672,1445.72 557.672,1289.05 459.235,1289.05 \n",
       "  \"/>\n",
       "<path clip-path=\"url(#clip452)\" d=\"\n",
       "M557.672 87.9763 L557.672 1445.72 L656.108 1445.72 L656.108 87.9763 L557.672 87.9763 L557.672 87.9763  Z\n",
       "  \" fill=\"#009af9\" fill-rule=\"evenodd\" fill-opacity=\"1\"/>\n",
       "<polyline clip-path=\"url(#clip452)\" style=\"stroke:#000000; stroke-linecap:butt; stroke-linejoin:round; stroke-width:4; stroke-opacity:1; fill:none\" points=\"\n",
       "  557.672,87.9763 557.672,1445.72 656.108,1445.72 656.108,87.9763 557.672,87.9763 \n",
       "  \"/>\n",
       "<path clip-path=\"url(#clip452)\" d=\"\n",
       "M656.108 505.742 L656.108 1445.72 L754.544 1445.72 L754.544 505.742 L656.108 505.742 L656.108 505.742  Z\n",
       "  \" fill=\"#009af9\" fill-rule=\"evenodd\" fill-opacity=\"1\"/>\n",
       "<polyline clip-path=\"url(#clip452)\" style=\"stroke:#000000; stroke-linecap:butt; stroke-linejoin:round; stroke-width:4; stroke-opacity:1; fill:none\" points=\"\n",
       "  656.108,505.742 656.108,1445.72 754.544,1445.72 754.544,505.742 656.108,505.742 \n",
       "  \"/>\n",
       "<path clip-path=\"url(#clip452)\" d=\"\n",
       "M754.544 1132.39 L754.544 1445.72 L852.981 1445.72 L852.981 1132.39 L754.544 1132.39 L754.544 1132.39  Z\n",
       "  \" fill=\"#009af9\" fill-rule=\"evenodd\" fill-opacity=\"1\"/>\n",
       "<polyline clip-path=\"url(#clip452)\" style=\"stroke:#000000; stroke-linecap:butt; stroke-linejoin:round; stroke-width:4; stroke-opacity:1; fill:none\" points=\"\n",
       "  754.544,1132.39 754.544,1445.72 852.981,1445.72 852.981,1132.39 754.544,1132.39 \n",
       "  \"/>\n",
       "<path clip-path=\"url(#clip452)\" d=\"\n",
       "M852.981 1393.49 L852.981 1445.72 L951.417 1445.72 L951.417 1393.49 L852.981 1393.49 L852.981 1393.49  Z\n",
       "  \" fill=\"#009af9\" fill-rule=\"evenodd\" fill-opacity=\"1\"/>\n",
       "<polyline clip-path=\"url(#clip452)\" style=\"stroke:#000000; stroke-linecap:butt; stroke-linejoin:round; stroke-width:4; stroke-opacity:1; fill:none\" points=\"\n",
       "  852.981,1393.49 852.981,1445.72 951.417,1445.72 951.417,1393.49 852.981,1393.49 \n",
       "  \"/>\n",
       "<path clip-path=\"url(#clip452)\" d=\"\n",
       "M951.417 1393.49 L951.417 1445.72 L1049.85 1445.72 L1049.85 1393.49 L951.417 1393.49 L951.417 1393.49  Z\n",
       "  \" fill=\"#009af9\" fill-rule=\"evenodd\" fill-opacity=\"1\"/>\n",
       "<polyline clip-path=\"url(#clip452)\" style=\"stroke:#000000; stroke-linecap:butt; stroke-linejoin:round; stroke-width:4; stroke-opacity:1; fill:none\" points=\"\n",
       "  951.417,1393.49 951.417,1445.72 1049.85,1445.72 1049.85,1393.49 951.417,1393.49 \n",
       "  \"/>\n",
       "<path clip-path=\"url(#clip452)\" d=\"\n",
       "M1049.85 1445.72 L1049.85 1445.72 L1148.29 1445.72 L1148.29 1445.72 L1049.85 1445.72 L1049.85 1445.72  Z\n",
       "  \" fill=\"#009af9\" fill-rule=\"evenodd\" fill-opacity=\"1\"/>\n",
       "<polyline clip-path=\"url(#clip452)\" style=\"stroke:#000000; stroke-linecap:butt; stroke-linejoin:round; stroke-width:4; stroke-opacity:1; fill:none\" points=\"\n",
       "  1049.85,1445.72 1049.85,1445.72 1148.29,1445.72 1049.85,1445.72 \n",
       "  \"/>\n",
       "<path clip-path=\"url(#clip452)\" d=\"\n",
       "M1148.29 1393.49 L1148.29 1445.72 L1246.73 1445.72 L1246.73 1393.49 L1148.29 1393.49 L1148.29 1393.49  Z\n",
       "  \" fill=\"#009af9\" fill-rule=\"evenodd\" fill-opacity=\"1\"/>\n",
       "<polyline clip-path=\"url(#clip452)\" style=\"stroke:#000000; stroke-linecap:butt; stroke-linejoin:round; stroke-width:4; stroke-opacity:1; fill:none\" points=\"\n",
       "  1148.29,1393.49 1148.29,1445.72 1246.73,1445.72 1246.73,1393.49 1148.29,1393.49 \n",
       "  \"/>\n",
       "<path clip-path=\"url(#clip452)\" d=\"\n",
       "M1246.73 1445.72 L1246.73 1445.72 L1345.16 1445.72 L1345.16 1445.72 L1246.73 1445.72 L1246.73 1445.72  Z\n",
       "  \" fill=\"#009af9\" fill-rule=\"evenodd\" fill-opacity=\"1\"/>\n",
       "<polyline clip-path=\"url(#clip452)\" style=\"stroke:#000000; stroke-linecap:butt; stroke-linejoin:round; stroke-width:4; stroke-opacity:1; fill:none\" points=\"\n",
       "  1246.73,1445.72 1246.73,1445.72 1345.16,1445.72 1246.73,1445.72 \n",
       "  \"/>\n",
       "<path clip-path=\"url(#clip452)\" d=\"\n",
       "M1345.16 1445.72 L1345.16 1445.72 L1443.6 1445.72 L1443.6 1445.72 L1345.16 1445.72 L1345.16 1445.72  Z\n",
       "  \" fill=\"#009af9\" fill-rule=\"evenodd\" fill-opacity=\"1\"/>\n",
       "<polyline clip-path=\"url(#clip452)\" style=\"stroke:#000000; stroke-linecap:butt; stroke-linejoin:round; stroke-width:4; stroke-opacity:1; fill:none\" points=\"\n",
       "  1345.16,1445.72 1345.16,1445.72 1443.6,1445.72 1345.16,1445.72 \n",
       "  \"/>\n",
       "<path clip-path=\"url(#clip452)\" d=\"\n",
       "M1443.6 1445.72 L1443.6 1445.72 L1542.03 1445.72 L1542.03 1445.72 L1443.6 1445.72 L1443.6 1445.72  Z\n",
       "  \" fill=\"#009af9\" fill-rule=\"evenodd\" fill-opacity=\"1\"/>\n",
       "<polyline clip-path=\"url(#clip452)\" style=\"stroke:#000000; stroke-linecap:butt; stroke-linejoin:round; stroke-width:4; stroke-opacity:1; fill:none\" points=\"\n",
       "  1443.6,1445.72 1443.6,1445.72 1542.03,1445.72 1443.6,1445.72 \n",
       "  \"/>\n",
       "<path clip-path=\"url(#clip452)\" d=\"\n",
       "M1542.03 1445.72 L1542.03 1445.72 L1640.47 1445.72 L1640.47 1445.72 L1542.03 1445.72 L1542.03 1445.72  Z\n",
       "  \" fill=\"#009af9\" fill-rule=\"evenodd\" fill-opacity=\"1\"/>\n",
       "<polyline clip-path=\"url(#clip452)\" style=\"stroke:#000000; stroke-linecap:butt; stroke-linejoin:round; stroke-width:4; stroke-opacity:1; fill:none\" points=\"\n",
       "  1542.03,1445.72 1542.03,1445.72 1640.47,1445.72 1542.03,1445.72 \n",
       "  \"/>\n",
       "<path clip-path=\"url(#clip452)\" d=\"\n",
       "M1640.47 1445.72 L1640.47 1445.72 L1738.91 1445.72 L1738.91 1445.72 L1640.47 1445.72 L1640.47 1445.72  Z\n",
       "  \" fill=\"#009af9\" fill-rule=\"evenodd\" fill-opacity=\"1\"/>\n",
       "<polyline clip-path=\"url(#clip452)\" style=\"stroke:#000000; stroke-linecap:butt; stroke-linejoin:round; stroke-width:4; stroke-opacity:1; fill:none\" points=\"\n",
       "  1640.47,1445.72 1640.47,1445.72 1738.91,1445.72 1640.47,1445.72 \n",
       "  \"/>\n",
       "<path clip-path=\"url(#clip452)\" d=\"\n",
       "M1738.91 1445.72 L1738.91 1445.72 L1837.34 1445.72 L1837.34 1445.72 L1738.91 1445.72 L1738.91 1445.72  Z\n",
       "  \" fill=\"#009af9\" fill-rule=\"evenodd\" fill-opacity=\"1\"/>\n",
       "<polyline clip-path=\"url(#clip452)\" style=\"stroke:#000000; stroke-linecap:butt; stroke-linejoin:round; stroke-width:4; stroke-opacity:1; fill:none\" points=\"\n",
       "  1738.91,1445.72 1738.91,1445.72 1837.34,1445.72 1738.91,1445.72 \n",
       "  \"/>\n",
       "<path clip-path=\"url(#clip452)\" d=\"\n",
       "M1837.34 1445.72 L1837.34 1445.72 L1935.78 1445.72 L1935.78 1445.72 L1837.34 1445.72 L1837.34 1445.72  Z\n",
       "  \" fill=\"#009af9\" fill-rule=\"evenodd\" fill-opacity=\"1\"/>\n",
       "<polyline clip-path=\"url(#clip452)\" style=\"stroke:#000000; stroke-linecap:butt; stroke-linejoin:round; stroke-width:4; stroke-opacity:1; fill:none\" points=\"\n",
       "  1837.34,1445.72 1837.34,1445.72 1935.78,1445.72 1837.34,1445.72 \n",
       "  \"/>\n",
       "<path clip-path=\"url(#clip452)\" d=\"\n",
       "M1935.78 1445.72 L1935.78 1445.72 L2034.22 1445.72 L2034.22 1445.72 L1935.78 1445.72 L1935.78 1445.72  Z\n",
       "  \" fill=\"#009af9\" fill-rule=\"evenodd\" fill-opacity=\"1\"/>\n",
       "<polyline clip-path=\"url(#clip452)\" style=\"stroke:#000000; stroke-linecap:butt; stroke-linejoin:round; stroke-width:4; stroke-opacity:1; fill:none\" points=\"\n",
       "  1935.78,1445.72 1935.78,1445.72 2034.22,1445.72 1935.78,1445.72 \n",
       "  \"/>\n",
       "<path clip-path=\"url(#clip452)\" d=\"\n",
       "M2034.22 1445.72 L2034.22 1445.72 L2132.65 1445.72 L2132.65 1445.72 L2034.22 1445.72 L2034.22 1445.72  Z\n",
       "  \" fill=\"#009af9\" fill-rule=\"evenodd\" fill-opacity=\"1\"/>\n",
       "<polyline clip-path=\"url(#clip452)\" style=\"stroke:#000000; stroke-linecap:butt; stroke-linejoin:round; stroke-width:4; stroke-opacity:1; fill:none\" points=\"\n",
       "  2034.22,1445.72 2034.22,1445.72 2132.65,1445.72 2034.22,1445.72 \n",
       "  \"/>\n",
       "<path clip-path=\"url(#clip452)\" d=\"\n",
       "M2132.65 1445.72 L2132.65 1445.72 L2231.09 1445.72 L2231.09 1445.72 L2132.65 1445.72 L2132.65 1445.72  Z\n",
       "  \" fill=\"#009af9\" fill-rule=\"evenodd\" fill-opacity=\"1\"/>\n",
       "<polyline clip-path=\"url(#clip452)\" style=\"stroke:#000000; stroke-linecap:butt; stroke-linejoin:round; stroke-width:4; stroke-opacity:1; fill:none\" points=\"\n",
       "  2132.65,1445.72 2132.65,1445.72 2231.09,1445.72 2132.65,1445.72 \n",
       "  \"/>\n",
       "<circle clip-path=\"url(#clip452)\" style=\"fill:#009af9; stroke:none; fill-opacity:0\" cx=\"311.581\" cy=\"1445.72\" r=\"2\"/>\n",
       "<circle clip-path=\"url(#clip452)\" style=\"fill:#009af9; stroke:none; fill-opacity:0\" cx=\"410.017\" cy=\"1393.49\" r=\"2\"/>\n",
       "<circle clip-path=\"url(#clip452)\" style=\"fill:#009af9; stroke:none; fill-opacity:0\" cx=\"508.454\" cy=\"1289.05\" r=\"2\"/>\n",
       "<circle clip-path=\"url(#clip452)\" style=\"fill:#009af9; stroke:none; fill-opacity:0\" cx=\"606.89\" cy=\"87.9763\" r=\"2\"/>\n",
       "<circle clip-path=\"url(#clip452)\" style=\"fill:#009af9; stroke:none; fill-opacity:0\" cx=\"705.326\" cy=\"505.742\" r=\"2\"/>\n",
       "<circle clip-path=\"url(#clip452)\" style=\"fill:#009af9; stroke:none; fill-opacity:0\" cx=\"803.762\" cy=\"1132.39\" r=\"2\"/>\n",
       "<circle clip-path=\"url(#clip452)\" style=\"fill:#009af9; stroke:none; fill-opacity:0\" cx=\"902.199\" cy=\"1393.49\" r=\"2\"/>\n",
       "<circle clip-path=\"url(#clip452)\" style=\"fill:#009af9; stroke:none; fill-opacity:0\" cx=\"1000.63\" cy=\"1393.49\" r=\"2\"/>\n",
       "<circle clip-path=\"url(#clip452)\" style=\"fill:#009af9; stroke:none; fill-opacity:0\" cx=\"1099.07\" cy=\"1445.72\" r=\"2\"/>\n",
       "<circle clip-path=\"url(#clip452)\" style=\"fill:#009af9; stroke:none; fill-opacity:0\" cx=\"1197.51\" cy=\"1393.49\" r=\"2\"/>\n",
       "<circle clip-path=\"url(#clip452)\" style=\"fill:#009af9; stroke:none; fill-opacity:0\" cx=\"1295.94\" cy=\"1445.72\" r=\"2\"/>\n",
       "<circle clip-path=\"url(#clip452)\" style=\"fill:#009af9; stroke:none; fill-opacity:0\" cx=\"1394.38\" cy=\"1445.72\" r=\"2\"/>\n",
       "<circle clip-path=\"url(#clip452)\" style=\"fill:#009af9; stroke:none; fill-opacity:0\" cx=\"1492.82\" cy=\"1445.72\" r=\"2\"/>\n",
       "<circle clip-path=\"url(#clip452)\" style=\"fill:#009af9; stroke:none; fill-opacity:0\" cx=\"1591.25\" cy=\"1445.72\" r=\"2\"/>\n",
       "<circle clip-path=\"url(#clip452)\" style=\"fill:#009af9; stroke:none; fill-opacity:0\" cx=\"1689.69\" cy=\"1445.72\" r=\"2\"/>\n",
       "<circle clip-path=\"url(#clip452)\" style=\"fill:#009af9; stroke:none; fill-opacity:0\" cx=\"1788.13\" cy=\"1445.72\" r=\"2\"/>\n",
       "<circle clip-path=\"url(#clip452)\" style=\"fill:#009af9; stroke:none; fill-opacity:0\" cx=\"1886.56\" cy=\"1445.72\" r=\"2\"/>\n",
       "<circle clip-path=\"url(#clip452)\" style=\"fill:#009af9; stroke:none; fill-opacity:0\" cx=\"1985\" cy=\"1445.72\" r=\"2\"/>\n",
       "<circle clip-path=\"url(#clip452)\" style=\"fill:#009af9; stroke:none; fill-opacity:0\" cx=\"2083.43\" cy=\"1445.72\" r=\"2\"/>\n",
       "<circle clip-path=\"url(#clip452)\" style=\"fill:#009af9; stroke:none; fill-opacity:0\" cx=\"2181.87\" cy=\"1445.72\" r=\"2\"/>\n",
       "<path clip-path=\"url(#clip450)\" d=\"\n",
       "M1980.81 198.898 L2279.02 198.898 L2279.02 95.2176 L1980.81 95.2176  Z\n",
       "  \" fill=\"#ffffff\" fill-rule=\"evenodd\" fill-opacity=\"1\"/>\n",
       "<polyline clip-path=\"url(#clip450)\" style=\"stroke:#000000; stroke-linecap:butt; stroke-linejoin:round; stroke-width:4; stroke-opacity:1; fill:none\" points=\"\n",
       "  1980.81,198.898 2279.02,198.898 2279.02,95.2176 1980.81,95.2176 1980.81,198.898 \n",
       "  \"/>\n",
       "<path clip-path=\"url(#clip450)\" d=\"\n",
       "M2005.38 167.794 L2152.85 167.794 L2152.85 126.322 L2005.38 126.322 L2005.38 167.794  Z\n",
       "  \" fill=\"#009af9\" fill-rule=\"evenodd\" fill-opacity=\"1\"/>\n",
       "<polyline clip-path=\"url(#clip450)\" style=\"stroke:#000000; stroke-linecap:butt; stroke-linejoin:round; stroke-width:4; stroke-opacity:1; fill:none\" points=\"\n",
       "  2005.38,167.794 2152.85,167.794 2152.85,126.322 2005.38,126.322 2005.38,167.794 \n",
       "  \"/>\n",
       "<path clip-path=\"url(#clip450)\" d=\"M2191.28 166.745 Q2189.47 171.375 2187.76 172.787 Q2186.04 174.199 2183.17 174.199 L2179.77 174.199 L2179.77 170.634 L2182.27 170.634 Q2184.03 170.634 2185 169.8 Q2185.98 168.967 2187.16 165.865 L2187.92 163.921 L2177.43 138.412 L2181.95 138.412 L2190.05 158.689 L2198.15 138.412 L2202.66 138.412 L2191.28 166.745 Z\" fill=\"#000000\" fill-rule=\"evenodd\" fill-opacity=\"1\" /><path clip-path=\"url(#clip450)\" d=\"M2209.96 160.402 L2217.6 160.402 L2217.6 134.037 L2209.29 135.703 L2209.29 131.444 L2217.55 129.778 L2222.22 129.778 L2222.22 160.402 L2229.86 160.402 L2229.86 164.338 L2209.96 164.338 L2209.96 160.402 Z\" fill=\"#000000\" fill-rule=\"evenodd\" fill-opacity=\"1\" /></svg>\n"
      ]
     },
     "execution_count": 46,
     "metadata": {},
     "output_type": "execute_result"
    }
   ],
   "source": [
    "histogram(g2[:,2], bins = 0:0.1:2)"
   ]
  },
  {
   "cell_type": "code",
   "execution_count": 45,
   "id": "969be1fb-60cc-4122-acfc-63390af6f0b4",
   "metadata": {},
   "outputs": [
    {
     "data": {
      "image/svg+xml": [
       "<?xml version=\"1.0\" encoding=\"utf-8\"?>\n",
       "<svg xmlns=\"http://www.w3.org/2000/svg\" xmlns:xlink=\"http://www.w3.org/1999/xlink\" width=\"600\" height=\"400\" viewBox=\"0 0 2400 1600\">\n",
       "<defs>\n",
       "  <clipPath id=\"clip410\">\n",
       "    <rect x=\"0\" y=\"0\" width=\"2400\" height=\"1600\"/>\n",
       "  </clipPath>\n",
       "</defs>\n",
       "<path clip-path=\"url(#clip410)\" d=\"\n",
       "M0 1600 L2400 1600 L2400 0 L0 0  Z\n",
       "  \" fill=\"#ffffff\" fill-rule=\"evenodd\" fill-opacity=\"1\"/>\n",
       "<defs>\n",
       "  <clipPath id=\"clip411\">\n",
       "    <rect x=\"480\" y=\"0\" width=\"1681\" height=\"1600\"/>\n",
       "  </clipPath>\n",
       "</defs>\n",
       "<path clip-path=\"url(#clip410)\" d=\"\n",
       "M138.959 1486.45 L2352.76 1486.45 L2352.76 47.2441 L138.959 47.2441  Z\n",
       "  \" fill=\"#ffffff\" fill-rule=\"evenodd\" fill-opacity=\"1\"/>\n",
       "<defs>\n",
       "  <clipPath id=\"clip412\">\n",
       "    <rect x=\"138\" y=\"47\" width=\"2215\" height=\"1440\"/>\n",
       "  </clipPath>\n",
       "</defs>\n",
       "<polyline clip-path=\"url(#clip412)\" style=\"stroke:#000000; stroke-linecap:butt; stroke-linejoin:round; stroke-width:2; stroke-opacity:0.1; fill:none\" points=\"\n",
       "  260.722,1486.45 260.722,47.2441 \n",
       "  \"/>\n",
       "<polyline clip-path=\"url(#clip412)\" style=\"stroke:#000000; stroke-linecap:butt; stroke-linejoin:round; stroke-width:2; stroke-opacity:0.1; fill:none\" points=\"\n",
       "  753.29,1486.45 753.29,47.2441 \n",
       "  \"/>\n",
       "<polyline clip-path=\"url(#clip412)\" style=\"stroke:#000000; stroke-linecap:butt; stroke-linejoin:round; stroke-width:2; stroke-opacity:0.1; fill:none\" points=\"\n",
       "  1245.86,1486.45 1245.86,47.2441 \n",
       "  \"/>\n",
       "<polyline clip-path=\"url(#clip412)\" style=\"stroke:#000000; stroke-linecap:butt; stroke-linejoin:round; stroke-width:2; stroke-opacity:0.1; fill:none\" points=\"\n",
       "  1738.43,1486.45 1738.43,47.2441 \n",
       "  \"/>\n",
       "<polyline clip-path=\"url(#clip412)\" style=\"stroke:#000000; stroke-linecap:butt; stroke-linejoin:round; stroke-width:2; stroke-opacity:0.1; fill:none\" points=\"\n",
       "  2230.99,1486.45 2230.99,47.2441 \n",
       "  \"/>\n",
       "<polyline clip-path=\"url(#clip410)\" style=\"stroke:#000000; stroke-linecap:butt; stroke-linejoin:round; stroke-width:4; stroke-opacity:1; fill:none\" points=\"\n",
       "  138.959,1486.45 2352.76,1486.45 \n",
       "  \"/>\n",
       "<polyline clip-path=\"url(#clip410)\" style=\"stroke:#000000; stroke-linecap:butt; stroke-linejoin:round; stroke-width:4; stroke-opacity:1; fill:none\" points=\"\n",
       "  260.722,1486.45 260.722,1467.55 \n",
       "  \"/>\n",
       "<polyline clip-path=\"url(#clip410)\" style=\"stroke:#000000; stroke-linecap:butt; stroke-linejoin:round; stroke-width:4; stroke-opacity:1; fill:none\" points=\"\n",
       "  753.29,1486.45 753.29,1467.55 \n",
       "  \"/>\n",
       "<polyline clip-path=\"url(#clip410)\" style=\"stroke:#000000; stroke-linecap:butt; stroke-linejoin:round; stroke-width:4; stroke-opacity:1; fill:none\" points=\"\n",
       "  1245.86,1486.45 1245.86,1467.55 \n",
       "  \"/>\n",
       "<polyline clip-path=\"url(#clip410)\" style=\"stroke:#000000; stroke-linecap:butt; stroke-linejoin:round; stroke-width:4; stroke-opacity:1; fill:none\" points=\"\n",
       "  1738.43,1486.45 1738.43,1467.55 \n",
       "  \"/>\n",
       "<polyline clip-path=\"url(#clip410)\" style=\"stroke:#000000; stroke-linecap:butt; stroke-linejoin:round; stroke-width:4; stroke-opacity:1; fill:none\" points=\"\n",
       "  2230.99,1486.45 2230.99,1467.55 \n",
       "  \"/>\n",
       "<path clip-path=\"url(#clip410)\" d=\"M207.25 1530.29 L236.926 1530.29 L236.926 1534.23 L207.25 1534.23 L207.25 1530.29 Z\" fill=\"#000000\" fill-rule=\"evenodd\" fill-opacity=\"1\" /><path clip-path=\"url(#clip410)\" d=\"M251.046 1543.18 L267.366 1543.18 L267.366 1547.12 L245.421 1547.12 L245.421 1543.18 Q248.083 1540.43 252.667 1535.8 Q257.273 1531.15 258.454 1529.81 Q260.699 1527.28 261.579 1525.55 Q262.481 1523.79 262.481 1522.1 Q262.481 1519.34 260.537 1517.61 Q258.616 1515.87 255.514 1515.87 Q253.315 1515.87 250.861 1516.63 Q248.431 1517.4 245.653 1518.95 L245.653 1514.23 Q248.477 1513.09 250.931 1512.51 Q253.384 1511.93 255.421 1511.93 Q260.792 1511.93 263.986 1514.62 Q267.18 1517.31 267.18 1521.8 Q267.18 1523.93 266.37 1525.85 Q265.583 1527.74 263.477 1530.34 Q262.898 1531.01 259.796 1534.23 Q256.694 1537.42 251.046 1543.18 Z\" fill=\"#000000\" fill-rule=\"evenodd\" fill-opacity=\"1\" /><path clip-path=\"url(#clip410)\" d=\"M277.18 1541.24 L282.065 1541.24 L282.065 1547.12 L277.18 1547.12 L277.18 1541.24 Z\" fill=\"#000000\" fill-rule=\"evenodd\" fill-opacity=\"1\" /><path clip-path=\"url(#clip410)\" d=\"M302.25 1515.64 Q298.639 1515.64 296.81 1519.2 Q295.004 1522.75 295.004 1529.87 Q295.004 1536.98 296.81 1540.55 Q298.639 1544.09 302.25 1544.09 Q305.884 1544.09 307.69 1540.55 Q309.518 1536.98 309.518 1529.87 Q309.518 1522.75 307.69 1519.2 Q305.884 1515.64 302.25 1515.64 M302.25 1511.93 Q308.06 1511.93 311.115 1516.54 Q314.194 1521.12 314.194 1529.87 Q314.194 1538.6 311.115 1543.21 Q308.06 1547.79 302.25 1547.79 Q296.44 1547.79 293.361 1543.21 Q290.305 1538.6 290.305 1529.87 Q290.305 1521.12 293.361 1516.54 Q296.44 1511.93 302.25 1511.93 Z\" fill=\"#000000\" fill-rule=\"evenodd\" fill-opacity=\"1\" /><path clip-path=\"url(#clip410)\" d=\"M700.316 1530.29 L729.991 1530.29 L729.991 1534.23 L700.316 1534.23 L700.316 1530.29 Z\" fill=\"#000000\" fill-rule=\"evenodd\" fill-opacity=\"1\" /><path clip-path=\"url(#clip410)\" d=\"M740.894 1543.18 L748.533 1543.18 L748.533 1516.82 L740.223 1518.49 L740.223 1514.23 L748.487 1512.56 L753.163 1512.56 L753.163 1543.18 L760.801 1543.18 L760.801 1547.12 L740.894 1547.12 L740.894 1543.18 Z\" fill=\"#000000\" fill-rule=\"evenodd\" fill-opacity=\"1\" /><path clip-path=\"url(#clip410)\" d=\"M770.246 1541.24 L775.13 1541.24 L775.13 1547.12 L770.246 1547.12 L770.246 1541.24 Z\" fill=\"#000000\" fill-rule=\"evenodd\" fill-opacity=\"1\" /><path clip-path=\"url(#clip410)\" d=\"M785.362 1512.56 L803.718 1512.56 L803.718 1516.5 L789.644 1516.5 L789.644 1524.97 Q790.662 1524.62 791.681 1524.46 Q792.699 1524.27 793.718 1524.27 Q799.505 1524.27 802.885 1527.44 Q806.264 1530.62 806.264 1536.03 Q806.264 1541.61 802.792 1544.71 Q799.32 1547.79 793 1547.79 Q790.824 1547.79 788.556 1547.42 Q786.311 1547.05 783.903 1546.31 L783.903 1541.61 Q785.987 1542.74 788.209 1543.3 Q790.431 1543.86 792.908 1543.86 Q796.912 1543.86 799.25 1541.75 Q801.588 1539.64 801.588 1536.03 Q801.588 1532.42 799.25 1530.31 Q796.912 1528.21 792.908 1528.21 Q791.033 1528.21 789.158 1528.62 Q787.306 1529.04 785.362 1529.92 L785.362 1512.56 Z\" fill=\"#000000\" fill-rule=\"evenodd\" fill-opacity=\"1\" /><path clip-path=\"url(#clip410)\" d=\"M1192.39 1530.29 L1222.06 1530.29 L1222.06 1534.23 L1192.39 1534.23 L1192.39 1530.29 Z\" fill=\"#000000\" fill-rule=\"evenodd\" fill-opacity=\"1\" /><path clip-path=\"url(#clip410)\" d=\"M1232.96 1543.18 L1240.6 1543.18 L1240.6 1516.82 L1232.29 1518.49 L1232.29 1514.23 L1240.56 1512.56 L1245.23 1512.56 L1245.23 1543.18 L1252.87 1543.18 L1252.87 1547.12 L1232.96 1547.12 L1232.96 1543.18 Z\" fill=\"#000000\" fill-rule=\"evenodd\" fill-opacity=\"1\" /><path clip-path=\"url(#clip410)\" d=\"M1262.32 1541.24 L1267.2 1541.24 L1267.2 1547.12 L1262.32 1547.12 L1262.32 1541.24 Z\" fill=\"#000000\" fill-rule=\"evenodd\" fill-opacity=\"1\" /><path clip-path=\"url(#clip410)\" d=\"M1287.39 1515.64 Q1283.77 1515.64 1281.95 1519.2 Q1280.14 1522.75 1280.14 1529.87 Q1280.14 1536.98 1281.95 1540.55 Q1283.77 1544.09 1287.39 1544.09 Q1291.02 1544.09 1292.83 1540.55 Q1294.65 1536.98 1294.65 1529.87 Q1294.65 1522.75 1292.83 1519.2 Q1291.02 1515.64 1287.39 1515.64 M1287.39 1511.93 Q1293.2 1511.93 1296.25 1516.54 Q1299.33 1521.12 1299.33 1529.87 Q1299.33 1538.6 1296.25 1543.21 Q1293.2 1547.79 1287.39 1547.79 Q1281.58 1547.79 1278.5 1543.21 Q1275.44 1538.6 1275.44 1529.87 Q1275.44 1521.12 1278.5 1516.54 Q1281.58 1511.93 1287.39 1511.93 Z\" fill=\"#000000\" fill-rule=\"evenodd\" fill-opacity=\"1\" /><path clip-path=\"url(#clip410)\" d=\"M1685.45 1530.29 L1715.13 1530.29 L1715.13 1534.23 L1685.45 1534.23 L1685.45 1530.29 Z\" fill=\"#000000\" fill-rule=\"evenodd\" fill-opacity=\"1\" /><path clip-path=\"url(#clip410)\" d=\"M1735.22 1515.64 Q1731.61 1515.64 1729.78 1519.2 Q1727.97 1522.75 1727.97 1529.87 Q1727.97 1536.98 1729.78 1540.55 Q1731.61 1544.09 1735.22 1544.09 Q1738.85 1544.09 1740.66 1540.55 Q1742.49 1536.98 1742.49 1529.87 Q1742.49 1522.75 1740.66 1519.2 Q1738.85 1515.64 1735.22 1515.64 M1735.22 1511.93 Q1741.03 1511.93 1744.09 1516.54 Q1747.16 1521.12 1747.16 1529.87 Q1747.16 1538.6 1744.09 1543.21 Q1741.03 1547.79 1735.22 1547.79 Q1729.41 1547.79 1726.33 1543.21 Q1723.28 1538.6 1723.28 1529.87 Q1723.28 1521.12 1726.33 1516.54 Q1729.41 1511.93 1735.22 1511.93 Z\" fill=\"#000000\" fill-rule=\"evenodd\" fill-opacity=\"1\" /><path clip-path=\"url(#clip410)\" d=\"M1755.38 1541.24 L1760.27 1541.24 L1760.27 1547.12 L1755.38 1547.12 L1755.38 1541.24 Z\" fill=\"#000000\" fill-rule=\"evenodd\" fill-opacity=\"1\" /><path clip-path=\"url(#clip410)\" d=\"M1770.5 1512.56 L1788.85 1512.56 L1788.85 1516.5 L1774.78 1516.5 L1774.78 1524.97 Q1775.8 1524.62 1776.82 1524.46 Q1777.83 1524.27 1778.85 1524.27 Q1784.64 1524.27 1788.02 1527.44 Q1791.4 1530.62 1791.4 1536.03 Q1791.4 1541.61 1787.93 1544.71 Q1784.46 1547.79 1778.14 1547.79 Q1775.96 1547.79 1773.69 1547.42 Q1771.45 1547.05 1769.04 1546.31 L1769.04 1541.61 Q1771.12 1542.74 1773.34 1543.3 Q1775.57 1543.86 1778.04 1543.86 Q1782.05 1543.86 1784.39 1541.75 Q1786.72 1539.64 1786.72 1536.03 Q1786.72 1532.42 1784.39 1530.31 Q1782.05 1528.21 1778.04 1528.21 Q1776.17 1528.21 1774.29 1528.62 Q1772.44 1529.04 1770.5 1529.92 L1770.5 1512.56 Z\" fill=\"#000000\" fill-rule=\"evenodd\" fill-opacity=\"1\" /><path clip-path=\"url(#clip410)\" d=\"M2208.38 1515.64 Q2204.77 1515.64 2202.94 1519.2 Q2201.13 1522.75 2201.13 1529.87 Q2201.13 1536.98 2202.94 1540.55 Q2204.77 1544.09 2208.38 1544.09 Q2212.01 1544.09 2213.82 1540.55 Q2215.65 1536.98 2215.65 1529.87 Q2215.65 1522.75 2213.82 1519.2 Q2212.01 1515.64 2208.38 1515.64 M2208.38 1511.93 Q2214.19 1511.93 2217.24 1516.54 Q2220.32 1521.12 2220.32 1529.87 Q2220.32 1538.6 2217.24 1543.21 Q2214.19 1547.79 2208.38 1547.79 Q2202.57 1547.79 2199.49 1543.21 Q2196.43 1538.6 2196.43 1529.87 Q2196.43 1521.12 2199.49 1516.54 Q2202.57 1511.93 2208.38 1511.93 Z\" fill=\"#000000\" fill-rule=\"evenodd\" fill-opacity=\"1\" /><path clip-path=\"url(#clip410)\" d=\"M2228.54 1541.24 L2233.42 1541.24 L2233.42 1547.12 L2228.54 1547.12 L2228.54 1541.24 Z\" fill=\"#000000\" fill-rule=\"evenodd\" fill-opacity=\"1\" /><path clip-path=\"url(#clip410)\" d=\"M2253.61 1515.64 Q2250 1515.64 2248.17 1519.2 Q2246.36 1522.75 2246.36 1529.87 Q2246.36 1536.98 2248.17 1540.55 Q2250 1544.09 2253.61 1544.09 Q2257.24 1544.09 2259.05 1540.55 Q2260.88 1536.98 2260.88 1529.87 Q2260.88 1522.75 2259.05 1519.2 Q2257.24 1515.64 2253.61 1515.64 M2253.61 1511.93 Q2259.42 1511.93 2262.47 1516.54 Q2265.55 1521.12 2265.55 1529.87 Q2265.55 1538.6 2262.47 1543.21 Q2259.42 1547.79 2253.61 1547.79 Q2247.8 1547.79 2244.72 1543.21 Q2241.66 1538.6 2241.66 1529.87 Q2241.66 1521.12 2244.72 1516.54 Q2247.8 1511.93 2253.61 1511.93 Z\" fill=\"#000000\" fill-rule=\"evenodd\" fill-opacity=\"1\" /><polyline clip-path=\"url(#clip412)\" style=\"stroke:#000000; stroke-linecap:butt; stroke-linejoin:round; stroke-width:2; stroke-opacity:0.1; fill:none\" points=\"\n",
       "  138.959,1445.72 2352.76,1445.72 \n",
       "  \"/>\n",
       "<polyline clip-path=\"url(#clip412)\" style=\"stroke:#000000; stroke-linecap:butt; stroke-linejoin:round; stroke-width:2; stroke-opacity:0.1; fill:none\" points=\"\n",
       "  138.959,1068.57 2352.76,1068.57 \n",
       "  \"/>\n",
       "<polyline clip-path=\"url(#clip412)\" style=\"stroke:#000000; stroke-linecap:butt; stroke-linejoin:round; stroke-width:2; stroke-opacity:0.1; fill:none\" points=\"\n",
       "  138.959,691.416 2352.76,691.416 \n",
       "  \"/>\n",
       "<polyline clip-path=\"url(#clip412)\" style=\"stroke:#000000; stroke-linecap:butt; stroke-linejoin:round; stroke-width:2; stroke-opacity:0.1; fill:none\" points=\"\n",
       "  138.959,314.266 2352.76,314.266 \n",
       "  \"/>\n",
       "<polyline clip-path=\"url(#clip410)\" style=\"stroke:#000000; stroke-linecap:butt; stroke-linejoin:round; stroke-width:4; stroke-opacity:1; fill:none\" points=\"\n",
       "  138.959,1486.45 138.959,47.2441 \n",
       "  \"/>\n",
       "<polyline clip-path=\"url(#clip410)\" style=\"stroke:#000000; stroke-linecap:butt; stroke-linejoin:round; stroke-width:4; stroke-opacity:1; fill:none\" points=\"\n",
       "  138.959,1445.72 157.857,1445.72 \n",
       "  \"/>\n",
       "<polyline clip-path=\"url(#clip410)\" style=\"stroke:#000000; stroke-linecap:butt; stroke-linejoin:round; stroke-width:4; stroke-opacity:1; fill:none\" points=\"\n",
       "  138.959,1068.57 157.857,1068.57 \n",
       "  \"/>\n",
       "<polyline clip-path=\"url(#clip410)\" style=\"stroke:#000000; stroke-linecap:butt; stroke-linejoin:round; stroke-width:4; stroke-opacity:1; fill:none\" points=\"\n",
       "  138.959,691.416 157.857,691.416 \n",
       "  \"/>\n",
       "<polyline clip-path=\"url(#clip410)\" style=\"stroke:#000000; stroke-linecap:butt; stroke-linejoin:round; stroke-width:4; stroke-opacity:1; fill:none\" points=\"\n",
       "  138.959,314.266 157.857,314.266 \n",
       "  \"/>\n",
       "<path clip-path=\"url(#clip410)\" d=\"M91.0151 1431.51 Q87.404 1431.51 85.5753 1435.08 Q83.7697 1438.62 83.7697 1445.75 Q83.7697 1452.86 85.5753 1456.42 Q87.404 1459.96 91.0151 1459.96 Q94.6493 1459.96 96.4548 1456.42 Q98.2835 1452.86 98.2835 1445.75 Q98.2835 1438.62 96.4548 1435.08 Q94.6493 1431.51 91.0151 1431.51 M91.0151 1427.81 Q96.8252 1427.81 99.8808 1432.42 Q102.959 1437 102.959 1445.75 Q102.959 1454.48 99.8808 1459.08 Q96.8252 1463.67 91.0151 1463.67 Q85.2049 1463.67 82.1262 1459.08 Q79.0707 1454.48 79.0707 1445.75 Q79.0707 1437 82.1262 1432.42 Q85.2049 1427.81 91.0151 1427.81 Z\" fill=\"#000000\" fill-rule=\"evenodd\" fill-opacity=\"1\" /><path clip-path=\"url(#clip410)\" d=\"M82.0568 1051.29 L100.413 1051.29 L100.413 1055.22 L86.3392 1055.22 L86.3392 1063.69 Q87.3577 1063.35 88.3762 1063.18 Q89.3947 1063 90.4132 1063 Q96.2002 1063 99.5798 1066.17 Q102.959 1069.34 102.959 1074.76 Q102.959 1080.34 99.4872 1083.44 Q96.015 1086.52 89.6956 1086.52 Q87.5197 1086.52 85.2512 1086.15 Q83.0058 1085.78 80.5984 1085.04 L80.5984 1080.34 Q82.6818 1081.47 84.904 1082.03 Q87.1262 1082.58 89.603 1082.58 Q93.6076 1082.58 95.9456 1080.48 Q98.2835 1078.37 98.2835 1074.76 Q98.2835 1071.15 95.9456 1069.04 Q93.6076 1066.93 89.603 1066.93 Q87.728 1066.93 85.8531 1067.35 Q84.0012 1067.77 82.0568 1068.65 L82.0568 1051.29 Z\" fill=\"#000000\" fill-rule=\"evenodd\" fill-opacity=\"1\" /><path clip-path=\"url(#clip410)\" d=\"M51.6634 704.761 L59.3023 704.761 L59.3023 678.395 L50.9921 680.062 L50.9921 675.803 L59.256 674.136 L63.9319 674.136 L63.9319 704.761 L71.5707 704.761 L71.5707 708.696 L51.6634 708.696 L51.6634 704.761 Z\" fill=\"#000000\" fill-rule=\"evenodd\" fill-opacity=\"1\" /><path clip-path=\"url(#clip410)\" d=\"M91.0151 677.215 Q87.404 677.215 85.5753 680.779 Q83.7697 684.321 83.7697 691.451 Q83.7697 698.557 85.5753 702.122 Q87.404 705.664 91.0151 705.664 Q94.6493 705.664 96.4548 702.122 Q98.2835 698.557 98.2835 691.451 Q98.2835 684.321 96.4548 680.779 Q94.6493 677.215 91.0151 677.215 M91.0151 673.511 Q96.8252 673.511 99.8808 678.117 Q102.959 682.701 102.959 691.451 Q102.959 700.178 99.8808 704.784 Q96.8252 709.367 91.0151 709.367 Q85.2049 709.367 82.1262 704.784 Q79.0707 700.178 79.0707 691.451 Q79.0707 682.701 82.1262 678.117 Q85.2049 673.511 91.0151 673.511 Z\" fill=\"#000000\" fill-rule=\"evenodd\" fill-opacity=\"1\" /><path clip-path=\"url(#clip410)\" d=\"M52.6588 327.611 L60.2976 327.611 L60.2976 301.245 L51.9875 302.912 L51.9875 298.653 L60.2513 296.986 L64.9272 296.986 L64.9272 327.611 L72.5661 327.611 L72.5661 331.546 L52.6588 331.546 L52.6588 327.611 Z\" fill=\"#000000\" fill-rule=\"evenodd\" fill-opacity=\"1\" /><path clip-path=\"url(#clip410)\" d=\"M82.0568 296.986 L100.413 296.986 L100.413 300.921 L86.3392 300.921 L86.3392 309.394 Q87.3577 309.046 88.3762 308.884 Q89.3947 308.699 90.4132 308.699 Q96.2002 308.699 99.5798 311.87 Q102.959 315.042 102.959 320.458 Q102.959 326.037 99.4872 329.139 Q96.015 332.217 89.6956 332.217 Q87.5197 332.217 85.2512 331.847 Q83.0058 331.477 80.5984 330.736 L80.5984 326.037 Q82.6818 327.171 84.904 327.727 Q87.1262 328.282 89.603 328.282 Q93.6076 328.282 95.9456 326.176 Q98.2835 324.069 98.2835 320.458 Q98.2835 316.847 95.9456 314.741 Q93.6076 312.634 89.603 312.634 Q87.728 312.634 85.8531 313.051 Q84.0012 313.468 82.0568 314.347 L82.0568 296.986 Z\" fill=\"#000000\" fill-rule=\"evenodd\" fill-opacity=\"1\" /><path clip-path=\"url(#clip412)\" d=\"\n",
       "M260.722 1445.72 L260.722 1445.72 L359.236 1445.72 L359.236 1445.72 L260.722 1445.72 L260.722 1445.72  Z\n",
       "  \" fill=\"#009af9\" fill-rule=\"evenodd\" fill-opacity=\"1\"/>\n",
       "<polyline clip-path=\"url(#clip412)\" style=\"stroke:#000000; stroke-linecap:butt; stroke-linejoin:round; stroke-width:4; stroke-opacity:1; fill:none\" points=\"\n",
       "  260.722,1445.72 260.722,1445.72 359.236,1445.72 260.722,1445.72 \n",
       "  \"/>\n",
       "<path clip-path=\"url(#clip412)\" d=\"\n",
       "M359.236 1445.72 L359.236 1445.72 L457.749 1445.72 L457.749 1445.72 L359.236 1445.72 L359.236 1445.72  Z\n",
       "  \" fill=\"#009af9\" fill-rule=\"evenodd\" fill-opacity=\"1\"/>\n",
       "<polyline clip-path=\"url(#clip412)\" style=\"stroke:#000000; stroke-linecap:butt; stroke-linejoin:round; stroke-width:4; stroke-opacity:1; fill:none\" points=\"\n",
       "  359.236,1445.72 359.236,1445.72 457.749,1445.72 359.236,1445.72 \n",
       "  \"/>\n",
       "<path clip-path=\"url(#clip412)\" d=\"\n",
       "M457.749 1445.72 L457.749 1445.72 L556.263 1445.72 L556.263 1445.72 L457.749 1445.72 L457.749 1445.72  Z\n",
       "  \" fill=\"#009af9\" fill-rule=\"evenodd\" fill-opacity=\"1\"/>\n",
       "<polyline clip-path=\"url(#clip412)\" style=\"stroke:#000000; stroke-linecap:butt; stroke-linejoin:round; stroke-width:4; stroke-opacity:1; fill:none\" points=\"\n",
       "  457.749,1445.72 457.749,1445.72 556.263,1445.72 457.749,1445.72 \n",
       "  \"/>\n",
       "<path clip-path=\"url(#clip412)\" d=\"\n",
       "M556.263 1445.72 L556.263 1445.72 L654.776 1445.72 L654.776 1445.72 L556.263 1445.72 L556.263 1445.72  Z\n",
       "  \" fill=\"#009af9\" fill-rule=\"evenodd\" fill-opacity=\"1\"/>\n",
       "<polyline clip-path=\"url(#clip412)\" style=\"stroke:#000000; stroke-linecap:butt; stroke-linejoin:round; stroke-width:4; stroke-opacity:1; fill:none\" points=\"\n",
       "  556.263,1445.72 556.263,1445.72 654.776,1445.72 556.263,1445.72 \n",
       "  \"/>\n",
       "<path clip-path=\"url(#clip412)\" d=\"\n",
       "M654.776 1445.72 L654.776 1445.72 L753.29 1445.72 L753.29 1445.72 L654.776 1445.72 L654.776 1445.72  Z\n",
       "  \" fill=\"#009af9\" fill-rule=\"evenodd\" fill-opacity=\"1\"/>\n",
       "<polyline clip-path=\"url(#clip412)\" style=\"stroke:#000000; stroke-linecap:butt; stroke-linejoin:round; stroke-width:4; stroke-opacity:1; fill:none\" points=\"\n",
       "  654.776,1445.72 654.776,1445.72 753.29,1445.72 654.776,1445.72 \n",
       "  \"/>\n",
       "<path clip-path=\"url(#clip412)\" d=\"\n",
       "M753.29 1445.72 L753.29 1445.72 L851.803 1445.72 L851.803 1445.72 L753.29 1445.72 L753.29 1445.72  Z\n",
       "  \" fill=\"#009af9\" fill-rule=\"evenodd\" fill-opacity=\"1\"/>\n",
       "<polyline clip-path=\"url(#clip412)\" style=\"stroke:#000000; stroke-linecap:butt; stroke-linejoin:round; stroke-width:4; stroke-opacity:1; fill:none\" points=\"\n",
       "  753.29,1445.72 753.29,1445.72 851.803,1445.72 753.29,1445.72 \n",
       "  \"/>\n",
       "<path clip-path=\"url(#clip412)\" d=\"\n",
       "M851.803 1445.72 L851.803 1445.72 L950.317 1445.72 L950.317 1445.72 L851.803 1445.72 L851.803 1445.72  Z\n",
       "  \" fill=\"#009af9\" fill-rule=\"evenodd\" fill-opacity=\"1\"/>\n",
       "<polyline clip-path=\"url(#clip412)\" style=\"stroke:#000000; stroke-linecap:butt; stroke-linejoin:round; stroke-width:4; stroke-opacity:1; fill:none\" points=\"\n",
       "  851.803,1445.72 851.803,1445.72 950.317,1445.72 851.803,1445.72 \n",
       "  \"/>\n",
       "<path clip-path=\"url(#clip412)\" d=\"\n",
       "M950.317 1445.72 L950.317 1445.72 L1048.83 1445.72 L1048.83 1445.72 L950.317 1445.72 L950.317 1445.72  Z\n",
       "  \" fill=\"#009af9\" fill-rule=\"evenodd\" fill-opacity=\"1\"/>\n",
       "<polyline clip-path=\"url(#clip412)\" style=\"stroke:#000000; stroke-linecap:butt; stroke-linejoin:round; stroke-width:4; stroke-opacity:1; fill:none\" points=\"\n",
       "  950.317,1445.72 950.317,1445.72 1048.83,1445.72 950.317,1445.72 \n",
       "  \"/>\n",
       "<path clip-path=\"url(#clip412)\" d=\"\n",
       "M1048.83 1445.72 L1048.83 1445.72 L1147.34 1445.72 L1147.34 1445.72 L1048.83 1445.72 L1048.83 1445.72  Z\n",
       "  \" fill=\"#009af9\" fill-rule=\"evenodd\" fill-opacity=\"1\"/>\n",
       "<polyline clip-path=\"url(#clip412)\" style=\"stroke:#000000; stroke-linecap:butt; stroke-linejoin:round; stroke-width:4; stroke-opacity:1; fill:none\" points=\"\n",
       "  1048.83,1445.72 1048.83,1445.72 1147.34,1445.72 1048.83,1445.72 \n",
       "  \"/>\n",
       "<path clip-path=\"url(#clip412)\" d=\"\n",
       "M1147.34 1445.72 L1147.34 1445.72 L1245.86 1445.72 L1245.86 1445.72 L1147.34 1445.72 L1147.34 1445.72  Z\n",
       "  \" fill=\"#009af9\" fill-rule=\"evenodd\" fill-opacity=\"1\"/>\n",
       "<polyline clip-path=\"url(#clip412)\" style=\"stroke:#000000; stroke-linecap:butt; stroke-linejoin:round; stroke-width:4; stroke-opacity:1; fill:none\" points=\"\n",
       "  1147.34,1445.72 1147.34,1445.72 1245.86,1445.72 1147.34,1445.72 \n",
       "  \"/>\n",
       "<path clip-path=\"url(#clip412)\" d=\"\n",
       "M1245.86 1370.29 L1245.86 1445.72 L1344.37 1445.72 L1344.37 1370.29 L1245.86 1370.29 L1245.86 1370.29  Z\n",
       "  \" fill=\"#009af9\" fill-rule=\"evenodd\" fill-opacity=\"1\"/>\n",
       "<polyline clip-path=\"url(#clip412)\" style=\"stroke:#000000; stroke-linecap:butt; stroke-linejoin:round; stroke-width:4; stroke-opacity:1; fill:none\" points=\"\n",
       "  1245.86,1370.29 1245.86,1445.72 1344.37,1445.72 1344.37,1370.29 1245.86,1370.29 \n",
       "  \"/>\n",
       "<path clip-path=\"url(#clip412)\" d=\"\n",
       "M1344.37 1370.29 L1344.37 1445.72 L1442.88 1445.72 L1442.88 1370.29 L1344.37 1370.29 L1344.37 1370.29  Z\n",
       "  \" fill=\"#009af9\" fill-rule=\"evenodd\" fill-opacity=\"1\"/>\n",
       "<polyline clip-path=\"url(#clip412)\" style=\"stroke:#000000; stroke-linecap:butt; stroke-linejoin:round; stroke-width:4; stroke-opacity:1; fill:none\" points=\"\n",
       "  1344.37,1370.29 1344.37,1445.72 1442.88,1445.72 1442.88,1370.29 1344.37,1370.29 \n",
       "  \"/>\n",
       "<path clip-path=\"url(#clip412)\" d=\"\n",
       "M1442.88 1370.29 L1442.88 1445.72 L1541.4 1445.72 L1541.4 1370.29 L1442.88 1370.29 L1442.88 1370.29  Z\n",
       "  \" fill=\"#009af9\" fill-rule=\"evenodd\" fill-opacity=\"1\"/>\n",
       "<polyline clip-path=\"url(#clip412)\" style=\"stroke:#000000; stroke-linecap:butt; stroke-linejoin:round; stroke-width:4; stroke-opacity:1; fill:none\" points=\"\n",
       "  1442.88,1370.29 1442.88,1445.72 1541.4,1445.72 1541.4,1370.29 1442.88,1370.29 \n",
       "  \"/>\n",
       "<path clip-path=\"url(#clip412)\" d=\"\n",
       "M1541.4 1294.86 L1541.4 1445.72 L1639.91 1445.72 L1639.91 1294.86 L1541.4 1294.86 L1541.4 1294.86  Z\n",
       "  \" fill=\"#009af9\" fill-rule=\"evenodd\" fill-opacity=\"1\"/>\n",
       "<polyline clip-path=\"url(#clip412)\" style=\"stroke:#000000; stroke-linecap:butt; stroke-linejoin:round; stroke-width:4; stroke-opacity:1; fill:none\" points=\"\n",
       "  1541.4,1294.86 1541.4,1445.72 1639.91,1445.72 1639.91,1294.86 1541.4,1294.86 \n",
       "  \"/>\n",
       "<path clip-path=\"url(#clip412)\" d=\"\n",
       "M1639.91 1294.86 L1639.91 1445.72 L1738.43 1445.72 L1738.43 1294.86 L1639.91 1294.86 L1639.91 1294.86  Z\n",
       "  \" fill=\"#009af9\" fill-rule=\"evenodd\" fill-opacity=\"1\"/>\n",
       "<polyline clip-path=\"url(#clip412)\" style=\"stroke:#000000; stroke-linecap:butt; stroke-linejoin:round; stroke-width:4; stroke-opacity:1; fill:none\" points=\"\n",
       "  1639.91,1294.86 1639.91,1445.72 1738.43,1445.72 1738.43,1294.86 1639.91,1294.86 \n",
       "  \"/>\n",
       "<path clip-path=\"url(#clip412)\" d=\"\n",
       "M1738.43 766.846 L1738.43 1445.72 L1836.94 1445.72 L1836.94 766.846 L1738.43 766.846 L1738.43 766.846  Z\n",
       "  \" fill=\"#009af9\" fill-rule=\"evenodd\" fill-opacity=\"1\"/>\n",
       "<polyline clip-path=\"url(#clip412)\" style=\"stroke:#000000; stroke-linecap:butt; stroke-linejoin:round; stroke-width:4; stroke-opacity:1; fill:none\" points=\"\n",
       "  1738.43,766.846 1738.43,1445.72 1836.94,1445.72 1836.94,766.846 1738.43,766.846 \n",
       "  \"/>\n",
       "<path clip-path=\"url(#clip412)\" d=\"\n",
       "M1836.94 87.9763 L1836.94 1445.72 L1935.45 1445.72 L1935.45 87.9763 L1836.94 87.9763 L1836.94 87.9763  Z\n",
       "  \" fill=\"#009af9\" fill-rule=\"evenodd\" fill-opacity=\"1\"/>\n",
       "<polyline clip-path=\"url(#clip412)\" style=\"stroke:#000000; stroke-linecap:butt; stroke-linejoin:round; stroke-width:4; stroke-opacity:1; fill:none\" points=\"\n",
       "  1836.94,87.9763 1836.94,1445.72 1935.45,1445.72 1935.45,87.9763 1836.94,87.9763 \n",
       "  \"/>\n",
       "<path clip-path=\"url(#clip412)\" d=\"\n",
       "M1935.45 1144 L1935.45 1445.72 L2033.97 1445.72 L2033.97 1144 L1935.45 1144 L1935.45 1144  Z\n",
       "  \" fill=\"#009af9\" fill-rule=\"evenodd\" fill-opacity=\"1\"/>\n",
       "<polyline clip-path=\"url(#clip412)\" style=\"stroke:#000000; stroke-linecap:butt; stroke-linejoin:round; stroke-width:4; stroke-opacity:1; fill:none\" points=\"\n",
       "  1935.45,1144 1935.45,1445.72 2033.97,1445.72 2033.97,1144 1935.45,1144 \n",
       "  \"/>\n",
       "<path clip-path=\"url(#clip412)\" d=\"\n",
       "M2033.97 1445.72 L2033.97 1445.72 L2132.48 1445.72 L2132.48 1445.72 L2033.97 1445.72 L2033.97 1445.72  Z\n",
       "  \" fill=\"#009af9\" fill-rule=\"evenodd\" fill-opacity=\"1\"/>\n",
       "<polyline clip-path=\"url(#clip412)\" style=\"stroke:#000000; stroke-linecap:butt; stroke-linejoin:round; stroke-width:4; stroke-opacity:1; fill:none\" points=\"\n",
       "  2033.97,1445.72 2033.97,1445.72 2132.48,1445.72 2033.97,1445.72 \n",
       "  \"/>\n",
       "<path clip-path=\"url(#clip412)\" d=\"\n",
       "M2132.48 1445.72 L2132.48 1445.72 L2230.99 1445.72 L2230.99 1445.72 L2132.48 1445.72 L2132.48 1445.72  Z\n",
       "  \" fill=\"#009af9\" fill-rule=\"evenodd\" fill-opacity=\"1\"/>\n",
       "<polyline clip-path=\"url(#clip412)\" style=\"stroke:#000000; stroke-linecap:butt; stroke-linejoin:round; stroke-width:4; stroke-opacity:1; fill:none\" points=\"\n",
       "  2132.48,1445.72 2132.48,1445.72 2230.99,1445.72 2132.48,1445.72 \n",
       "  \"/>\n",
       "<circle clip-path=\"url(#clip412)\" style=\"fill:#009af9; stroke:none; fill-opacity:0\" cx=\"309.979\" cy=\"1445.72\" r=\"2\"/>\n",
       "<circle clip-path=\"url(#clip412)\" style=\"fill:#009af9; stroke:none; fill-opacity:0\" cx=\"408.493\" cy=\"1445.72\" r=\"2\"/>\n",
       "<circle clip-path=\"url(#clip412)\" style=\"fill:#009af9; stroke:none; fill-opacity:0\" cx=\"507.006\" cy=\"1445.72\" r=\"2\"/>\n",
       "<circle clip-path=\"url(#clip412)\" style=\"fill:#009af9; stroke:none; fill-opacity:0\" cx=\"605.52\" cy=\"1445.72\" r=\"2\"/>\n",
       "<circle clip-path=\"url(#clip412)\" style=\"fill:#009af9; stroke:none; fill-opacity:0\" cx=\"704.033\" cy=\"1445.72\" r=\"2\"/>\n",
       "<circle clip-path=\"url(#clip412)\" style=\"fill:#009af9; stroke:none; fill-opacity:0\" cx=\"802.547\" cy=\"1445.72\" r=\"2\"/>\n",
       "<circle clip-path=\"url(#clip412)\" style=\"fill:#009af9; stroke:none; fill-opacity:0\" cx=\"901.06\" cy=\"1445.72\" r=\"2\"/>\n",
       "<circle clip-path=\"url(#clip412)\" style=\"fill:#009af9; stroke:none; fill-opacity:0\" cx=\"999.574\" cy=\"1445.72\" r=\"2\"/>\n",
       "<circle clip-path=\"url(#clip412)\" style=\"fill:#009af9; stroke:none; fill-opacity:0\" cx=\"1098.09\" cy=\"1445.72\" r=\"2\"/>\n",
       "<circle clip-path=\"url(#clip412)\" style=\"fill:#009af9; stroke:none; fill-opacity:0\" cx=\"1196.6\" cy=\"1445.72\" r=\"2\"/>\n",
       "<circle clip-path=\"url(#clip412)\" style=\"fill:#009af9; stroke:none; fill-opacity:0\" cx=\"1295.11\" cy=\"1370.29\" r=\"2\"/>\n",
       "<circle clip-path=\"url(#clip412)\" style=\"fill:#009af9; stroke:none; fill-opacity:0\" cx=\"1393.63\" cy=\"1370.29\" r=\"2\"/>\n",
       "<circle clip-path=\"url(#clip412)\" style=\"fill:#009af9; stroke:none; fill-opacity:0\" cx=\"1492.14\" cy=\"1370.29\" r=\"2\"/>\n",
       "<circle clip-path=\"url(#clip412)\" style=\"fill:#009af9; stroke:none; fill-opacity:0\" cx=\"1590.66\" cy=\"1294.86\" r=\"2\"/>\n",
       "<circle clip-path=\"url(#clip412)\" style=\"fill:#009af9; stroke:none; fill-opacity:0\" cx=\"1689.17\" cy=\"1294.86\" r=\"2\"/>\n",
       "<circle clip-path=\"url(#clip412)\" style=\"fill:#009af9; stroke:none; fill-opacity:0\" cx=\"1787.68\" cy=\"766.846\" r=\"2\"/>\n",
       "<circle clip-path=\"url(#clip412)\" style=\"fill:#009af9; stroke:none; fill-opacity:0\" cx=\"1886.2\" cy=\"87.9763\" r=\"2\"/>\n",
       "<circle clip-path=\"url(#clip412)\" style=\"fill:#009af9; stroke:none; fill-opacity:0\" cx=\"1984.71\" cy=\"1144\" r=\"2\"/>\n",
       "<circle clip-path=\"url(#clip412)\" style=\"fill:#009af9; stroke:none; fill-opacity:0\" cx=\"2083.22\" cy=\"1445.72\" r=\"2\"/>\n",
       "<circle clip-path=\"url(#clip412)\" style=\"fill:#009af9; stroke:none; fill-opacity:0\" cx=\"2181.74\" cy=\"1445.72\" r=\"2\"/>\n",
       "<path clip-path=\"url(#clip410)\" d=\"\n",
       "M1980.56 198.898 L2278.96 198.898 L2278.96 95.2176 L1980.56 95.2176  Z\n",
       "  \" fill=\"#ffffff\" fill-rule=\"evenodd\" fill-opacity=\"1\"/>\n",
       "<polyline clip-path=\"url(#clip410)\" style=\"stroke:#000000; stroke-linecap:butt; stroke-linejoin:round; stroke-width:4; stroke-opacity:1; fill:none\" points=\"\n",
       "  1980.56,198.898 2278.96,198.898 2278.96,95.2176 1980.56,95.2176 1980.56,198.898 \n",
       "  \"/>\n",
       "<path clip-path=\"url(#clip410)\" d=\"\n",
       "M2005.15 167.794 L2152.74 167.794 L2152.74 126.322 L2005.15 126.322 L2005.15 167.794  Z\n",
       "  \" fill=\"#009af9\" fill-rule=\"evenodd\" fill-opacity=\"1\"/>\n",
       "<polyline clip-path=\"url(#clip410)\" style=\"stroke:#000000; stroke-linecap:butt; stroke-linejoin:round; stroke-width:4; stroke-opacity:1; fill:none\" points=\"\n",
       "  2005.15,167.794 2152.74,167.794 2152.74,126.322 2005.15,126.322 2005.15,167.794 \n",
       "  \"/>\n",
       "<path clip-path=\"url(#clip410)\" d=\"M2191.18 166.745 Q2189.37 171.375 2187.66 172.787 Q2185.95 174.199 2183.08 174.199 L2179.67 174.199 L2179.67 170.634 L2182.17 170.634 Q2183.93 170.634 2184.91 169.8 Q2185.88 168.967 2187.06 165.865 L2187.82 163.921 L2177.34 138.412 L2181.85 138.412 L2189.95 158.689 L2198.05 138.412 L2202.57 138.412 L2191.18 166.745 Z\" fill=\"#000000\" fill-rule=\"evenodd\" fill-opacity=\"1\" /><path clip-path=\"url(#clip410)\" d=\"M2209.86 160.402 L2217.5 160.402 L2217.5 134.037 L2209.19 135.703 L2209.19 131.444 L2217.45 129.778 L2222.13 129.778 L2222.13 160.402 L2229.77 160.402 L2229.77 164.338 L2209.86 164.338 L2209.86 160.402 Z\" fill=\"#000000\" fill-rule=\"evenodd\" fill-opacity=\"1\" /></svg>\n"
      ]
     },
     "execution_count": 45,
     "metadata": {},
     "output_type": "execute_result"
    }
   ],
   "source": [
    "histogram(g1[:,2], bins = -2:0.1:0)"
   ]
  },
  {
   "cell_type": "code",
   "execution_count": null,
   "id": "0ad67311-9668-4e91-a762-62436f6626a8",
   "metadata": {},
   "outputs": [],
   "source": []
  }
 ],
 "metadata": {
  "kernelspec": {
   "display_name": "Julia 1.6.2",
   "language": "julia",
   "name": "julia-1.6"
  },
  "language_info": {
   "file_extension": ".jl",
   "mimetype": "application/julia",
   "name": "julia",
   "version": "1.6.2"
  }
 },
 "nbformat": 4,
 "nbformat_minor": 5
}
