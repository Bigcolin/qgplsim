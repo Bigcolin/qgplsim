{
 "cells": [
  {
   "cell_type": "code",
   "execution_count": 2,
   "id": "5faad0d5-7231-4575-be42-332bfd3e5518",
   "metadata": {},
   "outputs": [],
   "source": [
    "using Statistics, LinearAlgebra, Plots, MAT"
   ]
  },
  {
   "cell_type": "code",
   "execution_count": 3,
   "id": "fe1c1897-431c-4d31-85e3-22c6acd4b965",
   "metadata": {},
   "outputs": [
    {
     "data": {
      "text/plain": [
       "6-element Vector{Vector{Float64}}:\n",
       " [0.001, 0.001]\n",
       " [1.0, 0.001]\n",
       " [1.0, 1.0]\n",
       " [1.0, 0.5]\n",
       " [0.001, 1.0]\n",
       " [0.5, 1.0]"
      ]
     },
     "execution_count": 3,
     "metadata": {},
     "output_type": "execute_result"
    }
   ],
   "source": [
    "Gamma =[[0.001, 0.001], [1.0, 0.001], [1.0, 1.0], [1.0, 0.5], [0.001, 1.0], [0.5, 1.0]]"
   ]
  },
  {
   "cell_type": "code",
   "execution_count": 4,
   "id": "36f960c1-cce7-47da-a886-e67f44fd6011",
   "metadata": {
    "collapsed": true,
    "jupyter": {
     "outputs_hidden": true
    },
    "tags": []
   },
   "outputs": [
    {
     "data": {
      "text/plain": [
       "100×2 Matrix{Float64}:\n",
       " 0.5  1.0\n",
       " 0.5  1.0\n",
       " 0.5  1.0\n",
       " 0.5  1.0\n",
       " 0.5  1.0\n",
       " 0.5  1.0\n",
       " 0.5  1.0\n",
       " 0.5  1.0\n",
       " 0.5  1.0\n",
       " 0.5  1.0\n",
       " 0.5  1.0\n",
       " 0.5  1.0\n",
       " 0.5  1.0\n",
       " ⋮    \n",
       " 0.5  1.0\n",
       " 0.5  1.0\n",
       " 0.5  1.0\n",
       " 0.5  1.0\n",
       " 0.5  1.0\n",
       " 0.5  1.0\n",
       " 0.5  1.0\n",
       " 0.5  1.0\n",
       " 0.5  1.0\n",
       " 0.5  1.0\n",
       " 0.5  1.0\n",
       " 0.5  1.0"
      ]
     },
     "execution_count": 4,
     "metadata": {},
     "output_type": "execute_result"
    }
   ],
   "source": [
    "alpha = repeat([1 2], 100, 1)\n",
    "theta = repeat([2 -1], 100, 1)\n",
    "beta = repeat([1 -0.5], 100, 1)\n",
    "\n",
    "g1 = repeat(Gamma[1] |> transpose, 100, 1)\n",
    "g2 = repeat(Gamma[2] |> transpose, 100, 1)\n",
    "g3 = repeat(Gamma[3] |> transpose, 100, 1)\n",
    "g4 = repeat(Gamma[4] |> transpose, 100, 1)\n",
    "g5 = repeat(Gamma[5] |> transpose, 100, 1)\n",
    "g6 = repeat(Gamma[6] |> transpose, 100, 1)"
   ]
  },
  {
   "cell_type": "code",
   "execution_count": 13,
   "id": "35904871-2a3c-48a7-babd-20d679ebd80b",
   "metadata": {},
   "outputs": [
    {
     "data": {
      "text/plain": [
       "Dict{String, Any} with 4 entries:\n",
       "  \"Beta\"  => [2.67919 -0.225943; 2.88255 0.276404; … ; 0.729622 -0.176239; 2.85…\n",
       "  \"Gamma\" => [1.07518 1.01749; 1.14754 0.508375; … ; 0.887214 0.750991; -1.4427…\n",
       "  \"Theta\" => [2.52991 0.324415; 1.85066 -0.5665; … ; 2.08294 -0.732328; 2.14589…\n",
       "  \"Alpha\" => [-0.12719 0.991878; 0.292701 0.956204; … ; 0.331681 0.943392; -0.3…"
      ]
     },
     "execution_count": 13,
     "metadata": {},
     "output_type": "execute_result"
    }
   ],
   "source": [
    "vars = matread(\"./simulation_1/records/200 f1 d0 1.0 0.5.mat\")"
   ]
  },
  {
   "cell_type": "code",
   "execution_count": 17,
   "id": "5582468a-e0ea-4753-99c4-83ccdaa10f4d",
   "metadata": {},
   "outputs": [
    {
     "data": {
      "text/plain": [
       "Dict{String, Any} with 4 entries:\n",
       "  \"Beta\"  => [0.904175 0.0614895; 0.135877 -0.125482; … ; 3.52451 0.577777; 0.3…\n",
       "  \"Gamma\" => [0.860467 0.593144; -0.88735 -0.373122; … ; -0.7515 -0.510809; 0.8…\n",
       "  \"Theta\" => [2.25477 -0.755428; 2.08317 -1.94686; … ; 1.96607 -0.701017; 2.033…\n",
       "  \"Alpha\" => [0.317679 0.948198; -0.682799 -0.730606; … ; -0.335848 -0.941916; …"
      ]
     },
     "execution_count": 17,
     "metadata": {},
     "output_type": "execute_result"
    }
   ],
   "source": [
    "vars = matread(\"./simulation_1/records/400 f1 d0 1.0 0.5.mat\")"
   ]
  },
  {
   "cell_type": "code",
   "execution_count": 18,
   "id": "fb3ed5d2-8cf3-4d6d-a4b1-159539d42780",
   "metadata": {
    "tags": []
   },
   "outputs": [
    {
     "data": {
      "text/plain": [
       "1×2 Matrix{Float64}:\n",
       " 0.955497  0.468029"
      ]
     },
     "execution_count": 18,
     "metadata": {},
     "output_type": "execute_result"
    }
   ],
   "source": [
    "a = vars[\"Alpha\"]\n",
    "b = vars[\"Beta\"]\n",
    "t = vars[\"Theta\"]\n",
    "g = vars[\"Gamma\"]\n",
    "sa = sign.(a * [1, 2]/sqrt(5))\n",
    "ga = g.* sa\n",
    "gt = g1\n",
    "mse = (ga - gt).^2 \n",
    "mean(ga, dims = 1) "
   ]
  },
  {
   "cell_type": "code",
   "execution_count": 15,
   "id": "a2a2830e-50ba-4d78-92f4-599a597ae6ae",
   "metadata": {
    "tags": []
   },
   "outputs": [
    {
     "data": {
      "text/plain": [
       "1×2 Matrix{Float64}:\n",
       " 1.81655  0.607458"
      ]
     },
     "execution_count": 15,
     "metadata": {},
     "output_type": "execute_result"
    }
   ],
   "source": [
    "mse = (ga - gt).^2 \n",
    "mean(mse, dims = 1) "
   ]
  },
  {
   "cell_type": "code",
   "execution_count": 16,
   "id": "868ca92d-aaaf-45a2-87eb-1174b09798d1",
   "metadata": {},
   "outputs": [
    {
     "data": {
      "text/plain": [
       "1×2 Matrix{Float64}:\n",
       " 2.83489  0.309927"
      ]
     },
     "execution_count": 16,
     "metadata": {},
     "output_type": "execute_result"
    }
   ],
   "source": [
    "var(mse, dims = 1)"
   ]
  },
  {
   "cell_type": "code",
   "execution_count": 19,
   "id": "c856d9a6-b2b6-43f9-8602-14ca4ab17b67",
   "metadata": {},
   "outputs": [
    {
     "data": {
      "text/plain": [
       "1×2 Matrix{Float64}:\n",
       " 1.03808  0.262058"
      ]
     },
     "execution_count": 19,
     "metadata": {},
     "output_type": "execute_result"
    }
   ],
   "source": [
    "mean(mse, dims = 1) "
   ]
  },
  {
   "cell_type": "code",
   "execution_count": 20,
   "id": "7148b15e-afce-443e-89d3-06419fc36cad",
   "metadata": {},
   "outputs": [
    {
     "data": {
      "text/plain": [
       "1×2 Matrix{Float64}:\n",
       " 1.00852  0.0462423"
      ]
     },
     "execution_count": 20,
     "metadata": {},
     "output_type": "execute_result"
    }
   ],
   "source": [
    "var(mse, dims = 1)"
   ]
  },
  {
   "cell_type": "code",
   "execution_count": 192,
   "id": "81cd5e1c-e4ff-46a9-95a9-d2bdf8f1c36e",
   "metadata": {
    "collapsed": true,
    "jupyter": {
     "outputs_hidden": true
    },
    "tags": []
   },
   "outputs": [
    {
     "data": {
      "text/plain": [
       "100×2 Matrix{Float64}:\n",
       " -0.0840121  0.857426\n",
       " -0.0633903  0.767602\n",
       "  0.396944   0.761198\n",
       "  0.0558703  1.02726\n",
       "  0.101937   1.0224\n",
       " -0.234198   1.06752\n",
       "  0.412026   1.74217\n",
       "  0.671837   0.984628\n",
       "  0.247642   0.958063\n",
       " -0.0622126  0.930994\n",
       " -0.23615    1.01327\n",
       "  0.0119933  1.08632\n",
       " -0.508638   1.11643\n",
       "  ⋮          \n",
       " -0.659851   0.0180111\n",
       "  0.311254   1.04674\n",
       "  0.0811822  0.847786\n",
       "  0.065669   1.16454\n",
       " -0.0497105  0.837785\n",
       "  0.0347827  0.994476\n",
       "  0.165937   1.09544\n",
       "  0.100691   1.37025\n",
       " -0.349382   0.966852\n",
       "  0.125798   1.27966\n",
       "  0.412041   1.15477\n",
       "  0.123687   1.89746"
      ]
     },
     "execution_count": 192,
     "metadata": {},
     "output_type": "execute_result"
    }
   ],
   "source": [
    "ga"
   ]
  },
  {
   "cell_type": "code",
   "execution_count": 19,
   "id": "220de0b3-2e0a-4679-bc94-55135253a687",
   "metadata": {
    "collapsed": true,
    "jupyter": {
     "outputs_hidden": true
    },
    "tags": []
   },
   "outputs": [
    {
     "data": {
      "text/plain": [
       "100×2 Matrix{Float64}:\n",
       " -0.744734  -0.308572\n",
       "  0.779654   0.376991\n",
       "  0.640565   0.406015\n",
       "  1.05603    0.631737\n",
       " -0.895427  -0.481463\n",
       "  0.621042   0.318373\n",
       " -1.38011   -0.677878\n",
       " -0.766902  -0.342779\n",
       "  0.789993   0.280395\n",
       "  0.405028  -0.184935\n",
       "  0.800911   0.389363\n",
       "  0.573908   0.330617\n",
       "  0.602567   0.3329\n",
       "  ⋮         \n",
       " -0.725363  -0.466983\n",
       " -0.788966  -0.500424\n",
       "  0.704107   0.512415\n",
       "  0.866354   0.43902\n",
       " -0.635155  -0.85867\n",
       " -0.934794  -0.45689\n",
       "  0.895771   0.429529\n",
       "  0.817333   0.474787\n",
       " -0.857753  -0.244663\n",
       " -0.935526  -0.397547\n",
       "  0.716211   0.444846\n",
       "  0.826797   0.315186"
      ]
     },
     "execution_count": 19,
     "metadata": {},
     "output_type": "execute_result"
    }
   ],
   "source": [
    "g"
   ]
  },
  {
   "cell_type": "code",
   "execution_count": 21,
   "id": "bdd2e327-11b7-4dcb-86b7-739125a609ef",
   "metadata": {},
   "outputs": [],
   "source": [
    "using Clustering"
   ]
  },
  {
   "cell_type": "code",
   "execution_count": 40,
   "id": "c37aff4b-4983-4196-8bec-29874f2c7ac8",
   "metadata": {},
   "outputs": [
    {
     "data": {
      "text/plain": [
       "KmeansResult{Matrix{Float64}, Float64, Int64}([-0.7638512542616492 0.8468333503436123; -0.3790051252851187 0.402614914487602], [1, 2, 2, 2, 1, 2, 1, 1, 2, 2  …  2, 2, 1, 1, 2, 2, 1, 1, 2, 2], [0.0053262313736526234, 0.005169602148546559, 0.042558078308019054, 0.09626018646624512, 0.027809689798083737, 0.058078599337918924, 0.4690979119009304, 0.0013216394468735793, 0.018168521381235703, 0.5404066300387914  …  0.032426762541451604, 0.0017063734841731293, 0.24664082078936111, 0.03528730349881237, 0.0031192781161399896, 0.006079021769554105, 0.02686537888098406, 0.029815986525311367, 0.018845667472115135, 0.008045289377076381], [42, 58], [42, 58], 9.12071206824338, 2, true)"
      ]
     },
     "execution_count": 40,
     "metadata": {},
     "output_type": "execute_result"
    }
   ],
   "source": [
    "rg = kmeans(g |> transpose, 2)"
   ]
  },
  {
   "cell_type": "code",
   "execution_count": 41,
   "id": "d7f7be7b-5196-4851-ac29-d212e4cc4483",
   "metadata": {
    "collapsed": true,
    "jupyter": {
     "outputs_hidden": true
    },
    "tags": []
   },
   "outputs": [
    {
     "data": {
      "text/plain": [
       "58×2 Matrix{Float64}:\n",
       " 0.779654   0.376991\n",
       " 0.640565   0.406015\n",
       " 1.05603    0.631737\n",
       " 0.621042   0.318373\n",
       " 0.789993   0.280395\n",
       " 0.405028  -0.184935\n",
       " 0.800911   0.389363\n",
       " 0.573908   0.330617\n",
       " 0.602567   0.3329\n",
       " 1.01435    0.535392\n",
       " 0.72374    0.378236\n",
       " 1.28003    0.456503\n",
       " 0.887125   0.511508\n",
       " ⋮         \n",
       " 0.981893   0.307786\n",
       " 0.832575   0.452173\n",
       " 0.923845   0.4042\n",
       " 0.645321   0.385407\n",
       " 0.82117    0.395622\n",
       " 0.969629   0.53706\n",
       " 0.704107   0.512415\n",
       " 0.866354   0.43902\n",
       " 0.895771   0.429529\n",
       " 0.817333   0.474787\n",
       " 0.716211   0.444846\n",
       " 0.826797   0.315186"
      ]
     },
     "execution_count": 41,
     "metadata": {},
     "output_type": "execute_result"
    }
   ],
   "source": [
    "ind1 = rg.assignments .== 1\n",
    "ind2 = rg.assignments .== 2\n",
    "g1 = g[ind1, :]\n",
    "g2 = g[ind2, :]"
   ]
  },
  {
   "cell_type": "code",
   "execution_count": 23,
   "id": "0ad67311-9668-4e91-a762-62436f6626a8",
   "metadata": {},
   "outputs": [
    {
     "data": {
      "text/plain": [
       "2-element Vector{Int64}:\n",
       " 3\n",
       " 3"
      ]
     },
     "execution_count": 23,
     "metadata": {},
     "output_type": "execute_result"
    }
   ],
   "source": [
    "rand([1,2,3,4], 2)"
   ]
  },
  {
   "cell_type": "code",
   "execution_count": 25,
   "id": "41c9b982-d3d4-429e-a81a-a7053b1bdef7",
   "metadata": {},
   "outputs": [
    {
     "data": {
      "text/plain": [
       "100"
      ]
     },
     "execution_count": 25,
     "metadata": {},
     "output_type": "execute_result"
    }
   ],
   "source": [
    "Int(200/2)"
   ]
  },
  {
   "cell_type": "code",
   "execution_count": null,
   "id": "9417d448-db9f-40cf-a6d6-fcbb759c7d7b",
   "metadata": {},
   "outputs": [],
   "source": []
  }
 ],
 "metadata": {
  "kernelspec": {
   "display_name": "Julia 1.6.2",
   "language": "julia",
   "name": "julia-1.6"
  },
  "language_info": {
   "file_extension": ".jl",
   "mimetype": "application/julia",
   "name": "julia",
   "version": "1.6.2"
  }
 },
 "nbformat": 4,
 "nbformat_minor": 5
}
