{
 "cells": [
  {
   "cell_type": "markdown",
   "source": [],
   "metadata": {}
  },
  {
   "cell_type": "code",
   "execution_count": null,
   "source": [
    "pwd()"
   ],
   "outputs": [],
   "metadata": {}
  },
  {
   "cell_type": "markdown",
   "source": [
    "# Start"
   ],
   "metadata": {}
  },
  {
   "cell_type": "code",
   "execution_count": null,
   "source": [
    "# run this ceil if source codes was edited\n",
    "include(\"DGP.ji\")\n",
    "# include(\"qgplsim.ji\")\n",
    "include(\"MonteCarloSIM.ji\")\n",
    "using Statistics, LinearAlgebra, Clustering\n",
    "using LaTeXStrings, Plots\n",
    "\n",
    "import Base.Threads.@threads"
   ],
   "outputs": [],
   "metadata": {}
  },
  {
   "cell_type": "markdown",
   "source": [
    "# QGPLSIM fitting"
   ],
   "metadata": {}
  },
  {
   "cell_type": "code",
   "execution_count": null,
   "source": [
    "# run this ceil for different data sets\n",
    "\n",
    "α = [2.0, 1.0] # single index for x\n",
    "θ = [1.0, -2.0]  # linear for x, <α, θ> = 0 for identification\n",
    "γ = [1.00, 0.5] # single index for z\n",
    "β = [0.5, -1.0] # linear for z\n",
    "# Q(y|x, z) = Xθ + Zβ + g(Xα + Zγ)\n",
    "\n",
    "n = 600\n",
    "fx = 2 # y = f(x), fx for different f(x)     \n",
    "                # fx = 1, y = X*θ + Z*β + (X*α + Z*γ .- 1).^2 + 0.2ϵ\n",
    "                # fx = 2, y = X*θ + Z*β + log.(1 .+ exp.(X*α + Z*γ .- 1)) + 0.2ϵ\n",
    "\n",
    "ifz = true # if false, Z = 0, i.e. no category varible\n",
    "dist = 1 # 0 for gauss, 1 for Cauchy\n",
    "X, Z, y = dgp(n, γ, θ, α, β, fx, dist,  ifz)\n",
    "# p = length(α)\n",
    "# q = length(γ)\n",
    "τ = 0.5\n",
    "\n",
    "# Estimation \n",
    "\n",
    "model1 = qgplsim.model(X, Z, y, τ)\n",
    "alpha_type = 1\n",
    "# different weight of sum on alpha \n",
    "# 0 for true alpha, using α in DGP\n",
    "# 1 for global: ∑ij sum(Bi - Bj) / n;\n",
    "# 2 for local: ∑z ∑ij (bzi - bzj) * nz / n;\n",
    "# when Z = 0, global == local\n",
    "@time alpha, theta, gamma, beta = qgplsim.estimator(model1, alpha_type)\n",
    "coefa = 1 #/ alpha[1]\n",
    "coefg = 1 #/ gamma[1]\n",
    "println(\"Estimation of index coefs: \")\n",
    "println(\"̂α => \", coefa * alpha)\n",
    "println(\"̂γ => \", gamma)\n",
    "\n",
    "println(\"Estimation of linear coefs: \")\n",
    "println(\"̂θ => \", theta)\n",
    "println(\"̂β => \", beta)\n",
    "\n",
    "# theta * alpha"
   ],
   "outputs": [],
   "metadata": {}
  },
  {
   "cell_type": "markdown",
   "source": [
    "# Paths of $g(x \\alpha + z \\gamma)$ and $\\nabla g$\n",
    "\n",
    "$\\alpha = \\hat{\\alpha}$,\n",
    "$z \\in S_z$"
   ],
   "metadata": {}
  },
  {
   "cell_type": "code",
   "execution_count": null,
   "source": [
    "using Plots\n",
    "# include(\"qgplsim.ji\")"
   ],
   "outputs": [],
   "metadata": {}
  },
  {
   "cell_type": "code",
   "execution_count": null,
   "source": [
    "alpha"
   ],
   "outputs": [],
   "metadata": {}
  },
  {
   "cell_type": "code",
   "execution_count": null,
   "source": [
    "alphap = 1.0 * alpha\n",
    "v = X * alphap # g(Xα + Zγ) => univar func. g(v + zγ) after α was determined and  Z = z\n",
    "categ, index = model1.categ, model1.index\n",
    "g, dg = qgplsim.Gz_DGz(v, Z, y, -0.2) # g: g(v), dg: g'(v)\n",
    "fig = plot()\n",
    "for m in 1:6\n",
    "    vm = v[index[categ[m]]]\n",
    "    gm = g[index[categ[m]]]\n",
    "    indm = sortperm(vm)\n",
    "    sorted_gm = gm[indm]\n",
    "    sorted_vm = vm[indm]\n",
    "\n",
    "    plot!(fig, sorted_vm, sorted_gm, label = L\"g_{%$m} (v)\")\n",
    "\n",
    "end\n",
    "fig"
   ],
   "outputs": [],
   "metadata": {}
  },
  {
   "cell_type": "code",
   "execution_count": null,
   "source": [
    "fig = plot()\n",
    "for m in 1:6\n",
    "    vm = v[index[categ[m]]]\n",
    "    dgm = dg[index[categ[m]]]\n",
    "    indm = sortperm(vm)\n",
    "    sorted_dgm = dgm[indm]\n",
    "    sorted_vm = vm[indm]\n",
    "    plot!(fig, sorted_vm, sorted_dgm, label = L\"\\nabla g_{%$m} (v)\")\n",
    "\n",
    "end\n",
    "fig"
   ],
   "outputs": [],
   "metadata": {}
  },
  {
   "cell_type": "markdown",
   "source": [
    "# Monte Carlo Simulation"
   ],
   "metadata": {}
  },
  {
   "cell_type": "code",
   "execution_count": null,
   "source": [
    "Threads.nthreads()"
   ],
   "outputs": [],
   "metadata": {}
  },
  {
   "cell_type": "code",
   "execution_count": null,
   "source": [
    "include(\"MonteCarloSIM.ji\")"
   ],
   "outputs": [],
   "metadata": {}
  },
  {
   "cell_type": "code",
   "execution_count": null,
   "source": [
    "α = [2.0, 1.0] # single index for x\n",
    "θ = [1.0, -2.0]  # linear for x, <α, θ> = 0 for identification\n",
    "γ = [1.0, 4.0] # single index for z\n",
    "β = [1.0, -0.5] # linear for z\n",
    "# Q(y|x, z) = Xθ + Zβ + g(Xα + Zγ)\n",
    "n = 300\n",
    "fx = 1\n",
    "dist = 1 # Cauchy\n",
    "len = 200 # MC rept. times\n",
    "alpha_type = 1"
   ],
   "outputs": [],
   "metadata": {}
  },
  {
   "cell_type": "code",
   "execution_count": null,
   "source": [
    "res, Alpha, Gamma, Theta, Beta = MonteCarlo(n, γ, θ, α, β, fx, dist, len, alpha_type)\n"
   ],
   "outputs": [],
   "metadata": {
    "collapsed": true,
    "jupyter": {
     "outputs_hidden": true
    }
   }
  },
  {
   "cell_type": "code",
   "execution_count": null,
   "source": [
    "minimum(Alpha)"
   ],
   "outputs": [],
   "metadata": {}
  },
  {
   "cell_type": "code",
   "execution_count": null,
   "source": [
    "histogram(Alpha[:,1], bins = -3:0.1:3)"
   ],
   "outputs": [],
   "metadata": {}
  },
  {
   "cell_type": "code",
   "execution_count": null,
   "source": [
    "histogram(Alpha[:,2], bins = -3:0.1:3)"
   ],
   "outputs": [],
   "metadata": {}
  },
  {
   "cell_type": "code",
   "execution_count": null,
   "source": [
    "histogram(Beta[:, 2], bins = -2:0.1:2)"
   ],
   "outputs": [],
   "metadata": {}
  },
  {
   "cell_type": "code",
   "execution_count": null,
   "source": [
    "Rb = kmeans(transpose(Theta), 1)\n",
    "Rb.centers"
   ],
   "outputs": [],
   "metadata": {}
  },
  {
   "cell_type": "code",
   "execution_count": null,
   "source": [
    "histogram(Gamma[:,1], bins = -2:0.1:2)"
   ],
   "outputs": [],
   "metadata": {}
  },
  {
   "cell_type": "code",
   "execution_count": null,
   "source": [
    "histogram(Gamma[:,2], bins = -2:0.1:2)"
   ],
   "outputs": [],
   "metadata": {}
  },
  {
   "cell_type": "code",
   "execution_count": null,
   "source": [
    "Rg = kmeans(transpose(Gamma), 2)\n",
    "Rg.centers"
   ],
   "outputs": [],
   "metadata": {}
  },
  {
   "cell_type": "code",
   "execution_count": null,
   "source": [
    "mean(abs.(Gamma), dims = 1)"
   ],
   "outputs": [],
   "metadata": {}
  },
  {
   "cell_type": "code",
   "execution_count": null,
   "source": [
    "mean(abs.(Alpha), dims = 1)"
   ],
   "outputs": [],
   "metadata": {}
  },
  {
   "cell_type": "code",
   "execution_count": null,
   "source": [
    "ind1 = Rg.assignments .== 1\n",
    "ind2 = Rg.assignments .== 2\n",
    "v1 = var(Gamma[ind1, :], dims = 1)"
   ],
   "outputs": [],
   "metadata": {}
  },
  {
   "cell_type": "code",
   "execution_count": null,
   "source": [
    "len1 = sum(ind1) - 1\n",
    "len2 = sum(ind2) - 1"
   ],
   "outputs": [],
   "metadata": {}
  },
  {
   "cell_type": "code",
   "execution_count": null,
   "source": [
    "mean(Gamma[ind2, :], dims = 1)"
   ],
   "outputs": [],
   "metadata": {}
  },
  {
   "cell_type": "code",
   "execution_count": null,
   "source": [
    "v2 = var(Gamma[ind2, :], dims = 1)"
   ],
   "outputs": [],
   "metadata": {}
  },
  {
   "cell_type": "code",
   "execution_count": null,
   "source": [
    "(v1 * len1 + v2* len2) /(len - 1)"
   ],
   "outputs": [],
   "metadata": {}
  },
  {
   "cell_type": "code",
   "execution_count": null,
   "source": [
    "var(abs.(Gamma), dims = 1)"
   ],
   "outputs": [],
   "metadata": {}
  },
  {
   "cell_type": "code",
   "execution_count": null,
   "source": [
    "Ra= kmeans(transpose(Alpha), 2)\n",
    "Ra.centers"
   ],
   "outputs": [],
   "metadata": {}
  },
  {
   "cell_type": "code",
   "execution_count": null,
   "source": [],
   "outputs": [],
   "metadata": {}
  },
  {
   "cell_type": "code",
   "execution_count": null,
   "source": [
    "using DataFrames\n",
    "df = DataFrame(α1 = Float64[], α2 = Float64[],\n",
    "               var_α1 = Float64[], var_α2 = Float64[],    \n",
    "               θ1 = Float64[], θ2 = Float64[],\n",
    "               var_θ1 = Float64[], var_θ2 = Float64[], \n",
    "               β1 = Float64[], β2 = Float64[],\n",
    "               var_β1 = Float64[], var_β2 = Float64[], \n",
    "               γ1 = Float64[], γ2 = Float64[],\n",
    "               var_γ1 = Float64[], var_γ2 = Float64[])\n"
   ],
   "outputs": [],
   "metadata": {}
  },
  {
   "cell_type": "code",
   "execution_count": null,
   "source": [
    "A = [:α1, :α2, :var_α1, :var_α2]\n",
    "T = [:θ1, :θ2, :var_θ1, :var_θ2]\n",
    "G = [:γ1, :γ2, :var_γ1, :var_γ2]\n",
    "B = [:β1, :β2, :var_β1, :var_β2]"
   ],
   "outputs": [],
   "metadata": {}
  },
  {
   "cell_type": "code",
   "execution_count": null,
   "source": [
    "@threads for γ in [[1.0, 0.5], [1.0, 0.001], [0.001, 1.0], [0.5, 1.0],[0.5, 0.5], [0.0001, 0.0001]]\n",
    "    res, =  MonteCarlo(n, γ, θ, α, β, fx, dist, len, alpha_type)\n",
    "    push!(df, res)\n",
    "end"
   ],
   "outputs": [],
   "metadata": {}
  }
 ],
 "metadata": {
  "kernelspec": {
   "display_name": "Julia 1.5.3",
   "language": "julia",
   "name": "julia-1.5"
  },
  "language_info": {
   "file_extension": ".jl",
   "mimetype": "application/julia",
   "name": "julia",
   "version": "1.5.3"
  }
 },
 "nbformat": 4,
 "nbformat_minor": 5
}