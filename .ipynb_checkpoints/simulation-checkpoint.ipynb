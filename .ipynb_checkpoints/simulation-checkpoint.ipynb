{
 "cells": [
  {
   "cell_type": "code",
   "execution_count": 1868,
   "id": "e66c1859-81b4-454d-acf6-f25cc7ce7ee4",
   "metadata": {},
   "outputs": [
    {
     "name": "stderr",
     "output_type": "stream",
     "text": [
      "WARNING: replacing module qgplsim.\n"
     ]
    },
    {
     "data": {
      "text/plain": [
       "\"/home/kyan/Projects/qgplsim\""
      ]
     },
     "execution_count": 1868,
     "metadata": {},
     "output_type": "execute_result"
    }
   ],
   "source": [
    "using Plots, Distributions\n",
    "include(\"./src/supportFunctions.ji\")\n",
    "include(\"./src/qgplsim.ji\")\n",
    "pwd()"
   ]
  },
  {
   "cell_type": "code",
   "execution_count": 2,
   "id": "b2a52a9e-2458-414d-a8f4-e5790d803151",
   "metadata": {},
   "outputs": [
    {
     "data": {
      "text/plain": [
       "eps (generic function with 1 method)"
      ]
     },
     "execution_count": 2,
     "metadata": {},
     "output_type": "execute_result"
    }
   ],
   "source": [
    "t1 = TDist(1)\n",
    "t3 = TDist(3)\n",
    "\n",
    "\n",
    "function eps(n, etype)\n",
    "    \n",
    "    if etype == 1\n",
    "            e = randn(n)/2\n",
    "        elseif etype == 2\n",
    "            e = rand(t3, n) * sqrt(3) / 10    \n",
    "        elseif etype == 3\n",
    "            e = rand(t1, n) / 10\n",
    "        else\n",
    "            e = randn(n)\n",
    "            e = (e.^4 .- 3) .* 0.3             \n",
    "    end\n",
    "    e\n",
    "\n",
    "end"
   ]
  },
  {
   "cell_type": "markdown",
   "id": "1da4cc33-08d3-4ee9-bf7d-e5ac42d2ed6e",
   "metadata": {
    "tags": []
   },
   "source": [
    "# Case 1\n",
    "$y = X \\alpha + exp(X \\theta) + \\epsilon$"
   ]
  },
  {
   "cell_type": "code",
   "execution_count": 1927,
   "id": "438a8615-7f44-48dd-997d-da4933421ae8",
   "metadata": {},
   "outputs": [
    {
     "data": {
      "text/plain": [
       "xyz1 (generic function with 1 method)"
      ]
     },
     "execution_count": 1927,
     "metadata": {},
     "output_type": "execute_result"
    }
   ],
   "source": [
    "function simu_data1(X, α, θ, ϵ)\n",
    "\n",
    "    y = X*α + exp.(X*θ) + ϵ\n",
    "\n",
    "end\n",
    "\n",
    "function xyz1(n, alpha, theta, e)\n",
    "    q = length(alpha)\n",
    "    ∑ = zeros(q,q)\n",
    "\n",
    "    for i in 1:q\n",
    "        for j in i:q\n",
    "            ∑[i, j] = 0.5^(j - i)\n",
    "            ∑[j, i] = ∑[i, j]\n",
    "        end\n",
    "    end\n",
    "\n",
    "    ∑ = sqrt.(∑)\n",
    "\n",
    "\n",
    "    U = randn(n, q)\n",
    "    X = U * ∑\n",
    "\n",
    "    Z = zeros(n, 2)\n",
    "    y = simu_data1(X, alpha, theta, e)\n",
    "    X, y, Z\n",
    "    \n",
    "end"
   ]
  },
  {
   "cell_type": "markdown",
   "id": "4cb9e554-89cf-4e21-980e-c1f97dedda2c",
   "metadata": {},
   "source": [
    "## test "
   ]
  },
  {
   "cell_type": "code",
   "execution_count": 1931,
   "id": "5075b8f7-df51-4c1a-9934-22a20419dba2",
   "metadata": {},
   "outputs": [
    {
     "data": {
      "text/plain": [
       "-0.17"
      ]
     },
     "execution_count": 1931,
     "metadata": {},
     "output_type": "execute_result"
    }
   ],
   "source": [
    "n = 200\n",
    "alpha = [0, 1, 0, -2, 0]\n",
    "theta = [2, 0, -1, 0, 2]/3\n",
    "\n",
    "\n",
    "e = eps(n, 1)\n",
    "X, y, Z = xyz1(n, alpha, theta, e)\n",
    "\n",
    "tau = [0.5]\n",
    "widthExp = -0.17"
   ]
  },
  {
   "cell_type": "code",
   "execution_count": 1932,
   "id": "a5feb30e-d3ff-4c40-8d1d-1f0597878004",
   "metadata": {},
   "outputs": [
    {
     "name": "stdout",
     "output_type": "stream",
     "text": [
      "alpha => [0.286, 1.0214, 0.2059, -2.3682, 0.2696]\n",
      "theta => [0.6477, -0.1338, -0.338, 0.067, 0.6662]\n",
      "gamma => [0.0, 0.0]\n",
      "beta => [0.0, 0.0]\n"
     ]
    },
    {
     "name": "stderr",
     "output_type": "stream",
     "text": [
      "WARNING: replacing module qgplsim.\n"
     ]
    }
   ],
   "source": [
    "include(\"./src/qgplsim.ji\")\n",
    "model1 = qgplsim.model(X, Z, y, tau, widthExp)\n",
    "qgplsim.estimator(model1, \"gurobi\")\n",
    "qgplsim.print_model(model1)"
   ]
  },
  {
   "cell_type": "markdown",
   "id": "c373fdaf-adb6-4754-a86d-ea95e806cd66",
   "metadata": {},
   "source": [
    "## Monte Carlo Simulation"
   ]
  },
  {
   "cell_type": "code",
   "execution_count": 1843,
   "id": "150b0a1a-b068-478b-92fb-7cc8b92876a4",
   "metadata": {},
   "outputs": [
    {
     "name": "stdout",
     "output_type": "stream",
     "text": [
      "threads for parallel computing:  4\n"
     ]
    }
   ],
   "source": [
    "using Base.Threads\n",
    "nth = Threads.nthreads()\n",
    "println(\"threads for parallel computing:  \", nth)"
   ]
  },
  {
   "cell_type": "code",
   "execution_count": 1945,
   "id": "c1814379-949c-4167-b897-297840a4e6f2",
   "metadata": {},
   "outputs": [
    {
     "data": {
      "text/plain": [
       "100"
      ]
     },
     "execution_count": 1945,
     "metadata": {},
     "output_type": "execute_result"
    }
   ],
   "source": [
    "n = 800\n",
    "alpha = [0, 1, 0, -2, 0]\n",
    "theta = [2, 0, -1, 0, 2]/3\n",
    "n_repeat = 25\n",
    "n_repeat * nth"
   ]
  },
  {
   "cell_type": "markdown",
   "id": "96bfcf57-0188-4f47-a297-dd677523c11d",
   "metadata": {},
   "source": [
    "### $\\epsilon$ ~ $N(0, 1)/2$"
   ]
  },
  {
   "cell_type": "code",
   "execution_count": 1946,
   "id": "e70b3702-518d-400d-8058-bb5f42072eee",
   "metadata": {},
   "outputs": [
    {
     "name": "stderr",
     "output_type": "stream",
     "text": [
      "WARNING: replacing module qgplsim.\n"
     ]
    }
   ],
   "source": [
    "include(\"./src/qgplsim.ji\")\n",
    "\n",
    "Alpha1 = zeros(n_repeat * nth, 5)\n",
    "Theta1 = zeros(n_repeat * nth, 5)\n",
    "@threads for i in 1:nth\n",
    "    for j in 1:n_repeat\n",
    "        \n",
    "        k = (i - 1) * n_repeat + j\n",
    "        e = eps(n, 1)\n",
    "        X, y, Z = xyz1(n, alpha, theta, 0.2e)\n",
    "        modelk = qgplsim.model(X, Z, y, tau, widthExp)\n",
    "        qgplsim.estimator(modelk, \"gurobi\")\n",
    "        Alpha1[k, :] = modelk.alpha\n",
    "        Theta1[k, :] = modelk.theta\n",
    "    end\n",
    "end\n",
    "\n"
   ]
  },
  {
   "cell_type": "code",
   "execution_count": 1947,
   "id": "f6535e08-ecb6-41c9-b198-3ae9dafd1098",
   "metadata": {},
   "outputs": [
    {
     "name": "stdout",
     "output_type": "stream",
     "text": [
      "0.08648635174617886 0.0850202855312295\n"
     ]
    }
   ],
   "source": [
    "EE1 = sqrt.(1 .- abs.(Theta1 * theta)) \n",
    "println(mean(EE1), \" \", std(EE1))"
   ]
  },
  {
   "cell_type": "code",
   "execution_count": 1948,
   "id": "a180022c-0204-4a71-838a-4d99c5b57bea",
   "metadata": {},
   "outputs": [
    {
     "data": {
      "text/plain": [
       "1×5 Matrix{Float64}:\n",
       " 0.662666  -0.00890145  -0.314632  -0.010721  0.658064"
      ]
     },
     "execution_count": 1948,
     "metadata": {},
     "output_type": "execute_result"
    }
   ],
   "source": [
    "mean(Theta1, dims = 1)"
   ]
  },
  {
   "cell_type": "code",
   "execution_count": 1949,
   "id": "428a8fd5-10ab-4712-8f1d-7496ea723ce9",
   "metadata": {},
   "outputs": [
    {
     "data": {
      "text/plain": [
       "1×5 Matrix{Float64}:\n",
       " 0.0160857  1.01206  -0.0331056  -1.96922  0.0118537"
      ]
     },
     "execution_count": 1949,
     "metadata": {},
     "output_type": "execute_result"
    }
   ],
   "source": [
    "mean(Alpha1, dims = 1)"
   ]
  },
  {
   "cell_type": "code",
   "execution_count": 1950,
   "id": "d7f15130-629a-444a-91db-77cd2b9c62d5",
   "metadata": {},
   "outputs": [
    {
     "data": {
      "text/plain": [
       "(0.09500385609534533, 0.09532326110038875)"
      ]
     },
     "execution_count": 1950,
     "metadata": {},
     "output_type": "execute_result"
    }
   ],
   "source": [
    "euclid(Alpha1, alpha)"
   ]
  },
  {
   "cell_type": "markdown",
   "id": "0a897d03-bea3-4561-8b75-cedc1caf27ee",
   "metadata": {},
   "source": [
    "### $\\epsilon$ ~ $\\sqrt 3 t(3) / 10$"
   ]
  },
  {
   "cell_type": "code",
   "execution_count": 172,
   "id": "e412273e-824d-4f42-a4ea-3b515e2c5da3",
   "metadata": {},
   "outputs": [],
   "source": [
    "Alpha2 = zeros(n_repeat * nth, 5)\n",
    "Theta2 = zeros(n_repeat * nth, 5)\n",
    "\n",
    "@threads for i in 1:nth\n",
    "    for j in 1:n_repeat\n",
    "        \n",
    "        k = (i - 1) * n_repeat + j\n",
    "        U = randn(n, 5)\n",
    "        X = U * ∑\n",
    "        e = rand(t3, n) * sqrt(3) / 10\n",
    "        y = simu_data1(X, alpha, theta, e)\n",
    "        modelk = qgplsim.model(X, Z, y, tau, widthExp)\n",
    "        qgplsim.estimator(modelk, \"optim_qr\")\n",
    "        Alpha2[k, :] = modelk.alpha\n",
    "        Theta2[k, :] = modelk.theta\n",
    "    end\n",
    "end"
   ]
  },
  {
   "cell_type": "code",
   "execution_count": 173,
   "id": "d0141cc6-a585-4270-8f1c-2fd2c92d56fc",
   "metadata": {},
   "outputs": [
    {
     "data": {
      "text/plain": [
       "1×5 Matrix{Float64}:\n",
       " 0.618235  0.0223955  -0.331152  0.0309383  0.577526"
      ]
     },
     "execution_count": 173,
     "metadata": {},
     "output_type": "execute_result"
    }
   ],
   "source": [
    "mean(Theta2, dims = 1)"
   ]
  },
  {
   "cell_type": "code",
   "execution_count": 174,
   "id": "67070f62-31b6-4014-9925-c07eb574a351",
   "metadata": {},
   "outputs": [
    {
     "name": "stdout",
     "output_type": "stream",
     "text": [
      "0.1773731420044237 0.21078261894154507\n"
     ]
    }
   ],
   "source": [
    "EE2 = sqrt.(1 .- abs.(Theta2 * theta)) \n",
    "println(mean(EE2), \" \", std(EE2))"
   ]
  },
  {
   "cell_type": "markdown",
   "id": "653a9104-a308-4231-908d-ac423e66dfe7",
   "metadata": {
    "tags": []
   },
   "source": [
    "### $\\epsilon$ ~ $t(1)/10$"
   ]
  },
  {
   "cell_type": "code",
   "execution_count": 176,
   "id": "baa6aec7-16d7-4bc2-86de-bf91224a141c",
   "metadata": {},
   "outputs": [],
   "source": [
    "Alpha3 = zeros(n_repeat * nth, 5)\n",
    "Theta3 = zeros(n_repeat * nth, 5)\n",
    "\n",
    "@threads for i in 1:nth\n",
    "    for j in 1:n_repeat\n",
    "        \n",
    "        k = (i - 1) * n_repeat + j\n",
    "        U = randn(n, 5)\n",
    "        X = U * ∑\n",
    "        e = rand(t1, n) / 10\n",
    "        y = simu_data1(X, alpha, theta, e)\n",
    "        modelk = qgplsim.model(X, Z, y, tau, widthExp)\n",
    "        qgplsim.estimator(modelk, \"optim_qr\")\n",
    "        Alpha3[k, :] = modelk.alpha\n",
    "        Theta3[k, :] = modelk.theta\n",
    "    end\n",
    "end"
   ]
  },
  {
   "cell_type": "code",
   "execution_count": 177,
   "id": "8679e5af-164e-4b9a-bb5d-dee4562047fe",
   "metadata": {},
   "outputs": [
    {
     "data": {
      "text/plain": [
       "1×5 Matrix{Float64}:\n",
       " 0.647159  0.00469007  -0.344865  0.0617279  0.600015"
      ]
     },
     "execution_count": 177,
     "metadata": {},
     "output_type": "execute_result"
    }
   ],
   "source": [
    "mean(Theta3, dims = 1)"
   ]
  },
  {
   "cell_type": "code",
   "execution_count": 178,
   "id": "90b74c1f-5250-41e1-8589-6b18d9bb2bb9",
   "metadata": {},
   "outputs": [
    {
     "name": "stdout",
     "output_type": "stream",
     "text": [
      "0.1572008337416937 0.15656874707896248\n"
     ]
    }
   ],
   "source": [
    "EE3 = sqrt.(1 .- abs.(Theta3 * theta)) \n",
    "println(mean(EE3), \" \", std(EE3))"
   ]
  },
  {
   "cell_type": "markdown",
   "id": "88a310c8-1a38-4151-83a4-aca91ce661c5",
   "metadata": {
    "tags": []
   },
   "source": [
    "### $\\epsilon$ ~ $0.3(N(0, 1)^4 - 3)$"
   ]
  },
  {
   "cell_type": "code",
   "execution_count": 179,
   "id": "9bfb0569-08d3-4fe8-8d7d-51f5ff9e6717",
   "metadata": {},
   "outputs": [],
   "source": [
    "Alpha4 = zeros(n_repeat * nth, 5)\n",
    "Theta4 = zeros(n_repeat * nth, 5)\n",
    "\n",
    "@threads for i in 1:nth\n",
    "    for j in 1:n_repeat\n",
    "        \n",
    "        k = (i - 1) * n_repeat + j\n",
    "        U = randn(n, 5)\n",
    "        X = U * ∑\n",
    "        e = randn(n)\n",
    "        e = (e.^4 .- 3) .* 0.3\n",
    "        y = simu_data1(X, alpha, theta, e)\n",
    "        modelk = qgplsim.model(X, Z, y, tau, widthExp)\n",
    "        qgplsim.estimator(modelk, \"optim_qr\")\n",
    "        Alpha4[k, :] = modelk.alpha\n",
    "        Theta4[k, :] = modelk.theta\n",
    "    end\n",
    "end"
   ]
  },
  {
   "cell_type": "code",
   "execution_count": 180,
   "id": "bb27f287-4c5e-4b3e-ba5e-1c97c9c67594",
   "metadata": {},
   "outputs": [
    {
     "data": {
      "text/plain": [
       "1×5 Matrix{Float64}:\n",
       " 0.631767  0.0122769  -0.346298  0.0687969  0.577738"
      ]
     },
     "execution_count": 180,
     "metadata": {},
     "output_type": "execute_result"
    }
   ],
   "source": [
    "mean(Theta4, dims = 1)"
   ]
  },
  {
   "cell_type": "code",
   "execution_count": 181,
   "id": "a6ab027d-5709-4d6d-9cfb-fb402cbf1444",
   "metadata": {},
   "outputs": [
    {
     "name": "stdout",
     "output_type": "stream",
     "text": [
      "0.21594105838062394 0.1751448733458884\n"
     ]
    }
   ],
   "source": [
    "EE4 = sqrt.(1 .- abs.(Theta4 * theta)) \n",
    "println(mean(EE4), \" \", std(EE4))"
   ]
  },
  {
   "cell_type": "code",
   "execution_count": 1951,
   "id": "47f2cf4b-930a-439c-989c-4bae6ef08ab6",
   "metadata": {},
   "outputs": [],
   "source": [
    "N = [100,200,400,800]\n",
    "Etype = [1,2,3,4]\n",
    "\n",
    "len_n = length(N)\n",
    "len_e = length(Etype)\n",
    "\n",
    "meanEE_theta = zeros(len_n, len_e)\n",
    "stdEE_theta = zeros(len_n, len_e)\n",
    "\n",
    "mean_alpha = zeros(len_n, len_e)\n",
    "std_alpha = zeros(len_n, len_e)\n",
    "\n",
    "\n",
    "n_repeat = 100\n",
    "tau = [0.5]\n",
    "widthExp = -0.17\n",
    "method = \"gurobi\"\n",
    "\n",
    "alpha = [0, 1, 0, -2, 0]\n",
    "theta = [2, 0, -1, 0, 2]/3\n",
    "\n",
    "p = length(alpha)\n",
    "q = length(beta)\n",
    "\n",
    "include(\"./src/qgplsim.ji\")\n",
    "@threads for j in 1:len_e\n",
    "    \n",
    "    etype = Etype[j]    \n",
    "    \n",
    "    for i in 1:len_n  \n",
    "\n",
    "        n = N[i] \n",
    "       \n",
    "        Alpha = zeros(n_repeat, p)\n",
    "        Theta = zeros(n_repeat, p)\n",
    "        \n",
    "        for k in 1:n_repeat\n",
    "            \n",
    "            e = eps(n, etype)\n",
    "            X, y, Z = xyz1(n, alpha, theta, 0.2e)\n",
    "            modelk = qgplsim.model(X, Z, y, tau, widthExp)\n",
    "            qgplsim.estimator(modelk, method)\n",
    "            # qgplsim.print_model(modelk)\n",
    "            Alpha[k, :] = modelk.alpha\n",
    "            Theta[k, :] = modelk.theta\n",
    "\n",
    "            \n",
    "        end\n",
    "        EE = sqrt.(1 .- abs.(Theta * theta)) \n",
    "        meanEE_theta[i,j] = mean(EE)\n",
    "        stdEE_theta[i,j] = std(EE)\n",
    "        mean_alpha[i,j], std_alpha[i,j] = euclid(Alpha, alpha)\n",
    "        \n",
    "    end\n",
    "end"
   ]
  },
  {
   "cell_type": "code",
   "execution_count": 1952,
   "id": "6afa699f-0eaf-45e4-afcc-49de630160bf",
   "metadata": {},
   "outputs": [
    {
     "data": {
      "text/plain": [
       "4×4 Matrix{String}:\n",
       " \"0.3008(.2300)\"  \"0.2413(.1760)\"  \"0.2677(.2034)\"  \"0.3371(.2343)\"\n",
       " \"0.1984(.1911)\"  \"0.1694(.1295)\"  \"0.1882(.1614)\"  \"0.2133(.1831)\"\n",
       " \"0.1244(.1074)\"  \"0.1248(.1124)\"  \"0.1151(.1191)\"  \"0.1598(.1385)\"\n",
       " \"0.0723(.0573)\"  \"0.0858(.0697)\"  \"0.0826(.0942)\"  \"0.0865(.0906)\""
      ]
     },
     "execution_count": 1952,
     "metadata": {},
     "output_type": "execute_result"
    }
   ],
   "source": [
    "table_theta = tabular(meanEE_theta, stdEE_theta)"
   ]
  },
  {
   "cell_type": "code",
   "execution_count": 1953,
   "id": "d2ed8da0-9c04-4c8c-a1bf-f23f5f7465f4",
   "metadata": {},
   "outputs": [
    {
     "data": {
      "text/plain": [
       "4×4 Matrix{String}:\n",
       " \"0.3053(.2302)\"  \"0.2440(.1707)\"  \"0.2684(.1891)\"  \"0.3326(.2127)\"\n",
       " \"0.2037(.1766)\"  \"0.1820(.1520)\"  \"0.1920(.1617)\"  \"0.2162(.1667)\"\n",
       " \"0.1353(.1103)\"  \"0.1387(.1364)\"  \"0.1159(.1137)\"  \"0.1742(.1516)\"\n",
       " \"0.0810(.0627)\"  \"0.0981(.0831)\"  \"0.0918(.0971)\"  \"0.1015(.1076)\""
      ]
     },
     "execution_count": 1953,
     "metadata": {},
     "output_type": "execute_result"
    }
   ],
   "source": [
    "table_alpha = tabular(mean_alpha, std_alpha)"
   ]
  },
  {
   "cell_type": "markdown",
   "id": "25e572ca-500c-4c81-bfb4-e7ca886ee77f",
   "metadata": {
    "tags": []
   },
   "source": [
    "# Case 2\n",
    "$y = X \\alpha + Z \\beta + exp(X \\theta + Z \\gamma) + \\epsilon$"
   ]
  },
  {
   "cell_type": "code",
   "execution_count": 1837,
   "id": "93d256e6-ea67-4b0c-8335-c002b2ef0c85",
   "metadata": {},
   "outputs": [
    {
     "data": {
      "text/plain": [
       "xyz2 (generic function with 1 method)"
      ]
     },
     "execution_count": 1837,
     "metadata": {},
     "output_type": "execute_result"
    }
   ],
   "source": [
    "function simu_data2(X, α, θ, Z, β, γ, ϵ)\n",
    "\n",
    "    y = X*α  + Z*β + exp.(X*θ + Z*γ) + ϵ\n",
    "\n",
    "end\n",
    "\n",
    "function xyz2(n, alpha, theta, beta, gamma, e)\n",
    "    ∑ = zeros(5,5)\n",
    "\n",
    "    for i in 1:5\n",
    "        for j in i:5\n",
    "            ∑[i, j] = 0.5^(j - i)\n",
    "            ∑[j, i] = ∑[i, j]\n",
    "        end\n",
    "    end\n",
    "\n",
    "    ∑ = sqrt.(∑)\n",
    "\n",
    "\n",
    "    U = randn(n, 5)\n",
    "    X = U * ∑\n",
    "\n",
    "    Z = zeros(n, 2)\n",
    "    Z[:, 1] = rand(n, 1) .> 0.25\n",
    "    Z[:, 2] = rand(n, 1) .> 0.5\n",
    "\n",
    "    y = simu_data2(X, alpha, theta, Z, beta, gamma, e)\n",
    "    X, y, Z\n",
    "    \n",
    "end"
   ]
  },
  {
   "cell_type": "markdown",
   "id": "992ea2f9-df57-41cf-80cc-66e421dd3f18",
   "metadata": {},
   "source": [
    "## test "
   ]
  },
  {
   "cell_type": "code",
   "execution_count": 1905,
   "id": "65b166bd-4350-4921-bea0-13515783ff31",
   "metadata": {},
   "outputs": [
    {
     "data": {
      "text/plain": [
       "-0.2"
      ]
     },
     "execution_count": 1905,
     "metadata": {},
     "output_type": "execute_result"
    }
   ],
   "source": [
    "n = 400\n",
    "alpha = [0, 1, 0, -2, 0]\n",
    "theta = [2, 0, -1, 0, 2]/3\n",
    "beta = [1.0, 1.0]/2\n",
    "gamma = [0.5, -0.5] \n",
    "e = rand(n) / 2\n",
    "method = \"gurobi\"\n",
    "\n",
    "X, y, Z = xyz2(n, alpha, theta, beta, gamma, e)\n",
    "\n",
    "tau = [0.5]\n",
    "widthExp = -0.2"
   ]
  },
  {
   "cell_type": "code",
   "execution_count": 1906,
   "id": "93e68a44-2f27-463d-9c27-85114d526960",
   "metadata": {},
   "outputs": [
    {
     "name": "stdout",
     "output_type": "stream",
     "text": [
      "alpha => [-0.0909, 0.8567, 0.1209, -1.8102, -0.3043]\n",
      "theta => [0.5951, 0.0836, -0.2964, -0.1329, 0.7303]\n",
      "gamma => [0.6172, -0.591]\n",
      "beta => [0.9557, 0.1655]\n"
     ]
    },
    {
     "name": "stderr",
     "output_type": "stream",
     "text": [
      "WARNING: replacing module qgplsim.\n"
     ]
    }
   ],
   "source": [
    "include(\"./src/qgplsim.ji\")\n",
    "model1 = qgplsim.model(X, Z, y, tau, widthExp)\n",
    "qgplsim.estimator(model1, method)\n",
    "qgplsim.print_model(model1)"
   ]
  },
  {
   "cell_type": "markdown",
   "id": "a73b46d4-20da-40d1-9aa1-2110efe410e4",
   "metadata": {
    "tags": []
   },
   "source": [
    "## Monte Carlo Simulation"
   ]
  },
  {
   "cell_type": "code",
   "execution_count": 1907,
   "id": "8c8cb9d0-f0b9-4bd0-8ebe-ace67c38ca1c",
   "metadata": {
    "jp-MarkdownHeadingCollapsed": true,
    "tags": []
   },
   "outputs": [
    {
     "name": "stdout",
     "output_type": "stream",
     "text": [
      "threads for parallel computing:  4\n"
     ]
    }
   ],
   "source": [
    "using Base.Threads\n",
    "nth = Threads.nthreads()\n",
    "println(\"threads for parallel computing:  \", nth)\n"
   ]
  },
  {
   "cell_type": "code",
   "execution_count": 1920,
   "id": "7597f098-417f-4071-bfd4-bdc4d5eb4654",
   "metadata": {},
   "outputs": [
    {
     "data": {
      "text/plain": [
       "100"
      ]
     },
     "execution_count": 1920,
     "metadata": {},
     "output_type": "execute_result"
    }
   ],
   "source": [
    "n = 1600\n",
    "alpha = [0, 1, 0, -2, 0]\n",
    "theta = [2, 0, -1, 0, 2]/3\n",
    "beta = [1, 0]\n",
    "gamma = [0.0, -1.0]./3 * 3 \n",
    "n_repeat = 25\n",
    "n_repeat * nth"
   ]
  },
  {
   "cell_type": "markdown",
   "id": "4bbc09d0-0e6a-4f5f-974c-5a4a35a998d8",
   "metadata": {},
   "source": [
    "### $\\epsilon$ ~ $N(0, 1)/2$"
   ]
  },
  {
   "cell_type": "code",
   "execution_count": 1921,
   "id": "0dea4b10-f086-41b1-a1db-e49fe12af4a2",
   "metadata": {},
   "outputs": [
    {
     "name": "stderr",
     "output_type": "stream",
     "text": [
      "WARNING: replacing module qgplsim.\n"
     ]
    }
   ],
   "source": [
    "include(\"./src/qgplsim.ji\")\n",
    "\n",
    "Alpha1 = zeros(n_repeat * nth, 5)\n",
    "Theta1 = zeros(n_repeat * nth, 5)\n",
    "Gamma1 = zeros(n_repeat * nth, 2)\n",
    "method = \"gurobi\"\n",
    "\n",
    "@threads for i in 1:nth\n",
    "    for j in 1:n_repeat\n",
    "        \n",
    "        k = (i - 1) * n_repeat + j\n",
    "        e = randn(n) / 2\n",
    "        X, y, Z = xyz2(n, alpha, theta, beta, gamma, e)\n",
    "\n",
    "        modelk = qgplsim.model(X, Z, y, tau, widthExp)\n",
    "        qgplsim.estimator(modelk, method)\n",
    "        Alpha1[k, :] = modelk.alpha\n",
    "        Theta1[k, :] = modelk.theta\n",
    "        Gamma1[k, :] = modelk.gamma\n",
    "\n",
    "    end\n",
    "end\n",
    "\n"
   ]
  },
  {
   "cell_type": "code",
   "execution_count": 1924,
   "id": "713ab7ea-f998-49db-956f-e6b9a41fe829",
   "metadata": {},
   "outputs": [
    {
     "data": {
      "text/plain": [
       "1×5 Matrix{Float64}:\n",
       " 0.642023  -0.000503465  -0.317124  -0.0105719  0.640986"
      ]
     },
     "execution_count": 1924,
     "metadata": {},
     "output_type": "execute_result"
    }
   ],
   "source": [
    "mean(Theta1, dims = 1)"
   ]
  },
  {
   "cell_type": "code",
   "execution_count": 1922,
   "id": "f7ae8a1d-48e1-490f-a777-e1d6e49495a4",
   "metadata": {},
   "outputs": [
    {
     "name": "stdout",
     "output_type": "stream",
     "text": [
      "0.13415432329101581 0.13435895223831823\n"
     ]
    }
   ],
   "source": [
    "EE1 = sqrt.(1 .- abs.(Theta1 * theta)) \n",
    "println(mean(EE1), \" \", std(EE1))"
   ]
  },
  {
   "cell_type": "code",
   "execution_count": 1923,
   "id": "9db18eff-0a0a-426b-a8db-1552ec33ecdd",
   "metadata": {},
   "outputs": [
    {
     "data": {
      "text/plain": [
       "1×5 Matrix{Float64}:\n",
       " 0.0378685  0.992342  -0.0224377  -1.96259  0.0177171"
      ]
     },
     "execution_count": 1923,
     "metadata": {},
     "output_type": "execute_result"
    }
   ],
   "source": [
    "mean(Alpha1, dims = 1)"
   ]
  },
  {
   "cell_type": "code",
   "execution_count": 1925,
   "id": "87e8dc6a-985b-415f-a66e-b66c5ca606a6",
   "metadata": {},
   "outputs": [
    {
     "data": {
      "text/plain": [
       "(0.1326812550889762, 0.10488162648883076)"
      ]
     },
     "execution_count": 1925,
     "metadata": {},
     "output_type": "execute_result"
    }
   ],
   "source": [
    "euclid(Alpha1, alpha)"
   ]
  },
  {
   "cell_type": "markdown",
   "id": "1e10555a-8bb2-4840-9e4c-8ced3c12ebd1",
   "metadata": {},
   "source": [
    "### $\\epsilon$ ~ $\\sqrt 3 t(3) / 10$"
   ]
  },
  {
   "cell_type": "code",
   "execution_count": 150,
   "id": "07c5c281-9a28-4040-8c9a-c4cf1fca0246",
   "metadata": {},
   "outputs": [],
   "source": [
    "Alpha2 = zeros(n_repeat * nth, 5)\n",
    "Theta2 = zeros(n_repeat * nth, 5)\n",
    "Gamma2 = zeros(n_repeat * nth, 2)\n",
    "\n",
    "@threads for i in 1:nth\n",
    "    for j in 1:n_repeat\n",
    "        \n",
    "        k = (i - 1) * n_repeat + j\n",
    "        e = rand(t3, n) * sqrt(3) / 10\n",
    "        X, y, Z = xyz2(n, alpha, theta, beta, gamma, e)\n",
    "        modelk = qgplsim.model(X, Z, y, tau, widthExp)\n",
    "        qgplsim.estimator(modelk, \"optim_qr\")\n",
    "        Alpha2[k, :] = modelk.alpha\n",
    "        Theta2[k, :] = modelk.theta\n",
    "        Gamma2[k, :] = modelk.gamma\n",
    "\n",
    "        \n",
    "    end\n",
    "end"
   ]
  },
  {
   "cell_type": "code",
   "execution_count": 151,
   "id": "17f8b60c-0157-43a9-bba2-93b1159caebe",
   "metadata": {},
   "outputs": [
    {
     "data": {
      "text/plain": [
       "1×5 Matrix{Float64}:\n",
       " 0.6453  0.00128617  -0.32176  0.0106369  0.572918"
      ]
     },
     "execution_count": 151,
     "metadata": {},
     "output_type": "execute_result"
    }
   ],
   "source": [
    "mean(Theta2, dims = 1)"
   ]
  },
  {
   "cell_type": "code",
   "execution_count": 152,
   "id": "72873489-3754-45cc-a509-6b8a064b914d",
   "metadata": {},
   "outputs": [
    {
     "name": "stdout",
     "output_type": "stream",
     "text": [
      "0.17522982401106535 0.21081039981797559\n"
     ]
    }
   ],
   "source": [
    "EE2 = sqrt.(1 .- abs.(Theta2 * theta)) \n",
    "println(mean(EE2), \" \", std(EE2))"
   ]
  },
  {
   "cell_type": "code",
   "execution_count": 230,
   "id": "04e6c896-3dc4-4754-8fde-0b1122f2a23e",
   "metadata": {},
   "outputs": [
    {
     "name": "stdout",
     "output_type": "stream",
     "text": [
      "0.2604622974978035 0.2441158621826322\n"
     ]
    }
   ],
   "source": [
    "EEa = sqrt.(abs.(5 .- abs.(Alpha2 * alpha))/5)\n",
    "println(mean(EEa), \" \", std(EEa))"
   ]
  },
  {
   "cell_type": "code",
   "execution_count": 153,
   "id": "8bf9ef69-d0e0-4493-9bbe-4944a057bd6f",
   "metadata": {},
   "outputs": [
    {
     "data": {
      "text/plain": [
       "1×2 Matrix{Float64}:\n",
       " -0.0015759  -0.36258"
      ]
     },
     "execution_count": 153,
     "metadata": {},
     "output_type": "execute_result"
    }
   ],
   "source": [
    "mean(Gamma2, dims = 1)"
   ]
  },
  {
   "cell_type": "markdown",
   "id": "3699aeac-48dc-44ac-93f0-324cd0807105",
   "metadata": {
    "tags": []
   },
   "source": [
    "### $\\epsilon$ ~ $t(1)/10$"
   ]
  },
  {
   "cell_type": "code",
   "execution_count": 154,
   "id": "34232bd4-e92c-401c-8205-a7cd8b1d69d9",
   "metadata": {},
   "outputs": [],
   "source": [
    "Alpha3 = zeros(n_repeat * nth, 5)\n",
    "Theta3 = zeros(n_repeat * nth, 5)\n",
    "Gamma3 = zeros(n_repeat * nth, 2)\n",
    "\n",
    "@threads for i in 1:nth\n",
    "    for j in 1:n_repeat\n",
    "        \n",
    "        k = (i - 1) * n_repeat + j\n",
    "        e = rand(t1, n) / 10\n",
    "        X, y, Z = xyz(n, alpha, theta, beta, gamma, e)\n",
    "        modelk = qgplsim.model(X, Z, y, tau, widthExp)\n",
    "        qgplsim.estimator(modelk, \"optim_qr\")\n",
    "        Alpha3[k, :] = modelk.alpha\n",
    "        Theta3[k, :] = modelk.theta\n",
    "        Gamma3[k, :] = modelk.gamma\n",
    "\n",
    "        \n",
    "    end\n",
    "end"
   ]
  },
  {
   "cell_type": "code",
   "execution_count": 155,
   "id": "c35af225-0c95-41d9-8ceb-eaae1f509c46",
   "metadata": {},
   "outputs": [
    {
     "data": {
      "text/plain": [
       "1×5 Matrix{Float64}:\n",
       " 0.635217  -0.0285129  -0.33521  0.0350691  0.598973"
      ]
     },
     "execution_count": 155,
     "metadata": {},
     "output_type": "execute_result"
    }
   ],
   "source": [
    "mean(Theta3, dims = 1)"
   ]
  },
  {
   "cell_type": "code",
   "execution_count": 264,
   "id": "cd865b15-9fc7-4972-928e-fe8ab5c4f778",
   "metadata": {},
   "outputs": [
    {
     "name": "stdout",
     "output_type": "stream",
     "text": [
      "0.1572008337416937 0.15656874707896248\n"
     ]
    }
   ],
   "source": [
    "EE3 = sqrt.(1 .- abs.(Theta3 * theta)) \n",
    "println(mean(EE3), \" \", std(EE3))"
   ]
  },
  {
   "cell_type": "code",
   "execution_count": 266,
   "id": "78b3e367-b704-463f-a216-1ce65d43a3ed",
   "metadata": {},
   "outputs": [
    {
     "name": "stdout",
     "output_type": "stream",
     "text": [
      "0.10734724786839749 0.10430637727052751\n"
     ]
    }
   ],
   "source": [
    "na3 = norm.([Alpha3[k, :] for k in 1:100] )\n",
    "EEa = sqrt.(abs.(1 .- abs.(Alpha3 ./ na3 * alpha / norm(alpha))))\n",
    "println(mean(EEa), \" \", std(EEa))"
   ]
  },
  {
   "cell_type": "code",
   "execution_count": 157,
   "id": "4991064a-ff3e-449e-8196-66381f567228",
   "metadata": {},
   "outputs": [
    {
     "data": {
      "text/plain": [
       "1×2 Matrix{Float64}:\n",
       " -0.00624061  -0.363546"
      ]
     },
     "execution_count": 157,
     "metadata": {},
     "output_type": "execute_result"
    }
   ],
   "source": [
    "mean(Gamma3, dims = 1)"
   ]
  },
  {
   "cell_type": "markdown",
   "id": "c3eabbe2-900d-44fe-bdcf-d2683398e8ba",
   "metadata": {
    "tags": []
   },
   "source": [
    "### $\\epsilon$ ~ $0.3(N(0, 1)^4 - 3)$"
   ]
  },
  {
   "cell_type": "code",
   "execution_count": 158,
   "id": "631910ff-2e14-4e7c-85f9-306bb031e10a",
   "metadata": {},
   "outputs": [],
   "source": [
    "Alpha4 = zeros(n_repeat * nth, 5)\n",
    "Theta4 = zeros(n_repeat * nth, 5)\n",
    "Gamma4 = zeros(n_repeat * nth, 2)\n",
    "\n",
    "@threads for i in 1:nth\n",
    "    for j in 1:n_repeat\n",
    "        \n",
    "        k = (i - 1) * n_repeat + j\n",
    "        e = randn(n)\n",
    "        e = (e.^4 .- 3) .* 0.3\n",
    "        X, y, Z = xyz(n, alpha, theta, beta, gamma, e)\n",
    "        modelk = qgplsim.model(X, Z, y, tau, widthExp)\n",
    "        qgplsim.estimator(modelk, \"optim_qr\")\n",
    "        Alpha4[k, :] = modelk.alpha\n",
    "        Theta4[k, :] = modelk.theta\n",
    "        Gamma4[k, :] = modelk.gamma\n",
    "        \n",
    "    end\n",
    "end"
   ]
  },
  {
   "cell_type": "code",
   "execution_count": 159,
   "id": "7de8d1f4-6454-45cb-95df-9a4c93c714d6",
   "metadata": {},
   "outputs": [
    {
     "data": {
      "text/plain": [
       "1×5 Matrix{Float64}:\n",
       " 0.623733  -0.0435303  -0.349124  0.0472179  0.553621"
      ]
     },
     "execution_count": 159,
     "metadata": {},
     "output_type": "execute_result"
    }
   ],
   "source": [
    "mean(Theta4, dims = 1)"
   ]
  },
  {
   "cell_type": "code",
   "execution_count": 160,
   "id": "4eaea828-505c-492a-841b-52f1e33161c6",
   "metadata": {},
   "outputs": [
    {
     "name": "stdout",
     "output_type": "stream",
     "text": [
      "0.23493551471318813 0.20054916315879562\n"
     ]
    }
   ],
   "source": [
    "EE4 = sqrt.(1 .- abs.(Theta4 * theta)) \n",
    "println(mean(EE4), \" \", std(EE4))"
   ]
  },
  {
   "cell_type": "code",
   "execution_count": 261,
   "id": "40606d4a-6f00-4e37-8061-b7d56b3a8534",
   "metadata": {},
   "outputs": [],
   "source": [
    "na4 = norm.([Alpha4[k, :] for k in 1:100] )\n",
    "EEa = sqrt.(abs.(1 .- Alpha4./na4 * alpha / norm(alpha)))\n",
    "println(mean(EEa), \" \", std(EEa))"
   ]
  },
  {
   "cell_type": "code",
   "execution_count": 161,
   "id": "f038813b-63e4-4f04-a608-576b4dc36377",
   "metadata": {
    "tags": []
   },
   "outputs": [
    {
     "data": {
      "text/plain": [
       "1×2 Matrix{Float64}:\n",
       " -0.0045003  -0.321222"
      ]
     },
     "execution_count": 161,
     "metadata": {},
     "output_type": "execute_result"
    }
   ],
   "source": [
    "mean(Gamma4, dims = 1)"
   ]
  },
  {
   "cell_type": "markdown",
   "id": "a92c7c43-4acc-4587-8115-f09680940cb6",
   "metadata": {},
   "source": [
    "# Case 3\n",
    "$y = X \\alpha + Z \\beta + log( 1 + exp(X \\theta + Z \\gamma - 1)) + 0.2\\epsilon$"
   ]
  },
  {
   "cell_type": "code",
   "execution_count": 1185,
   "id": "a548118a-e62f-4d2b-b696-08a0cea5f2a5",
   "metadata": {},
   "outputs": [
    {
     "data": {
      "text/plain": [
       "xyz3 (generic function with 2 methods)"
      ]
     },
     "execution_count": 1185,
     "metadata": {},
     "output_type": "execute_result"
    }
   ],
   "source": [
    "n1 = Normal(0, 1)\n",
    "g(x) = cdf(n1, x)\n",
    "\n",
    "function simu_data3(X, α, θ, Z, β, γ, ϵ, tp = 1)\n",
    "    if tp == 1\n",
    "        y = X*α  + Z*β + log.( 1 .+ exp.(X*θ + Z*γ .- 1)) + ϵ\n",
    "    else        \n",
    "        y = X*α  + Z*β + g.((X*θ + Z*γ .- 1).^2) + ϵ\n",
    "    end\n",
    "    y\n",
    "end\n",
    "\n",
    "function xyz3(n, alpha, theta, beta, gamma, e, tp)\n",
    "\n",
    "    U = randn(n, 2)\n",
    "    X = U\n",
    "\n",
    "    Z = zeros(n, 2)\n",
    "    Z[:, 1] = rand(n, 1) .> 0.5\n",
    "    r2 = rand(n, 1)\n",
    "    Z[:, 2] = (r2 .> 0.25) + (r2 .> 0.75)\n",
    "    # Z = Z / 4 * 3\n",
    "    y = simu_data3(X, alpha, theta, Z, beta, gamma, e, tp)\n",
    "    X, y, Z\n",
    "    \n",
    "end"
   ]
  },
  {
   "cell_type": "markdown",
   "id": "d1cdc7d3-345b-4113-abad-4da68e4fad77",
   "metadata": {},
   "source": [
    "## test "
   ]
  },
  {
   "cell_type": "code",
   "execution_count": 1809,
   "id": "9f505cc5-bb14-46fc-aedf-6c10e98152e4",
   "metadata": {},
   "outputs": [
    {
     "data": {
      "text/plain": [
       "1-element Vector{Float64}:\n",
       " 0.5"
      ]
     },
     "execution_count": 1809,
     "metadata": {},
     "output_type": "execute_result"
    }
   ],
   "source": [
    "\n",
    "\n",
    "n = 1000\n",
    "alpha = [1, -2]\n",
    "theta = [2, 1]/sqrt(5)\n",
    "beta = [1.0, -1.0] \n",
    "gamma = [1.0, 1.0] / 2\n",
    "\n",
    "e = eps(n, 3)\n",
    "\n",
    "X, y, Z = xyz3(n, alpha, theta, beta, gamma, 0.2e, 2)\n",
    "\n",
    "tau = [0.5]\n"
   ]
  },
  {
   "cell_type": "code",
   "execution_count": 1810,
   "id": "2dbb64dc-f948-497d-a21a-c1014d41e648",
   "metadata": {
    "tags": []
   },
   "outputs": [
    {
     "name": "stdout",
     "output_type": "stream",
     "text": [
      "alpha => [0.9655, -2.0082]\n",
      "theta => [0.9012, 0.4333]\n",
      "gamma => [0.4928, 0.5889]\n",
      "beta => [0.9377, -1.0505]\n"
     ]
    },
    {
     "name": "stderr",
     "output_type": "stream",
     "text": [
      "WARNING: replacing module qgplsim.\n"
     ]
    }
   ],
   "source": [
    "include(\"./src/qgplsim.ji\")\n",
    "widthExp = -0.2\n",
    "method = \"gurobi\" \n",
    "model1 = qgplsim.model(X, Z, y, tau, widthExp)\n",
    "qgplsim.estimator(model1, method)\n",
    "\n",
    "qgplsim.print_model(model1)"
   ]
  },
  {
   "cell_type": "markdown",
   "id": "de527f30-99f7-4802-99c1-ffd1bc326b54",
   "metadata": {
    "tags": []
   },
   "source": [
    "## Monte Carlo Simulation"
   ]
  },
  {
   "cell_type": "code",
   "execution_count": 1359,
   "id": "8cf3a6aa-06e7-40d0-b43b-98702f8883ad",
   "metadata": {
    "jp-MarkdownHeadingCollapsed": true,
    "tags": []
   },
   "outputs": [
    {
     "data": {
      "text/plain": [
       "40"
      ]
     },
     "execution_count": 1359,
     "metadata": {},
     "output_type": "execute_result"
    }
   ],
   "source": [
    "using Base.Threads\n",
    "nth = Threads.nthreads()\n",
    "n_repeat = 10\n",
    "n_repeat * nth"
   ]
  },
  {
   "cell_type": "code",
   "execution_count": 1828,
   "id": "e74f6f89-871c-46fb-b189-0058f06487fe",
   "metadata": {},
   "outputs": [
    {
     "name": "stderr",
     "output_type": "stream",
     "text": [
      "WARNING: replacing module qgplsim.\n"
     ]
    },
    {
     "data": {
      "text/plain": [
       "Main.qgplsim"
      ]
     },
     "execution_count": 1828,
     "metadata": {},
     "output_type": "execute_result"
    }
   ],
   "source": [
    "n = 1000\n",
    "alpha = [1, -2]\n",
    "theta = [2, 1]/sqrt(5)\n",
    "beta = [1.0, -1.0]\n",
    "gamma = [1.0, 1.0]/2\n",
    "tau = [0.5]\n",
    "widthExp = -0.2\n",
    "method = \"gurobi\"\n",
    "include(\"./src/qgplsim.ji\")\n"
   ]
  },
  {
   "cell_type": "code",
   "execution_count": 1683,
   "id": "a4869c0e-e377-40b6-8200-40d1b26ef07d",
   "metadata": {
    "tags": []
   },
   "outputs": [],
   "source": [
    "Alpha1 = zeros(n_repeat * nth, 2)\n",
    "Theta1 = zeros(n_repeat * nth, 2)\n",
    "Gamma1 = zeros(n_repeat * nth, 2)\n",
    "Beta1 = zeros(n_repeat * nth, 2)\n",
    "\n",
    "@threads for i in 1:nth\n",
    "    for j in 1:n_repeat\n",
    "        \n",
    "        k = (i - 1) * n_repeat + j\n",
    "        e = eps(n, 3)\n",
    "        X, y, Z = xyz3(n, alpha, theta, beta, gamma, 0.2e, 1)\n",
    "\n",
    "        modelk = qgplsim.model(X, Z, y, tau, widthExp)\n",
    "        qgplsim.estimator(modelk, method)\n",
    "        Alpha1[k, :] = modelk.alpha\n",
    "        Theta1[k, :] = modelk.theta\n",
    "        Gamma1[k, :] = modelk.gamma\n",
    "        Beta1[k, :] = modelk.beta\n",
    "\n",
    "    end\n",
    "end\n",
    "\n"
   ]
  },
  {
   "cell_type": "code",
   "execution_count": 1684,
   "id": "dcd64a72-f5a6-4da4-93b1-a2e990320110",
   "metadata": {},
   "outputs": [
    {
     "name": "stdout",
     "output_type": "stream",
     "text": [
      "0.006022811811950796 0.008839408125238932\n"
     ]
    }
   ],
   "source": [
    "EE1 = sqrt.(1 .- abs.(Theta1 * theta)) \n",
    "println(mean(EE1), \" \", std(EE1))"
   ]
  },
  {
   "cell_type": "code",
   "execution_count": 1685,
   "id": "b86fffa7-fdf0-4a8a-bb3a-a7750371ba5f",
   "metadata": {},
   "outputs": [
    {
     "data": {
      "text/plain": [
       "1×2 Matrix{Float64}:\n",
       " 0.894721  0.446375"
      ]
     },
     "execution_count": 1685,
     "metadata": {},
     "output_type": "execute_result"
    }
   ],
   "source": [
    "mt = mean(Theta1, dims = 1)"
   ]
  },
  {
   "cell_type": "code",
   "execution_count": 1686,
   "id": "a8f17f1d-ba46-41bd-b372-0d698ff93bc7",
   "metadata": {},
   "outputs": [
    {
     "data": {
      "text/plain": [
       "1×2 Matrix{Float64}:\n",
       " 0.997852  -1.99985"
      ]
     },
     "execution_count": 1686,
     "metadata": {},
     "output_type": "execute_result"
    }
   ],
   "source": [
    "ma = mean(Alpha1, dims = 1)"
   ]
  },
  {
   "cell_type": "code",
   "execution_count": 1687,
   "id": "aa55a94e-0d24-47bd-b2de-5ce9ae865c36",
   "metadata": {},
   "outputs": [
    {
     "data": {
      "text/plain": [
       "(0.006379858032661406, 0.007174237726972238)"
      ]
     },
     "execution_count": 1687,
     "metadata": {},
     "output_type": "execute_result"
    }
   ],
   "source": [
    "euclid(Alpha1, alpha)"
   ]
  },
  {
   "cell_type": "code",
   "execution_count": 1688,
   "id": "9e446152-73d8-4387-a360-469b8df600e6",
   "metadata": {},
   "outputs": [
    {
     "data": {
      "image/svg+xml": [
       "<?xml version=\"1.0\" encoding=\"utf-8\"?>\n",
       "<svg xmlns=\"http://www.w3.org/2000/svg\" xmlns:xlink=\"http://www.w3.org/1999/xlink\" width=\"600\" height=\"400\" viewBox=\"0 0 2400 1600\">\n",
       "<defs>\n",
       "  <clipPath id=\"clip400\">\n",
       "    <rect x=\"0\" y=\"0\" width=\"2400\" height=\"1600\"/>\n",
       "  </clipPath>\n",
       "</defs>\n",
       "<path clip-path=\"url(#clip400)\" d=\"\n",
       "M0 1600 L2400 1600 L2400 0 L0 0  Z\n",
       "  \" fill=\"#ffffff\" fill-rule=\"evenodd\" fill-opacity=\"1\"/>\n",
       "<defs>\n",
       "  <clipPath id=\"clip401\">\n",
       "    <rect x=\"480\" y=\"0\" width=\"1681\" height=\"1600\"/>\n",
       "  </clipPath>\n",
       "</defs>\n",
       "<path clip-path=\"url(#clip400)\" d=\"\n",
       "M138.959 1486.45 L2352.76 1486.45 L2352.76 47.2441 L138.959 47.2441  Z\n",
       "  \" fill=\"#ffffff\" fill-rule=\"evenodd\" fill-opacity=\"1\"/>\n",
       "<defs>\n",
       "  <clipPath id=\"clip402\">\n",
       "    <rect x=\"138\" y=\"47\" width=\"2215\" height=\"1440\"/>\n",
       "  </clipPath>\n",
       "</defs>\n",
       "<polyline clip-path=\"url(#clip402)\" style=\"stroke:#000000; stroke-linecap:butt; stroke-linejoin:round; stroke-width:2; stroke-opacity:0.1; fill:none\" points=\"\n",
       "  507.006,1486.45 507.006,47.2441 \n",
       "  \"/>\n",
       "<polyline clip-path=\"url(#clip402)\" style=\"stroke:#000000; stroke-linecap:butt; stroke-linejoin:round; stroke-width:2; stroke-opacity:0.1; fill:none\" points=\"\n",
       "  917.479,1486.45 917.479,47.2441 \n",
       "  \"/>\n",
       "<polyline clip-path=\"url(#clip402)\" style=\"stroke:#000000; stroke-linecap:butt; stroke-linejoin:round; stroke-width:2; stroke-opacity:0.1; fill:none\" points=\"\n",
       "  1327.95,1486.45 1327.95,47.2441 \n",
       "  \"/>\n",
       "<polyline clip-path=\"url(#clip402)\" style=\"stroke:#000000; stroke-linecap:butt; stroke-linejoin:round; stroke-width:2; stroke-opacity:0.1; fill:none\" points=\"\n",
       "  1738.43,1486.45 1738.43,47.2441 \n",
       "  \"/>\n",
       "<polyline clip-path=\"url(#clip402)\" style=\"stroke:#000000; stroke-linecap:butt; stroke-linejoin:round; stroke-width:2; stroke-opacity:0.1; fill:none\" points=\"\n",
       "  2148.9,1486.45 2148.9,47.2441 \n",
       "  \"/>\n",
       "<polyline clip-path=\"url(#clip400)\" style=\"stroke:#000000; stroke-linecap:butt; stroke-linejoin:round; stroke-width:4; stroke-opacity:1; fill:none\" points=\"\n",
       "  138.959,1486.45 2352.76,1486.45 \n",
       "  \"/>\n",
       "<polyline clip-path=\"url(#clip400)\" style=\"stroke:#000000; stroke-linecap:butt; stroke-linejoin:round; stroke-width:4; stroke-opacity:1; fill:none\" points=\"\n",
       "  507.006,1486.45 507.006,1467.55 \n",
       "  \"/>\n",
       "<polyline clip-path=\"url(#clip400)\" style=\"stroke:#000000; stroke-linecap:butt; stroke-linejoin:round; stroke-width:4; stroke-opacity:1; fill:none\" points=\"\n",
       "  917.479,1486.45 917.479,1467.55 \n",
       "  \"/>\n",
       "<polyline clip-path=\"url(#clip400)\" style=\"stroke:#000000; stroke-linecap:butt; stroke-linejoin:round; stroke-width:4; stroke-opacity:1; fill:none\" points=\"\n",
       "  1327.95,1486.45 1327.95,1467.55 \n",
       "  \"/>\n",
       "<polyline clip-path=\"url(#clip400)\" style=\"stroke:#000000; stroke-linecap:butt; stroke-linejoin:round; stroke-width:4; stroke-opacity:1; fill:none\" points=\"\n",
       "  1738.43,1486.45 1738.43,1467.55 \n",
       "  \"/>\n",
       "<polyline clip-path=\"url(#clip400)\" style=\"stroke:#000000; stroke-linecap:butt; stroke-linejoin:round; stroke-width:4; stroke-opacity:1; fill:none\" points=\"\n",
       "  2148.9,1486.45 2148.9,1467.55 \n",
       "  \"/>\n",
       "<path clip-path=\"url(#clip400)\" d=\"M469.807 1517.37 Q466.196 1517.37 464.367 1520.93 Q462.562 1524.47 462.562 1531.6 Q462.562 1538.71 464.367 1542.27 Q466.196 1545.82 469.807 1545.82 Q473.441 1545.82 475.247 1542.27 Q477.076 1538.71 477.076 1531.6 Q477.076 1524.47 475.247 1520.93 Q473.441 1517.37 469.807 1517.37 M469.807 1513.66 Q475.617 1513.66 478.673 1518.27 Q481.752 1522.85 481.752 1531.6 Q481.752 1540.33 478.673 1544.94 Q475.617 1549.52 469.807 1549.52 Q463.997 1549.52 460.918 1544.94 Q457.863 1540.33 457.863 1531.6 Q457.863 1522.85 460.918 1518.27 Q463.997 1513.66 469.807 1513.66 Z\" fill=\"#000000\" fill-rule=\"evenodd\" fill-opacity=\"1\" /><path clip-path=\"url(#clip400)\" d=\"M489.969 1542.97 L494.853 1542.97 L494.853 1548.85 L489.969 1548.85 L489.969 1542.97 Z\" fill=\"#000000\" fill-rule=\"evenodd\" fill-opacity=\"1\" /><path clip-path=\"url(#clip400)\" d=\"M515.038 1532.44 Q511.705 1532.44 509.784 1534.22 Q507.886 1536 507.886 1539.13 Q507.886 1542.25 509.784 1544.03 Q511.705 1545.82 515.038 1545.82 Q518.372 1545.82 520.293 1544.03 Q522.214 1542.23 522.214 1539.13 Q522.214 1536 520.293 1534.22 Q518.395 1532.44 515.038 1532.44 M510.363 1530.45 Q507.353 1529.7 505.663 1527.64 Q503.997 1525.58 503.997 1522.62 Q503.997 1518.48 506.937 1516.07 Q509.9 1513.66 515.038 1513.66 Q520.2 1513.66 523.14 1516.07 Q526.08 1518.48 526.08 1522.62 Q526.08 1525.58 524.39 1527.64 Q522.724 1529.7 519.737 1530.45 Q523.117 1531.23 524.992 1533.52 Q526.89 1535.82 526.89 1539.13 Q526.89 1544.15 523.812 1546.83 Q520.756 1549.52 515.038 1549.52 Q509.321 1549.52 506.242 1546.83 Q503.187 1544.15 503.187 1539.13 Q503.187 1535.82 505.085 1533.52 Q506.983 1531.23 510.363 1530.45 M508.65 1523.06 Q508.65 1525.75 510.316 1527.25 Q512.006 1528.76 515.038 1528.76 Q518.048 1528.76 519.737 1527.25 Q521.45 1525.75 521.45 1523.06 Q521.45 1520.38 519.737 1518.87 Q518.048 1517.37 515.038 1517.37 Q512.006 1517.37 510.316 1518.87 Q508.65 1520.38 508.65 1523.06 Z\" fill=\"#000000\" fill-rule=\"evenodd\" fill-opacity=\"1\" /><path clip-path=\"url(#clip400)\" d=\"M535.247 1514.29 L553.603 1514.29 L553.603 1518.22 L539.529 1518.22 L539.529 1526.7 Q540.548 1526.35 541.566 1526.19 Q542.585 1526 543.603 1526 Q549.39 1526 552.77 1529.17 Q556.149 1532.34 556.149 1537.76 Q556.149 1543.34 552.677 1546.44 Q549.205 1549.52 542.885 1549.52 Q540.71 1549.52 538.441 1549.15 Q536.196 1548.78 533.788 1548.04 L533.788 1543.34 Q535.872 1544.47 538.094 1545.03 Q540.316 1545.58 542.793 1545.58 Q546.798 1545.58 549.135 1543.48 Q551.473 1541.37 551.473 1537.76 Q551.473 1534.15 549.135 1532.04 Q546.798 1529.94 542.793 1529.94 Q540.918 1529.94 539.043 1530.35 Q537.191 1530.77 535.247 1531.65 L535.247 1514.29 Z\" fill=\"#000000\" fill-rule=\"evenodd\" fill-opacity=\"1\" /><path clip-path=\"url(#clip400)\" d=\"M879.783 1517.37 Q876.172 1517.37 874.343 1520.93 Q872.537 1524.47 872.537 1531.6 Q872.537 1538.71 874.343 1542.27 Q876.172 1545.82 879.783 1545.82 Q883.417 1545.82 885.222 1542.27 Q887.051 1538.71 887.051 1531.6 Q887.051 1524.47 885.222 1520.93 Q883.417 1517.37 879.783 1517.37 M879.783 1513.66 Q885.593 1513.66 888.648 1518.27 Q891.727 1522.85 891.727 1531.6 Q891.727 1540.33 888.648 1544.94 Q885.593 1549.52 879.783 1549.52 Q873.972 1549.52 870.894 1544.94 Q867.838 1540.33 867.838 1531.6 Q867.838 1522.85 870.894 1518.27 Q873.972 1513.66 879.783 1513.66 Z\" fill=\"#000000\" fill-rule=\"evenodd\" fill-opacity=\"1\" /><path clip-path=\"url(#clip400)\" d=\"M899.945 1542.97 L904.829 1542.97 L904.829 1548.85 L899.945 1548.85 L899.945 1542.97 Z\" fill=\"#000000\" fill-rule=\"evenodd\" fill-opacity=\"1\" /><path clip-path=\"url(#clip400)\" d=\"M915.153 1548.13 L915.153 1543.87 Q916.912 1544.7 918.718 1545.14 Q920.523 1545.58 922.259 1545.58 Q926.889 1545.58 929.319 1542.48 Q931.773 1539.36 932.12 1533.01 Q930.778 1535.01 928.718 1536.07 Q926.657 1537.13 924.157 1537.13 Q918.972 1537.13 915.94 1534.01 Q912.931 1530.86 912.931 1525.42 Q912.931 1520.1 916.079 1516.88 Q919.227 1513.66 924.458 1513.66 Q930.454 1513.66 933.602 1518.27 Q936.773 1522.85 936.773 1531.6 Q936.773 1539.77 932.884 1544.66 Q929.018 1549.52 922.468 1549.52 Q920.708 1549.52 918.903 1549.17 Q917.097 1548.82 915.153 1548.13 M924.458 1533.48 Q927.606 1533.48 929.435 1531.32 Q931.287 1529.17 931.287 1525.42 Q931.287 1521.7 929.435 1519.54 Q927.606 1517.37 924.458 1517.37 Q921.31 1517.37 919.458 1519.54 Q917.63 1521.7 917.63 1525.42 Q917.63 1529.17 919.458 1531.32 Q921.31 1533.48 924.458 1533.48 Z\" fill=\"#000000\" fill-rule=\"evenodd\" fill-opacity=\"1\" /><path clip-path=\"url(#clip400)\" d=\"M955.176 1517.37 Q951.565 1517.37 949.736 1520.93 Q947.93 1524.47 947.93 1531.6 Q947.93 1538.71 949.736 1542.27 Q951.565 1545.82 955.176 1545.82 Q958.81 1545.82 960.616 1542.27 Q962.444 1538.71 962.444 1531.6 Q962.444 1524.47 960.616 1520.93 Q958.81 1517.37 955.176 1517.37 M955.176 1513.66 Q960.986 1513.66 964.041 1518.27 Q967.12 1522.85 967.12 1531.6 Q967.12 1540.33 964.041 1544.94 Q960.986 1549.52 955.176 1549.52 Q949.366 1549.52 946.287 1544.94 Q943.231 1540.33 943.231 1531.6 Q943.231 1522.85 946.287 1518.27 Q949.366 1513.66 955.176 1513.66 Z\" fill=\"#000000\" fill-rule=\"evenodd\" fill-opacity=\"1\" /><path clip-path=\"url(#clip400)\" d=\"M1290.75 1517.37 Q1287.14 1517.37 1285.31 1520.93 Q1283.51 1524.47 1283.51 1531.6 Q1283.51 1538.71 1285.31 1542.27 Q1287.14 1545.82 1290.75 1545.82 Q1294.39 1545.82 1296.19 1542.27 Q1298.02 1538.71 1298.02 1531.6 Q1298.02 1524.47 1296.19 1520.93 Q1294.39 1517.37 1290.75 1517.37 M1290.75 1513.66 Q1296.56 1513.66 1299.62 1518.27 Q1302.7 1522.85 1302.7 1531.6 Q1302.7 1540.33 1299.62 1544.94 Q1296.56 1549.52 1290.75 1549.52 Q1284.94 1549.52 1281.86 1544.94 Q1278.81 1540.33 1278.81 1531.6 Q1278.81 1522.85 1281.86 1518.27 Q1284.94 1513.66 1290.75 1513.66 Z\" fill=\"#000000\" fill-rule=\"evenodd\" fill-opacity=\"1\" /><path clip-path=\"url(#clip400)\" d=\"M1310.92 1542.97 L1315.8 1542.97 L1315.8 1548.85 L1310.92 1548.85 L1310.92 1542.97 Z\" fill=\"#000000\" fill-rule=\"evenodd\" fill-opacity=\"1\" /><path clip-path=\"url(#clip400)\" d=\"M1326.12 1548.13 L1326.12 1543.87 Q1327.88 1544.7 1329.69 1545.14 Q1331.49 1545.58 1333.23 1545.58 Q1337.86 1545.58 1340.29 1542.48 Q1342.74 1539.36 1343.09 1533.01 Q1341.75 1535.01 1339.69 1536.07 Q1337.63 1537.13 1335.13 1537.13 Q1329.94 1537.13 1326.91 1534.01 Q1323.9 1530.86 1323.9 1525.42 Q1323.9 1520.1 1327.05 1516.88 Q1330.2 1513.66 1335.43 1513.66 Q1341.42 1513.66 1344.57 1518.27 Q1347.74 1522.85 1347.74 1531.6 Q1347.74 1539.77 1343.85 1544.66 Q1339.99 1549.52 1333.44 1549.52 Q1331.68 1549.52 1329.87 1549.17 Q1328.07 1548.82 1326.12 1548.13 M1335.43 1533.48 Q1338.58 1533.48 1340.41 1531.32 Q1342.26 1529.17 1342.26 1525.42 Q1342.26 1521.7 1340.41 1519.54 Q1338.58 1517.37 1335.43 1517.37 Q1332.28 1517.37 1330.43 1519.54 Q1328.6 1521.7 1328.6 1525.42 Q1328.6 1529.17 1330.43 1531.32 Q1332.28 1533.48 1335.43 1533.48 Z\" fill=\"#000000\" fill-rule=\"evenodd\" fill-opacity=\"1\" /><path clip-path=\"url(#clip400)\" d=\"M1356.19 1514.29 L1374.55 1514.29 L1374.55 1518.22 L1360.48 1518.22 L1360.48 1526.7 Q1361.49 1526.35 1362.51 1526.19 Q1363.53 1526 1364.55 1526 Q1370.34 1526 1373.72 1529.17 Q1377.1 1532.34 1377.1 1537.76 Q1377.1 1543.34 1373.62 1546.44 Q1370.15 1549.52 1363.83 1549.52 Q1361.66 1549.52 1359.39 1549.15 Q1357.14 1548.78 1354.73 1548.04 L1354.73 1543.34 Q1356.82 1544.47 1359.04 1545.03 Q1361.26 1545.58 1363.74 1545.58 Q1367.74 1545.58 1370.08 1543.48 Q1372.42 1541.37 1372.42 1537.76 Q1372.42 1534.15 1370.08 1532.04 Q1367.74 1529.94 1363.74 1529.94 Q1361.86 1529.94 1359.99 1530.35 Q1358.14 1530.77 1356.19 1531.65 L1356.19 1514.29 Z\" fill=\"#000000\" fill-rule=\"evenodd\" fill-opacity=\"1\" /><path clip-path=\"url(#clip400)\" d=\"M1690.5 1544.91 L1698.14 1544.91 L1698.14 1518.55 L1689.83 1520.21 L1689.83 1515.95 L1698.09 1514.29 L1702.77 1514.29 L1702.77 1544.91 L1710.4 1544.91 L1710.4 1548.85 L1690.5 1548.85 L1690.5 1544.91 Z\" fill=\"#000000\" fill-rule=\"evenodd\" fill-opacity=\"1\" /><path clip-path=\"url(#clip400)\" d=\"M1719.85 1542.97 L1724.73 1542.97 L1724.73 1548.85 L1719.85 1548.85 L1719.85 1542.97 Z\" fill=\"#000000\" fill-rule=\"evenodd\" fill-opacity=\"1\" /><path clip-path=\"url(#clip400)\" d=\"M1744.92 1517.37 Q1741.31 1517.37 1739.48 1520.93 Q1737.67 1524.47 1737.67 1531.6 Q1737.67 1538.71 1739.48 1542.27 Q1741.31 1545.82 1744.92 1545.82 Q1748.55 1545.82 1750.36 1542.27 Q1752.19 1538.71 1752.19 1531.6 Q1752.19 1524.47 1750.36 1520.93 Q1748.55 1517.37 1744.92 1517.37 M1744.92 1513.66 Q1750.73 1513.66 1753.78 1518.27 Q1756.86 1522.85 1756.86 1531.6 Q1756.86 1540.33 1753.78 1544.94 Q1750.73 1549.52 1744.92 1549.52 Q1739.11 1549.52 1736.03 1544.94 Q1732.97 1540.33 1732.97 1531.6 Q1732.97 1522.85 1736.03 1518.27 Q1739.11 1513.66 1744.92 1513.66 Z\" fill=\"#000000\" fill-rule=\"evenodd\" fill-opacity=\"1\" /><path clip-path=\"url(#clip400)\" d=\"M1775.08 1517.37 Q1771.47 1517.37 1769.64 1520.93 Q1767.83 1524.47 1767.83 1531.6 Q1767.83 1538.71 1769.64 1542.27 Q1771.47 1545.82 1775.08 1545.82 Q1778.71 1545.82 1780.52 1542.27 Q1782.35 1538.71 1782.35 1531.6 Q1782.35 1524.47 1780.52 1520.93 Q1778.71 1517.37 1775.08 1517.37 M1775.08 1513.66 Q1780.89 1513.66 1783.95 1518.27 Q1787.02 1522.85 1787.02 1531.6 Q1787.02 1540.33 1783.95 1544.94 Q1780.89 1549.52 1775.08 1549.52 Q1769.27 1549.52 1766.19 1544.94 Q1763.14 1540.33 1763.14 1531.6 Q1763.14 1522.85 1766.19 1518.27 Q1769.27 1513.66 1775.08 1513.66 Z\" fill=\"#000000\" fill-rule=\"evenodd\" fill-opacity=\"1\" /><path clip-path=\"url(#clip400)\" d=\"M2101.47 1544.91 L2109.11 1544.91 L2109.11 1518.55 L2100.8 1520.21 L2100.8 1515.95 L2109.06 1514.29 L2113.74 1514.29 L2113.74 1544.91 L2121.38 1544.91 L2121.38 1548.85 L2101.47 1548.85 L2101.47 1544.91 Z\" fill=\"#000000\" fill-rule=\"evenodd\" fill-opacity=\"1\" /><path clip-path=\"url(#clip400)\" d=\"M2130.82 1542.97 L2135.7 1542.97 L2135.7 1548.85 L2130.82 1548.85 L2130.82 1542.97 Z\" fill=\"#000000\" fill-rule=\"evenodd\" fill-opacity=\"1\" /><path clip-path=\"url(#clip400)\" d=\"M2155.89 1517.37 Q2152.28 1517.37 2150.45 1520.93 Q2148.64 1524.47 2148.64 1531.6 Q2148.64 1538.71 2150.45 1542.27 Q2152.28 1545.82 2155.89 1545.82 Q2159.52 1545.82 2161.33 1542.27 Q2163.16 1538.71 2163.16 1531.6 Q2163.16 1524.47 2161.33 1520.93 Q2159.52 1517.37 2155.89 1517.37 M2155.89 1513.66 Q2161.7 1513.66 2164.75 1518.27 Q2167.83 1522.85 2167.83 1531.6 Q2167.83 1540.33 2164.75 1544.94 Q2161.7 1549.52 2155.89 1549.52 Q2150.08 1549.52 2147 1544.94 Q2143.94 1540.33 2143.94 1531.6 Q2143.94 1522.85 2147 1518.27 Q2150.08 1513.66 2155.89 1513.66 Z\" fill=\"#000000\" fill-rule=\"evenodd\" fill-opacity=\"1\" /><path clip-path=\"url(#clip400)\" d=\"M2176.1 1514.29 L2194.45 1514.29 L2194.45 1518.22 L2180.38 1518.22 L2180.38 1526.7 Q2181.4 1526.35 2182.42 1526.19 Q2183.44 1526 2184.45 1526 Q2190.24 1526 2193.62 1529.17 Q2197 1532.34 2197 1537.76 Q2197 1543.34 2193.53 1546.44 Q2190.06 1549.52 2183.74 1549.52 Q2181.56 1549.52 2179.29 1549.15 Q2177.05 1548.78 2174.64 1548.04 L2174.64 1543.34 Q2176.72 1544.47 2178.94 1545.03 Q2181.17 1545.58 2183.64 1545.58 Q2187.65 1545.58 2189.99 1543.48 Q2192.32 1541.37 2192.32 1537.76 Q2192.32 1534.15 2189.99 1532.04 Q2187.65 1529.94 2183.64 1529.94 Q2181.77 1529.94 2179.89 1530.35 Q2178.04 1530.77 2176.1 1531.65 L2176.1 1514.29 Z\" fill=\"#000000\" fill-rule=\"evenodd\" fill-opacity=\"1\" /><polyline clip-path=\"url(#clip402)\" style=\"stroke:#000000; stroke-linecap:butt; stroke-linejoin:round; stroke-width:2; stroke-opacity:0.1; fill:none\" points=\"\n",
       "  138.959,1445.72 2352.76,1445.72 \n",
       "  \"/>\n",
       "<polyline clip-path=\"url(#clip402)\" style=\"stroke:#000000; stroke-linecap:butt; stroke-linejoin:round; stroke-width:2; stroke-opacity:0.1; fill:none\" points=\"\n",
       "  138.959,1021.42 2352.76,1021.42 \n",
       "  \"/>\n",
       "<polyline clip-path=\"url(#clip402)\" style=\"stroke:#000000; stroke-linecap:butt; stroke-linejoin:round; stroke-width:2; stroke-opacity:0.1; fill:none\" points=\"\n",
       "  138.959,597.129 2352.76,597.129 \n",
       "  \"/>\n",
       "<polyline clip-path=\"url(#clip402)\" style=\"stroke:#000000; stroke-linecap:butt; stroke-linejoin:round; stroke-width:2; stroke-opacity:0.1; fill:none\" points=\"\n",
       "  138.959,172.835 2352.76,172.835 \n",
       "  \"/>\n",
       "<polyline clip-path=\"url(#clip400)\" style=\"stroke:#000000; stroke-linecap:butt; stroke-linejoin:round; stroke-width:4; stroke-opacity:1; fill:none\" points=\"\n",
       "  138.959,1486.45 138.959,47.2441 \n",
       "  \"/>\n",
       "<polyline clip-path=\"url(#clip400)\" style=\"stroke:#000000; stroke-linecap:butt; stroke-linejoin:round; stroke-width:4; stroke-opacity:1; fill:none\" points=\"\n",
       "  138.959,1445.72 157.857,1445.72 \n",
       "  \"/>\n",
       "<polyline clip-path=\"url(#clip400)\" style=\"stroke:#000000; stroke-linecap:butt; stroke-linejoin:round; stroke-width:4; stroke-opacity:1; fill:none\" points=\"\n",
       "  138.959,1021.42 157.857,1021.42 \n",
       "  \"/>\n",
       "<polyline clip-path=\"url(#clip400)\" style=\"stroke:#000000; stroke-linecap:butt; stroke-linejoin:round; stroke-width:4; stroke-opacity:1; fill:none\" points=\"\n",
       "  138.959,597.129 157.857,597.129 \n",
       "  \"/>\n",
       "<polyline clip-path=\"url(#clip400)\" style=\"stroke:#000000; stroke-linecap:butt; stroke-linejoin:round; stroke-width:4; stroke-opacity:1; fill:none\" points=\"\n",
       "  138.959,172.835 157.857,172.835 \n",
       "  \"/>\n",
       "<path clip-path=\"url(#clip400)\" d=\"M91.0151 1431.51 Q87.404 1431.51 85.5753 1435.08 Q83.7697 1438.62 83.7697 1445.75 Q83.7697 1452.86 85.5753 1456.42 Q87.404 1459.96 91.0151 1459.96 Q94.6493 1459.96 96.4548 1456.42 Q98.2835 1452.86 98.2835 1445.75 Q98.2835 1438.62 96.4548 1435.08 Q94.6493 1431.51 91.0151 1431.51 M91.0151 1427.81 Q96.8252 1427.81 99.8808 1432.42 Q102.959 1437 102.959 1445.75 Q102.959 1454.48 99.8808 1459.08 Q96.8252 1463.67 91.0151 1463.67 Q85.2049 1463.67 82.1262 1459.08 Q79.0707 1454.48 79.0707 1445.75 Q79.0707 1437 82.1262 1432.42 Q85.2049 1427.81 91.0151 1427.81 Z\" fill=\"#000000\" fill-rule=\"evenodd\" fill-opacity=\"1\" /><path clip-path=\"url(#clip400)\" d=\"M82.0568 1004.14 L100.413 1004.14 L100.413 1008.08 L86.3392 1008.08 L86.3392 1016.55 Q87.3577 1016.2 88.3762 1016.04 Q89.3947 1015.86 90.4132 1015.86 Q96.2002 1015.86 99.5798 1019.03 Q102.959 1022.2 102.959 1027.61 Q102.959 1033.19 99.4872 1036.29 Q96.015 1039.37 89.6956 1039.37 Q87.5197 1039.37 85.2512 1039 Q83.0058 1038.63 80.5984 1037.89 L80.5984 1033.19 Q82.6818 1034.33 84.904 1034.88 Q87.1262 1035.44 89.603 1035.44 Q93.6076 1035.44 95.9456 1033.33 Q98.2835 1031.23 98.2835 1027.61 Q98.2835 1024 95.9456 1021.9 Q93.6076 1019.79 89.603 1019.79 Q87.728 1019.79 85.8531 1020.21 Q84.0012 1020.62 82.0568 1021.5 L82.0568 1004.14 Z\" fill=\"#000000\" fill-rule=\"evenodd\" fill-opacity=\"1\" /><path clip-path=\"url(#clip400)\" d=\"M51.6634 610.473 L59.3023 610.473 L59.3023 584.108 L50.9921 585.774 L50.9921 581.515 L59.256 579.849 L63.9319 579.849 L63.9319 610.473 L71.5707 610.473 L71.5707 614.409 L51.6634 614.409 L51.6634 610.473 Z\" fill=\"#000000\" fill-rule=\"evenodd\" fill-opacity=\"1\" /><path clip-path=\"url(#clip400)\" d=\"M91.0151 582.927 Q87.404 582.927 85.5753 586.492 Q83.7697 590.034 83.7697 597.163 Q83.7697 604.27 85.5753 607.835 Q87.404 611.376 91.0151 611.376 Q94.6493 611.376 96.4548 607.835 Q98.2835 604.27 98.2835 597.163 Q98.2835 590.034 96.4548 586.492 Q94.6493 582.927 91.0151 582.927 M91.0151 579.224 Q96.8252 579.224 99.8808 583.83 Q102.959 588.413 102.959 597.163 Q102.959 605.89 99.8808 610.497 Q96.8252 615.08 91.0151 615.08 Q85.2049 615.08 82.1262 610.497 Q79.0707 605.89 79.0707 597.163 Q79.0707 588.413 82.1262 583.83 Q85.2049 579.224 91.0151 579.224 Z\" fill=\"#000000\" fill-rule=\"evenodd\" fill-opacity=\"1\" /><path clip-path=\"url(#clip400)\" d=\"M52.6588 186.18 L60.2976 186.18 L60.2976 159.814 L51.9875 161.481 L51.9875 157.222 L60.2513 155.555 L64.9272 155.555 L64.9272 186.18 L72.5661 186.18 L72.5661 190.115 L52.6588 190.115 L52.6588 186.18 Z\" fill=\"#000000\" fill-rule=\"evenodd\" fill-opacity=\"1\" /><path clip-path=\"url(#clip400)\" d=\"M82.0568 155.555 L100.413 155.555 L100.413 159.49 L86.3392 159.49 L86.3392 167.962 Q87.3577 167.615 88.3762 167.453 Q89.3947 167.268 90.4132 167.268 Q96.2002 167.268 99.5798 170.439 Q102.959 173.61 102.959 179.027 Q102.959 184.606 99.4872 187.708 Q96.015 190.786 89.6956 190.786 Q87.5197 190.786 85.2512 190.416 Q83.0058 190.046 80.5984 189.305 L80.5984 184.606 Q82.6818 185.74 84.904 186.296 Q87.1262 186.851 89.603 186.851 Q93.6076 186.851 95.9456 184.745 Q98.2835 182.638 98.2835 179.027 Q98.2835 175.416 95.9456 173.31 Q93.6076 171.203 89.603 171.203 Q87.728 171.203 85.8531 171.62 Q84.0012 172.036 82.0568 172.916 L82.0568 155.555 Z\" fill=\"#000000\" fill-rule=\"evenodd\" fill-opacity=\"1\" /><path clip-path=\"url(#clip402)\" d=\"\n",
       "M260.722 1360.86 L260.722 1445.72 L424.911 1445.72 L424.911 1360.86 L260.722 1360.86 L260.722 1360.86  Z\n",
       "  \" fill=\"#009af9\" fill-rule=\"evenodd\" fill-opacity=\"1\"/>\n",
       "<polyline clip-path=\"url(#clip402)\" style=\"stroke:#000000; stroke-linecap:butt; stroke-linejoin:round; stroke-width:4; stroke-opacity:1; fill:none\" points=\"\n",
       "  260.722,1360.86 260.722,1445.72 424.911,1445.72 424.911,1360.86 260.722,1360.86 \n",
       "  \"/>\n",
       "<path clip-path=\"url(#clip402)\" d=\"\n",
       "M424.911 1445.72 L424.911 1445.72 L589.101 1445.72 L589.101 1445.72 L424.911 1445.72 L424.911 1445.72  Z\n",
       "  \" fill=\"#009af9\" fill-rule=\"evenodd\" fill-opacity=\"1\"/>\n",
       "<polyline clip-path=\"url(#clip402)\" style=\"stroke:#000000; stroke-linecap:butt; stroke-linejoin:round; stroke-width:4; stroke-opacity:1; fill:none\" points=\"\n",
       "  424.911,1445.72 424.911,1445.72 589.101,1445.72 424.911,1445.72 \n",
       "  \"/>\n",
       "<path clip-path=\"url(#clip402)\" d=\"\n",
       "M589.101 1445.72 L589.101 1445.72 L753.29 1445.72 L753.29 1445.72 L589.101 1445.72 L589.101 1445.72  Z\n",
       "  \" fill=\"#009af9\" fill-rule=\"evenodd\" fill-opacity=\"1\"/>\n",
       "<polyline clip-path=\"url(#clip402)\" style=\"stroke:#000000; stroke-linecap:butt; stroke-linejoin:round; stroke-width:4; stroke-opacity:1; fill:none\" points=\"\n",
       "  589.101,1445.72 589.101,1445.72 753.29,1445.72 589.101,1445.72 \n",
       "  \"/>\n",
       "<path clip-path=\"url(#clip402)\" d=\"\n",
       "M753.29 1445.72 L753.29 1445.72 L917.479 1445.72 L917.479 1445.72 L753.29 1445.72 L753.29 1445.72  Z\n",
       "  \" fill=\"#009af9\" fill-rule=\"evenodd\" fill-opacity=\"1\"/>\n",
       "<polyline clip-path=\"url(#clip402)\" style=\"stroke:#000000; stroke-linecap:butt; stroke-linejoin:round; stroke-width:4; stroke-opacity:1; fill:none\" points=\"\n",
       "  753.29,1445.72 753.29,1445.72 917.479,1445.72 753.29,1445.72 \n",
       "  \"/>\n",
       "<path clip-path=\"url(#clip402)\" d=\"\n",
       "M917.479 1445.72 L917.479 1445.72 L1081.67 1445.72 L1081.67 1445.72 L917.479 1445.72 L917.479 1445.72  Z\n",
       "  \" fill=\"#009af9\" fill-rule=\"evenodd\" fill-opacity=\"1\"/>\n",
       "<polyline clip-path=\"url(#clip402)\" style=\"stroke:#000000; stroke-linecap:butt; stroke-linejoin:round; stroke-width:4; stroke-opacity:1; fill:none\" points=\"\n",
       "  917.479,1445.72 917.479,1445.72 1081.67,1445.72 917.479,1445.72 \n",
       "  \"/>\n",
       "<path clip-path=\"url(#clip402)\" d=\"\n",
       "M1081.67 1445.72 L1081.67 1445.72 L1245.86 1445.72 L1245.86 1445.72 L1081.67 1445.72 L1081.67 1445.72  Z\n",
       "  \" fill=\"#009af9\" fill-rule=\"evenodd\" fill-opacity=\"1\"/>\n",
       "<polyline clip-path=\"url(#clip402)\" style=\"stroke:#000000; stroke-linecap:butt; stroke-linejoin:round; stroke-width:4; stroke-opacity:1; fill:none\" points=\"\n",
       "  1081.67,1445.72 1081.67,1445.72 1245.86,1445.72 1081.67,1445.72 \n",
       "  \"/>\n",
       "<path clip-path=\"url(#clip402)\" d=\"\n",
       "M1245.86 1445.72 L1245.86 1445.72 L1410.05 1445.72 L1410.05 1445.72 L1245.86 1445.72 L1245.86 1445.72  Z\n",
       "  \" fill=\"#009af9\" fill-rule=\"evenodd\" fill-opacity=\"1\"/>\n",
       "<polyline clip-path=\"url(#clip402)\" style=\"stroke:#000000; stroke-linecap:butt; stroke-linejoin:round; stroke-width:4; stroke-opacity:1; fill:none\" points=\"\n",
       "  1245.86,1445.72 1245.86,1445.72 1410.05,1445.72 1245.86,1445.72 \n",
       "  \"/>\n",
       "<path clip-path=\"url(#clip402)\" d=\"\n",
       "M1410.05 1021.42 L1410.05 1445.72 L1574.24 1445.72 L1574.24 1021.42 L1410.05 1021.42 L1410.05 1021.42  Z\n",
       "  \" fill=\"#009af9\" fill-rule=\"evenodd\" fill-opacity=\"1\"/>\n",
       "<polyline clip-path=\"url(#clip402)\" style=\"stroke:#000000; stroke-linecap:butt; stroke-linejoin:round; stroke-width:4; stroke-opacity:1; fill:none\" points=\"\n",
       "  1410.05,1021.42 1410.05,1445.72 1574.24,1445.72 1574.24,1021.42 1410.05,1021.42 \n",
       "  \"/>\n",
       "<path clip-path=\"url(#clip402)\" d=\"\n",
       "M1574.24 342.552 L1574.24 1445.72 L1738.43 1445.72 L1738.43 342.552 L1574.24 342.552 L1574.24 342.552  Z\n",
       "  \" fill=\"#009af9\" fill-rule=\"evenodd\" fill-opacity=\"1\"/>\n",
       "<polyline clip-path=\"url(#clip402)\" style=\"stroke:#000000; stroke-linecap:butt; stroke-linejoin:round; stroke-width:4; stroke-opacity:1; fill:none\" points=\"\n",
       "  1574.24,342.552 1574.24,1445.72 1738.43,1445.72 1738.43,342.552 1574.24,342.552 \n",
       "  \"/>\n",
       "<path clip-path=\"url(#clip402)\" d=\"\n",
       "M1738.43 87.9763 L1738.43 1445.72 L1902.61 1445.72 L1902.61 87.9763 L1738.43 87.9763 L1738.43 87.9763  Z\n",
       "  \" fill=\"#009af9\" fill-rule=\"evenodd\" fill-opacity=\"1\"/>\n",
       "<polyline clip-path=\"url(#clip402)\" style=\"stroke:#000000; stroke-linecap:butt; stroke-linejoin:round; stroke-width:4; stroke-opacity:1; fill:none\" points=\"\n",
       "  1738.43,87.9763 1738.43,1445.72 1902.61,1445.72 1902.61,87.9763 1738.43,87.9763 \n",
       "  \"/>\n",
       "<path clip-path=\"url(#clip402)\" d=\"\n",
       "M1902.61 1191.14 L1902.61 1445.72 L2066.8 1445.72 L2066.8 1191.14 L1902.61 1191.14 L1902.61 1191.14  Z\n",
       "  \" fill=\"#009af9\" fill-rule=\"evenodd\" fill-opacity=\"1\"/>\n",
       "<polyline clip-path=\"url(#clip402)\" style=\"stroke:#000000; stroke-linecap:butt; stroke-linejoin:round; stroke-width:4; stroke-opacity:1; fill:none\" points=\"\n",
       "  1902.61,1191.14 1902.61,1445.72 2066.8,1445.72 2066.8,1191.14 1902.61,1191.14 \n",
       "  \"/>\n",
       "<path clip-path=\"url(#clip402)\" d=\"\n",
       "M2066.8 1276 L2066.8 1445.72 L2230.99 1445.72 L2230.99 1276 L2066.8 1276 L2066.8 1276  Z\n",
       "  \" fill=\"#009af9\" fill-rule=\"evenodd\" fill-opacity=\"1\"/>\n",
       "<polyline clip-path=\"url(#clip402)\" style=\"stroke:#000000; stroke-linecap:butt; stroke-linejoin:round; stroke-width:4; stroke-opacity:1; fill:none\" points=\"\n",
       "  2066.8,1276 2066.8,1445.72 2230.99,1445.72 2230.99,1276 2066.8,1276 \n",
       "  \"/>\n",
       "<circle clip-path=\"url(#clip402)\" style=\"fill:#009af9; stroke:none; fill-opacity:0\" cx=\"342.817\" cy=\"1360.86\" r=\"2\"/>\n",
       "<circle clip-path=\"url(#clip402)\" style=\"fill:#009af9; stroke:none; fill-opacity:0\" cx=\"507.006\" cy=\"1445.72\" r=\"2\"/>\n",
       "<circle clip-path=\"url(#clip402)\" style=\"fill:#009af9; stroke:none; fill-opacity:0\" cx=\"671.195\" cy=\"1445.72\" r=\"2\"/>\n",
       "<circle clip-path=\"url(#clip402)\" style=\"fill:#009af9; stroke:none; fill-opacity:0\" cx=\"835.385\" cy=\"1445.72\" r=\"2\"/>\n",
       "<circle clip-path=\"url(#clip402)\" style=\"fill:#009af9; stroke:none; fill-opacity:0\" cx=\"999.574\" cy=\"1445.72\" r=\"2\"/>\n",
       "<circle clip-path=\"url(#clip402)\" style=\"fill:#009af9; stroke:none; fill-opacity:0\" cx=\"1163.76\" cy=\"1445.72\" r=\"2\"/>\n",
       "<circle clip-path=\"url(#clip402)\" style=\"fill:#009af9; stroke:none; fill-opacity:0\" cx=\"1327.95\" cy=\"1445.72\" r=\"2\"/>\n",
       "<circle clip-path=\"url(#clip402)\" style=\"fill:#009af9; stroke:none; fill-opacity:0\" cx=\"1492.14\" cy=\"1021.42\" r=\"2\"/>\n",
       "<circle clip-path=\"url(#clip402)\" style=\"fill:#009af9; stroke:none; fill-opacity:0\" cx=\"1656.33\" cy=\"342.552\" r=\"2\"/>\n",
       "<circle clip-path=\"url(#clip402)\" style=\"fill:#009af9; stroke:none; fill-opacity:0\" cx=\"1820.52\" cy=\"87.9763\" r=\"2\"/>\n",
       "<circle clip-path=\"url(#clip402)\" style=\"fill:#009af9; stroke:none; fill-opacity:0\" cx=\"1984.71\" cy=\"1191.14\" r=\"2\"/>\n",
       "<circle clip-path=\"url(#clip402)\" style=\"fill:#009af9; stroke:none; fill-opacity:0\" cx=\"2148.9\" cy=\"1276\" r=\"2\"/>\n",
       "<path clip-path=\"url(#clip400)\" d=\"\n",
       "M1980.56 198.898 L2278.96 198.898 L2278.96 95.2176 L1980.56 95.2176  Z\n",
       "  \" fill=\"#ffffff\" fill-rule=\"evenodd\" fill-opacity=\"1\"/>\n",
       "<polyline clip-path=\"url(#clip400)\" style=\"stroke:#000000; stroke-linecap:butt; stroke-linejoin:round; stroke-width:4; stroke-opacity:1; fill:none\" points=\"\n",
       "  1980.56,198.898 2278.96,198.898 2278.96,95.2176 1980.56,95.2176 1980.56,198.898 \n",
       "  \"/>\n",
       "<path clip-path=\"url(#clip400)\" d=\"\n",
       "M2005.15 167.794 L2152.74 167.794 L2152.74 126.322 L2005.15 126.322 L2005.15 167.794  Z\n",
       "  \" fill=\"#009af9\" fill-rule=\"evenodd\" fill-opacity=\"1\"/>\n",
       "<polyline clip-path=\"url(#clip400)\" style=\"stroke:#000000; stroke-linecap:butt; stroke-linejoin:round; stroke-width:4; stroke-opacity:1; fill:none\" points=\"\n",
       "  2005.15,167.794 2152.74,167.794 2152.74,126.322 2005.15,126.322 2005.15,167.794 \n",
       "  \"/>\n",
       "<path clip-path=\"url(#clip400)\" d=\"M2191.18 166.745 Q2189.37 171.375 2187.66 172.787 Q2185.95 174.199 2183.08 174.199 L2179.67 174.199 L2179.67 170.634 L2182.17 170.634 Q2183.93 170.634 2184.91 169.8 Q2185.88 168.967 2187.06 165.865 L2187.82 163.921 L2177.34 138.412 L2181.85 138.412 L2189.95 158.689 L2198.05 138.412 L2202.57 138.412 L2191.18 166.745 Z\" fill=\"#000000\" fill-rule=\"evenodd\" fill-opacity=\"1\" /><path clip-path=\"url(#clip400)\" d=\"M2209.86 160.402 L2217.5 160.402 L2217.5 134.037 L2209.19 135.703 L2209.19 131.444 L2217.45 129.778 L2222.13 129.778 L2222.13 160.402 L2229.77 160.402 L2229.77 164.338 L2209.86 164.338 L2209.86 160.402 Z\" fill=\"#000000\" fill-rule=\"evenodd\" fill-opacity=\"1\" /></svg>\n"
      ]
     },
     "execution_count": 1688,
     "metadata": {},
     "output_type": "execute_result"
    }
   ],
   "source": [
    "histogram(Alpha1[:,1])"
   ]
  },
  {
   "cell_type": "code",
   "execution_count": 1827,
   "id": "79e90507-aec7-4489-9ed5-93fefc3b8900",
   "metadata": {},
   "outputs": [
    {
     "data": {
      "text/plain": [
       "1×2 Matrix{Float64}:\n",
       " 0.568962  0.563525"
      ]
     },
     "execution_count": 1827,
     "metadata": {},
     "output_type": "execute_result"
    }
   ],
   "source": [
    "mg = mean(Gamma1, dims = 1)"
   ]
  },
  {
   "cell_type": "code",
   "execution_count": 1831,
   "id": "651d13b5-34fb-4af3-aa07-2c17ed6b897e",
   "metadata": {},
   "outputs": [
    {
     "data": {
      "text/plain": [
       "(0.14149071123049356, 0.05020486159319239)"
      ]
     },
     "execution_count": 1831,
     "metadata": {},
     "output_type": "execute_result"
    }
   ],
   "source": [
    "euclid(Gamma1, gamma)"
   ]
  },
  {
   "cell_type": "code",
   "execution_count": 1834,
   "id": "6bc2fe61-37be-40d0-8069-a7334aad330d",
   "metadata": {},
   "outputs": [
    {
     "data": {
      "image/svg+xml": [
       "<?xml version=\"1.0\" encoding=\"utf-8\"?>\n",
       "<svg xmlns=\"http://www.w3.org/2000/svg\" xmlns:xlink=\"http://www.w3.org/1999/xlink\" width=\"600\" height=\"400\" viewBox=\"0 0 2400 1600\">\n",
       "<defs>\n",
       "  <clipPath id=\"clip560\">\n",
       "    <rect x=\"0\" y=\"0\" width=\"2400\" height=\"1600\"/>\n",
       "  </clipPath>\n",
       "</defs>\n",
       "<path clip-path=\"url(#clip560)\" d=\"\n",
       "M0 1600 L2400 1600 L2400 0 L0 0  Z\n",
       "  \" fill=\"#ffffff\" fill-rule=\"evenodd\" fill-opacity=\"1\"/>\n",
       "<defs>\n",
       "  <clipPath id=\"clip561\">\n",
       "    <rect x=\"480\" y=\"0\" width=\"1681\" height=\"1600\"/>\n",
       "  </clipPath>\n",
       "</defs>\n",
       "<path clip-path=\"url(#clip560)\" d=\"\n",
       "M112.177 1486.45 L2352.76 1486.45 L2352.76 47.2441 L112.177 47.2441  Z\n",
       "  \" fill=\"#ffffff\" fill-rule=\"evenodd\" fill-opacity=\"1\"/>\n",
       "<defs>\n",
       "  <clipPath id=\"clip562\">\n",
       "    <rect x=\"112\" y=\"47\" width=\"2242\" height=\"1440\"/>\n",
       "  </clipPath>\n",
       "</defs>\n",
       "<polyline clip-path=\"url(#clip562)\" style=\"stroke:#000000; stroke-linecap:butt; stroke-linejoin:round; stroke-width:2; stroke-opacity:0.1; fill:none\" points=\"\n",
       "  456.98,1486.45 456.98,47.2441 \n",
       "  \"/>\n",
       "<polyline clip-path=\"url(#clip562)\" style=\"stroke:#000000; stroke-linecap:butt; stroke-linejoin:round; stroke-width:2; stroke-opacity:0.1; fill:none\" points=\"\n",
       "  1010.9,1486.45 1010.9,47.2441 \n",
       "  \"/>\n",
       "<polyline clip-path=\"url(#clip562)\" style=\"stroke:#000000; stroke-linecap:butt; stroke-linejoin:round; stroke-width:2; stroke-opacity:0.1; fill:none\" points=\"\n",
       "  1564.82,1486.45 1564.82,47.2441 \n",
       "  \"/>\n",
       "<polyline clip-path=\"url(#clip562)\" style=\"stroke:#000000; stroke-linecap:butt; stroke-linejoin:round; stroke-width:2; stroke-opacity:0.1; fill:none\" points=\"\n",
       "  2118.74,1486.45 2118.74,47.2441 \n",
       "  \"/>\n",
       "<polyline clip-path=\"url(#clip560)\" style=\"stroke:#000000; stroke-linecap:butt; stroke-linejoin:round; stroke-width:4; stroke-opacity:1; fill:none\" points=\"\n",
       "  112.177,1486.45 2352.76,1486.45 \n",
       "  \"/>\n",
       "<polyline clip-path=\"url(#clip560)\" style=\"stroke:#000000; stroke-linecap:butt; stroke-linejoin:round; stroke-width:4; stroke-opacity:1; fill:none\" points=\"\n",
       "  456.98,1486.45 456.98,1467.55 \n",
       "  \"/>\n",
       "<polyline clip-path=\"url(#clip560)\" style=\"stroke:#000000; stroke-linecap:butt; stroke-linejoin:round; stroke-width:4; stroke-opacity:1; fill:none\" points=\"\n",
       "  1010.9,1486.45 1010.9,1467.55 \n",
       "  \"/>\n",
       "<polyline clip-path=\"url(#clip560)\" style=\"stroke:#000000; stroke-linecap:butt; stroke-linejoin:round; stroke-width:4; stroke-opacity:1; fill:none\" points=\"\n",
       "  1564.82,1486.45 1564.82,1467.55 \n",
       "  \"/>\n",
       "<polyline clip-path=\"url(#clip560)\" style=\"stroke:#000000; stroke-linecap:butt; stroke-linejoin:round; stroke-width:4; stroke-opacity:1; fill:none\" points=\"\n",
       "  2118.74,1486.45 2118.74,1467.55 \n",
       "  \"/>\n",
       "<path clip-path=\"url(#clip560)\" d=\"M419.284 1517.37 Q415.673 1517.37 413.844 1520.93 Q412.039 1524.47 412.039 1531.6 Q412.039 1538.71 413.844 1542.27 Q415.673 1545.82 419.284 1545.82 Q422.918 1545.82 424.724 1542.27 Q426.552 1538.71 426.552 1531.6 Q426.552 1524.47 424.724 1520.93 Q422.918 1517.37 419.284 1517.37 M419.284 1513.66 Q425.094 1513.66 428.15 1518.27 Q431.228 1522.85 431.228 1531.6 Q431.228 1540.33 428.15 1544.94 Q425.094 1549.52 419.284 1549.52 Q413.474 1549.52 410.395 1544.94 Q407.34 1540.33 407.34 1531.6 Q407.34 1522.85 410.395 1518.27 Q413.474 1513.66 419.284 1513.66 Z\" fill=\"#000000\" fill-rule=\"evenodd\" fill-opacity=\"1\" /><path clip-path=\"url(#clip560)\" d=\"M439.446 1542.97 L444.33 1542.97 L444.33 1548.85 L439.446 1548.85 L439.446 1542.97 Z\" fill=\"#000000\" fill-rule=\"evenodd\" fill-opacity=\"1\" /><path clip-path=\"url(#clip560)\" d=\"M454.561 1514.29 L472.918 1514.29 L472.918 1518.22 L458.844 1518.22 L458.844 1526.7 Q459.862 1526.35 460.881 1526.19 Q461.899 1526 462.918 1526 Q468.705 1526 472.085 1529.17 Q475.464 1532.34 475.464 1537.76 Q475.464 1543.34 471.992 1546.44 Q468.52 1549.52 462.2 1549.52 Q460.024 1549.52 457.756 1549.15 Q455.511 1548.78 453.103 1548.04 L453.103 1543.34 Q455.186 1544.47 457.409 1545.03 Q459.631 1545.58 462.108 1545.58 Q466.112 1545.58 468.45 1543.48 Q470.788 1541.37 470.788 1537.76 Q470.788 1534.15 468.45 1532.04 Q466.112 1529.94 462.108 1529.94 Q460.233 1529.94 458.358 1530.35 Q456.506 1530.77 454.561 1531.65 L454.561 1514.29 Z\" fill=\"#000000\" fill-rule=\"evenodd\" fill-opacity=\"1\" /><path clip-path=\"url(#clip560)\" d=\"M494.677 1517.37 Q491.066 1517.37 489.237 1520.93 Q487.432 1524.47 487.432 1531.6 Q487.432 1538.71 489.237 1542.27 Q491.066 1545.82 494.677 1545.82 Q498.311 1545.82 500.117 1542.27 Q501.945 1538.71 501.945 1531.6 Q501.945 1524.47 500.117 1520.93 Q498.311 1517.37 494.677 1517.37 M494.677 1513.66 Q500.487 1513.66 503.543 1518.27 Q506.621 1522.85 506.621 1531.6 Q506.621 1540.33 503.543 1544.94 Q500.487 1549.52 494.677 1549.52 Q488.867 1549.52 485.788 1544.94 Q482.733 1540.33 482.733 1531.6 Q482.733 1522.85 485.788 1518.27 Q488.867 1513.66 494.677 1513.66 Z\" fill=\"#000000\" fill-rule=\"evenodd\" fill-opacity=\"1\" /><path clip-path=\"url(#clip560)\" d=\"M973.7 1517.37 Q970.089 1517.37 968.26 1520.93 Q966.455 1524.47 966.455 1531.6 Q966.455 1538.71 968.26 1542.27 Q970.089 1545.82 973.7 1545.82 Q977.334 1545.82 979.14 1542.27 Q980.969 1538.71 980.969 1531.6 Q980.969 1524.47 979.14 1520.93 Q977.334 1517.37 973.7 1517.37 M973.7 1513.66 Q979.51 1513.66 982.566 1518.27 Q985.645 1522.85 985.645 1531.6 Q985.645 1540.33 982.566 1544.94 Q979.51 1549.52 973.7 1549.52 Q967.89 1549.52 964.811 1544.94 Q961.756 1540.33 961.756 1531.6 Q961.756 1522.85 964.811 1518.27 Q967.89 1513.66 973.7 1513.66 Z\" fill=\"#000000\" fill-rule=\"evenodd\" fill-opacity=\"1\" /><path clip-path=\"url(#clip560)\" d=\"M993.862 1542.97 L998.746 1542.97 L998.746 1548.85 L993.862 1548.85 L993.862 1542.97 Z\" fill=\"#000000\" fill-rule=\"evenodd\" fill-opacity=\"1\" /><path clip-path=\"url(#clip560)\" d=\"M1008.98 1514.29 L1027.33 1514.29 L1027.33 1518.22 L1013.26 1518.22 L1013.26 1526.7 Q1014.28 1526.35 1015.3 1526.19 Q1016.32 1526 1017.33 1526 Q1023.12 1526 1026.5 1529.17 Q1029.88 1532.34 1029.88 1537.76 Q1029.88 1543.34 1026.41 1546.44 Q1022.94 1549.52 1016.62 1549.52 Q1014.44 1549.52 1012.17 1549.15 Q1009.93 1548.78 1007.52 1548.04 L1007.52 1543.34 Q1009.6 1544.47 1011.83 1545.03 Q1014.05 1545.58 1016.52 1545.58 Q1020.53 1545.58 1022.87 1543.48 Q1025.2 1541.37 1025.2 1537.76 Q1025.2 1534.15 1022.87 1532.04 Q1020.53 1529.94 1016.52 1529.94 Q1014.65 1529.94 1012.77 1530.35 Q1010.92 1530.77 1008.98 1531.65 L1008.98 1514.29 Z\" fill=\"#000000\" fill-rule=\"evenodd\" fill-opacity=\"1\" /><path clip-path=\"url(#clip560)\" d=\"M1039.14 1514.29 L1057.5 1514.29 L1057.5 1518.22 L1043.42 1518.22 L1043.42 1526.7 Q1044.44 1526.35 1045.46 1526.19 Q1046.48 1526 1047.5 1526 Q1053.28 1526 1056.66 1529.17 Q1060.04 1532.34 1060.04 1537.76 Q1060.04 1543.34 1056.57 1546.44 Q1053.1 1549.52 1046.78 1549.52 Q1044.6 1549.52 1042.33 1549.15 Q1040.09 1548.78 1037.68 1548.04 L1037.68 1543.34 Q1039.76 1544.47 1041.99 1545.03 Q1044.21 1545.58 1046.69 1545.58 Q1050.69 1545.58 1053.03 1543.48 Q1055.37 1541.37 1055.37 1537.76 Q1055.37 1534.15 1053.03 1532.04 Q1050.69 1529.94 1046.69 1529.94 Q1044.81 1529.94 1042.94 1530.35 Q1041.08 1530.77 1039.14 1531.65 L1039.14 1514.29 Z\" fill=\"#000000\" fill-rule=\"evenodd\" fill-opacity=\"1\" /><path clip-path=\"url(#clip560)\" d=\"M1527.12 1517.37 Q1523.51 1517.37 1521.68 1520.93 Q1519.88 1524.47 1519.88 1531.6 Q1519.88 1538.71 1521.68 1542.27 Q1523.51 1545.82 1527.12 1545.82 Q1530.76 1545.82 1532.56 1542.27 Q1534.39 1538.71 1534.39 1531.6 Q1534.39 1524.47 1532.56 1520.93 Q1530.76 1517.37 1527.12 1517.37 M1527.12 1513.66 Q1532.93 1513.66 1535.99 1518.27 Q1539.07 1522.85 1539.07 1531.6 Q1539.07 1540.33 1535.99 1544.94 Q1532.93 1549.52 1527.12 1549.52 Q1521.31 1549.52 1518.23 1544.94 Q1515.18 1540.33 1515.18 1531.6 Q1515.18 1522.85 1518.23 1518.27 Q1521.31 1513.66 1527.12 1513.66 Z\" fill=\"#000000\" fill-rule=\"evenodd\" fill-opacity=\"1\" /><path clip-path=\"url(#clip560)\" d=\"M1547.28 1542.97 L1552.17 1542.97 L1552.17 1548.85 L1547.28 1548.85 L1547.28 1542.97 Z\" fill=\"#000000\" fill-rule=\"evenodd\" fill-opacity=\"1\" /><path clip-path=\"url(#clip560)\" d=\"M1572.93 1529.7 Q1569.78 1529.7 1567.93 1531.86 Q1566.1 1534.01 1566.1 1537.76 Q1566.1 1541.49 1567.93 1543.66 Q1569.78 1545.82 1572.93 1545.82 Q1576.08 1545.82 1577.91 1543.66 Q1579.76 1541.49 1579.76 1537.76 Q1579.76 1534.01 1577.91 1531.86 Q1576.08 1529.7 1572.93 1529.7 M1582.21 1515.05 L1582.21 1519.31 Q1580.45 1518.48 1578.65 1518.04 Q1576.87 1517.6 1575.11 1517.6 Q1570.48 1517.6 1568.02 1520.72 Q1565.59 1523.85 1565.25 1530.17 Q1566.61 1528.15 1568.67 1527.09 Q1570.73 1526 1573.21 1526 Q1578.42 1526 1581.43 1529.17 Q1584.46 1532.32 1584.46 1537.76 Q1584.46 1543.08 1581.31 1546.3 Q1578.16 1549.52 1572.93 1549.52 Q1566.94 1549.52 1563.76 1544.94 Q1560.59 1540.33 1560.59 1531.6 Q1560.59 1523.41 1564.48 1518.55 Q1568.37 1513.66 1574.92 1513.66 Q1576.68 1513.66 1578.46 1514.01 Q1580.27 1514.36 1582.21 1515.05 Z\" fill=\"#000000\" fill-rule=\"evenodd\" fill-opacity=\"1\" /><path clip-path=\"url(#clip560)\" d=\"M1602.51 1517.37 Q1598.9 1517.37 1597.07 1520.93 Q1595.27 1524.47 1595.27 1531.6 Q1595.27 1538.71 1597.07 1542.27 Q1598.9 1545.82 1602.51 1545.82 Q1606.15 1545.82 1607.95 1542.27 Q1609.78 1538.71 1609.78 1531.6 Q1609.78 1524.47 1607.95 1520.93 Q1606.15 1517.37 1602.51 1517.37 M1602.51 1513.66 Q1608.32 1513.66 1611.38 1518.27 Q1614.46 1522.85 1614.46 1531.6 Q1614.46 1540.33 1611.38 1544.94 Q1608.32 1549.52 1602.51 1549.52 Q1596.7 1549.52 1593.63 1544.94 Q1590.57 1540.33 1590.57 1531.6 Q1590.57 1522.85 1593.63 1518.27 Q1596.7 1513.66 1602.51 1513.66 Z\" fill=\"#000000\" fill-rule=\"evenodd\" fill-opacity=\"1\" /><path clip-path=\"url(#clip560)\" d=\"M2081.54 1517.37 Q2077.93 1517.37 2076.1 1520.93 Q2074.29 1524.47 2074.29 1531.6 Q2074.29 1538.71 2076.1 1542.27 Q2077.93 1545.82 2081.54 1545.82 Q2085.17 1545.82 2086.98 1542.27 Q2088.81 1538.71 2088.81 1531.6 Q2088.81 1524.47 2086.98 1520.93 Q2085.17 1517.37 2081.54 1517.37 M2081.54 1513.66 Q2087.35 1513.66 2090.4 1518.27 Q2093.48 1522.85 2093.48 1531.6 Q2093.48 1540.33 2090.4 1544.94 Q2087.35 1549.52 2081.54 1549.52 Q2075.73 1549.52 2072.65 1544.94 Q2069.59 1540.33 2069.59 1531.6 Q2069.59 1522.85 2072.65 1518.27 Q2075.73 1513.66 2081.54 1513.66 Z\" fill=\"#000000\" fill-rule=\"evenodd\" fill-opacity=\"1\" /><path clip-path=\"url(#clip560)\" d=\"M2101.7 1542.97 L2106.58 1542.97 L2106.58 1548.85 L2101.7 1548.85 L2101.7 1542.97 Z\" fill=\"#000000\" fill-rule=\"evenodd\" fill-opacity=\"1\" /><path clip-path=\"url(#clip560)\" d=\"M2127.35 1529.7 Q2124.2 1529.7 2122.35 1531.86 Q2120.52 1534.01 2120.52 1537.76 Q2120.52 1541.49 2122.35 1543.66 Q2124.2 1545.82 2127.35 1545.82 Q2130.5 1545.82 2132.32 1543.66 Q2134.18 1541.49 2134.18 1537.76 Q2134.18 1534.01 2132.32 1531.86 Q2130.5 1529.7 2127.35 1529.7 M2136.63 1515.05 L2136.63 1519.31 Q2134.87 1518.48 2133.06 1518.04 Q2131.28 1517.6 2129.52 1517.6 Q2124.89 1517.6 2122.44 1520.72 Q2120.01 1523.85 2119.66 1530.17 Q2121.03 1528.15 2123.09 1527.09 Q2125.15 1526 2127.63 1526 Q2132.83 1526 2135.84 1529.17 Q2138.88 1532.32 2138.88 1537.76 Q2138.88 1543.08 2135.73 1546.3 Q2132.58 1549.52 2127.35 1549.52 Q2121.35 1549.52 2118.18 1544.94 Q2115.01 1540.33 2115.01 1531.6 Q2115.01 1523.41 2118.9 1518.55 Q2122.79 1513.66 2129.34 1513.66 Q2131.1 1513.66 2132.88 1514.01 Q2134.69 1514.36 2136.63 1515.05 Z\" fill=\"#000000\" fill-rule=\"evenodd\" fill-opacity=\"1\" /><path clip-path=\"url(#clip560)\" d=\"M2146.98 1514.29 L2165.33 1514.29 L2165.33 1518.22 L2151.26 1518.22 L2151.26 1526.7 Q2152.28 1526.35 2153.3 1526.19 Q2154.31 1526 2155.33 1526 Q2161.12 1526 2164.5 1529.17 Q2167.88 1532.34 2167.88 1537.76 Q2167.88 1543.34 2164.41 1546.44 Q2160.94 1549.52 2154.62 1549.52 Q2152.44 1549.52 2150.17 1549.15 Q2147.93 1548.78 2145.52 1548.04 L2145.52 1543.34 Q2147.6 1544.47 2149.82 1545.03 Q2152.05 1545.58 2154.52 1545.58 Q2158.53 1545.58 2160.87 1543.48 Q2163.2 1541.37 2163.2 1537.76 Q2163.2 1534.15 2160.87 1532.04 Q2158.53 1529.94 2154.52 1529.94 Q2152.65 1529.94 2150.77 1530.35 Q2148.92 1530.77 2146.98 1531.65 L2146.98 1514.29 Z\" fill=\"#000000\" fill-rule=\"evenodd\" fill-opacity=\"1\" /><polyline clip-path=\"url(#clip562)\" style=\"stroke:#000000; stroke-linecap:butt; stroke-linejoin:round; stroke-width:2; stroke-opacity:0.1; fill:none\" points=\"\n",
       "  112.177,1445.72 2352.76,1445.72 \n",
       "  \"/>\n",
       "<polyline clip-path=\"url(#clip562)\" style=\"stroke:#000000; stroke-linecap:butt; stroke-linejoin:round; stroke-width:2; stroke-opacity:0.1; fill:none\" points=\"\n",
       "  112.177,1106.28 2352.76,1106.28 \n",
       "  \"/>\n",
       "<polyline clip-path=\"url(#clip562)\" style=\"stroke:#000000; stroke-linecap:butt; stroke-linejoin:round; stroke-width:2; stroke-opacity:0.1; fill:none\" points=\"\n",
       "  112.177,766.846 2352.76,766.846 \n",
       "  \"/>\n",
       "<polyline clip-path=\"url(#clip562)\" style=\"stroke:#000000; stroke-linecap:butt; stroke-linejoin:round; stroke-width:2; stroke-opacity:0.1; fill:none\" points=\"\n",
       "  112.177,427.411 2352.76,427.411 \n",
       "  \"/>\n",
       "<polyline clip-path=\"url(#clip562)\" style=\"stroke:#000000; stroke-linecap:butt; stroke-linejoin:round; stroke-width:2; stroke-opacity:0.1; fill:none\" points=\"\n",
       "  112.177,87.9763 2352.76,87.9763 \n",
       "  \"/>\n",
       "<polyline clip-path=\"url(#clip560)\" style=\"stroke:#000000; stroke-linecap:butt; stroke-linejoin:round; stroke-width:4; stroke-opacity:1; fill:none\" points=\"\n",
       "  112.177,1486.45 112.177,47.2441 \n",
       "  \"/>\n",
       "<polyline clip-path=\"url(#clip560)\" style=\"stroke:#000000; stroke-linecap:butt; stroke-linejoin:round; stroke-width:4; stroke-opacity:1; fill:none\" points=\"\n",
       "  112.177,1445.72 131.075,1445.72 \n",
       "  \"/>\n",
       "<polyline clip-path=\"url(#clip560)\" style=\"stroke:#000000; stroke-linecap:butt; stroke-linejoin:round; stroke-width:4; stroke-opacity:1; fill:none\" points=\"\n",
       "  112.177,1106.28 131.075,1106.28 \n",
       "  \"/>\n",
       "<polyline clip-path=\"url(#clip560)\" style=\"stroke:#000000; stroke-linecap:butt; stroke-linejoin:round; stroke-width:4; stroke-opacity:1; fill:none\" points=\"\n",
       "  112.177,766.846 131.075,766.846 \n",
       "  \"/>\n",
       "<polyline clip-path=\"url(#clip560)\" style=\"stroke:#000000; stroke-linecap:butt; stroke-linejoin:round; stroke-width:4; stroke-opacity:1; fill:none\" points=\"\n",
       "  112.177,427.411 131.075,427.411 \n",
       "  \"/>\n",
       "<polyline clip-path=\"url(#clip560)\" style=\"stroke:#000000; stroke-linecap:butt; stroke-linejoin:round; stroke-width:4; stroke-opacity:1; fill:none\" points=\"\n",
       "  112.177,87.9763 131.075,87.9763 \n",
       "  \"/>\n",
       "<path clip-path=\"url(#clip560)\" d=\"M64.2328 1431.51 Q60.6217 1431.51 58.793 1435.08 Q56.9875 1438.62 56.9875 1445.75 Q56.9875 1452.86 58.793 1456.42 Q60.6217 1459.96 64.2328 1459.96 Q67.867 1459.96 69.6726 1456.42 Q71.5013 1452.86 71.5013 1445.75 Q71.5013 1438.62 69.6726 1435.08 Q67.867 1431.51 64.2328 1431.51 M64.2328 1427.81 Q70.0429 1427.81 73.0985 1432.42 Q76.1772 1437 76.1772 1445.75 Q76.1772 1454.48 73.0985 1459.08 Q70.0429 1463.67 64.2328 1463.67 Q58.4226 1463.67 55.344 1459.08 Q52.2884 1454.48 52.2884 1445.75 Q52.2884 1437 55.344 1432.42 Q58.4226 1427.81 64.2328 1427.81 Z\" fill=\"#000000\" fill-rule=\"evenodd\" fill-opacity=\"1\" /><path clip-path=\"url(#clip560)\" d=\"M59.8578 1119.63 L76.1772 1119.63 L76.1772 1123.56 L54.2328 1123.56 L54.2328 1119.63 Q56.8949 1116.87 61.4782 1112.24 Q66.0846 1107.59 67.2652 1106.25 Q69.5105 1103.72 70.3902 1101.99 Q71.2929 1100.23 71.2929 1098.54 Q71.2929 1095.78 69.3485 1094.05 Q67.4272 1092.31 64.3254 1092.31 Q62.1263 1092.31 59.6726 1093.07 Q57.2421 1093.84 54.4643 1095.39 L54.4643 1090.67 Q57.2884 1089.53 59.7421 1088.95 Q62.1958 1088.38 64.2328 1088.38 Q69.6031 1088.38 72.7976 1091.06 Q75.992 1093.75 75.992 1098.24 Q75.992 1100.37 75.1818 1102.29 Q74.3948 1104.19 72.2883 1106.78 Q71.7096 1107.45 68.6078 1110.67 Q65.5059 1113.86 59.8578 1119.63 Z\" fill=\"#000000\" fill-rule=\"evenodd\" fill-opacity=\"1\" /><path clip-path=\"url(#clip560)\" d=\"M66.5939 753.64 L54.7884 772.089 L66.5939 772.089 L66.5939 753.64 M65.367 749.566 L71.2466 749.566 L71.2466 772.089 L76.1772 772.089 L76.1772 775.978 L71.2466 775.978 L71.2466 784.126 L66.5939 784.126 L66.5939 775.978 L50.9921 775.978 L50.9921 771.464 L65.367 749.566 Z\" fill=\"#000000\" fill-rule=\"evenodd\" fill-opacity=\"1\" /><path clip-path=\"url(#clip560)\" d=\"M64.6495 425.548 Q61.5013 425.548 59.6495 427.7 Q57.8208 429.853 57.8208 433.603 Q57.8208 437.33 59.6495 439.506 Q61.5013 441.659 64.6495 441.659 Q67.7976 441.659 69.6263 439.506 Q71.4781 437.33 71.4781 433.603 Q71.4781 429.853 69.6263 427.7 Q67.7976 425.548 64.6495 425.548 M73.9318 410.895 L73.9318 415.154 Q72.1726 414.321 70.367 413.881 Q68.5846 413.441 66.8254 413.441 Q62.1958 413.441 59.7421 416.566 Q57.3115 419.691 56.9643 426.011 Q58.33 423.997 60.3902 422.932 Q62.4504 421.844 64.9272 421.844 Q70.1355 421.844 73.1448 425.015 Q76.1772 428.163 76.1772 433.603 Q76.1772 438.927 73.029 442.145 Q69.8809 445.362 64.6495 445.362 Q58.6541 445.362 55.4828 440.779 Q52.3116 436.173 52.3116 427.446 Q52.3116 419.251 56.2004 414.39 Q60.0893 409.506 66.6402 409.506 Q68.3994 409.506 70.1818 409.853 Q71.9874 410.201 73.9318 410.895 Z\" fill=\"#000000\" fill-rule=\"evenodd\" fill-opacity=\"1\" /><path clip-path=\"url(#clip560)\" d=\"M64.3254 88.8443 Q60.9921 88.8443 59.0708 90.6267 Q57.1726 92.4091 57.1726 95.5341 Q57.1726 98.6591 59.0708 100.441 Q60.9921 102.224 64.3254 102.224 Q67.6587 102.224 69.58 100.441 Q71.5013 98.6359 71.5013 95.5341 Q71.5013 92.4091 69.58 90.6267 Q67.6819 88.8443 64.3254 88.8443 M59.6495 86.8536 Q56.6402 86.1129 54.9504 84.0527 Q53.2838 81.9925 53.2838 79.0296 Q53.2838 74.8861 56.2236 72.4787 Q59.1865 70.0713 64.3254 70.0713 Q69.4874 70.0713 72.4272 72.4787 Q75.367 74.8861 75.367 79.0296 Q75.367 81.9925 73.6772 84.0527 Q72.0105 86.1129 69.0244 86.8536 Q72.404 87.6406 74.279 89.9323 Q76.1772 92.2239 76.1772 95.5341 Q76.1772 100.557 73.0985 103.242 Q70.0429 105.928 64.3254 105.928 Q58.6078 105.928 55.5291 103.242 Q52.4736 100.557 52.4736 95.5341 Q52.4736 92.2239 54.3717 89.9323 Q56.2699 87.6406 59.6495 86.8536 M57.9365 79.4694 Q57.9365 82.1545 59.6032 83.6592 Q61.293 85.1638 64.3254 85.1638 Q67.3346 85.1638 69.0244 83.6592 Q70.7374 82.1545 70.7374 79.4694 Q70.7374 76.7842 69.0244 75.2796 Q67.3346 73.775 64.3254 73.775 Q61.293 73.775 59.6032 75.2796 Q57.9365 76.7842 57.9365 79.4694 Z\" fill=\"#000000\" fill-rule=\"evenodd\" fill-opacity=\"1\" /><path clip-path=\"url(#clip562)\" d=\"\n",
       "M235.413 1106.28 L235.413 1445.72 L456.98 1445.72 L456.98 1106.28 L235.413 1106.28 L235.413 1106.28  Z\n",
       "  \" fill=\"#009af9\" fill-rule=\"evenodd\" fill-opacity=\"1\"/>\n",
       "<polyline clip-path=\"url(#clip562)\" style=\"stroke:#000000; stroke-linecap:butt; stroke-linejoin:round; stroke-width:4; stroke-opacity:1; fill:none\" points=\"\n",
       "  235.413,1106.28 235.413,1445.72 456.98,1445.72 456.98,1106.28 235.413,1106.28 \n",
       "  \"/>\n",
       "<path clip-path=\"url(#clip562)\" d=\"\n",
       "M456.98 936.563 L456.98 1445.72 L678.548 1445.72 L678.548 936.563 L456.98 936.563 L456.98 936.563  Z\n",
       "  \" fill=\"#009af9\" fill-rule=\"evenodd\" fill-opacity=\"1\"/>\n",
       "<polyline clip-path=\"url(#clip562)\" style=\"stroke:#000000; stroke-linecap:butt; stroke-linejoin:round; stroke-width:4; stroke-opacity:1; fill:none\" points=\"\n",
       "  456.98,936.563 456.98,1445.72 678.548,1445.72 678.548,936.563 456.98,936.563 \n",
       "  \"/>\n",
       "<path clip-path=\"url(#clip562)\" d=\"\n",
       "M678.548 597.129 L678.548 1445.72 L900.115 1445.72 L900.115 597.129 L678.548 597.129 L678.548 597.129  Z\n",
       "  \" fill=\"#009af9\" fill-rule=\"evenodd\" fill-opacity=\"1\"/>\n",
       "<polyline clip-path=\"url(#clip562)\" style=\"stroke:#000000; stroke-linecap:butt; stroke-linejoin:round; stroke-width:4; stroke-opacity:1; fill:none\" points=\"\n",
       "  678.548,597.129 678.548,1445.72 900.115,1445.72 900.115,597.129 678.548,597.129 \n",
       "  \"/>\n",
       "<path clip-path=\"url(#clip562)\" d=\"\n",
       "M900.115 87.9763 L900.115 1445.72 L1121.68 1445.72 L1121.68 87.9763 L900.115 87.9763 L900.115 87.9763  Z\n",
       "  \" fill=\"#009af9\" fill-rule=\"evenodd\" fill-opacity=\"1\"/>\n",
       "<polyline clip-path=\"url(#clip562)\" style=\"stroke:#000000; stroke-linecap:butt; stroke-linejoin:round; stroke-width:4; stroke-opacity:1; fill:none\" points=\"\n",
       "  900.115,87.9763 900.115,1445.72 1121.68,1445.72 1121.68,87.9763 900.115,87.9763 \n",
       "  \"/>\n",
       "<path clip-path=\"url(#clip562)\" d=\"\n",
       "M1121.68 427.411 L1121.68 1445.72 L1343.25 1445.72 L1343.25 427.411 L1121.68 427.411 L1121.68 427.411  Z\n",
       "  \" fill=\"#009af9\" fill-rule=\"evenodd\" fill-opacity=\"1\"/>\n",
       "<polyline clip-path=\"url(#clip562)\" style=\"stroke:#000000; stroke-linecap:butt; stroke-linejoin:round; stroke-width:4; stroke-opacity:1; fill:none\" points=\"\n",
       "  1121.68,427.411 1121.68,1445.72 1343.25,1445.72 1343.25,427.411 1121.68,427.411 \n",
       "  \"/>\n",
       "<path clip-path=\"url(#clip562)\" d=\"\n",
       "M1343.25 87.9763 L1343.25 1445.72 L1564.82 1445.72 L1564.82 87.9763 L1343.25 87.9763 L1343.25 87.9763  Z\n",
       "  \" fill=\"#009af9\" fill-rule=\"evenodd\" fill-opacity=\"1\"/>\n",
       "<polyline clip-path=\"url(#clip562)\" style=\"stroke:#000000; stroke-linecap:butt; stroke-linejoin:round; stroke-width:4; stroke-opacity:1; fill:none\" points=\"\n",
       "  1343.25,87.9763 1343.25,1445.72 1564.82,1445.72 1564.82,87.9763 1343.25,87.9763 \n",
       "  \"/>\n",
       "<path clip-path=\"url(#clip562)\" d=\"\n",
       "M1564.82 936.563 L1564.82 1445.72 L1786.39 1445.72 L1786.39 936.563 L1564.82 936.563 L1564.82 936.563  Z\n",
       "  \" fill=\"#009af9\" fill-rule=\"evenodd\" fill-opacity=\"1\"/>\n",
       "<polyline clip-path=\"url(#clip562)\" style=\"stroke:#000000; stroke-linecap:butt; stroke-linejoin:round; stroke-width:4; stroke-opacity:1; fill:none\" points=\"\n",
       "  1564.82,936.563 1564.82,1445.72 1786.39,1445.72 1786.39,936.563 1564.82,936.563 \n",
       "  \"/>\n",
       "<path clip-path=\"url(#clip562)\" d=\"\n",
       "M1786.39 936.563 L1786.39 1445.72 L2007.95 1445.72 L2007.95 936.563 L1786.39 936.563 L1786.39 936.563  Z\n",
       "  \" fill=\"#009af9\" fill-rule=\"evenodd\" fill-opacity=\"1\"/>\n",
       "<polyline clip-path=\"url(#clip562)\" style=\"stroke:#000000; stroke-linecap:butt; stroke-linejoin:round; stroke-width:4; stroke-opacity:1; fill:none\" points=\"\n",
       "  1786.39,936.563 1786.39,1445.72 2007.95,1445.72 2007.95,936.563 1786.39,936.563 \n",
       "  \"/>\n",
       "<path clip-path=\"url(#clip562)\" d=\"\n",
       "M2007.95 1106.28 L2007.95 1445.72 L2229.52 1445.72 L2229.52 1106.28 L2007.95 1106.28 L2007.95 1106.28  Z\n",
       "  \" fill=\"#009af9\" fill-rule=\"evenodd\" fill-opacity=\"1\"/>\n",
       "<polyline clip-path=\"url(#clip562)\" style=\"stroke:#000000; stroke-linecap:butt; stroke-linejoin:round; stroke-width:4; stroke-opacity:1; fill:none\" points=\"\n",
       "  2007.95,1106.28 2007.95,1445.72 2229.52,1445.72 2229.52,1106.28 2007.95,1106.28 \n",
       "  \"/>\n",
       "<circle clip-path=\"url(#clip562)\" style=\"fill:#009af9; stroke:none; fill-opacity:0\" cx=\"346.197\" cy=\"1106.28\" r=\"2\"/>\n",
       "<circle clip-path=\"url(#clip562)\" style=\"fill:#009af9; stroke:none; fill-opacity:0\" cx=\"567.764\" cy=\"936.563\" r=\"2\"/>\n",
       "<circle clip-path=\"url(#clip562)\" style=\"fill:#009af9; stroke:none; fill-opacity:0\" cx=\"789.332\" cy=\"597.129\" r=\"2\"/>\n",
       "<circle clip-path=\"url(#clip562)\" style=\"fill:#009af9; stroke:none; fill-opacity:0\" cx=\"1010.9\" cy=\"87.9763\" r=\"2\"/>\n",
       "<circle clip-path=\"url(#clip562)\" style=\"fill:#009af9; stroke:none; fill-opacity:0\" cx=\"1232.47\" cy=\"427.411\" r=\"2\"/>\n",
       "<circle clip-path=\"url(#clip562)\" style=\"fill:#009af9; stroke:none; fill-opacity:0\" cx=\"1454.03\" cy=\"87.9763\" r=\"2\"/>\n",
       "<circle clip-path=\"url(#clip562)\" style=\"fill:#009af9; stroke:none; fill-opacity:0\" cx=\"1675.6\" cy=\"936.563\" r=\"2\"/>\n",
       "<circle clip-path=\"url(#clip562)\" style=\"fill:#009af9; stroke:none; fill-opacity:0\" cx=\"1897.17\" cy=\"936.563\" r=\"2\"/>\n",
       "<circle clip-path=\"url(#clip562)\" style=\"fill:#009af9; stroke:none; fill-opacity:0\" cx=\"2118.74\" cy=\"1106.28\" r=\"2\"/>\n",
       "<path clip-path=\"url(#clip560)\" d=\"\n",
       "M1976.69 198.898 L2278.07 198.898 L2278.07 95.2176 L1976.69 95.2176  Z\n",
       "  \" fill=\"#ffffff\" fill-rule=\"evenodd\" fill-opacity=\"1\"/>\n",
       "<polyline clip-path=\"url(#clip560)\" style=\"stroke:#000000; stroke-linecap:butt; stroke-linejoin:round; stroke-width:4; stroke-opacity:1; fill:none\" points=\"\n",
       "  1976.69,198.898 2278.07,198.898 2278.07,95.2176 1976.69,95.2176 1976.69,198.898 \n",
       "  \"/>\n",
       "<path clip-path=\"url(#clip560)\" d=\"\n",
       "M2001.58 167.794 L2150.95 167.794 L2150.95 126.322 L2001.58 126.322 L2001.58 167.794  Z\n",
       "  \" fill=\"#009af9\" fill-rule=\"evenodd\" fill-opacity=\"1\"/>\n",
       "<polyline clip-path=\"url(#clip560)\" style=\"stroke:#000000; stroke-linecap:butt; stroke-linejoin:round; stroke-width:4; stroke-opacity:1; fill:none\" points=\"\n",
       "  2001.58,167.794 2150.95,167.794 2150.95,126.322 2001.58,126.322 2001.58,167.794 \n",
       "  \"/>\n",
       "<path clip-path=\"url(#clip560)\" d=\"M2189.69 166.745 Q2187.89 171.375 2186.17 172.787 Q2184.46 174.199 2181.59 174.199 L2178.19 174.199 L2178.19 170.634 L2180.69 170.634 Q2182.45 170.634 2183.42 169.8 Q2184.39 168.967 2185.57 165.865 L2186.34 163.921 L2175.85 138.412 L2180.36 138.412 L2188.46 158.689 L2196.57 138.412 L2201.08 138.412 L2189.69 166.745 Z\" fill=\"#000000\" fill-rule=\"evenodd\" fill-opacity=\"1\" /><path clip-path=\"url(#clip560)\" d=\"M2208.37 160.402 L2216.01 160.402 L2216.01 134.037 L2207.7 135.703 L2207.7 131.444 L2215.96 129.778 L2220.64 129.778 L2220.64 160.402 L2228.28 160.402 L2228.28 164.338 L2208.37 164.338 L2208.37 160.402 Z\" fill=\"#000000\" fill-rule=\"evenodd\" fill-opacity=\"1\" /></svg>\n"
      ]
     },
     "execution_count": 1834,
     "metadata": {},
     "output_type": "execute_result"
    }
   ],
   "source": [
    "histogram(Gamma1[:,1], bins = 10)"
   ]
  },
  {
   "cell_type": "code",
   "execution_count": 1634,
   "id": "1b93fc6e-fbb5-4360-ab3c-215fdc107544",
   "metadata": {},
   "outputs": [
    {
     "data": {
      "text/plain": [
       "1×2 Matrix{Float64}:\n",
       " 0.567762  -0.774548"
      ]
     },
     "execution_count": 1634,
     "metadata": {},
     "output_type": "execute_result"
    }
   ],
   "source": [
    "mb = mean(Beta1, dims = 1)"
   ]
  },
  {
   "cell_type": "markdown",
   "id": "4cc43cda-d1d0-4771-ad74-a45f95f39fde",
   "metadata": {},
   "source": [
    "# Tabular"
   ]
  },
  {
   "cell_type": "code",
   "execution_count": 1817,
   "id": "1ebc90e8-71b2-40b6-b75d-48a3a688b3a0",
   "metadata": {},
   "outputs": [],
   "source": [
    "N = [500, 1000]\n",
    "Etype = [1,2,3,4]\n",
    "\n",
    "len_n = length(N)\n",
    "len_e = length(Etype)\n",
    "\n",
    "meanEE_theta = zeros(len_n, len_e)\n",
    "stdEE_theta = zeros(len_n, len_e)\n",
    "\n",
    "mean_alpha = zeros(len_n, len_e)\n",
    "std_alpha = zeros(len_n, len_e)\n",
    "\n",
    "mean_gamma = zeros(len_n, len_e)\n",
    "std_gamma = zeros(len_n, len_e)\n",
    "\n",
    "mean_beta = zeros(len_n, len_e)\n",
    "std_beta = zeros(len_n, len_e)\n",
    "\n",
    "n_repeat = 100\n",
    "tau = [0.5]\n",
    "widthExp = -0.17\n",
    "method = \"gurobi\"\n",
    "\n",
    "alpha = [1, -2]\n",
    "theta = [2, 1]/sqrt(5)\n",
    "beta = [1.0, -1.0]\n",
    "gamma = [1.0, 1.0]/2\n",
    "\n",
    "p = length(alpha)\n",
    "q = length(beta)\n",
    "\n",
    "@threads for j in 1:len_e\n",
    "    \n",
    "    etype = Etype[j]    \n",
    "    \n",
    "    for i in 1:len_n  \n",
    "\n",
    "        n = N[i] \n",
    "       \n",
    "        Alpha = zeros(n_repeat, p)\n",
    "        Theta = zeros(n_repeat, p)\n",
    "        Beta = zeros(n_repeat, q)\n",
    "        Gamma = zeros(n_repeat, q)\n",
    "        \n",
    "        for k in 1:n_repeat\n",
    "            \n",
    "            e = eps(n, etype)\n",
    "            X, y, Z = xyz3(n, alpha, theta, beta, gamma, 0.2e, 2)\n",
    "            modelk = qgplsim.model(X, Z, y, tau, widthExp)\n",
    "            qgplsim.estimator(modelk, method)\n",
    "            # qgplsim.print_model(modelk)\n",
    "            Alpha[k, :] = modelk.alpha\n",
    "            Theta[k, :] = modelk.theta\n",
    "            Beta[k, :] = modelk.beta\n",
    "            Gamma[k,:] = modelk.gamma\n",
    "            \n",
    "        end\n",
    "        EE = sqrt.(1 .- abs.(Theta * theta)) \n",
    "        meanEE_theta[i,j] = mean(EE)\n",
    "        stdEE_theta[i,j] = std(EE)\n",
    "        mean_alpha[i,j], std_alpha[i,j] = euclid(Alpha, alpha)\n",
    "        mean_gamma[i,j], std_gamma[i,j] = euclid(Gamma, gamma)\n",
    "        mean_beta[i,j], std_beta[i,j] = euclid(Beta, beta)\n",
    "\n",
    "        \n",
    "    end\n",
    "end"
   ]
  },
  {
   "cell_type": "code",
   "execution_count": 1818,
   "id": "096ae760-ecca-4375-9c1c-ab04e8df8775",
   "metadata": {},
   "outputs": [
    {
     "data": {
      "text/plain": [
       "2×4 Matrix{String}:\n",
       " \"0.0150(.0108)\"  \"0.0103(.0076)\"  \"0.0560(.1588)\"  \"0.0725(.1512)\"\n",
       " \"0.0104(.0071)\"  \"0.0057(.0046)\"  \"0.0119(.0215)\"  \"0.0201(.0309)\""
      ]
     },
     "execution_count": 1818,
     "metadata": {},
     "output_type": "execute_result"
    }
   ],
   "source": [
    "table_theta = tabular(meanEE_theta, stdEE_theta)"
   ]
  },
  {
   "cell_type": "code",
   "execution_count": 1824,
   "id": "2f592b84-7fcb-4bd8-a150-babbf583f18c",
   "metadata": {},
   "outputs": [
    {
     "data": {
      "text/plain": [
       "2×4 Matrix{String}:\n",
       " \"0.2054(.1097)\"  \"0.2113(.1143)\"  \"0.1963(.1998)\"  \"0.2184(.1520)\"\n",
       " \"0.2186(.1157)\"  \"0.2023(.0898)\"  \"0.1812(.0833)\"  \"0.1964(.0817)\""
      ]
     },
     "execution_count": 1824,
     "metadata": {},
     "output_type": "execute_result"
    }
   ],
   "source": [
    "table_gamma = tabular(mean_gamma, std_gamma)"
   ]
  },
  {
   "cell_type": "code",
   "execution_count": 1820,
   "id": "f163ac44-6182-48ac-a0ba-d096358bf172",
   "metadata": {},
   "outputs": [
    {
     "data": {
      "text/plain": [
       "2×4 Matrix{String}:\n",
       " \"0.0783(.0136)\"  \"0.0822(.0131)\"  \"0.0834(.0226)\"  \"0.0786(.0278)\"\n",
       " \"0.0607(.0129)\"  \"0.0641(.0099)\"  \"0.0677(.0113)\"  \"0.0639(.0342)\""
      ]
     },
     "execution_count": 1820,
     "metadata": {},
     "output_type": "execute_result"
    }
   ],
   "source": [
    "table_beta = tabular(mean_beta, std_beta)"
   ]
  },
  {
   "cell_type": "code",
   "execution_count": 1821,
   "id": "3eba8369-df04-4bca-8193-9929fcc70c4b",
   "metadata": {},
   "outputs": [
    {
     "data": {
      "text/plain": [
       "2×4 Matrix{String}:\n",
       " \"0.0216(.0150)\"  \"0.0148(.0106)\"  \"0.0713(.1857)\"  \"0.0958(.1824)\"\n",
       " \"0.0149(.0098)\"  \"0.0082(.0064)\"  \"0.0170(.0302)\"  \"0.0287(.0433)\""
      ]
     },
     "execution_count": 1821,
     "metadata": {},
     "output_type": "execute_result"
    }
   ],
   "source": [
    "table_alpha = tabular(mean_alpha, std_alpha)"
   ]
  },
  {
   "cell_type": "code",
   "execution_count": 1822,
   "id": "31b05603-a839-4dbd-b21c-0531237eff0d",
   "metadata": {},
   "outputs": [
    {
     "data": {
      "text/plain": [
       "8×4 Matrix{String}:\n",
       " \"0.0216(.0150)\"  \"0.0148(.0106)\"  \"0.0713(.1857)\"  \"0.0958(.1824)\"\n",
       " \"0.0149(.0098)\"  \"0.0082(.0064)\"  \"0.0170(.0302)\"  \"0.0287(.0433)\"\n",
       " \"0.0783(.0136)\"  \"0.0822(.0131)\"  \"0.0834(.0226)\"  \"0.0786(.0278)\"\n",
       " \"0.0607(.0129)\"  \"0.0641(.0099)\"  \"0.0677(.0113)\"  \"0.0639(.0342)\"\n",
       " \"0.0150(.0108)\"  \"0.0103(.0076)\"  \"0.0560(.1588)\"  \"0.0725(.1512)\"\n",
       " \"0.0104(.0071)\"  \"0.0057(.0046)\"  \"0.0119(.0215)\"  \"0.0201(.0309)\"\n",
       " \"0.2054(.1097)\"  \"0.2113(.1143)\"  \"0.1963(.1998)\"  \"0.2184(.1520)\"\n",
       " \"0.2186(.1157)\"  \"0.2023(.0898)\"  \"0.1812(.0833)\"  \"0.1964(.0817)\""
      ]
     },
     "execution_count": 1822,
     "metadata": {},
     "output_type": "execute_result"
    }
   ],
   "source": [
    "table_sum = [table_alpha; table_beta; table_theta; table_gamma]"
   ]
  },
  {
   "cell_type": "code",
   "execution_count": 1823,
   "id": "074e4f00-2a4e-4dab-bb8c-450571229d44",
   "metadata": {},
   "outputs": [
    {
     "data": {
      "text/plain": [
       "\"table_2.csv\""
      ]
     },
     "execution_count": 1823,
     "metadata": {},
     "output_type": "execute_result"
    }
   ],
   "source": [
    "using DataFrames, CSV\n",
    "df = DataFrame(table_sum)\n",
    "df[:size] = [500, 1000, 500, 1000, 500, 1000, 500, 1000]\n",
    "CSV.write(\"table_2.csv\", df)"
   ]
  },
  {
   "cell_type": "code",
   "execution_count": null,
   "id": "1a831bd4-c3af-4758-bb7a-8cf4ef1017f4",
   "metadata": {},
   "outputs": [],
   "source": []
  }
 ],
 "metadata": {
  "kernelspec": {
   "display_name": "Julia 1.6.4",
   "language": "julia",
   "name": "julia-1.6"
  },
  "language_info": {
   "file_extension": ".jl",
   "mimetype": "application/julia",
   "name": "julia",
   "version": "1.6.4"
  }
 },
 "nbformat": 4,
 "nbformat_minor": 5
}
