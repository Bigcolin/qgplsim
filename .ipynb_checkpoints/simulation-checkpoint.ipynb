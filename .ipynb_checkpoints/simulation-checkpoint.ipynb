{
 "cells": [
  {
   "cell_type": "code",
   "execution_count": 3,
   "id": "e66c1859-81b4-454d-acf6-f25cc7ce7ee4",
   "metadata": {},
   "outputs": [
    {
     "name": "stderr",
     "output_type": "stream",
     "text": [
      "WARNING: replacing module qgplsim.\n"
     ]
    },
    {
     "data": {
      "text/plain": [
       "\"/Users/kyan/Projects/qgplsim\""
      ]
     },
     "execution_count": 3,
     "metadata": {},
     "output_type": "execute_result"
    }
   ],
   "source": [
    "using Plots, Distributions\n",
    "include(\"./src/supportFunctions.ji\")\n",
    "include(\"./src/qgplsim.ji\")\n",
    "pwd()"
   ]
  },
  {
   "cell_type": "code",
   "execution_count": 35,
   "id": "b2a52a9e-2458-414d-a8f4-e5790d803151",
   "metadata": {},
   "outputs": [
    {
     "data": {
      "text/plain": [
       "eps (generic function with 1 method)"
      ]
     },
     "execution_count": 35,
     "metadata": {},
     "output_type": "execute_result"
    }
   ],
   "source": [
    "t1 = TDist(1)\n",
    "t3 = TDist(3)\n",
    "\n",
    "\n",
    "function eps(n, etype)\n",
    "    \n",
    "    if etype == 1\n",
    "            e = randn(n)/2\n",
    "        elseif etype == 2\n",
    "            e = rand(t3, n) * sqrt(3) / 10    \n",
    "        elseif etype == 3\n",
    "            e = rand(t1, n) / 10\n",
    "        else\n",
    "            e = randn(n)\n",
    "            e = (e.^4 .- 3) .* 0.3             \n",
    "    end\n",
    "    e\n",
    "\n",
    "end"
   ]
  },
  {
   "cell_type": "markdown",
   "id": "1da4cc33-08d3-4ee9-bf7d-e5ac42d2ed6e",
   "metadata": {
    "jp-MarkdownHeadingCollapsed": true,
    "tags": []
   },
   "source": [
    "# Case 1\n",
    "$y = X \\alpha + exp(X \\theta) + \\epsilon$"
   ]
  },
  {
   "cell_type": "code",
   "execution_count": 36,
   "id": "438a8615-7f44-48dd-997d-da4933421ae8",
   "metadata": {},
   "outputs": [
    {
     "data": {
      "text/plain": [
       "simu_data1 (generic function with 1 method)"
      ]
     },
     "execution_count": 36,
     "metadata": {},
     "output_type": "execute_result"
    }
   ],
   "source": [
    "function simu_data1(X, α, θ, ϵ)\n",
    "\n",
    "    y = X*α + exp.(X*θ) + ϵ\n",
    "\n",
    "end"
   ]
  },
  {
   "cell_type": "markdown",
   "id": "4cb9e554-89cf-4e21-980e-c1f97dedda2c",
   "metadata": {},
   "source": [
    "## test "
   ]
  },
  {
   "cell_type": "code",
   "execution_count": 189,
   "id": "2d3055f9-bc55-406e-89be-780600547372",
   "metadata": {},
   "outputs": [
    {
     "name": "stdout",
     "output_type": "stream",
     "text": [
      "alpha => [0.0793, 0.9967, 0.1066, -2.1169, 0.1533]\n",
      "theta => [0.5964, 0.0535, -0.4542, 0.0722, 0.6558]\n",
      "gamma => [0.0]\n",
      "beta => [0.0]\n"
     ]
    }
   ],
   "source": [
    "∑ = zeros(5,5)\n",
    "\n",
    "for i in 1:5\n",
    "    for j in i:5\n",
    "        ∑[i, j] = 0.5^(j - i)\n",
    "        ∑[j, i] = ∑[i, j]\n",
    "    end\n",
    "end\n",
    "\n",
    "∑ = sqrt.(∑)\n",
    "\n",
    "n = 200\n",
    "alpha = [0, 1, 0, -2, 0]\n",
    "theta = [2, 0, -1, 0, 2]/3\n",
    "\n",
    "U = randn(n, 5)\n",
    "X = U * ∑\n",
    "e = eps(n, 1)\n",
    "y = simu_data1(X, alpha, theta, e)\n",
    "Z = zeros(n, 1) # rand(n, 1) .> 0.5\n",
    "\n",
    "tau = [0.5]\n",
    "widthExp = -0.17\n",
    "model1 = qgplsim.model(X, Z, y, tau, widthExp)\n",
    "qgplsim.estimator(model1, \"optim_qr\")\n",
    "qgplsim.print_model(model1)"
   ]
  },
  {
   "cell_type": "markdown",
   "id": "c373fdaf-adb6-4754-a86d-ea95e806cd66",
   "metadata": {},
   "source": [
    "## Monte Carlo Simulation"
   ]
  },
  {
   "cell_type": "code",
   "execution_count": 166,
   "id": "150b0a1a-b068-478b-92fb-7cc8b92876a4",
   "metadata": {},
   "outputs": [
    {
     "name": "stdout",
     "output_type": "stream",
     "text": [
      "threads for parallel computing:  4\n"
     ]
    }
   ],
   "source": [
    "using Base.Threads\n",
    "nth = Threads.nthreads()\n",
    "println(\"threads for parallel computing:  \", nth)"
   ]
  },
  {
   "cell_type": "code",
   "execution_count": 167,
   "id": "c1814379-949c-4167-b897-297840a4e6f2",
   "metadata": {},
   "outputs": [
    {
     "data": {
      "text/plain": [
       "100"
      ]
     },
     "execution_count": 167,
     "metadata": {},
     "output_type": "execute_result"
    }
   ],
   "source": [
    "n = 200\n",
    "alpha = [0, 1, 0, -2, 0]\n",
    "theta = [2, 0, -1, 0, 2]/3\n",
    "Z = zeros(n, 1)\n",
    "n_repeat = 25\n",
    "n_repeat * nth"
   ]
  },
  {
   "cell_type": "markdown",
   "id": "96bfcf57-0188-4f47-a297-dd677523c11d",
   "metadata": {},
   "source": [
    "### $\\epsilon$ ~ $N(0, 1)/2$"
   ]
  },
  {
   "cell_type": "code",
   "execution_count": 168,
   "id": "e70b3702-518d-400d-8058-bb5f42072eee",
   "metadata": {},
   "outputs": [],
   "source": [
    "Alpha1 = zeros(n_repeat * nth, 5)\n",
    "Theta1 = zeros(n_repeat * nth, 5)\n",
    "@threads for i in 1:nth\n",
    "    for j in 1:n_repeat\n",
    "        \n",
    "        k = (i - 1) * n_repeat + j\n",
    "        U = randn(n, 5)\n",
    "        X = U * ∑\n",
    "        e = rand(n) / 2\n",
    "        y = simu_data1(X, alpha, theta, e)\n",
    "        modelk = qgplsim.model(X, Z, y, tau, widthExp)\n",
    "        qgplsim.estimator(modelk, \"optim_qr\")\n",
    "        Alpha1[k, :] = modelk.alpha\n",
    "        Theta1[k, :] = modelk.theta\n",
    "    end\n",
    "end\n",
    "\n"
   ]
  },
  {
   "cell_type": "code",
   "execution_count": 169,
   "id": "f6535e08-ecb6-41c9-b198-3ae9dafd1098",
   "metadata": {},
   "outputs": [
    {
     "name": "stdout",
     "output_type": "stream",
     "text": [
      "0.13994777542057338 0.158703032115617\n"
     ]
    }
   ],
   "source": [
    "EE1 = sqrt.(1 .- abs.(Theta1 * theta)) \n",
    "println(mean(EE1), \" \", std(EE1))"
   ]
  },
  {
   "cell_type": "code",
   "execution_count": 170,
   "id": "a180022c-0204-4a71-838a-4d99c5b57bea",
   "metadata": {},
   "outputs": [
    {
     "data": {
      "text/plain": [
       "1×5 Matrix{Float64}:\n",
       " 0.658525  -0.0069852  -0.333576  0.0224074  0.600136"
      ]
     },
     "execution_count": 170,
     "metadata": {},
     "output_type": "execute_result"
    }
   ],
   "source": [
    "mean(Theta1, dims = 1)"
   ]
  },
  {
   "cell_type": "markdown",
   "id": "0a897d03-bea3-4561-8b75-cedc1caf27ee",
   "metadata": {},
   "source": [
    "### $\\epsilon$ ~ $\\sqrt 3 t(3) / 10$"
   ]
  },
  {
   "cell_type": "code",
   "execution_count": 172,
   "id": "e412273e-824d-4f42-a4ea-3b515e2c5da3",
   "metadata": {},
   "outputs": [],
   "source": [
    "Alpha2 = zeros(n_repeat * nth, 5)\n",
    "Theta2 = zeros(n_repeat * nth, 5)\n",
    "\n",
    "@threads for i in 1:nth\n",
    "    for j in 1:n_repeat\n",
    "        \n",
    "        k = (i - 1) * n_repeat + j\n",
    "        U = randn(n, 5)\n",
    "        X = U * ∑\n",
    "        e = rand(t3, n) * sqrt(3) / 10\n",
    "        y = simu_data1(X, alpha, theta, e)\n",
    "        modelk = qgplsim.model(X, Z, y, tau, widthExp)\n",
    "        qgplsim.estimator(modelk, \"optim_qr\")\n",
    "        Alpha2[k, :] = modelk.alpha\n",
    "        Theta2[k, :] = modelk.theta\n",
    "    end\n",
    "end"
   ]
  },
  {
   "cell_type": "code",
   "execution_count": 173,
   "id": "d0141cc6-a585-4270-8f1c-2fd2c92d56fc",
   "metadata": {},
   "outputs": [
    {
     "data": {
      "text/plain": [
       "1×5 Matrix{Float64}:\n",
       " 0.618235  0.0223955  -0.331152  0.0309383  0.577526"
      ]
     },
     "execution_count": 173,
     "metadata": {},
     "output_type": "execute_result"
    }
   ],
   "source": [
    "mean(Theta2, dims = 1)"
   ]
  },
  {
   "cell_type": "code",
   "execution_count": 174,
   "id": "67070f62-31b6-4014-9925-c07eb574a351",
   "metadata": {},
   "outputs": [
    {
     "name": "stdout",
     "output_type": "stream",
     "text": [
      "0.1773731420044237 0.21078261894154507\n"
     ]
    }
   ],
   "source": [
    "EE2 = sqrt.(1 .- abs.(Theta2 * theta)) \n",
    "println(mean(EE2), \" \", std(EE2))"
   ]
  },
  {
   "cell_type": "markdown",
   "id": "653a9104-a308-4231-908d-ac423e66dfe7",
   "metadata": {
    "tags": []
   },
   "source": [
    "### $\\epsilon$ ~ $t(1)/10$"
   ]
  },
  {
   "cell_type": "code",
   "execution_count": 176,
   "id": "baa6aec7-16d7-4bc2-86de-bf91224a141c",
   "metadata": {},
   "outputs": [],
   "source": [
    "Alpha3 = zeros(n_repeat * nth, 5)\n",
    "Theta3 = zeros(n_repeat * nth, 5)\n",
    "\n",
    "@threads for i in 1:nth\n",
    "    for j in 1:n_repeat\n",
    "        \n",
    "        k = (i - 1) * n_repeat + j\n",
    "        U = randn(n, 5)\n",
    "        X = U * ∑\n",
    "        e = rand(t1, n) / 10\n",
    "        y = simu_data1(X, alpha, theta, e)\n",
    "        modelk = qgplsim.model(X, Z, y, tau, widthExp)\n",
    "        qgplsim.estimator(modelk, \"optim_qr\")\n",
    "        Alpha3[k, :] = modelk.alpha\n",
    "        Theta3[k, :] = modelk.theta\n",
    "    end\n",
    "end"
   ]
  },
  {
   "cell_type": "code",
   "execution_count": 177,
   "id": "8679e5af-164e-4b9a-bb5d-dee4562047fe",
   "metadata": {},
   "outputs": [
    {
     "data": {
      "text/plain": [
       "1×5 Matrix{Float64}:\n",
       " 0.647159  0.00469007  -0.344865  0.0617279  0.600015"
      ]
     },
     "execution_count": 177,
     "metadata": {},
     "output_type": "execute_result"
    }
   ],
   "source": [
    "mean(Theta3, dims = 1)"
   ]
  },
  {
   "cell_type": "code",
   "execution_count": 178,
   "id": "90b74c1f-5250-41e1-8589-6b18d9bb2bb9",
   "metadata": {},
   "outputs": [
    {
     "name": "stdout",
     "output_type": "stream",
     "text": [
      "0.1572008337416937 0.15656874707896248\n"
     ]
    }
   ],
   "source": [
    "EE3 = sqrt.(1 .- abs.(Theta3 * theta)) \n",
    "println(mean(EE3), \" \", std(EE3))"
   ]
  },
  {
   "cell_type": "markdown",
   "id": "88a310c8-1a38-4151-83a4-aca91ce661c5",
   "metadata": {
    "tags": []
   },
   "source": [
    "### $\\epsilon$ ~ $0.3(N(0, 1)^4 - 3)$"
   ]
  },
  {
   "cell_type": "code",
   "execution_count": 179,
   "id": "9bfb0569-08d3-4fe8-8d7d-51f5ff9e6717",
   "metadata": {},
   "outputs": [],
   "source": [
    "Alpha4 = zeros(n_repeat * nth, 5)\n",
    "Theta4 = zeros(n_repeat * nth, 5)\n",
    "\n",
    "@threads for i in 1:nth\n",
    "    for j in 1:n_repeat\n",
    "        \n",
    "        k = (i - 1) * n_repeat + j\n",
    "        U = randn(n, 5)\n",
    "        X = U * ∑\n",
    "        e = randn(n)\n",
    "        e = (e.^4 .- 3) .* 0.3\n",
    "        y = simu_data1(X, alpha, theta, e)\n",
    "        modelk = qgplsim.model(X, Z, y, tau, widthExp)\n",
    "        qgplsim.estimator(modelk, \"optim_qr\")\n",
    "        Alpha4[k, :] = modelk.alpha\n",
    "        Theta4[k, :] = modelk.theta\n",
    "    end\n",
    "end"
   ]
  },
  {
   "cell_type": "code",
   "execution_count": 180,
   "id": "bb27f287-4c5e-4b3e-ba5e-1c97c9c67594",
   "metadata": {},
   "outputs": [
    {
     "data": {
      "text/plain": [
       "1×5 Matrix{Float64}:\n",
       " 0.631767  0.0122769  -0.346298  0.0687969  0.577738"
      ]
     },
     "execution_count": 180,
     "metadata": {},
     "output_type": "execute_result"
    }
   ],
   "source": [
    "mean(Theta4, dims = 1)"
   ]
  },
  {
   "cell_type": "code",
   "execution_count": 181,
   "id": "a6ab027d-5709-4d6d-9cfb-fb402cbf1444",
   "metadata": {},
   "outputs": [
    {
     "name": "stdout",
     "output_type": "stream",
     "text": [
      "0.21594105838062394 0.1751448733458884\n"
     ]
    }
   ],
   "source": [
    "EE4 = sqrt.(1 .- abs.(Theta4 * theta)) \n",
    "println(mean(EE4), \" \", std(EE4))"
   ]
  },
  {
   "cell_type": "markdown",
   "id": "25e572ca-500c-4c81-bfb4-e7ca886ee77f",
   "metadata": {
    "jp-MarkdownHeadingCollapsed": true,
    "tags": []
   },
   "source": [
    "# Case 2\n",
    "$y = X \\alpha + Z \\beta + exp(X \\theta + Z \\gamma) + \\epsilon$"
   ]
  },
  {
   "cell_type": "code",
   "execution_count": 568,
   "id": "93d256e6-ea67-4b0c-8335-c002b2ef0c85",
   "metadata": {},
   "outputs": [
    {
     "data": {
      "text/plain": [
       "xyz2 (generic function with 1 method)"
      ]
     },
     "execution_count": 568,
     "metadata": {},
     "output_type": "execute_result"
    }
   ],
   "source": [
    "function simu_data2(X, α, θ, Z, β, γ, ϵ)\n",
    "\n",
    "    y = X*α  + Z*β + exp.(X*θ + Z*γ) + ϵ\n",
    "\n",
    "end\n",
    "\n",
    "function xyz2(n, alpha, theta, beta, gamma, e)\n",
    "    ∑ = zeros(5,5)\n",
    "\n",
    "    for i in 1:5\n",
    "        for j in i:5\n",
    "            ∑[i, j] = 0.5^(j - i)\n",
    "            ∑[j, i] = ∑[i, j]\n",
    "        end\n",
    "    end\n",
    "\n",
    "    ∑ = sqrt.(∑)\n",
    "\n",
    "\n",
    "    U = randn(n, 5)\n",
    "    X = U * ∑\n",
    "\n",
    "    Z = zeros(n, 2)\n",
    "    Z[:, 1] = rand(n, 1) .> 0.25\n",
    "    Z[:, 2] = rand(n, 1) .> 0.5\n",
    "\n",
    "    y = simu_data2(X, alpha, theta, Z, beta, gamma, e)\n",
    "    X, y, Z\n",
    "    \n",
    "end"
   ]
  },
  {
   "cell_type": "markdown",
   "id": "992ea2f9-df57-41cf-80cc-66e421dd3f18",
   "metadata": {},
   "source": [
    "## test "
   ]
  },
  {
   "cell_type": "code",
   "execution_count": 282,
   "id": "f428fb11-9263-4cff-b25b-0b7eac3bcc67",
   "metadata": {},
   "outputs": [
    {
     "name": "stdout",
     "output_type": "stream",
     "text": [
      "alpha => [0.1997, 1.0646, 0.0589, -2.1028, 0.0817]\n",
      "theta => [0.5978, 0.0114, -0.4006, 0.0782, 0.6899]\n",
      "gamma => [0.5324, -0.5605]\n",
      "beta => [13.056, -4.915]\n"
     ]
    }
   ],
   "source": [
    "n = 400\n",
    "alpha = [0, 1, 0, -2, 0]\n",
    "theta = [2, 0, -1, 0, 2]/3\n",
    "beta = [1.0, 1.0]\n",
    "gamma = [1.5, -1.5] \n",
    "e = rand(n) / 2\n",
    "\n",
    "X, y, Z = xyz2(n, alpha, theta, beta, gamma, e)\n",
    "\n",
    "tau = [0.5]\n",
    "widthExp = -0.17\n",
    "model1 = qgplsim.model(X, Z, y, tau, widthExp)\n",
    "qgplsim.estimator(model1, \"optim_qr\")\n",
    "qgplsim.print_model(model1)"
   ]
  },
  {
   "cell_type": "code",
   "execution_count": 278,
   "id": "ad947858-3925-480e-926d-2a0a215b9661",
   "metadata": {},
   "outputs": [
    {
     "data": {
      "text/plain": [
       "-0.17"
      ]
     },
     "execution_count": 278,
     "metadata": {},
     "output_type": "execute_result"
    }
   ],
   "source": [
    "model1.widthExp"
   ]
  },
  {
   "cell_type": "markdown",
   "id": "a73b46d4-20da-40d1-9aa1-2110efe410e4",
   "metadata": {
    "tags": []
   },
   "source": [
    "## Monte Carlo Simulation"
   ]
  },
  {
   "cell_type": "code",
   "execution_count": null,
   "id": "8c8cb9d0-f0b9-4bd0-8ebe-ace67c38ca1c",
   "metadata": {
    "jp-MarkdownHeadingCollapsed": true,
    "tags": []
   },
   "outputs": [],
   "source": [
    "using Base.Threads\n",
    "nth = Threads.nthreads()\n",
    "println(\"threads for parallel computing:  \", nth)\n",
    "\n",
    "rc_mg = []"
   ]
  },
  {
   "cell_type": "code",
   "execution_count": 516,
   "id": "7597f098-417f-4071-bfd4-bdc4d5eb4654",
   "metadata": {},
   "outputs": [
    {
     "data": {
      "text/plain": [
       "100"
      ]
     },
     "execution_count": 516,
     "metadata": {},
     "output_type": "execute_result"
    }
   ],
   "source": [
    "n = 800\n",
    "alpha = [0, 1, 0, -2, 0]\n",
    "theta = [2, 0, -1, 0, 2]/3\n",
    "beta = [1, 0]\n",
    "gamma = [0.0, -1.0]./3 * 3 \n",
    "n_repeat = 25\n",
    "n_repeat * nth"
   ]
  },
  {
   "cell_type": "markdown",
   "id": "4bbc09d0-0e6a-4f5f-974c-5a4a35a998d8",
   "metadata": {},
   "source": [
    "### $\\epsilon$ ~ $N(0, 1)/2$"
   ]
  },
  {
   "cell_type": "code",
   "execution_count": 517,
   "id": "0dea4b10-f086-41b1-a1db-e49fe12af4a2",
   "metadata": {},
   "outputs": [],
   "source": [
    "Alpha1 = zeros(n_repeat * nth, 5)\n",
    "Theta1 = zeros(n_repeat * nth, 5)\n",
    "Gamma1 = zeros(n_repeat * nth, 2)\n",
    "\n",
    "\n",
    "@threads for i in 1:nth\n",
    "    for j in 1:n_repeat\n",
    "        \n",
    "        k = (i - 1) * n_repeat + j\n",
    "        e = randn(n) / 2\n",
    "        X, y, Z = xyz2(n, alpha, theta, beta, gamma, e)\n",
    "\n",
    "        modelk = qgplsim.model(X, Z, y, tau, widthExp)\n",
    "        qgplsim.estimator(modelk, \"optim_qr\")\n",
    "        Alpha1[k, :] = modelk.alpha\n",
    "        Theta1[k, :] = modelk.theta\n",
    "        Gamma1[k, :] = modelk.gamma\n",
    "\n",
    "    end\n",
    "end\n",
    "\n"
   ]
  },
  {
   "cell_type": "code",
   "execution_count": 518,
   "id": "f7ae8a1d-48e1-490f-a777-e1d6e49495a4",
   "metadata": {},
   "outputs": [
    {
     "name": "stdout",
     "output_type": "stream",
     "text": [
      "0.14172182717484455 0.1660180877623868\n"
     ]
    }
   ],
   "source": [
    "EE1 = sqrt.(1 .- abs.(Theta1 * theta)) \n",
    "println(mean(EE1), \" \", std(EE1))"
   ]
  },
  {
   "cell_type": "code",
   "execution_count": 519,
   "id": "9db18eff-0a0a-426b-a8db-1552ec33ecdd",
   "metadata": {},
   "outputs": [
    {
     "data": {
      "text/plain": [
       "1×5 Matrix{Float64}:\n",
       " 0.0336637  0.918952  -0.00441354  -1.77664  0.0267027"
      ]
     },
     "execution_count": 519,
     "metadata": {},
     "output_type": "execute_result"
    }
   ],
   "source": [
    "mean(Alpha1, dims = 1)"
   ]
  },
  {
   "cell_type": "code",
   "execution_count": 520,
   "id": "713ab7ea-f998-49db-956f-e6b9a41fe829",
   "metadata": {},
   "outputs": [
    {
     "data": {
      "text/plain": [
       "1×5 Matrix{Float64}:\n",
       " 0.632019  -0.0103497  -0.345464  0.0425938  0.607472"
      ]
     },
     "execution_count": 520,
     "metadata": {},
     "output_type": "execute_result"
    }
   ],
   "source": [
    "mean(Theta1, dims = 1)"
   ]
  },
  {
   "cell_type": "code",
   "execution_count": 521,
   "id": "72f2b9af-47dd-4a27-a683-259ecc4a7d7d",
   "metadata": {},
   "outputs": [
    {
     "data": {
      "text/plain": [
       "1×2 Matrix{Float64}:\n",
       " -0.0103822  -0.358116"
      ]
     },
     "execution_count": 521,
     "metadata": {},
     "output_type": "execute_result"
    }
   ],
   "source": [
    "mg = mean(Gamma1, dims = 1)"
   ]
  },
  {
   "cell_type": "code",
   "execution_count": 522,
   "id": "1fb62d18-eea9-4555-94ed-daee6ec84e04",
   "metadata": {},
   "outputs": [
    {
     "data": {
      "text/plain": [
       "5-element Vector{Any}:\n",
       " [0.004859570197597576 -0.04845031202682143]\n",
       " [0.00479407781990095 -0.08473400639663248]\n",
       " [-0.0033128801551007923 -0.18123445475148298]\n",
       " [0.0019663682468473056 -0.27076572576931485]\n",
       " [-0.010382243273092052 -0.3581158922391516]"
      ]
     },
     "execution_count": 522,
     "metadata": {},
     "output_type": "execute_result"
    }
   ],
   "source": [
    "push!(rc_mg, mg)"
   ]
  },
  {
   "cell_type": "code",
   "execution_count": 523,
   "id": "fcc7ccb1-5d0b-479d-a4eb-5dcb214195b8",
   "metadata": {},
   "outputs": [
    {
     "data": {
      "text/plain": [
       "5-element Vector{Any}:\n",
       " [0.004859570197597576 -0.04845031202682143]\n",
       " [0.00479407781990095 -0.08473400639663248]\n",
       " [-0.0033128801551007923 -0.18123445475148298]\n",
       " [0.0019663682468473056 -0.27076572576931485]\n",
       " [-0.010382243273092052 -0.3581158922391516]"
      ]
     },
     "execution_count": 523,
     "metadata": {},
     "output_type": "execute_result"
    }
   ],
   "source": [
    "rc_mg"
   ]
  },
  {
   "cell_type": "code",
   "execution_count": 532,
   "id": "ead3fb12-133a-47a6-90d2-f45e6c3c9962",
   "metadata": {},
   "outputs": [
    {
     "data": {
      "text/plain": [
       "5-element Vector{Float64}:\n",
       " 0.06386626773013654\n",
       " 0.13430869844029475\n",
       " 0.2542784243719414\n",
       " 0.39064902123508083\n",
       " 0.5424844464753418"
      ]
     },
     "execution_count": 532,
     "metadata": {},
     "output_type": "execute_result"
    }
   ],
   "source": [
    "norm.(rc_mg11)"
   ]
  },
  {
   "cell_type": "code",
   "execution_count": 531,
   "id": "57e32d77-5543-4a63-943b-dc00a981b7e5",
   "metadata": {},
   "outputs": [
    {
     "data": {
      "text/plain": [
       "5-element Vector{Any}:\n",
       " [0.04792928972782212 -0.04220999099696617]\n",
       " [0.09806324865875911 -0.0917737747900587]\n",
       " [0.1797354069161139 -0.179868564796009]\n",
       " [0.2730871018515566 -0.2793386700660046]\n",
       " [0.3758228653703359 -0.391211641611658]"
      ]
     },
     "execution_count": 531,
     "metadata": {},
     "output_type": "execute_result"
    }
   ],
   "source": [
    "rc_mg11 "
   ]
  },
  {
   "cell_type": "markdown",
   "id": "1e10555a-8bb2-4840-9e4c-8ced3c12ebd1",
   "metadata": {},
   "source": [
    "### $\\epsilon$ ~ $\\sqrt 3 t(3) / 10$"
   ]
  },
  {
   "cell_type": "code",
   "execution_count": 150,
   "id": "07c5c281-9a28-4040-8c9a-c4cf1fca0246",
   "metadata": {},
   "outputs": [],
   "source": [
    "Alpha2 = zeros(n_repeat * nth, 5)\n",
    "Theta2 = zeros(n_repeat * nth, 5)\n",
    "Gamma2 = zeros(n_repeat * nth, 2)\n",
    "\n",
    "@threads for i in 1:nth\n",
    "    for j in 1:n_repeat\n",
    "        \n",
    "        k = (i - 1) * n_repeat + j\n",
    "        e = rand(t3, n) * sqrt(3) / 10\n",
    "        X, y, Z = xyz2(n, alpha, theta, beta, gamma, e)\n",
    "        modelk = qgplsim.model(X, Z, y, tau, widthExp)\n",
    "        qgplsim.estimator(modelk, \"optim_qr\")\n",
    "        Alpha2[k, :] = modelk.alpha\n",
    "        Theta2[k, :] = modelk.theta\n",
    "        Gamma2[k, :] = modelk.gamma\n",
    "\n",
    "        \n",
    "    end\n",
    "end"
   ]
  },
  {
   "cell_type": "code",
   "execution_count": 151,
   "id": "17f8b60c-0157-43a9-bba2-93b1159caebe",
   "metadata": {},
   "outputs": [
    {
     "data": {
      "text/plain": [
       "1×5 Matrix{Float64}:\n",
       " 0.6453  0.00128617  -0.32176  0.0106369  0.572918"
      ]
     },
     "execution_count": 151,
     "metadata": {},
     "output_type": "execute_result"
    }
   ],
   "source": [
    "mean(Theta2, dims = 1)"
   ]
  },
  {
   "cell_type": "code",
   "execution_count": 152,
   "id": "72873489-3754-45cc-a509-6b8a064b914d",
   "metadata": {},
   "outputs": [
    {
     "name": "stdout",
     "output_type": "stream",
     "text": [
      "0.17522982401106535 0.21081039981797559\n"
     ]
    }
   ],
   "source": [
    "EE2 = sqrt.(1 .- abs.(Theta2 * theta)) \n",
    "println(mean(EE2), \" \", std(EE2))"
   ]
  },
  {
   "cell_type": "code",
   "execution_count": 230,
   "id": "04e6c896-3dc4-4754-8fde-0b1122f2a23e",
   "metadata": {},
   "outputs": [
    {
     "name": "stdout",
     "output_type": "stream",
     "text": [
      "0.2604622974978035 0.2441158621826322\n"
     ]
    }
   ],
   "source": [
    "EEa = sqrt.(abs.(5 .- abs.(Alpha2 * alpha))/5)\n",
    "println(mean(EEa), \" \", std(EEa))"
   ]
  },
  {
   "cell_type": "code",
   "execution_count": 153,
   "id": "8bf9ef69-d0e0-4493-9bbe-4944a057bd6f",
   "metadata": {},
   "outputs": [
    {
     "data": {
      "text/plain": [
       "1×2 Matrix{Float64}:\n",
       " -0.0015759  -0.36258"
      ]
     },
     "execution_count": 153,
     "metadata": {},
     "output_type": "execute_result"
    }
   ],
   "source": [
    "mean(Gamma2, dims = 1)"
   ]
  },
  {
   "cell_type": "markdown",
   "id": "3699aeac-48dc-44ac-93f0-324cd0807105",
   "metadata": {
    "tags": []
   },
   "source": [
    "### $\\epsilon$ ~ $t(1)/10$"
   ]
  },
  {
   "cell_type": "code",
   "execution_count": 154,
   "id": "34232bd4-e92c-401c-8205-a7cd8b1d69d9",
   "metadata": {},
   "outputs": [],
   "source": [
    "Alpha3 = zeros(n_repeat * nth, 5)\n",
    "Theta3 = zeros(n_repeat * nth, 5)\n",
    "Gamma3 = zeros(n_repeat * nth, 2)\n",
    "\n",
    "@threads for i in 1:nth\n",
    "    for j in 1:n_repeat\n",
    "        \n",
    "        k = (i - 1) * n_repeat + j\n",
    "        e = rand(t1, n) / 10\n",
    "        X, y, Z = xyz(n, alpha, theta, beta, gamma, e)\n",
    "        modelk = qgplsim.model(X, Z, y, tau, widthExp)\n",
    "        qgplsim.estimator(modelk, \"optim_qr\")\n",
    "        Alpha3[k, :] = modelk.alpha\n",
    "        Theta3[k, :] = modelk.theta\n",
    "        Gamma3[k, :] = modelk.gamma\n",
    "\n",
    "        \n",
    "    end\n",
    "end"
   ]
  },
  {
   "cell_type": "code",
   "execution_count": 155,
   "id": "c35af225-0c95-41d9-8ceb-eaae1f509c46",
   "metadata": {},
   "outputs": [
    {
     "data": {
      "text/plain": [
       "1×5 Matrix{Float64}:\n",
       " 0.635217  -0.0285129  -0.33521  0.0350691  0.598973"
      ]
     },
     "execution_count": 155,
     "metadata": {},
     "output_type": "execute_result"
    }
   ],
   "source": [
    "mean(Theta3, dims = 1)"
   ]
  },
  {
   "cell_type": "code",
   "execution_count": 264,
   "id": "cd865b15-9fc7-4972-928e-fe8ab5c4f778",
   "metadata": {},
   "outputs": [
    {
     "name": "stdout",
     "output_type": "stream",
     "text": [
      "0.1572008337416937 0.15656874707896248\n"
     ]
    }
   ],
   "source": [
    "EE3 = sqrt.(1 .- abs.(Theta3 * theta)) \n",
    "println(mean(EE3), \" \", std(EE3))"
   ]
  },
  {
   "cell_type": "code",
   "execution_count": 266,
   "id": "78b3e367-b704-463f-a216-1ce65d43a3ed",
   "metadata": {},
   "outputs": [
    {
     "name": "stdout",
     "output_type": "stream",
     "text": [
      "0.10734724786839749 0.10430637727052751\n"
     ]
    }
   ],
   "source": [
    "na3 = norm.([Alpha3[k, :] for k in 1:100] )\n",
    "EEa = sqrt.(abs.(1 .- abs.(Alpha3 ./ na3 * alpha / norm(alpha))))\n",
    "println(mean(EEa), \" \", std(EEa))"
   ]
  },
  {
   "cell_type": "code",
   "execution_count": 157,
   "id": "4991064a-ff3e-449e-8196-66381f567228",
   "metadata": {},
   "outputs": [
    {
     "data": {
      "text/plain": [
       "1×2 Matrix{Float64}:\n",
       " -0.00624061  -0.363546"
      ]
     },
     "execution_count": 157,
     "metadata": {},
     "output_type": "execute_result"
    }
   ],
   "source": [
    "mean(Gamma3, dims = 1)"
   ]
  },
  {
   "cell_type": "markdown",
   "id": "c3eabbe2-900d-44fe-bdcf-d2683398e8ba",
   "metadata": {
    "tags": []
   },
   "source": [
    "### $\\epsilon$ ~ $0.3(N(0, 1)^4 - 3)$"
   ]
  },
  {
   "cell_type": "code",
   "execution_count": 158,
   "id": "631910ff-2e14-4e7c-85f9-306bb031e10a",
   "metadata": {},
   "outputs": [],
   "source": [
    "Alpha4 = zeros(n_repeat * nth, 5)\n",
    "Theta4 = zeros(n_repeat * nth, 5)\n",
    "Gamma4 = zeros(n_repeat * nth, 2)\n",
    "\n",
    "@threads for i in 1:nth\n",
    "    for j in 1:n_repeat\n",
    "        \n",
    "        k = (i - 1) * n_repeat + j\n",
    "        e = randn(n)\n",
    "        e = (e.^4 .- 3) .* 0.3\n",
    "        X, y, Z = xyz(n, alpha, theta, beta, gamma, e)\n",
    "        modelk = qgplsim.model(X, Z, y, tau, widthExp)\n",
    "        qgplsim.estimator(modelk, \"optim_qr\")\n",
    "        Alpha4[k, :] = modelk.alpha\n",
    "        Theta4[k, :] = modelk.theta\n",
    "        Gamma4[k, :] = modelk.gamma\n",
    "        \n",
    "    end\n",
    "end"
   ]
  },
  {
   "cell_type": "code",
   "execution_count": 159,
   "id": "7de8d1f4-6454-45cb-95df-9a4c93c714d6",
   "metadata": {},
   "outputs": [
    {
     "data": {
      "text/plain": [
       "1×5 Matrix{Float64}:\n",
       " 0.623733  -0.0435303  -0.349124  0.0472179  0.553621"
      ]
     },
     "execution_count": 159,
     "metadata": {},
     "output_type": "execute_result"
    }
   ],
   "source": [
    "mean(Theta4, dims = 1)"
   ]
  },
  {
   "cell_type": "code",
   "execution_count": 160,
   "id": "4eaea828-505c-492a-841b-52f1e33161c6",
   "metadata": {},
   "outputs": [
    {
     "name": "stdout",
     "output_type": "stream",
     "text": [
      "0.23493551471318813 0.20054916315879562\n"
     ]
    }
   ],
   "source": [
    "EE4 = sqrt.(1 .- abs.(Theta4 * theta)) \n",
    "println(mean(EE4), \" \", std(EE4))"
   ]
  },
  {
   "cell_type": "code",
   "execution_count": 261,
   "id": "40606d4a-6f00-4e37-8061-b7d56b3a8534",
   "metadata": {},
   "outputs": [],
   "source": [
    "na4 = norm.([Alpha4[k, :] for k in 1:100] )\n",
    "EEa = sqrt.(abs.(1 .- Alpha4./na4 * alpha / norm(alpha)))\n",
    "println(mean(EEa), \" \", std(EEa))"
   ]
  },
  {
   "cell_type": "code",
   "execution_count": 161,
   "id": "f038813b-63e4-4f04-a608-576b4dc36377",
   "metadata": {
    "tags": []
   },
   "outputs": [
    {
     "data": {
      "text/plain": [
       "1×2 Matrix{Float64}:\n",
       " -0.0045003  -0.321222"
      ]
     },
     "execution_count": 161,
     "metadata": {},
     "output_type": "execute_result"
    }
   ],
   "source": [
    "mean(Gamma4, dims = 1)"
   ]
  },
  {
   "cell_type": "markdown",
   "id": "a92c7c43-4acc-4587-8115-f09680940cb6",
   "metadata": {},
   "source": [
    "# Case 3\n",
    "$y = X \\alpha + Z \\beta + log( 1 + exp(X \\theta + Z \\gamma - 1)) + 0.2\\epsilon$"
   ]
  },
  {
   "cell_type": "code",
   "execution_count": 13,
   "id": "a548118a-e62f-4d2b-b696-08a0cea5f2a5",
   "metadata": {},
   "outputs": [
    {
     "data": {
      "text/plain": [
       "xyz3 (generic function with 1 method)"
      ]
     },
     "execution_count": 13,
     "metadata": {},
     "output_type": "execute_result"
    }
   ],
   "source": [
    "n1 = Normal(0, 1)\n",
    "g(x) = cdf(n1, x)\n",
    "\n",
    "function simu_data3(X, α, θ, Z, β, γ, ϵ)\n",
    "\n",
    "#     y = X*α  + Z*β + log.( 1 .+ exp.(X*θ + Z*γ .- 1)) + ϵ\n",
    "    y = X*α  + Z*β + g.((X*θ + Z*γ .- 1).^2) + ϵ\n",
    "\n",
    "\n",
    "end\n",
    "\n",
    "function xyz3(n, alpha, theta, beta, gamma, e)\n",
    "\n",
    "    U = randn(n, 2)\n",
    "    X = U\n",
    "\n",
    "    Z = zeros(n, 2)\n",
    "    Z[:, 1] = rand(n, 1) .> 0.5\n",
    "    r2 = rand(n, 1)\n",
    "    Z[:, 2] = (r2 .> 0.25) + (r2 .> 0.75)\n",
    "    # Z = Z / 4 * 3\n",
    "    y = simu_data3(X, alpha, theta, Z, beta, gamma, e)\n",
    "    X, y, Z\n",
    "    \n",
    "end"
   ]
  },
  {
   "cell_type": "markdown",
   "id": "d1cdc7d3-345b-4113-abad-4da68e4fad77",
   "metadata": {},
   "source": [
    "## test "
   ]
  },
  {
   "cell_type": "code",
   "execution_count": 153,
   "id": "cfd2fcb1-4960-4180-adfc-b897b81adf43",
   "metadata": {},
   "outputs": [
    {
     "name": "stdout",
     "output_type": "stream",
     "text": [
      "alpha => [0.9934, -1.9993]\n",
      "theta => [0.8955, 0.445]\n",
      "gamma => [0.5384, 0.6111]\n",
      "beta => [0.9142, -1.0946]\n"
     ]
    },
    {
     "name": "stderr",
     "output_type": "stream",
     "text": [
      "WARNING: replacing module qgplsim.\n"
     ]
    }
   ],
   "source": [
    "include(\"./src/qgplsim.ji\")\n",
    "\n",
    "n = 500\n",
    "alpha = [1, -2]\n",
    "theta = [2, 1]/sqrt(5)\n",
    "beta = [1.0, -1.0]/4 * 4\n",
    "gamma = [1.0, 1.0]/8 * 4\n",
    "\n",
    "e = eps(n, 2)\n",
    "\n",
    "X, y, Z = xyz3(n, alpha, theta, beta, gamma, 0.2e)\n",
    "\n",
    "tau = [0.5]\n",
    "widthExp = -0.17\n",
    "model1 = qgplsim.model(X, Z, y, tau, widthExp)\n",
    "qgplsim.estimator(model1, \"optim_qr\")\n",
    "qgplsim.print_model(model1)"
   ]
  },
  {
   "cell_type": "markdown",
   "id": "de527f30-99f7-4802-99c1-ffd1bc326b54",
   "metadata": {
    "tags": []
   },
   "source": [
    "## Monte Carlo Simulation"
   ]
  },
  {
   "cell_type": "code",
   "execution_count": 51,
   "id": "8cf3a6aa-06e7-40d0-b43b-98702f8883ad",
   "metadata": {
    "jp-MarkdownHeadingCollapsed": true,
    "tags": []
   },
   "outputs": [
    {
     "data": {
      "text/plain": [
       "102"
      ]
     },
     "execution_count": 51,
     "metadata": {},
     "output_type": "execute_result"
    }
   ],
   "source": [
    "using Base.Threads\n",
    "nth = Threads.nthreads()\n",
    "n_repeat = 34\n",
    "n_repeat * nth"
   ]
  },
  {
   "cell_type": "code",
   "execution_count": 120,
   "id": "e74f6f89-871c-46fb-b189-0058f06487fe",
   "metadata": {},
   "outputs": [
    {
     "data": {
      "text/plain": [
       "102"
      ]
     },
     "execution_count": 120,
     "metadata": {},
     "output_type": "execute_result"
    }
   ],
   "source": [
    "n = 500\n",
    "alpha = [1, -2]\n",
    "theta = [2, 1]/sqrt(5)\n",
    "beta = [1.0, -1.0] / 2\n",
    "gamma = [1.0, 1.0]/4 * 2\n",
    "tau = [0.5]\n",
    "widthExp = -0.27\n",
    "\n",
    "n_repeat = 34\n",
    "n_repeat * nth"
   ]
  },
  {
   "cell_type": "code",
   "execution_count": 121,
   "id": "a4869c0e-e377-40b6-8200-40d1b26ef07d",
   "metadata": {},
   "outputs": [
    {
     "name": "stderr",
     "output_type": "stream",
     "text": [
      "┌ Warning: The clustering cost increased at iteration #13\n",
      "└ @ Clustering /Users/kyan/.julia/packages/Clustering/tt9vc/src/kmeans.jl:188\n",
      "┌ Warning: The clustering cost increased at iteration #21\n",
      "└ @ Clustering /Users/kyan/.julia/packages/Clustering/tt9vc/src/kmeans.jl:188\n"
     ]
    }
   ],
   "source": [
    "Alpha1 = zeros(n_repeat * nth, 2)\n",
    "Theta1 = zeros(n_repeat * nth, 2)\n",
    "Gamma1 = zeros(n_repeat * nth, 2)\n",
    "Beta1 = zeros(n_repeat * nth, 2)\n",
    "\n",
    "@threads for i in 1:nth\n",
    "    for j in 1:n_repeat\n",
    "        \n",
    "        k = (i - 1) * n_repeat + j\n",
    "        e = eps(n, 2)\n",
    "        X, y, Z = xyz3(n, alpha, theta, beta, gamma, e)\n",
    "\n",
    "        modelk = qgplsim.model(X, Z, y, tau, widthExp)\n",
    "        qgplsim.estimator(modelk, \"optim_qr\")\n",
    "        Alpha1[k, :] = modelk.alpha\n",
    "        Theta1[k, :] = modelk.theta\n",
    "        Gamma1[k, :] = modelk.gamma\n",
    "        Beta1[k, :] = modelk.beta\n",
    "\n",
    "    end\n",
    "end\n",
    "\n"
   ]
  },
  {
   "cell_type": "code",
   "execution_count": 122,
   "id": "dcd64a72-f5a6-4da4-93b1-a2e990320110",
   "metadata": {},
   "outputs": [
    {
     "name": "stdout",
     "output_type": "stream",
     "text": [
      "0.3171413978665687 0.3590843341002056\n"
     ]
    }
   ],
   "source": [
    "EE1 = sqrt.(1 .- abs.(Theta1 * theta)) \n",
    "println(mean(EE1), \" \", std(EE1))"
   ]
  },
  {
   "cell_type": "code",
   "execution_count": 123,
   "id": "a8f17f1d-ba46-41bd-b372-0d698ff93bc7",
   "metadata": {},
   "outputs": [
    {
     "data": {
      "text/plain": [
       "1×2 Matrix{Float64}:\n",
       " 0.717948  -1.3441"
      ]
     },
     "execution_count": 123,
     "metadata": {},
     "output_type": "execute_result"
    }
   ],
   "source": [
    "ma = mean(Alpha1, dims = 1)"
   ]
  },
  {
   "cell_type": "code",
   "execution_count": 124,
   "id": "b86fffa7-fdf0-4a8a-bb3a-a7750371ba5f",
   "metadata": {},
   "outputs": [
    {
     "data": {
      "text/plain": [
       "1×2 Matrix{Float64}:\n",
       " 0.737065  0.120008"
      ]
     },
     "execution_count": 124,
     "metadata": {},
     "output_type": "execute_result"
    }
   ],
   "source": [
    "mt = mean(Theta1, dims = 1)"
   ]
  },
  {
   "cell_type": "code",
   "execution_count": 125,
   "id": "79e90507-aec7-4489-9ed5-93fefc3b8900",
   "metadata": {},
   "outputs": [
    {
     "data": {
      "text/plain": [
       "1×2 Matrix{Float64}:\n",
       " 0.186977  0.250028"
      ]
     },
     "execution_count": 125,
     "metadata": {},
     "output_type": "execute_result"
    }
   ],
   "source": [
    "mg = mean(Gamma1, dims = 1)"
   ]
  },
  {
   "cell_type": "code",
   "execution_count": 126,
   "id": "1b93fc6e-fbb5-4360-ab3c-215fdc107544",
   "metadata": {},
   "outputs": [
    {
     "data": {
      "text/plain": [
       "1×2 Matrix{Float64}:\n",
       " 0.459464  -0.538871"
      ]
     },
     "execution_count": 126,
     "metadata": {},
     "output_type": "execute_result"
    }
   ],
   "source": [
    "mb = mean(Beta1, dims = 1)"
   ]
  },
  {
   "cell_type": "markdown",
   "id": "4cc43cda-d1d0-4771-ad74-a45f95f39fde",
   "metadata": {},
   "source": [
    "# Tabular"
   ]
  },
  {
   "cell_type": "code",
   "execution_count": null,
   "id": "1ebc90e8-71b2-40b6-b75d-48a3a688b3a0",
   "metadata": {},
   "outputs": [],
   "source": [
    "N = [500, 1000]\n",
    "Etype = [1,2,3,4]\n",
    "\n",
    "len_n = length(N)\n",
    "len_e = length(Etype)\n",
    "\n",
    "meanEE_theta = zeros(len_n, len_e)\n",
    "stdEE_theta = zeros(len_n, len_e)\n",
    "\n",
    "meanEE_alpha = zeros(len_n, len_e)\n",
    "stdEE_alpha = zeros(len_n, len_e)\n",
    "n_repeat = 100\n",
    "tau = [0.5]\n",
    "widthExp = -0.17\n",
    "\n",
    "alpha = [0, 1, 0, -2, 0]\n",
    "theta = [2, 0, -1, 0, 2]/3\n",
    "beta = [0, 0]\n",
    "gamma = [0, -0] \n",
    "\n",
    "p = length(alpha)\n",
    "q = length(beta)\n",
    "\n",
    "@threads for j in 1:len_e\n",
    "    \n",
    "    etype = Etype[j]    \n",
    "    \n",
    "    for i in 1:len_n  \n",
    "\n",
    "        n = N[i] \n",
    "       \n",
    "        Alpha = zeros(n_repeat, p)\n",
    "        Theta = zeros(n_repeat, p)\n",
    "        Beta = zeros(n_repeat, q)\n",
    "        Gamma = zeros(n_repeat, q)\n",
    "        \n",
    "        for k in 1:n_repeat\n",
    "            \n",
    "            e = eps(n, etype)\n",
    "            X, y, Z = xyz(n, alpha, theta, beta, gamma, e)\n",
    "            Z = zeros(n, 1)\n",
    "            modelk = qgplsim.model(X, Z, y, tau, widthExp)\n",
    "            qgplsim.estimator(modelk, \"optim_qr\")\n",
    "            Alpha[k, :] = modelk.alpha\n",
    "            Theta[k, :] = modelk.theta\n",
    "            \n",
    "        end\n",
    "        EE = sqrt.(1 .- abs.(Theta * theta)) \n",
    "        meanEE_theta[i,j] = mean(EE)\n",
    "        stdEE_theta[i,j] = std(EE)\n",
    "        norm_Alpha = norm.([Alpha[k, :] for k in 1:n_repeat]\n",
    "        EE = sqrt.(abs.(1 .- abs.(Alpha ./ norm_Alpha * alpha / norm(alpha)))) \n",
    "        meanEE_alpha[i,j] = mean(EE)\n",
    "        stdEE_alpha[i,j] = std(EE)\n",
    "    end\n",
    "end"
   ]
  },
  {
   "cell_type": "code",
   "execution_count": 241,
   "id": "096ae760-ecca-4375-9c1c-ab04e8df8775",
   "metadata": {},
   "outputs": [
    {
     "data": {
      "text/plain": [
       "4×4 Matrix{String}:\n",
       " \"0.5865(.2482)\"  \"0.5490(.2372)\"  \"0.5874(.2378)\"  \"0.6538(.2138)\"\n",
       " \"0.4125(.2088)\"  \"0.2299(.1540)\"  \"0.3585(.2217)\"  \"0.4950(.2373)\"\n",
       " \"0.1943(.1407)\"  \"0.1527(.1721)\"  \"0.1563(.1349)\"  \"0.2239(.1737)\"\n",
       " \"0.1359(.1712)\"  \"0.0892(.1054)\"  \"0.1324(.1811)\"  \"0.1554(.1724)\""
      ]
     },
     "execution_count": 241,
     "metadata": {},
     "output_type": "execute_result"
    }
   ],
   "source": [
    "table_theta = tabular(meanEE_theta, stdEE_theta)"
   ]
  },
  {
   "cell_type": "code",
   "execution_count": 244,
   "id": "3eba8369-df04-4bca-8193-9929fcc70c4b",
   "metadata": {},
   "outputs": [
    {
     "data": {
      "text/plain": [
       "4×4 Matrix{String}:\n",
       " \"0.7268(.1465)\"  \"0.7387(.1491)\"  \"0.7136(.1547)\"  \"0.7283(.1570)\"\n",
       " \"0.5548(.1811)\"  \"0.3589(.1506)\"  \"0.4800(.1817)\"  \"0.5565(.1712)\"\n",
       " \"0.2668(.1145)\"  \"0.1996(.1255)\"  \"0.2314(.1094)\"  \"0.3137(.1667)\"\n",
       " \"0.2123(.1307)\"  \"0.1364(.0678)\"  \"0.1604(.1285)\"  \"0.2116(.1350)\""
      ]
     },
     "execution_count": 244,
     "metadata": {},
     "output_type": "execute_result"
    }
   ],
   "source": [
    "table_alpha = tabular(meanEE_alpha, stdEE_alpha)"
   ]
  },
  {
   "cell_type": "code",
   "execution_count": 245,
   "id": "074e4f00-2a4e-4dab-bb8c-450571229d44",
   "metadata": {},
   "outputs": [
    {
     "data": {
      "text/plain": [
       "\"tablez_alpha.csv\""
      ]
     },
     "execution_count": 245,
     "metadata": {},
     "output_type": "execute_result"
    }
   ],
   "source": [
    "using DataFrames, CSV\n",
    "df = DataFrame(table_alpha)\n",
    "CSV.write(\"table_alpha.csv\", df)"
   ]
  },
  {
   "cell_type": "code",
   "execution_count": null,
   "id": "1a831bd4-c3af-4758-bb7a-8cf4ef1017f4",
   "metadata": {},
   "outputs": [],
   "source": []
  }
 ],
 "metadata": {
  "kernelspec": {
   "display_name": "Julia 1.7.2",
   "language": "julia",
   "name": "julia-1.7"
  },
  "language_info": {
   "file_extension": ".jl",
   "mimetype": "application/julia",
   "name": "julia",
   "version": "1.7.2"
  }
 },
 "nbformat": 4,
 "nbformat_minor": 5
}
