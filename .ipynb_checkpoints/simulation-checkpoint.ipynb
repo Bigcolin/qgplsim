{
 "cells": [
  {
   "cell_type": "code",
   "execution_count": 1,
   "id": "e66c1859-81b4-454d-acf6-f25cc7ce7ee4",
   "metadata": {},
   "outputs": [
    {
     "data": {
      "text/plain": [
       "\"/home/kyan/Projects/qgplsim\""
      ]
     },
     "execution_count": 1,
     "metadata": {},
     "output_type": "execute_result"
    }
   ],
   "source": [
    "using Plots, Distributions\n",
    "include(\"./src/supportFunctions.ji\")\n",
    "include(\"./src/qgplsim.ji\")\n",
    "pwd()"
   ]
  },
  {
   "cell_type": "code",
   "execution_count": 2,
   "id": "b2a52a9e-2458-414d-a8f4-e5790d803151",
   "metadata": {},
   "outputs": [
    {
     "data": {
      "text/plain": [
       "eps (generic function with 1 method)"
      ]
     },
     "execution_count": 2,
     "metadata": {},
     "output_type": "execute_result"
    }
   ],
   "source": [
    "t1 = TDist(1)\n",
    "t3 = TDist(3)\n",
    "\n",
    "\n",
    "function eps(n, etype)\n",
    "    \n",
    "    if etype == 1\n",
    "            e = randn(n)/2\n",
    "        elseif etype == 2\n",
    "            e = rand(t3, n) * sqrt(3) / 10    \n",
    "        elseif etype == 3\n",
    "            e = rand(t1, n) / 10\n",
    "        else\n",
    "            e = randn(n)\n",
    "            e = (e.^4 .- 3) .* 0.3             \n",
    "    end\n",
    "    e\n",
    "\n",
    "end"
   ]
  },
  {
   "cell_type": "markdown",
   "id": "1da4cc33-08d3-4ee9-bf7d-e5ac42d2ed6e",
   "metadata": {
    "tags": []
   },
   "source": [
    "# Case 1\n",
    "$y = X \\alpha + exp(X \\theta) + \\epsilon$"
   ]
  },
  {
   "cell_type": "code",
   "execution_count": 3,
   "id": "438a8615-7f44-48dd-997d-da4933421ae8",
   "metadata": {},
   "outputs": [
    {
     "data": {
      "text/plain": [
       "xyz1 (generic function with 1 method)"
      ]
     },
     "execution_count": 3,
     "metadata": {},
     "output_type": "execute_result"
    }
   ],
   "source": [
    "function simu_data1(X, α, θ, ϵ)\n",
    "\n",
    "    y = X*α + exp.(X*θ) + ϵ\n",
    "\n",
    "end\n",
    "\n",
    "function xyz1(n, alpha, theta, e)\n",
    "    q = length(alpha)\n",
    "    ∑ = zeros(q,q)\n",
    "\n",
    "    for i in 1:q\n",
    "        for j in i:q\n",
    "            ∑[i, j] = 0.5^(j - i)\n",
    "            ∑[j, i] = ∑[i, j]\n",
    "        end\n",
    "    end\n",
    "\n",
    "    ∑ = sqrt.(∑)\n",
    "\n",
    "\n",
    "    U = randn(n, q)\n",
    "    X = U * ∑\n",
    "\n",
    "    Z = zeros(n, 2)\n",
    "    y = simu_data1(X, alpha, theta, e)\n",
    "    X, y, Z\n",
    "    \n",
    "end"
   ]
  },
  {
   "cell_type": "markdown",
   "id": "4cb9e554-89cf-4e21-980e-c1f97dedda2c",
   "metadata": {},
   "source": [
    "## test "
   ]
  },
  {
   "cell_type": "code",
   "execution_count": 25,
   "id": "5075b8f7-df51-4c1a-9934-22a20419dba2",
   "metadata": {},
   "outputs": [
    {
     "data": {
      "text/plain": [
       "-0.17"
      ]
     },
     "execution_count": 25,
     "metadata": {},
     "output_type": "execute_result"
    }
   ],
   "source": [
    "n = 400\n",
    "alpha = [0, 1, 0, -2, 0]\n",
    "theta = [2, 0, -1, 0, 2]/3\n",
    "\n",
    "\n",
    "e = eps(n, 1)\n",
    "X, y, Z = xyz1(n, alpha, theta, e)\n",
    "\n",
    "tau = [0.5]\n",
    "widthExp = -0.17"
   ]
  },
  {
   "cell_type": "code",
   "execution_count": 26,
   "id": "a5feb30e-d3ff-4c40-8d1d-1f0597878004",
   "metadata": {},
   "outputs": [
    {
     "name": "stdout",
     "output_type": "stream",
     "text": [
      "alpha => [-0.1451, 1.0346, 0.1545, -2.0777, 0.0452]\n",
      "theta => [0.6493, 0.0198, -0.3284, -0.045, 0.6843]\n",
      "gamma => [0.0, 0.0]\n",
      "beta => [0.0, 0.0]\n"
     ]
    },
    {
     "name": "stderr",
     "output_type": "stream",
     "text": [
      "WARNING: replacing module qgplsim.\n"
     ]
    }
   ],
   "source": [
    "include(\"./src/qgplsim.ji\")\n",
    "model1 = qgplsim.model(X, Z, y, tau, widthExp)\n",
    "qgplsim.estimator(model1, \"gurobi\")\n",
    "qgplsim.print_model(model1)"
   ]
  },
  {
   "cell_type": "markdown",
   "id": "c373fdaf-adb6-4754-a86d-ea95e806cd66",
   "metadata": {},
   "source": [
    "## Monte Carlo Simulation"
   ]
  },
  {
   "cell_type": "code",
   "execution_count": 8,
   "id": "150b0a1a-b068-478b-92fb-7cc8b92876a4",
   "metadata": {},
   "outputs": [
    {
     "name": "stdout",
     "output_type": "stream",
     "text": [
      "threads for parallel computing:  4\n"
     ]
    }
   ],
   "source": [
    "using Base.Threads\n",
    "nth = Threads.nthreads()\n",
    "println(\"threads for parallel computing:  \", nth)"
   ]
  },
  {
   "cell_type": "code",
   "execution_count": 27,
   "id": "c1814379-949c-4167-b897-297840a4e6f2",
   "metadata": {},
   "outputs": [
    {
     "data": {
      "text/plain": [
       "100"
      ]
     },
     "execution_count": 27,
     "metadata": {},
     "output_type": "execute_result"
    }
   ],
   "source": [
    "n = 400\n",
    "alpha = [0, 1, 0, -2, 0]\n",
    "theta = [2, 0, -1, 0, 2]/3\n",
    "n_repeat = 25\n",
    "n_repeat * nth"
   ]
  },
  {
   "cell_type": "markdown",
   "id": "96bfcf57-0188-4f47-a297-dd677523c11d",
   "metadata": {},
   "source": [
    "### $\\epsilon$ ~ $N(0, 1)/2$"
   ]
  },
  {
   "cell_type": "code",
   "execution_count": 28,
   "id": "e70b3702-518d-400d-8058-bb5f42072eee",
   "metadata": {},
   "outputs": [
    {
     "name": "stderr",
     "output_type": "stream",
     "text": [
      "WARNING: replacing module qgplsim.\n"
     ]
    }
   ],
   "source": [
    "include(\"./src/qgplsim.ji\")\n",
    "\n",
    "Alpha1 = zeros(n_repeat * nth, 5)\n",
    "Theta1 = zeros(n_repeat * nth, 5)\n",
    "@threads for i in 1:nth\n",
    "    for j in 1:n_repeat\n",
    "        \n",
    "        k = (i - 1) * n_repeat + j\n",
    "        e = eps(n, 1)\n",
    "        X, y, Z = xyz1(n, alpha, theta, 0.2e)\n",
    "        modelk = qgplsim.model(X, Z, y, tau, widthExp)\n",
    "        qgplsim.estimator(modelk, \"gurobi\")\n",
    "        Alpha1[k, :] = modelk.alpha\n",
    "        Theta1[k, :] = modelk.theta\n",
    "    end\n",
    "end\n",
    "\n"
   ]
  },
  {
   "cell_type": "code",
   "execution_count": 29,
   "id": "f6535e08-ecb6-41c9-b198-3ae9dafd1098",
   "metadata": {},
   "outputs": [
    {
     "name": "stdout",
     "output_type": "stream",
     "text": [
      "0.12926016349211378 0.11180555404326611\n"
     ]
    }
   ],
   "source": [
    "EE1 = sqrt.(1 .- abs.(Theta1 * theta)) \n",
    "println(mean(EE1), \" \", std(EE1))"
   ]
  },
  {
   "cell_type": "code",
   "execution_count": 30,
   "id": "a180022c-0204-4a71-838a-4d99c5b57bea",
   "metadata": {},
   "outputs": [
    {
     "data": {
      "text/plain": [
       "1×5 Matrix{Float64}:\n",
       " 0.64351  -0.000591914  -0.31019  -0.0181674  0.657769"
      ]
     },
     "execution_count": 30,
     "metadata": {},
     "output_type": "execute_result"
    }
   ],
   "source": [
    "mean(Theta1, dims = 1)"
   ]
  },
  {
   "cell_type": "code",
   "execution_count": 31,
   "id": "428a8fd5-10ab-4712-8f1d-7496ea723ce9",
   "metadata": {},
   "outputs": [
    {
     "data": {
      "text/plain": [
       "1×5 Matrix{Float64}:\n",
       " 0.0458576  0.995733  -0.0412868  -1.9385  -0.00386259"
      ]
     },
     "execution_count": 31,
     "metadata": {},
     "output_type": "execute_result"
    }
   ],
   "source": [
    "mean(Alpha1, dims = 1)"
   ]
  },
  {
   "cell_type": "code",
   "execution_count": 32,
   "id": "d7f15130-629a-444a-91db-77cd2b9c62d5",
   "metadata": {},
   "outputs": [
    {
     "data": {
      "text/plain": [
       "(0.14440064289700985, 0.12698290529288778)"
      ]
     },
     "execution_count": 32,
     "metadata": {},
     "output_type": "execute_result"
    }
   ],
   "source": [
    "euclid(Alpha1, alpha)"
   ]
  },
  {
   "cell_type": "markdown",
   "id": "0a897d03-bea3-4561-8b75-cedc1caf27ee",
   "metadata": {},
   "source": [
    "### $\\epsilon$ ~ $\\sqrt 3 t(3) / 10$"
   ]
  },
  {
   "cell_type": "code",
   "execution_count": 172,
   "id": "e412273e-824d-4f42-a4ea-3b515e2c5da3",
   "metadata": {},
   "outputs": [],
   "source": [
    "Alpha2 = zeros(n_repeat * nth, 5)\n",
    "Theta2 = zeros(n_repeat * nth, 5)\n",
    "\n",
    "@threads for i in 1:nth\n",
    "    for j in 1:n_repeat\n",
    "        \n",
    "        k = (i - 1) * n_repeat + j\n",
    "        U = randn(n, 5)\n",
    "        X = U * ∑\n",
    "        e = rand(t3, n) * sqrt(3) / 10\n",
    "        y = simu_data1(X, alpha, theta, e)\n",
    "        modelk = qgplsim.model(X, Z, y, tau, widthExp)\n",
    "        qgplsim.estimator(modelk, \"optim_qr\")\n",
    "        Alpha2[k, :] = modelk.alpha\n",
    "        Theta2[k, :] = modelk.theta\n",
    "    end\n",
    "end"
   ]
  },
  {
   "cell_type": "code",
   "execution_count": 173,
   "id": "d0141cc6-a585-4270-8f1c-2fd2c92d56fc",
   "metadata": {},
   "outputs": [
    {
     "data": {
      "text/plain": [
       "1×5 Matrix{Float64}:\n",
       " 0.618235  0.0223955  -0.331152  0.0309383  0.577526"
      ]
     },
     "execution_count": 173,
     "metadata": {},
     "output_type": "execute_result"
    }
   ],
   "source": [
    "mean(Theta2, dims = 1)"
   ]
  },
  {
   "cell_type": "code",
   "execution_count": 174,
   "id": "67070f62-31b6-4014-9925-c07eb574a351",
   "metadata": {},
   "outputs": [
    {
     "name": "stdout",
     "output_type": "stream",
     "text": [
      "0.1773731420044237 0.21078261894154507\n"
     ]
    }
   ],
   "source": [
    "EE2 = sqrt.(1 .- abs.(Theta2 * theta)) \n",
    "println(mean(EE2), \" \", std(EE2))"
   ]
  },
  {
   "cell_type": "markdown",
   "id": "653a9104-a308-4231-908d-ac423e66dfe7",
   "metadata": {
    "tags": []
   },
   "source": [
    "### $\\epsilon$ ~ $t(1)/10$"
   ]
  },
  {
   "cell_type": "code",
   "execution_count": 176,
   "id": "baa6aec7-16d7-4bc2-86de-bf91224a141c",
   "metadata": {},
   "outputs": [],
   "source": [
    "Alpha3 = zeros(n_repeat * nth, 5)\n",
    "Theta3 = zeros(n_repeat * nth, 5)\n",
    "\n",
    "@threads for i in 1:nth\n",
    "    for j in 1:n_repeat\n",
    "        \n",
    "        k = (i - 1) * n_repeat + j\n",
    "        U = randn(n, 5)\n",
    "        X = U * ∑\n",
    "        e = rand(t1, n) / 10\n",
    "        y = simu_data1(X, alpha, theta, e)\n",
    "        modelk = qgplsim.model(X, Z, y, tau, widthExp)\n",
    "        qgplsim.estimator(modelk, \"optim_qr\")\n",
    "        Alpha3[k, :] = modelk.alpha\n",
    "        Theta3[k, :] = modelk.theta\n",
    "    end\n",
    "end"
   ]
  },
  {
   "cell_type": "code",
   "execution_count": 177,
   "id": "8679e5af-164e-4b9a-bb5d-dee4562047fe",
   "metadata": {},
   "outputs": [
    {
     "data": {
      "text/plain": [
       "1×5 Matrix{Float64}:\n",
       " 0.647159  0.00469007  -0.344865  0.0617279  0.600015"
      ]
     },
     "execution_count": 177,
     "metadata": {},
     "output_type": "execute_result"
    }
   ],
   "source": [
    "mean(Theta3, dims = 1)"
   ]
  },
  {
   "cell_type": "code",
   "execution_count": 178,
   "id": "90b74c1f-5250-41e1-8589-6b18d9bb2bb9",
   "metadata": {},
   "outputs": [
    {
     "name": "stdout",
     "output_type": "stream",
     "text": [
      "0.1572008337416937 0.15656874707896248\n"
     ]
    }
   ],
   "source": [
    "EE3 = sqrt.(1 .- abs.(Theta3 * theta)) \n",
    "println(mean(EE3), \" \", std(EE3))"
   ]
  },
  {
   "cell_type": "markdown",
   "id": "88a310c8-1a38-4151-83a4-aca91ce661c5",
   "metadata": {
    "tags": []
   },
   "source": [
    "### $\\epsilon$ ~ $0.3(N(0, 1)^4 - 3)$"
   ]
  },
  {
   "cell_type": "code",
   "execution_count": 179,
   "id": "9bfb0569-08d3-4fe8-8d7d-51f5ff9e6717",
   "metadata": {},
   "outputs": [],
   "source": [
    "Alpha4 = zeros(n_repeat * nth, 5)\n",
    "Theta4 = zeros(n_repeat * nth, 5)\n",
    "\n",
    "@threads for i in 1:nth\n",
    "    for j in 1:n_repeat\n",
    "        \n",
    "        k = (i - 1) * n_repeat + j\n",
    "        U = randn(n, 5)\n",
    "        X = U * ∑\n",
    "        e = randn(n)\n",
    "        e = (e.^4 .- 3) .* 0.3\n",
    "        y = simu_data1(X, alpha, theta, e)\n",
    "        modelk = qgplsim.model(X, Z, y, tau, widthExp)\n",
    "        qgplsim.estimator(modelk, \"optim_qr\")\n",
    "        Alpha4[k, :] = modelk.alpha\n",
    "        Theta4[k, :] = modelk.theta\n",
    "    end\n",
    "end"
   ]
  },
  {
   "cell_type": "code",
   "execution_count": 180,
   "id": "bb27f287-4c5e-4b3e-ba5e-1c97c9c67594",
   "metadata": {},
   "outputs": [
    {
     "data": {
      "text/plain": [
       "1×5 Matrix{Float64}:\n",
       " 0.631767  0.0122769  -0.346298  0.0687969  0.577738"
      ]
     },
     "execution_count": 180,
     "metadata": {},
     "output_type": "execute_result"
    }
   ],
   "source": [
    "mean(Theta4, dims = 1)"
   ]
  },
  {
   "cell_type": "code",
   "execution_count": 181,
   "id": "a6ab027d-5709-4d6d-9cfb-fb402cbf1444",
   "metadata": {},
   "outputs": [
    {
     "name": "stdout",
     "output_type": "stream",
     "text": [
      "0.21594105838062394 0.1751448733458884\n"
     ]
    }
   ],
   "source": [
    "EE4 = sqrt.(1 .- abs.(Theta4 * theta)) \n",
    "println(mean(EE4), \" \", std(EE4))"
   ]
  },
  {
   "cell_type": "code",
   "execution_count": 1954,
   "id": "47f2cf4b-930a-439c-989c-4bae6ef08ab6",
   "metadata": {},
   "outputs": [
    {
     "name": "stderr",
     "output_type": "stream",
     "text": [
      "WARNING: replacing module qgplsim.\n"
     ]
    }
   ],
   "source": [
    "N = [100,200,400,800]\n",
    "Etype = [1,2,3,4]\n",
    "\n",
    "len_n = length(N)\n",
    "len_e = length(Etype)\n",
    "\n",
    "meanEE_theta = zeros(len_n, len_e)\n",
    "stdEE_theta = zeros(len_n, len_e)\n",
    "\n",
    "mean_alpha = zeros(len_n, len_e)\n",
    "std_alpha = zeros(len_n, len_e)\n",
    "\n",
    "\n",
    "n_repeat = 100\n",
    "tau = [0.5]\n",
    "widthExp = -0.17\n",
    "method = \"gurobi\"\n",
    "\n",
    "alpha = [0, 1, 0, -2, 0]\n",
    "theta = [2, 0, -1, 0, 2]/3\n",
    "\n",
    "p = length(alpha)\n",
    "q = length(beta)\n",
    "\n",
    "include(\"./src/qgplsim.ji\")\n",
    "@threads for j in 1:len_e\n",
    "    \n",
    "    etype = Etype[j]    \n",
    "    \n",
    "    for i in 1:len_n  \n",
    "\n",
    "        n = N[i] \n",
    "       \n",
    "        Alpha = zeros(n_repeat, p)\n",
    "        Theta = zeros(n_repeat, p)\n",
    "        \n",
    "        for k in 1:n_repeat\n",
    "            \n",
    "            e = eps(n, etype)\n",
    "            X, y, Z = xyz1(n, alpha, theta, 0.2e)\n",
    "            modelk = qgplsim.model(X, Z, y, tau, widthExp)\n",
    "            qgplsim.estimator(modelk, method)\n",
    "            # qgplsim.print_model(modelk)\n",
    "            Alpha[k, :] = modelk.alpha\n",
    "            Theta[k, :] = modelk.theta\n",
    "\n",
    "            \n",
    "        end\n",
    "        EE = sqrt.(1 .- abs.(Theta * theta)) \n",
    "        meanEE_theta[i,j] = mean(EE)\n",
    "        stdEE_theta[i,j] = std(EE)\n",
    "        mean_alpha[i,j], std_alpha[i,j] = euclid(Alpha, alpha)\n",
    "        \n",
    "    end\n",
    "end"
   ]
  },
  {
   "cell_type": "code",
   "execution_count": 1952,
   "id": "6afa699f-0eaf-45e4-afcc-49de630160bf",
   "metadata": {},
   "outputs": [
    {
     "data": {
      "text/plain": [
       "4×4 Matrix{String}:\n",
       " \"0.3008(.2300)\"  \"0.2413(.1760)\"  \"0.2677(.2034)\"  \"0.3371(.2343)\"\n",
       " \"0.1984(.1911)\"  \"0.1694(.1295)\"  \"0.1882(.1614)\"  \"0.2133(.1831)\"\n",
       " \"0.1244(.1074)\"  \"0.1248(.1124)\"  \"0.1151(.1191)\"  \"0.1598(.1385)\"\n",
       " \"0.0723(.0573)\"  \"0.0858(.0697)\"  \"0.0826(.0942)\"  \"0.0865(.0906)\""
      ]
     },
     "execution_count": 1952,
     "metadata": {},
     "output_type": "execute_result"
    }
   ],
   "source": [
    "table_theta = tabular(meanEE_theta, stdEE_theta)"
   ]
  },
  {
   "cell_type": "code",
   "execution_count": 1953,
   "id": "d2ed8da0-9c04-4c8c-a1bf-f23f5f7465f4",
   "metadata": {},
   "outputs": [
    {
     "data": {
      "text/plain": [
       "4×4 Matrix{String}:\n",
       " \"0.3053(.2302)\"  \"0.2440(.1707)\"  \"0.2684(.1891)\"  \"0.3326(.2127)\"\n",
       " \"0.2037(.1766)\"  \"0.1820(.1520)\"  \"0.1920(.1617)\"  \"0.2162(.1667)\"\n",
       " \"0.1353(.1103)\"  \"0.1387(.1364)\"  \"0.1159(.1137)\"  \"0.1742(.1516)\"\n",
       " \"0.0810(.0627)\"  \"0.0981(.0831)\"  \"0.0918(.0971)\"  \"0.1015(.1076)\""
      ]
     },
     "execution_count": 1953,
     "metadata": {},
     "output_type": "execute_result"
    }
   ],
   "source": [
    "table_alpha = tabular(mean_alpha, std_alpha)"
   ]
  },
  {
   "cell_type": "markdown",
   "id": "25e572ca-500c-4c81-bfb4-e7ca886ee77f",
   "metadata": {
    "tags": []
   },
   "source": [
    "# Case 2\n",
    "$y = X \\alpha + Z \\beta + exp(X \\theta + Z \\gamma) + \\epsilon$"
   ]
  },
  {
   "cell_type": "code",
   "execution_count": 34,
   "id": "93d256e6-ea67-4b0c-8335-c002b2ef0c85",
   "metadata": {},
   "outputs": [
    {
     "data": {
      "text/plain": [
       "xyz2 (generic function with 1 method)"
      ]
     },
     "execution_count": 34,
     "metadata": {},
     "output_type": "execute_result"
    }
   ],
   "source": [
    "function simu_data2(X, α, θ, Z, β, γ, ϵ)\n",
    "\n",
    "    y = X*α  + Z*β + exp.(X*θ + Z*γ) + ϵ\n",
    "\n",
    "end\n",
    "\n",
    "function xyz2(n, alpha, theta, beta, gamma, e)\n",
    "    ∑ = zeros(5,5)\n",
    "\n",
    "    for i in 1:5\n",
    "        for j in i:5\n",
    "            ∑[i, j] = 0.5^(j - i)\n",
    "            ∑[j, i] = ∑[i, j]\n",
    "        end\n",
    "    end\n",
    "\n",
    "    ∑ = sqrt.(∑)\n",
    "\n",
    "\n",
    "    U = randn(n, 5)\n",
    "    X = U * ∑\n",
    "\n",
    "    Z = zeros(n, 2)\n",
    "    Z[:, 1] = rand(n, 1) .> 0.25\n",
    "    Z[:, 2] = rand(n, 1) .> 0.5\n",
    "\n",
    "    y = simu_data2(X, alpha, theta, Z, beta, gamma, e)\n",
    "    X, y, Z\n",
    "    \n",
    "end"
   ]
  },
  {
   "cell_type": "markdown",
   "id": "992ea2f9-df57-41cf-80cc-66e421dd3f18",
   "metadata": {},
   "source": [
    "## test "
   ]
  },
  {
   "cell_type": "code",
   "execution_count": 48,
   "id": "65b166bd-4350-4921-bea0-13515783ff31",
   "metadata": {},
   "outputs": [
    {
     "data": {
      "text/plain": [
       "-0.2"
      ]
     },
     "execution_count": 48,
     "metadata": {},
     "output_type": "execute_result"
    }
   ],
   "source": [
    "n = 400\n",
    "alpha = [0, 1, 0, -2, 0]\n",
    "theta = [2, 0, -1, 0, 2]/3\n",
    "beta = [1.0, 1.0]/2\n",
    "gamma = [0.5, -0.5] \n",
    "e = rand(n) / 2\n",
    "method = \"gurobi\"\n",
    "\n",
    "X, y, Z = xyz2(n, alpha, theta, beta, gamma, e)\n",
    "\n",
    "tau = [0.5]\n",
    "widthExp = -0.2"
   ]
  },
  {
   "cell_type": "code",
   "execution_count": 49,
   "id": "93e68a44-2f27-463d-9c27-85114d526960",
   "metadata": {},
   "outputs": [
    {
     "name": "stdout",
     "output_type": "stream",
     "text": [
      "alpha => [0.0165, 0.9454, 0.093, -2.0148, 0.0319]\n",
      "theta => [0.659, 0.0269, -0.3711, 0.0113, 0.6535]\n",
      "gamma => [0.4966, -0.508]\n",
      "beta => [1.2396, -0.0632]\n"
     ]
    },
    {
     "name": "stderr",
     "output_type": "stream",
     "text": [
      "WARNING: replacing module qgplsim.\n"
     ]
    }
   ],
   "source": [
    "include(\"./src/qgplsim.ji\")\n",
    "model1 = qgplsim.model(X, Z, y, tau, widthExp)\n",
    "qgplsim.estimator(model1, method)\n",
    "qgplsim.print_model(model1)"
   ]
  },
  {
   "cell_type": "markdown",
   "id": "a73b46d4-20da-40d1-9aa1-2110efe410e4",
   "metadata": {
    "tags": []
   },
   "source": [
    "## Monte Carlo Simulation"
   ]
  },
  {
   "cell_type": "code",
   "execution_count": 1907,
   "id": "8c8cb9d0-f0b9-4bd0-8ebe-ace67c38ca1c",
   "metadata": {
    "jp-MarkdownHeadingCollapsed": true,
    "tags": []
   },
   "outputs": [
    {
     "name": "stdout",
     "output_type": "stream",
     "text": [
      "threads for parallel computing:  4\n"
     ]
    }
   ],
   "source": [
    "using Base.Threads\n",
    "nth = Threads.nthreads()\n",
    "println(\"threads for parallel computing:  \", nth)\n"
   ]
  },
  {
   "cell_type": "code",
   "execution_count": 51,
   "id": "7597f098-417f-4071-bfd4-bdc4d5eb4654",
   "metadata": {},
   "outputs": [
    {
     "data": {
      "text/plain": [
       "100"
      ]
     },
     "execution_count": 51,
     "metadata": {},
     "output_type": "execute_result"
    }
   ],
   "source": [
    "n = 400\n",
    "alpha = [0, 1, 0, -2, 0]\n",
    "theta = [2, 0, -1, 0, 2]/3\n",
    "beta = [1, 1]\n",
    "gamma = [1.0, -1.0]./1\n",
    "n_repeat = 25\n",
    "n_repeat * nth"
   ]
  },
  {
   "cell_type": "markdown",
   "id": "4bbc09d0-0e6a-4f5f-974c-5a4a35a998d8",
   "metadata": {},
   "source": [
    "### $\\epsilon$ ~ $N(0, 1)/2$"
   ]
  },
  {
   "cell_type": "code",
   "execution_count": 52,
   "id": "0dea4b10-f086-41b1-a1db-e49fe12af4a2",
   "metadata": {},
   "outputs": [
    {
     "name": "stderr",
     "output_type": "stream",
     "text": [
      "WARNING: replacing module qgplsim.\n"
     ]
    }
   ],
   "source": [
    "include(\"./src/qgplsim.ji\")\n",
    "\n",
    "Alpha1 = zeros(n_repeat * nth, 5)\n",
    "Theta1 = zeros(n_repeat * nth, 5)\n",
    "Gamma1 = zeros(n_repeat * nth, 2)\n",
    "Beta1 = zeros(n_repeat * nth, 2)\n",
    "\n",
    "method = \"qr\"\n",
    "\n",
    "@threads for i in 1:nth\n",
    "    for j in 1:n_repeat\n",
    "        \n",
    "        k = (i - 1) * n_repeat + j\n",
    "        e = randn(n) / 2\n",
    "        X, y, Z = xyz2(n, alpha, theta, beta, gamma, e)\n",
    "\n",
    "        modelk = qgplsim.model(X, Z, y, tau, widthExp)\n",
    "        qgplsim.estimator(modelk, method)\n",
    "        Alpha1[k, :] = modelk.alpha\n",
    "        Theta1[k, :] = modelk.theta\n",
    "        Gamma1[k, :] = modelk.gamma\n",
    "        Beta1[k, :] = modelk.gamma\n",
    "\n",
    "\n",
    "    end\n",
    "end\n",
    "\n"
   ]
  },
  {
   "cell_type": "code",
   "execution_count": 53,
   "id": "713ab7ea-f998-49db-956f-e6b9a41fe829",
   "metadata": {},
   "outputs": [
    {
     "data": {
      "text/plain": [
       "1×5 Matrix{Float64}:\n",
       " 0.594103  -0.0749886  -0.239065  -0.00560736  0.55986"
      ]
     },
     "execution_count": 53,
     "metadata": {},
     "output_type": "execute_result"
    }
   ],
   "source": [
    "mean(Theta1, dims = 1)"
   ]
  },
  {
   "cell_type": "code",
   "execution_count": 56,
   "id": "f7ae8a1d-48e1-490f-a777-e1d6e49495a4",
   "metadata": {},
   "outputs": [
    {
     "name": "stdout",
     "output_type": "stream",
     "text": [
      "0.310605977565584 0.2086624478217037\n"
     ]
    }
   ],
   "source": [
    "EE1 = sqrt.(1 .- abs.(Theta1 * theta)) \n",
    "println(mean(EE1), \" \", std(EE1))"
   ]
  },
  {
   "cell_type": "code",
   "execution_count": 57,
   "id": "9db18eff-0a0a-426b-a8db-1552ec33ecdd",
   "metadata": {},
   "outputs": [
    {
     "data": {
      "text/plain": [
       "1×5 Matrix{Float64}:\n",
       " 0.191602  1.02296  -0.149294  -1.88091  0.124886"
      ]
     },
     "execution_count": 57,
     "metadata": {},
     "output_type": "execute_result"
    }
   ],
   "source": [
    "mean(Alpha1, dims = 1)"
   ]
  },
  {
   "cell_type": "code",
   "execution_count": 58,
   "id": "87e8dc6a-985b-415f-a66e-b66c5ca606a6",
   "metadata": {},
   "outputs": [
    {
     "data": {
      "text/plain": [
       "(0.2796964466159054, 0.14474743517812383)"
      ]
     },
     "execution_count": 58,
     "metadata": {},
     "output_type": "execute_result"
    }
   ],
   "source": [
    "euclid(Alpha1, alpha)"
   ]
  },
  {
   "cell_type": "code",
   "execution_count": 59,
   "id": "da0a9eff-7be7-4a4f-adab-de85ce7c5615",
   "metadata": {},
   "outputs": [
    {
     "data": {
      "text/plain": [
       "1×2 Matrix{Float64}:\n",
       " -0.0235793  -0.901235"
      ]
     },
     "execution_count": 59,
     "metadata": {},
     "output_type": "execute_result"
    }
   ],
   "source": [
    "mean(Gamma1, dims = 1)"
   ]
  },
  {
   "cell_type": "code",
   "execution_count": 60,
   "id": "86e768cb-ef28-40c4-93d8-21003a2ed190",
   "metadata": {},
   "outputs": [
    {
     "data": {
      "text/plain": [
       "1×2 Matrix{Float64}:\n",
       " -0.0235793  -0.901235"
      ]
     },
     "execution_count": 60,
     "metadata": {},
     "output_type": "execute_result"
    }
   ],
   "source": [
    "mean(Beta1, dims = 1)"
   ]
  },
  {
   "cell_type": "markdown",
   "id": "1e10555a-8bb2-4840-9e4c-8ced3c12ebd1",
   "metadata": {},
   "source": [
    "### $\\epsilon$ ~ $\\sqrt 3 t(3) / 10$"
   ]
  },
  {
   "cell_type": "code",
   "execution_count": 150,
   "id": "07c5c281-9a28-4040-8c9a-c4cf1fca0246",
   "metadata": {},
   "outputs": [],
   "source": [
    "Alpha2 = zeros(n_repeat * nth, 5)\n",
    "Theta2 = zeros(n_repeat * nth, 5)\n",
    "Gamma2 = zeros(n_repeat * nth, 2)\n",
    "\n",
    "@threads for i in 1:nth\n",
    "    for j in 1:n_repeat\n",
    "        \n",
    "        k = (i - 1) * n_repeat + j\n",
    "        e = rand(t3, n) * sqrt(3) / 10\n",
    "        X, y, Z = xyz2(n, alpha, theta, beta, gamma, e)\n",
    "        modelk = qgplsim.model(X, Z, y, tau, widthExp)\n",
    "        qgplsim.estimator(modelk, \"optim_qr\")\n",
    "        Alpha2[k, :] = modelk.alpha\n",
    "        Theta2[k, :] = modelk.theta\n",
    "        Gamma2[k, :] = modelk.gamma\n",
    "\n",
    "        \n",
    "    end\n",
    "end"
   ]
  },
  {
   "cell_type": "code",
   "execution_count": 151,
   "id": "17f8b60c-0157-43a9-bba2-93b1159caebe",
   "metadata": {},
   "outputs": [
    {
     "data": {
      "text/plain": [
       "1×5 Matrix{Float64}:\n",
       " 0.6453  0.00128617  -0.32176  0.0106369  0.572918"
      ]
     },
     "execution_count": 151,
     "metadata": {},
     "output_type": "execute_result"
    }
   ],
   "source": [
    "mean(Theta2, dims = 1)"
   ]
  },
  {
   "cell_type": "code",
   "execution_count": 152,
   "id": "72873489-3754-45cc-a509-6b8a064b914d",
   "metadata": {},
   "outputs": [
    {
     "name": "stdout",
     "output_type": "stream",
     "text": [
      "0.17522982401106535 0.21081039981797559\n"
     ]
    }
   ],
   "source": [
    "EE2 = sqrt.(1 .- abs.(Theta2 * theta)) \n",
    "println(mean(EE2), \" \", std(EE2))"
   ]
  },
  {
   "cell_type": "code",
   "execution_count": 230,
   "id": "04e6c896-3dc4-4754-8fde-0b1122f2a23e",
   "metadata": {},
   "outputs": [
    {
     "name": "stdout",
     "output_type": "stream",
     "text": [
      "0.2604622974978035 0.2441158621826322\n"
     ]
    }
   ],
   "source": [
    "EEa = sqrt.(abs.(5 .- abs.(Alpha2 * alpha))/5)\n",
    "println(mean(EEa), \" \", std(EEa))"
   ]
  },
  {
   "cell_type": "code",
   "execution_count": 153,
   "id": "8bf9ef69-d0e0-4493-9bbe-4944a057bd6f",
   "metadata": {},
   "outputs": [
    {
     "data": {
      "text/plain": [
       "1×2 Matrix{Float64}:\n",
       " -0.0015759  -0.36258"
      ]
     },
     "execution_count": 153,
     "metadata": {},
     "output_type": "execute_result"
    }
   ],
   "source": [
    "mean(Gamma2, dims = 1)"
   ]
  },
  {
   "cell_type": "markdown",
   "id": "3699aeac-48dc-44ac-93f0-324cd0807105",
   "metadata": {
    "tags": []
   },
   "source": [
    "### $\\epsilon$ ~ $t(1)/10$"
   ]
  },
  {
   "cell_type": "code",
   "execution_count": 154,
   "id": "34232bd4-e92c-401c-8205-a7cd8b1d69d9",
   "metadata": {},
   "outputs": [],
   "source": [
    "Alpha3 = zeros(n_repeat * nth, 5)\n",
    "Theta3 = zeros(n_repeat * nth, 5)\n",
    "Gamma3 = zeros(n_repeat * nth, 2)\n",
    "\n",
    "@threads for i in 1:nth\n",
    "    for j in 1:n_repeat\n",
    "        \n",
    "        k = (i - 1) * n_repeat + j\n",
    "        e = rand(t1, n) / 10\n",
    "        X, y, Z = xyz(n, alpha, theta, beta, gamma, e)\n",
    "        modelk = qgplsim.model(X, Z, y, tau, widthExp)\n",
    "        qgplsim.estimator(modelk, \"optim_qr\")\n",
    "        Alpha3[k, :] = modelk.alpha\n",
    "        Theta3[k, :] = modelk.theta\n",
    "        Gamma3[k, :] = modelk.gamma\n",
    "\n",
    "        \n",
    "    end\n",
    "end"
   ]
  },
  {
   "cell_type": "code",
   "execution_count": 155,
   "id": "c35af225-0c95-41d9-8ceb-eaae1f509c46",
   "metadata": {},
   "outputs": [
    {
     "data": {
      "text/plain": [
       "1×5 Matrix{Float64}:\n",
       " 0.635217  -0.0285129  -0.33521  0.0350691  0.598973"
      ]
     },
     "execution_count": 155,
     "metadata": {},
     "output_type": "execute_result"
    }
   ],
   "source": [
    "mean(Theta3, dims = 1)"
   ]
  },
  {
   "cell_type": "code",
   "execution_count": 264,
   "id": "cd865b15-9fc7-4972-928e-fe8ab5c4f778",
   "metadata": {},
   "outputs": [
    {
     "name": "stdout",
     "output_type": "stream",
     "text": [
      "0.1572008337416937 0.15656874707896248\n"
     ]
    }
   ],
   "source": [
    "EE3 = sqrt.(1 .- abs.(Theta3 * theta)) \n",
    "println(mean(EE3), \" \", std(EE3))"
   ]
  },
  {
   "cell_type": "code",
   "execution_count": 266,
   "id": "78b3e367-b704-463f-a216-1ce65d43a3ed",
   "metadata": {},
   "outputs": [
    {
     "name": "stdout",
     "output_type": "stream",
     "text": [
      "0.10734724786839749 0.10430637727052751\n"
     ]
    }
   ],
   "source": [
    "na3 = norm.([Alpha3[k, :] for k in 1:100] )\n",
    "EEa = sqrt.(abs.(1 .- abs.(Alpha3 ./ na3 * alpha / norm(alpha))))\n",
    "println(mean(EEa), \" \", std(EEa))"
   ]
  },
  {
   "cell_type": "code",
   "execution_count": 157,
   "id": "4991064a-ff3e-449e-8196-66381f567228",
   "metadata": {},
   "outputs": [
    {
     "data": {
      "text/plain": [
       "1×2 Matrix{Float64}:\n",
       " -0.00624061  -0.363546"
      ]
     },
     "execution_count": 157,
     "metadata": {},
     "output_type": "execute_result"
    }
   ],
   "source": [
    "mean(Gamma3, dims = 1)"
   ]
  },
  {
   "cell_type": "markdown",
   "id": "c3eabbe2-900d-44fe-bdcf-d2683398e8ba",
   "metadata": {
    "tags": []
   },
   "source": [
    "### $\\epsilon$ ~ $0.3(N(0, 1)^4 - 3)$"
   ]
  },
  {
   "cell_type": "code",
   "execution_count": 158,
   "id": "631910ff-2e14-4e7c-85f9-306bb031e10a",
   "metadata": {},
   "outputs": [],
   "source": [
    "Alpha4 = zeros(n_repeat * nth, 5)\n",
    "Theta4 = zeros(n_repeat * nth, 5)\n",
    "Gamma4 = zeros(n_repeat * nth, 2)\n",
    "\n",
    "@threads for i in 1:nth\n",
    "    for j in 1:n_repeat\n",
    "        \n",
    "        k = (i - 1) * n_repeat + j\n",
    "        e = randn(n)\n",
    "        e = (e.^4 .- 3) .* 0.3\n",
    "        X, y, Z = xyz(n, alpha, theta, beta, gamma, e)\n",
    "        modelk = qgplsim.model(X, Z, y, tau, widthExp)\n",
    "        qgplsim.estimator(modelk, \"optim_qr\")\n",
    "        Alpha4[k, :] = modelk.alpha\n",
    "        Theta4[k, :] = modelk.theta\n",
    "        Gamma4[k, :] = modelk.gamma\n",
    "        \n",
    "    end\n",
    "end"
   ]
  },
  {
   "cell_type": "code",
   "execution_count": 159,
   "id": "7de8d1f4-6454-45cb-95df-9a4c93c714d6",
   "metadata": {},
   "outputs": [
    {
     "data": {
      "text/plain": [
       "1×5 Matrix{Float64}:\n",
       " 0.623733  -0.0435303  -0.349124  0.0472179  0.553621"
      ]
     },
     "execution_count": 159,
     "metadata": {},
     "output_type": "execute_result"
    }
   ],
   "source": [
    "mean(Theta4, dims = 1)"
   ]
  },
  {
   "cell_type": "code",
   "execution_count": 160,
   "id": "4eaea828-505c-492a-841b-52f1e33161c6",
   "metadata": {},
   "outputs": [
    {
     "name": "stdout",
     "output_type": "stream",
     "text": [
      "0.23493551471318813 0.20054916315879562\n"
     ]
    }
   ],
   "source": [
    "EE4 = sqrt.(1 .- abs.(Theta4 * theta)) \n",
    "println(mean(EE4), \" \", std(EE4))"
   ]
  },
  {
   "cell_type": "code",
   "execution_count": 261,
   "id": "40606d4a-6f00-4e37-8061-b7d56b3a8534",
   "metadata": {},
   "outputs": [],
   "source": [
    "na4 = norm.([Alpha4[k, :] for k in 1:100] )\n",
    "EEa = sqrt.(abs.(1 .- Alpha4./na4 * alpha / norm(alpha)))\n",
    "println(mean(EEa), \" \", std(EEa))"
   ]
  },
  {
   "cell_type": "code",
   "execution_count": 161,
   "id": "f038813b-63e4-4f04-a608-576b4dc36377",
   "metadata": {
    "tags": []
   },
   "outputs": [
    {
     "data": {
      "text/plain": [
       "1×2 Matrix{Float64}:\n",
       " -0.0045003  -0.321222"
      ]
     },
     "execution_count": 161,
     "metadata": {},
     "output_type": "execute_result"
    }
   ],
   "source": [
    "mean(Gamma4, dims = 1)"
   ]
  },
  {
   "cell_type": "markdown",
   "id": "a92c7c43-4acc-4587-8115-f09680940cb6",
   "metadata": {},
   "source": [
    "# Case 3\n",
    "$y = X \\alpha + Z \\beta + log( 1 + exp(X \\theta + Z \\gamma - 1)) + 0.2\\epsilon$"
   ]
  },
  {
   "cell_type": "code",
   "execution_count": 1185,
   "id": "a548118a-e62f-4d2b-b696-08a0cea5f2a5",
   "metadata": {},
   "outputs": [
    {
     "data": {
      "text/plain": [
       "xyz3 (generic function with 2 methods)"
      ]
     },
     "execution_count": 1185,
     "metadata": {},
     "output_type": "execute_result"
    }
   ],
   "source": [
    "n1 = Normal(0, 1)\n",
    "g(x) = cdf(n1, x)\n",
    "\n",
    "function simu_data3(X, α, θ, Z, β, γ, ϵ, tp = 1)\n",
    "    if tp == 1\n",
    "        y = X*α  + Z*β + log.( 1 .+ exp.(X*θ + Z*γ .- 1)) + ϵ\n",
    "    else        \n",
    "        y = X*α  + Z*β + g.((X*θ + Z*γ .- 1).^2) + ϵ\n",
    "    end\n",
    "    y\n",
    "end\n",
    "\n",
    "function xyz3(n, alpha, theta, beta, gamma, e, tp)\n",
    "\n",
    "    U = randn(n, 2)\n",
    "    X = U\n",
    "\n",
    "    Z = zeros(n, 2)\n",
    "    Z[:, 1] = rand(n, 1) .> 0.5\n",
    "    r2 = rand(n, 1)\n",
    "    Z[:, 2] = (r2 .> 0.25) + (r2 .> 0.75)\n",
    "    # Z = Z / 4 * 3\n",
    "    y = simu_data3(X, alpha, theta, Z, beta, gamma, e, tp)\n",
    "    X, y, Z\n",
    "    \n",
    "end"
   ]
  },
  {
   "cell_type": "markdown",
   "id": "d1cdc7d3-345b-4113-abad-4da68e4fad77",
   "metadata": {},
   "source": [
    "## test "
   ]
  },
  {
   "cell_type": "code",
   "execution_count": 1809,
   "id": "9f505cc5-bb14-46fc-aedf-6c10e98152e4",
   "metadata": {},
   "outputs": [
    {
     "data": {
      "text/plain": [
       "1-element Vector{Float64}:\n",
       " 0.5"
      ]
     },
     "execution_count": 1809,
     "metadata": {},
     "output_type": "execute_result"
    }
   ],
   "source": [
    "\n",
    "\n",
    "n = 1000\n",
    "alpha = [1, -2]\n",
    "theta = [2, 1]/sqrt(5)\n",
    "beta = [1.0, -1.0] \n",
    "gamma = [1.0, 1.0] / 2\n",
    "\n",
    "e = eps(n, 3)\n",
    "\n",
    "X, y, Z = xyz3(n, alpha, theta, beta, gamma, 0.2e, 2)\n",
    "\n",
    "tau = [0.5]\n"
   ]
  },
  {
   "cell_type": "code",
   "execution_count": 1810,
   "id": "2dbb64dc-f948-497d-a21a-c1014d41e648",
   "metadata": {
    "tags": []
   },
   "outputs": [
    {
     "name": "stdout",
     "output_type": "stream",
     "text": [
      "alpha => [0.9655, -2.0082]\n",
      "theta => [0.9012, 0.4333]\n",
      "gamma => [0.4928, 0.5889]\n",
      "beta => [0.9377, -1.0505]\n"
     ]
    },
    {
     "name": "stderr",
     "output_type": "stream",
     "text": [
      "WARNING: replacing module qgplsim.\n"
     ]
    }
   ],
   "source": [
    "include(\"./src/qgplsim.ji\")\n",
    "widthExp = -0.2\n",
    "method = \"gurobi\" \n",
    "model1 = qgplsim.model(X, Z, y, tau, widthExp)\n",
    "qgplsim.estimator(model1, method)\n",
    "\n",
    "qgplsim.print_model(model1)"
   ]
  },
  {
   "cell_type": "markdown",
   "id": "de527f30-99f7-4802-99c1-ffd1bc326b54",
   "metadata": {
    "tags": []
   },
   "source": [
    "## Monte Carlo Simulation"
   ]
  },
  {
   "cell_type": "code",
   "execution_count": 1958,
   "id": "8cf3a6aa-06e7-40d0-b43b-98702f8883ad",
   "metadata": {
    "jp-MarkdownHeadingCollapsed": true,
    "tags": []
   },
   "outputs": [
    {
     "data": {
      "text/plain": [
       "40"
      ]
     },
     "execution_count": 1958,
     "metadata": {},
     "output_type": "execute_result"
    }
   ],
   "source": [
    "using Base.Threads\n",
    "nth = Threads.nthreads()\n",
    "n_repeat = 10\n",
    "n_repeat * nth"
   ]
  },
  {
   "cell_type": "code",
   "execution_count": 1959,
   "id": "e74f6f89-871c-46fb-b189-0058f06487fe",
   "metadata": {},
   "outputs": [
    {
     "name": "stderr",
     "output_type": "stream",
     "text": [
      "WARNING: replacing module qgplsim.\n"
     ]
    },
    {
     "data": {
      "text/plain": [
       "Main.qgplsim"
      ]
     },
     "execution_count": 1959,
     "metadata": {},
     "output_type": "execute_result"
    }
   ],
   "source": [
    "n = 1000\n",
    "alpha = [1, -2]\n",
    "theta = [2, 1]/sqrt(5)\n",
    "beta = [1.0, -1.0]\n",
    "gamma = [1.0, 1.0]/2\n",
    "tau = [0.5]\n",
    "widthExp = -0.2\n",
    "method = \"gurobi\"\n",
    "include(\"./src/qgplsim.ji\")\n"
   ]
  },
  {
   "cell_type": "code",
   "execution_count": 1960,
   "id": "a4869c0e-e377-40b6-8200-40d1b26ef07d",
   "metadata": {
    "tags": []
   },
   "outputs": [],
   "source": [
    "Alpha1 = zeros(n_repeat * nth, 2)\n",
    "Theta1 = zeros(n_repeat * nth, 2)\n",
    "Gamma1 = zeros(n_repeat * nth, 2)\n",
    "Beta1 = zeros(n_repeat * nth, 2)\n",
    "\n",
    "@threads for i in 1:nth\n",
    "    for j in 1:n_repeat\n",
    "        \n",
    "        k = (i - 1) * n_repeat + j\n",
    "        e = eps(n, 4)\n",
    "        X, y, Z = xyz3(n, alpha, theta, beta, gamma, 0.2e, 1)\n",
    "\n",
    "        modelk = qgplsim.model(X, Z, y, tau, widthExp)\n",
    "        qgplsim.estimator(modelk, method)\n",
    "        Alpha1[k, :] = modelk.alpha\n",
    "        Theta1[k, :] = modelk.theta\n",
    "        Gamma1[k, :] = modelk.gamma\n",
    "        Beta1[k, :] = modelk.beta\n",
    "\n",
    "    end\n",
    "end\n",
    "\n"
   ]
  },
  {
   "cell_type": "code",
   "execution_count": 1961,
   "id": "dcd64a72-f5a6-4da4-93b1-a2e990320110",
   "metadata": {},
   "outputs": [
    {
     "name": "stdout",
     "output_type": "stream",
     "text": [
      "0.051135485050416284 0.12268076946837485\n"
     ]
    }
   ],
   "source": [
    "EE1 = sqrt.(1 .- abs.(Theta1 * theta)) \n",
    "println(mean(EE1), \" \", std(EE1))"
   ]
  },
  {
   "cell_type": "code",
   "execution_count": 1962,
   "id": "b86fffa7-fdf0-4a8a-bb3a-a7750371ba5f",
   "metadata": {},
   "outputs": [
    {
     "data": {
      "text/plain": [
       "1×2 Matrix{Float64}:\n",
       " 0.870055  0.407712"
      ]
     },
     "execution_count": 1962,
     "metadata": {},
     "output_type": "execute_result"
    }
   ],
   "source": [
    "mt = mean(Theta1, dims = 1)"
   ]
  },
  {
   "cell_type": "code",
   "execution_count": 1963,
   "id": "a8f17f1d-ba46-41bd-b372-0d698ff93bc7",
   "metadata": {},
   "outputs": [
    {
     "data": {
      "text/plain": [
       "1×2 Matrix{Float64}:\n",
       " 1.00152  -1.93647"
      ]
     },
     "execution_count": 1963,
     "metadata": {},
     "output_type": "execute_result"
    }
   ],
   "source": [
    "ma = mean(Alpha1, dims = 1)"
   ]
  },
  {
   "cell_type": "code",
   "execution_count": 1964,
   "id": "aa55a94e-0d24-47bd-b2de-5ce9ae865c36",
   "metadata": {},
   "outputs": [
    {
     "data": {
      "text/plain": [
       "(0.06960979226010124, 0.1533803714761636)"
      ]
     },
     "execution_count": 1964,
     "metadata": {},
     "output_type": "execute_result"
    }
   ],
   "source": [
    "euclid(Alpha1, alpha)"
   ]
  },
  {
   "cell_type": "code",
   "execution_count": 1965,
   "id": "9e446152-73d8-4387-a360-469b8df600e6",
   "metadata": {},
   "outputs": [
    {
     "data": {
      "image/svg+xml": [
       "<?xml version=\"1.0\" encoding=\"utf-8\"?>\n",
       "<svg xmlns=\"http://www.w3.org/2000/svg\" xmlns:xlink=\"http://www.w3.org/1999/xlink\" width=\"600\" height=\"400\" viewBox=\"0 0 2400 1600\">\n",
       "<defs>\n",
       "  <clipPath id=\"clip600\">\n",
       "    <rect x=\"0\" y=\"0\" width=\"2400\" height=\"1600\"/>\n",
       "  </clipPath>\n",
       "</defs>\n",
       "<path clip-path=\"url(#clip600)\" d=\"\n",
       "M0 1600 L2400 1600 L2400 0 L0 0  Z\n",
       "  \" fill=\"#ffffff\" fill-rule=\"evenodd\" fill-opacity=\"1\"/>\n",
       "<defs>\n",
       "  <clipPath id=\"clip601\">\n",
       "    <rect x=\"480\" y=\"0\" width=\"1681\" height=\"1600\"/>\n",
       "  </clipPath>\n",
       "</defs>\n",
       "<path clip-path=\"url(#clip600)\" d=\"\n",
       "M138.959 1486.45 L2352.76 1486.45 L2352.76 47.2441 L138.959 47.2441  Z\n",
       "  \" fill=\"#ffffff\" fill-rule=\"evenodd\" fill-opacity=\"1\"/>\n",
       "<defs>\n",
       "  <clipPath id=\"clip602\">\n",
       "    <rect x=\"138\" y=\"47\" width=\"2215\" height=\"1440\"/>\n",
       "  </clipPath>\n",
       "</defs>\n",
       "<polyline clip-path=\"url(#clip602)\" style=\"stroke:#000000; stroke-linecap:butt; stroke-linejoin:round; stroke-width:2; stroke-opacity:0.1; fill:none\" points=\"\n",
       "  412.281,1486.45 412.281,47.2441 \n",
       "  \"/>\n",
       "<polyline clip-path=\"url(#clip602)\" style=\"stroke:#000000; stroke-linecap:butt; stroke-linejoin:round; stroke-width:2; stroke-opacity:0.1; fill:none\" points=\"\n",
       "  715.4,1486.45 715.4,47.2441 \n",
       "  \"/>\n",
       "<polyline clip-path=\"url(#clip602)\" style=\"stroke:#000000; stroke-linecap:butt; stroke-linejoin:round; stroke-width:2; stroke-opacity:0.1; fill:none\" points=\"\n",
       "  1018.52,1486.45 1018.52,47.2441 \n",
       "  \"/>\n",
       "<polyline clip-path=\"url(#clip602)\" style=\"stroke:#000000; stroke-linecap:butt; stroke-linejoin:round; stroke-width:2; stroke-opacity:0.1; fill:none\" points=\"\n",
       "  1321.64,1486.45 1321.64,47.2441 \n",
       "  \"/>\n",
       "<polyline clip-path=\"url(#clip602)\" style=\"stroke:#000000; stroke-linecap:butt; stroke-linejoin:round; stroke-width:2; stroke-opacity:0.1; fill:none\" points=\"\n",
       "  1624.76,1486.45 1624.76,47.2441 \n",
       "  \"/>\n",
       "<polyline clip-path=\"url(#clip602)\" style=\"stroke:#000000; stroke-linecap:butt; stroke-linejoin:round; stroke-width:2; stroke-opacity:0.1; fill:none\" points=\"\n",
       "  1927.87,1486.45 1927.87,47.2441 \n",
       "  \"/>\n",
       "<polyline clip-path=\"url(#clip602)\" style=\"stroke:#000000; stroke-linecap:butt; stroke-linejoin:round; stroke-width:2; stroke-opacity:0.1; fill:none\" points=\"\n",
       "  2230.99,1486.45 2230.99,47.2441 \n",
       "  \"/>\n",
       "<polyline clip-path=\"url(#clip600)\" style=\"stroke:#000000; stroke-linecap:butt; stroke-linejoin:round; stroke-width:4; stroke-opacity:1; fill:none\" points=\"\n",
       "  138.959,1486.45 2352.76,1486.45 \n",
       "  \"/>\n",
       "<polyline clip-path=\"url(#clip600)\" style=\"stroke:#000000; stroke-linecap:butt; stroke-linejoin:round; stroke-width:4; stroke-opacity:1; fill:none\" points=\"\n",
       "  412.281,1486.45 412.281,1467.55 \n",
       "  \"/>\n",
       "<polyline clip-path=\"url(#clip600)\" style=\"stroke:#000000; stroke-linecap:butt; stroke-linejoin:round; stroke-width:4; stroke-opacity:1; fill:none\" points=\"\n",
       "  715.4,1486.45 715.4,1467.55 \n",
       "  \"/>\n",
       "<polyline clip-path=\"url(#clip600)\" style=\"stroke:#000000; stroke-linecap:butt; stroke-linejoin:round; stroke-width:4; stroke-opacity:1; fill:none\" points=\"\n",
       "  1018.52,1486.45 1018.52,1467.55 \n",
       "  \"/>\n",
       "<polyline clip-path=\"url(#clip600)\" style=\"stroke:#000000; stroke-linecap:butt; stroke-linejoin:round; stroke-width:4; stroke-opacity:1; fill:none\" points=\"\n",
       "  1321.64,1486.45 1321.64,1467.55 \n",
       "  \"/>\n",
       "<polyline clip-path=\"url(#clip600)\" style=\"stroke:#000000; stroke-linecap:butt; stroke-linejoin:round; stroke-width:4; stroke-opacity:1; fill:none\" points=\"\n",
       "  1624.76,1486.45 1624.76,1467.55 \n",
       "  \"/>\n",
       "<polyline clip-path=\"url(#clip600)\" style=\"stroke:#000000; stroke-linecap:butt; stroke-linejoin:round; stroke-width:4; stroke-opacity:1; fill:none\" points=\"\n",
       "  1927.87,1486.45 1927.87,1467.55 \n",
       "  \"/>\n",
       "<polyline clip-path=\"url(#clip600)\" style=\"stroke:#000000; stroke-linecap:butt; stroke-linejoin:round; stroke-width:4; stroke-opacity:1; fill:none\" points=\"\n",
       "  2230.99,1486.45 2230.99,1467.55 \n",
       "  \"/>\n",
       "<path clip-path=\"url(#clip600)\" d=\"M389.423 1517.37 Q385.812 1517.37 383.983 1520.93 Q382.177 1524.47 382.177 1531.6 Q382.177 1538.71 383.983 1542.27 Q385.812 1545.82 389.423 1545.82 Q393.057 1545.82 394.863 1542.27 Q396.691 1538.71 396.691 1531.6 Q396.691 1524.47 394.863 1520.93 Q393.057 1517.37 389.423 1517.37 M389.423 1513.66 Q395.233 1513.66 398.289 1518.27 Q401.367 1522.85 401.367 1531.6 Q401.367 1540.33 398.289 1544.94 Q395.233 1549.52 389.423 1549.52 Q383.613 1549.52 380.534 1544.94 Q377.478 1540.33 377.478 1531.6 Q377.478 1522.85 380.534 1518.27 Q383.613 1513.66 389.423 1513.66 Z\" fill=\"#000000\" fill-rule=\"evenodd\" fill-opacity=\"1\" /><path clip-path=\"url(#clip600)\" d=\"M409.585 1542.97 L414.469 1542.97 L414.469 1548.85 L409.585 1548.85 L409.585 1542.97 Z\" fill=\"#000000\" fill-rule=\"evenodd\" fill-opacity=\"1\" /><path clip-path=\"url(#clip600)\" d=\"M437.501 1518.36 L425.696 1536.81 L437.501 1536.81 L437.501 1518.36 M436.274 1514.29 L442.154 1514.29 L442.154 1536.81 L447.085 1536.81 L447.085 1540.7 L442.154 1540.7 L442.154 1548.85 L437.501 1548.85 L437.501 1540.7 L421.899 1540.7 L421.899 1536.19 L436.274 1514.29 Z\" fill=\"#000000\" fill-rule=\"evenodd\" fill-opacity=\"1\" /><path clip-path=\"url(#clip600)\" d=\"M692.703 1517.37 Q689.092 1517.37 687.264 1520.93 Q685.458 1524.47 685.458 1531.6 Q685.458 1538.71 687.264 1542.27 Q689.092 1545.82 692.703 1545.82 Q696.338 1545.82 698.143 1542.27 Q699.972 1538.71 699.972 1531.6 Q699.972 1524.47 698.143 1520.93 Q696.338 1517.37 692.703 1517.37 M692.703 1513.66 Q698.514 1513.66 701.569 1518.27 Q704.648 1522.85 704.648 1531.6 Q704.648 1540.33 701.569 1544.94 Q698.514 1549.52 692.703 1549.52 Q686.893 1549.52 683.815 1544.94 Q680.759 1540.33 680.759 1531.6 Q680.759 1522.85 683.815 1518.27 Q686.893 1513.66 692.703 1513.66 Z\" fill=\"#000000\" fill-rule=\"evenodd\" fill-opacity=\"1\" /><path clip-path=\"url(#clip600)\" d=\"M712.865 1542.97 L717.75 1542.97 L717.75 1548.85 L712.865 1548.85 L712.865 1542.97 Z\" fill=\"#000000\" fill-rule=\"evenodd\" fill-opacity=\"1\" /><path clip-path=\"url(#clip600)\" d=\"M738.513 1529.7 Q735.365 1529.7 733.513 1531.86 Q731.685 1534.01 731.685 1537.76 Q731.685 1541.49 733.513 1543.66 Q735.365 1545.82 738.513 1545.82 Q741.662 1545.82 743.49 1543.66 Q745.342 1541.49 745.342 1537.76 Q745.342 1534.01 743.49 1531.86 Q741.662 1529.7 738.513 1529.7 M747.796 1515.05 L747.796 1519.31 Q746.037 1518.48 744.231 1518.04 Q742.449 1517.6 740.689 1517.6 Q736.06 1517.6 733.606 1520.72 Q731.175 1523.85 730.828 1530.17 Q732.194 1528.15 734.254 1527.09 Q736.314 1526 738.791 1526 Q743.999 1526 747.009 1529.17 Q750.041 1532.32 750.041 1537.76 Q750.041 1543.08 746.893 1546.3 Q743.745 1549.52 738.513 1549.52 Q732.518 1549.52 729.347 1544.94 Q726.176 1540.33 726.176 1531.6 Q726.176 1523.41 730.064 1518.55 Q733.953 1513.66 740.504 1513.66 Q742.263 1513.66 744.046 1514.01 Q745.851 1514.36 747.796 1515.05 Z\" fill=\"#000000\" fill-rule=\"evenodd\" fill-opacity=\"1\" /><path clip-path=\"url(#clip600)\" d=\"M995.949 1517.37 Q992.338 1517.37 990.51 1520.93 Q988.704 1524.47 988.704 1531.6 Q988.704 1538.71 990.51 1542.27 Q992.338 1545.82 995.949 1545.82 Q999.584 1545.82 1001.39 1542.27 Q1003.22 1538.71 1003.22 1531.6 Q1003.22 1524.47 1001.39 1520.93 Q999.584 1517.37 995.949 1517.37 M995.949 1513.66 Q1001.76 1513.66 1004.82 1518.27 Q1007.89 1522.85 1007.89 1531.6 Q1007.89 1540.33 1004.82 1544.94 Q1001.76 1549.52 995.949 1549.52 Q990.139 1549.52 987.061 1544.94 Q984.005 1540.33 984.005 1531.6 Q984.005 1522.85 987.061 1518.27 Q990.139 1513.66 995.949 1513.66 Z\" fill=\"#000000\" fill-rule=\"evenodd\" fill-opacity=\"1\" /><path clip-path=\"url(#clip600)\" d=\"M1016.11 1542.97 L1021 1542.97 L1021 1548.85 L1016.11 1548.85 L1016.11 1542.97 Z\" fill=\"#000000\" fill-rule=\"evenodd\" fill-opacity=\"1\" /><path clip-path=\"url(#clip600)\" d=\"M1041.18 1532.44 Q1037.85 1532.44 1035.93 1534.22 Q1034.03 1536 1034.03 1539.13 Q1034.03 1542.25 1035.93 1544.03 Q1037.85 1545.82 1041.18 1545.82 Q1044.51 1545.82 1046.44 1544.03 Q1048.36 1542.23 1048.36 1539.13 Q1048.36 1536 1046.44 1534.22 Q1044.54 1532.44 1041.18 1532.44 M1036.5 1530.45 Q1033.5 1529.7 1031.81 1527.64 Q1030.14 1525.58 1030.14 1522.62 Q1030.14 1518.48 1033.08 1516.07 Q1036.04 1513.66 1041.18 1513.66 Q1046.34 1513.66 1049.28 1516.07 Q1052.22 1518.48 1052.22 1522.62 Q1052.22 1525.58 1050.53 1527.64 Q1048.87 1529.7 1045.88 1530.45 Q1049.26 1531.23 1051.13 1533.52 Q1053.03 1535.82 1053.03 1539.13 Q1053.03 1544.15 1049.95 1546.83 Q1046.9 1549.52 1041.18 1549.52 Q1035.46 1549.52 1032.38 1546.83 Q1029.33 1544.15 1029.33 1539.13 Q1029.33 1535.82 1031.23 1533.52 Q1033.13 1531.23 1036.5 1530.45 M1034.79 1523.06 Q1034.79 1525.75 1036.46 1527.25 Q1038.15 1528.76 1041.18 1528.76 Q1044.19 1528.76 1045.88 1527.25 Q1047.59 1525.75 1047.59 1523.06 Q1047.59 1520.38 1045.88 1518.87 Q1044.19 1517.37 1041.18 1517.37 Q1038.15 1517.37 1036.46 1518.87 Q1034.79 1520.38 1034.79 1523.06 Z\" fill=\"#000000\" fill-rule=\"evenodd\" fill-opacity=\"1\" /><path clip-path=\"url(#clip600)\" d=\"M1288.79 1544.91 L1296.43 1544.91 L1296.43 1518.55 L1288.12 1520.21 L1288.12 1515.95 L1296.38 1514.29 L1301.06 1514.29 L1301.06 1544.91 L1308.7 1544.91 L1308.7 1548.85 L1288.79 1548.85 L1288.79 1544.91 Z\" fill=\"#000000\" fill-rule=\"evenodd\" fill-opacity=\"1\" /><path clip-path=\"url(#clip600)\" d=\"M1318.14 1542.97 L1323.03 1542.97 L1323.03 1548.85 L1318.14 1548.85 L1318.14 1542.97 Z\" fill=\"#000000\" fill-rule=\"evenodd\" fill-opacity=\"1\" /><path clip-path=\"url(#clip600)\" d=\"M1343.21 1517.37 Q1339.6 1517.37 1337.77 1520.93 Q1335.97 1524.47 1335.97 1531.6 Q1335.97 1538.71 1337.77 1542.27 Q1339.6 1545.82 1343.21 1545.82 Q1346.85 1545.82 1348.65 1542.27 Q1350.48 1538.71 1350.48 1531.6 Q1350.48 1524.47 1348.65 1520.93 Q1346.85 1517.37 1343.21 1517.37 M1343.21 1513.66 Q1349.02 1513.66 1352.08 1518.27 Q1355.16 1522.85 1355.16 1531.6 Q1355.16 1540.33 1352.08 1544.94 Q1349.02 1549.52 1343.21 1549.52 Q1337.4 1549.52 1334.32 1544.94 Q1331.27 1540.33 1331.27 1531.6 Q1331.27 1522.85 1334.32 1518.27 Q1337.4 1513.66 1343.21 1513.66 Z\" fill=\"#000000\" fill-rule=\"evenodd\" fill-opacity=\"1\" /><path clip-path=\"url(#clip600)\" d=\"M1592.71 1544.91 L1600.35 1544.91 L1600.35 1518.55 L1592.04 1520.21 L1592.04 1515.95 L1600.3 1514.29 L1604.98 1514.29 L1604.98 1544.91 L1612.61 1544.91 L1612.61 1548.85 L1592.71 1548.85 L1592.71 1544.91 Z\" fill=\"#000000\" fill-rule=\"evenodd\" fill-opacity=\"1\" /><path clip-path=\"url(#clip600)\" d=\"M1622.06 1542.97 L1626.94 1542.97 L1626.94 1548.85 L1622.06 1548.85 L1622.06 1542.97 Z\" fill=\"#000000\" fill-rule=\"evenodd\" fill-opacity=\"1\" /><path clip-path=\"url(#clip600)\" d=\"M1641.16 1544.91 L1657.48 1544.91 L1657.48 1548.85 L1635.53 1548.85 L1635.53 1544.91 Q1638.19 1542.16 1642.78 1537.53 Q1647.38 1532.88 1648.56 1531.53 Q1650.81 1529.01 1651.69 1527.27 Q1652.59 1525.51 1652.59 1523.82 Q1652.59 1521.07 1650.65 1519.33 Q1648.73 1517.6 1645.62 1517.6 Q1643.42 1517.6 1640.97 1518.36 Q1638.54 1519.13 1635.76 1520.68 L1635.76 1515.95 Q1638.59 1514.82 1641.04 1514.24 Q1643.49 1513.66 1645.53 1513.66 Q1650.9 1513.66 1654.1 1516.35 Q1657.29 1519.03 1657.29 1523.52 Q1657.29 1525.65 1656.48 1527.57 Q1655.69 1529.47 1653.59 1532.07 Q1653.01 1532.74 1649.91 1535.95 Q1646.8 1539.15 1641.16 1544.91 Z\" fill=\"#000000\" fill-rule=\"evenodd\" fill-opacity=\"1\" /><path clip-path=\"url(#clip600)\" d=\"M1894.78 1544.91 L1902.42 1544.91 L1902.42 1518.55 L1894.11 1520.21 L1894.11 1515.95 L1902.38 1514.29 L1907.05 1514.29 L1907.05 1544.91 L1914.69 1544.91 L1914.69 1548.85 L1894.78 1548.85 L1894.78 1544.91 Z\" fill=\"#000000\" fill-rule=\"evenodd\" fill-opacity=\"1\" /><path clip-path=\"url(#clip600)\" d=\"M1924.14 1542.97 L1929.02 1542.97 L1929.02 1548.85 L1924.14 1548.85 L1924.14 1542.97 Z\" fill=\"#000000\" fill-rule=\"evenodd\" fill-opacity=\"1\" /><path clip-path=\"url(#clip600)\" d=\"M1952.05 1518.36 L1940.25 1536.81 L1952.05 1536.81 L1952.05 1518.36 M1950.83 1514.29 L1956.71 1514.29 L1956.71 1536.81 L1961.64 1536.81 L1961.64 1540.7 L1956.71 1540.7 L1956.71 1548.85 L1952.05 1548.85 L1952.05 1540.7 L1936.45 1540.7 L1936.45 1536.19 L1950.83 1514.29 Z\" fill=\"#000000\" fill-rule=\"evenodd\" fill-opacity=\"1\" /><path clip-path=\"url(#clip600)\" d=\"M2198.07 1544.91 L2205.7 1544.91 L2205.7 1518.55 L2197.39 1520.21 L2197.39 1515.95 L2205.66 1514.29 L2210.33 1514.29 L2210.33 1544.91 L2217.97 1544.91 L2217.97 1548.85 L2198.07 1548.85 L2198.07 1544.91 Z\" fill=\"#000000\" fill-rule=\"evenodd\" fill-opacity=\"1\" /><path clip-path=\"url(#clip600)\" d=\"M2227.42 1542.97 L2232.3 1542.97 L2232.3 1548.85 L2227.42 1548.85 L2227.42 1542.97 Z\" fill=\"#000000\" fill-rule=\"evenodd\" fill-opacity=\"1\" /><path clip-path=\"url(#clip600)\" d=\"M2253.06 1529.7 Q2249.92 1529.7 2248.06 1531.86 Q2246.24 1534.01 2246.24 1537.76 Q2246.24 1541.49 2248.06 1543.66 Q2249.92 1545.82 2253.06 1545.82 Q2256.21 1545.82 2258.04 1543.66 Q2259.89 1541.49 2259.89 1537.76 Q2259.89 1534.01 2258.04 1531.86 Q2256.21 1529.7 2253.06 1529.7 M2262.35 1515.05 L2262.35 1519.31 Q2260.59 1518.48 2258.78 1518.04 Q2257 1517.6 2255.24 1517.6 Q2250.61 1517.6 2248.16 1520.72 Q2245.73 1523.85 2245.38 1530.17 Q2246.75 1528.15 2248.81 1527.09 Q2250.87 1526 2253.34 1526 Q2258.55 1526 2261.56 1529.17 Q2264.59 1532.32 2264.59 1537.76 Q2264.59 1543.08 2261.44 1546.3 Q2258.3 1549.52 2253.06 1549.52 Q2247.07 1549.52 2243.9 1544.94 Q2240.73 1540.33 2240.73 1531.6 Q2240.73 1523.41 2244.62 1518.55 Q2248.5 1513.66 2255.06 1513.66 Q2256.81 1513.66 2258.6 1514.01 Q2260.4 1514.36 2262.35 1515.05 Z\" fill=\"#000000\" fill-rule=\"evenodd\" fill-opacity=\"1\" /><polyline clip-path=\"url(#clip602)\" style=\"stroke:#000000; stroke-linecap:butt; stroke-linejoin:round; stroke-width:2; stroke-opacity:0.1; fill:none\" points=\"\n",
       "  138.959,1445.72 2352.76,1445.72 \n",
       "  \"/>\n",
       "<polyline clip-path=\"url(#clip602)\" style=\"stroke:#000000; stroke-linecap:butt; stroke-linejoin:round; stroke-width:2; stroke-opacity:0.1; fill:none\" points=\"\n",
       "  138.959,1046.38 2352.76,1046.38 \n",
       "  \"/>\n",
       "<polyline clip-path=\"url(#clip602)\" style=\"stroke:#000000; stroke-linecap:butt; stroke-linejoin:round; stroke-width:2; stroke-opacity:0.1; fill:none\" points=\"\n",
       "  138.959,647.045 2352.76,647.045 \n",
       "  \"/>\n",
       "<polyline clip-path=\"url(#clip602)\" style=\"stroke:#000000; stroke-linecap:butt; stroke-linejoin:round; stroke-width:2; stroke-opacity:0.1; fill:none\" points=\"\n",
       "  138.959,247.71 2352.76,247.71 \n",
       "  \"/>\n",
       "<polyline clip-path=\"url(#clip600)\" style=\"stroke:#000000; stroke-linecap:butt; stroke-linejoin:round; stroke-width:4; stroke-opacity:1; fill:none\" points=\"\n",
       "  138.959,1486.45 138.959,47.2441 \n",
       "  \"/>\n",
       "<polyline clip-path=\"url(#clip600)\" style=\"stroke:#000000; stroke-linecap:butt; stroke-linejoin:round; stroke-width:4; stroke-opacity:1; fill:none\" points=\"\n",
       "  138.959,1445.72 157.857,1445.72 \n",
       "  \"/>\n",
       "<polyline clip-path=\"url(#clip600)\" style=\"stroke:#000000; stroke-linecap:butt; stroke-linejoin:round; stroke-width:4; stroke-opacity:1; fill:none\" points=\"\n",
       "  138.959,1046.38 157.857,1046.38 \n",
       "  \"/>\n",
       "<polyline clip-path=\"url(#clip600)\" style=\"stroke:#000000; stroke-linecap:butt; stroke-linejoin:round; stroke-width:4; stroke-opacity:1; fill:none\" points=\"\n",
       "  138.959,647.045 157.857,647.045 \n",
       "  \"/>\n",
       "<polyline clip-path=\"url(#clip600)\" style=\"stroke:#000000; stroke-linecap:butt; stroke-linejoin:round; stroke-width:4; stroke-opacity:1; fill:none\" points=\"\n",
       "  138.959,247.71 157.857,247.71 \n",
       "  \"/>\n",
       "<path clip-path=\"url(#clip600)\" d=\"M91.0151 1431.51 Q87.404 1431.51 85.5753 1435.08 Q83.7697 1438.62 83.7697 1445.75 Q83.7697 1452.86 85.5753 1456.42 Q87.404 1459.96 91.0151 1459.96 Q94.6493 1459.96 96.4548 1456.42 Q98.2835 1452.86 98.2835 1445.75 Q98.2835 1438.62 96.4548 1435.08 Q94.6493 1431.51 91.0151 1431.51 M91.0151 1427.81 Q96.8252 1427.81 99.8808 1432.42 Q102.959 1437 102.959 1445.75 Q102.959 1454.48 99.8808 1459.08 Q96.8252 1463.67 91.0151 1463.67 Q85.2049 1463.67 82.1262 1459.08 Q79.0707 1454.48 79.0707 1445.75 Q79.0707 1437 82.1262 1432.42 Q85.2049 1427.81 91.0151 1427.81 Z\" fill=\"#000000\" fill-rule=\"evenodd\" fill-opacity=\"1\" /><path clip-path=\"url(#clip600)\" d=\"M82.0568 1029.1 L100.413 1029.1 L100.413 1033.04 L86.3392 1033.04 L86.3392 1041.51 Q87.3577 1041.16 88.3762 1041 Q89.3947 1040.81 90.4132 1040.81 Q96.2002 1040.81 99.5798 1043.98 Q102.959 1047.16 102.959 1052.57 Q102.959 1058.15 99.4872 1061.25 Q96.015 1064.33 89.6956 1064.33 Q87.5197 1064.33 85.2512 1063.96 Q83.0058 1063.59 80.5984 1062.85 L80.5984 1058.15 Q82.6818 1059.29 84.904 1059.84 Q87.1262 1060.4 89.603 1060.4 Q93.6076 1060.4 95.9456 1058.29 Q98.2835 1056.18 98.2835 1052.57 Q98.2835 1048.96 95.9456 1046.86 Q93.6076 1044.75 89.603 1044.75 Q87.728 1044.75 85.8531 1045.17 Q84.0012 1045.58 82.0568 1046.46 L82.0568 1029.1 Z\" fill=\"#000000\" fill-rule=\"evenodd\" fill-opacity=\"1\" /><path clip-path=\"url(#clip600)\" d=\"M51.6634 660.39 L59.3023 660.39 L59.3023 634.025 L50.9921 635.691 L50.9921 631.432 L59.256 629.765 L63.9319 629.765 L63.9319 660.39 L71.5707 660.39 L71.5707 664.325 L51.6634 664.325 L51.6634 660.39 Z\" fill=\"#000000\" fill-rule=\"evenodd\" fill-opacity=\"1\" /><path clip-path=\"url(#clip600)\" d=\"M91.0151 632.844 Q87.404 632.844 85.5753 636.409 Q83.7697 639.951 83.7697 647.08 Q83.7697 654.187 85.5753 657.751 Q87.404 661.293 91.0151 661.293 Q94.6493 661.293 96.4548 657.751 Q98.2835 654.187 98.2835 647.08 Q98.2835 639.951 96.4548 636.409 Q94.6493 632.844 91.0151 632.844 M91.0151 629.14 Q96.8252 629.14 99.8808 633.747 Q102.959 638.33 102.959 647.08 Q102.959 655.807 99.8808 660.413 Q96.8252 664.997 91.0151 664.997 Q85.2049 664.997 82.1262 660.413 Q79.0707 655.807 79.0707 647.08 Q79.0707 638.33 82.1262 633.747 Q85.2049 629.14 91.0151 629.14 Z\" fill=\"#000000\" fill-rule=\"evenodd\" fill-opacity=\"1\" /><path clip-path=\"url(#clip600)\" d=\"M52.6588 261.055 L60.2976 261.055 L60.2976 234.69 L51.9875 236.356 L51.9875 232.097 L60.2513 230.43 L64.9272 230.43 L64.9272 261.055 L72.5661 261.055 L72.5661 264.99 L52.6588 264.99 L52.6588 261.055 Z\" fill=\"#000000\" fill-rule=\"evenodd\" fill-opacity=\"1\" /><path clip-path=\"url(#clip600)\" d=\"M82.0568 230.43 L100.413 230.43 L100.413 234.365 L86.3392 234.365 L86.3392 242.838 Q87.3577 242.49 88.3762 242.328 Q89.3947 242.143 90.4132 242.143 Q96.2002 242.143 99.5798 245.315 Q102.959 248.486 102.959 253.902 Q102.959 259.481 99.4872 262.583 Q96.015 265.662 89.6956 265.662 Q87.5197 265.662 85.2512 265.291 Q83.0058 264.921 80.5984 264.18 L80.5984 259.481 Q82.6818 260.615 84.904 261.171 Q87.1262 261.726 89.603 261.726 Q93.6076 261.726 95.9456 259.62 Q98.2835 257.514 98.2835 253.902 Q98.2835 250.291 95.9456 248.185 Q93.6076 246.078 89.603 246.078 Q87.728 246.078 85.8531 246.495 Q84.0012 246.912 82.0568 247.791 L82.0568 230.43 Z\" fill=\"#000000\" fill-rule=\"evenodd\" fill-opacity=\"1\" /><path clip-path=\"url(#clip602)\" d=\"\n",
       "M260.722 1365.85 L260.722 1445.72 L412.281 1445.72 L412.281 1365.85 L260.722 1365.85 L260.722 1365.85  Z\n",
       "  \" fill=\"#009af9\" fill-rule=\"evenodd\" fill-opacity=\"1\"/>\n",
       "<polyline clip-path=\"url(#clip602)\" style=\"stroke:#000000; stroke-linecap:butt; stroke-linejoin:round; stroke-width:4; stroke-opacity:1; fill:none\" points=\"\n",
       "  260.722,1365.85 260.722,1445.72 412.281,1445.72 412.281,1365.85 260.722,1365.85 \n",
       "  \"/>\n",
       "<path clip-path=\"url(#clip602)\" d=\"\n",
       "M412.281 1445.72 L412.281 1445.72 L563.841 1445.72 L563.841 1445.72 L412.281 1445.72 L412.281 1445.72  Z\n",
       "  \" fill=\"#009af9\" fill-rule=\"evenodd\" fill-opacity=\"1\"/>\n",
       "<polyline clip-path=\"url(#clip602)\" style=\"stroke:#000000; stroke-linecap:butt; stroke-linejoin:round; stroke-width:4; stroke-opacity:1; fill:none\" points=\"\n",
       "  412.281,1445.72 412.281,1445.72 563.841,1445.72 412.281,1445.72 \n",
       "  \"/>\n",
       "<path clip-path=\"url(#clip602)\" d=\"\n",
       "M563.841 1365.85 L563.841 1445.72 L715.4 1445.72 L715.4 1365.85 L563.841 1365.85 L563.841 1365.85  Z\n",
       "  \" fill=\"#009af9\" fill-rule=\"evenodd\" fill-opacity=\"1\"/>\n",
       "<polyline clip-path=\"url(#clip602)\" style=\"stroke:#000000; stroke-linecap:butt; stroke-linejoin:round; stroke-width:4; stroke-opacity:1; fill:none\" points=\"\n",
       "  563.841,1365.85 563.841,1445.72 715.4,1445.72 715.4,1365.85 563.841,1365.85 \n",
       "  \"/>\n",
       "<path clip-path=\"url(#clip602)\" d=\"\n",
       "M715.4 1445.72 L715.4 1445.72 L866.959 1445.72 L866.959 1445.72 L715.4 1445.72 L715.4 1445.72  Z\n",
       "  \" fill=\"#009af9\" fill-rule=\"evenodd\" fill-opacity=\"1\"/>\n",
       "<polyline clip-path=\"url(#clip602)\" style=\"stroke:#000000; stroke-linecap:butt; stroke-linejoin:round; stroke-width:4; stroke-opacity:1; fill:none\" points=\"\n",
       "  715.4,1445.72 715.4,1445.72 866.959,1445.72 715.4,1445.72 \n",
       "  \"/>\n",
       "<path clip-path=\"url(#clip602)\" d=\"\n",
       "M866.959 1445.72 L866.959 1445.72 L1018.52 1445.72 L1018.52 1445.72 L866.959 1445.72 L866.959 1445.72  Z\n",
       "  \" fill=\"#009af9\" fill-rule=\"evenodd\" fill-opacity=\"1\"/>\n",
       "<polyline clip-path=\"url(#clip602)\" style=\"stroke:#000000; stroke-linecap:butt; stroke-linejoin:round; stroke-width:4; stroke-opacity:1; fill:none\" points=\"\n",
       "  866.959,1445.72 866.959,1445.72 1018.52,1445.72 866.959,1445.72 \n",
       "  \"/>\n",
       "<path clip-path=\"url(#clip602)\" d=\"\n",
       "M1018.52 1285.98 L1018.52 1445.72 L1170.08 1445.72 L1170.08 1285.98 L1018.52 1285.98 L1018.52 1285.98  Z\n",
       "  \" fill=\"#009af9\" fill-rule=\"evenodd\" fill-opacity=\"1\"/>\n",
       "<polyline clip-path=\"url(#clip602)\" style=\"stroke:#000000; stroke-linecap:butt; stroke-linejoin:round; stroke-width:4; stroke-opacity:1; fill:none\" points=\"\n",
       "  1018.52,1285.98 1018.52,1445.72 1170.08,1445.72 1170.08,1285.98 1018.52,1285.98 \n",
       "  \"/>\n",
       "<path clip-path=\"url(#clip602)\" d=\"\n",
       "M1170.08 87.9763 L1170.08 1445.72 L1321.64 1445.72 L1321.64 87.9763 L1170.08 87.9763 L1170.08 87.9763  Z\n",
       "  \" fill=\"#009af9\" fill-rule=\"evenodd\" fill-opacity=\"1\"/>\n",
       "<polyline clip-path=\"url(#clip602)\" style=\"stroke:#000000; stroke-linecap:butt; stroke-linejoin:round; stroke-width:4; stroke-opacity:1; fill:none\" points=\"\n",
       "  1170.08,87.9763 1170.08,1445.72 1321.64,1445.72 1321.64,87.9763 1170.08,87.9763 \n",
       "  \"/>\n",
       "<path clip-path=\"url(#clip602)\" d=\"\n",
       "M1321.64 487.311 L1321.64 1445.72 L1473.2 1445.72 L1473.2 487.311 L1321.64 487.311 L1321.64 487.311  Z\n",
       "  \" fill=\"#009af9\" fill-rule=\"evenodd\" fill-opacity=\"1\"/>\n",
       "<polyline clip-path=\"url(#clip602)\" style=\"stroke:#000000; stroke-linecap:butt; stroke-linejoin:round; stroke-width:4; stroke-opacity:1; fill:none\" points=\"\n",
       "  1321.64,487.311 1321.64,1445.72 1473.2,1445.72 1473.2,487.311 1321.64,487.311 \n",
       "  \"/>\n",
       "<path clip-path=\"url(#clip602)\" d=\"\n",
       "M1473.2 1126.25 L1473.2 1445.72 L1624.76 1445.72 L1624.76 1126.25 L1473.2 1126.25 L1473.2 1126.25  Z\n",
       "  \" fill=\"#009af9\" fill-rule=\"evenodd\" fill-opacity=\"1\"/>\n",
       "<polyline clip-path=\"url(#clip602)\" style=\"stroke:#000000; stroke-linecap:butt; stroke-linejoin:round; stroke-width:4; stroke-opacity:1; fill:none\" points=\"\n",
       "  1473.2,1126.25 1473.2,1445.72 1624.76,1445.72 1624.76,1126.25 1473.2,1126.25 \n",
       "  \"/>\n",
       "<path clip-path=\"url(#clip602)\" d=\"\n",
       "M1624.76 1365.85 L1624.76 1445.72 L1776.32 1445.72 L1776.32 1365.85 L1624.76 1365.85 L1624.76 1365.85  Z\n",
       "  \" fill=\"#009af9\" fill-rule=\"evenodd\" fill-opacity=\"1\"/>\n",
       "<polyline clip-path=\"url(#clip602)\" style=\"stroke:#000000; stroke-linecap:butt; stroke-linejoin:round; stroke-width:4; stroke-opacity:1; fill:none\" points=\"\n",
       "  1624.76,1365.85 1624.76,1445.72 1776.32,1445.72 1776.32,1365.85 1624.76,1365.85 \n",
       "  \"/>\n",
       "<path clip-path=\"url(#clip602)\" d=\"\n",
       "M1776.32 1365.85 L1776.32 1445.72 L1927.87 1445.72 L1927.87 1365.85 L1776.32 1365.85 L1776.32 1365.85  Z\n",
       "  \" fill=\"#009af9\" fill-rule=\"evenodd\" fill-opacity=\"1\"/>\n",
       "<polyline clip-path=\"url(#clip602)\" style=\"stroke:#000000; stroke-linecap:butt; stroke-linejoin:round; stroke-width:4; stroke-opacity:1; fill:none\" points=\"\n",
       "  1776.32,1365.85 1776.32,1445.72 1927.87,1445.72 1927.87,1365.85 1776.32,1365.85 \n",
       "  \"/>\n",
       "<path clip-path=\"url(#clip602)\" d=\"\n",
       "M1927.87 1445.72 L1927.87 1445.72 L2079.43 1445.72 L2079.43 1445.72 L1927.87 1445.72 L1927.87 1445.72  Z\n",
       "  \" fill=\"#009af9\" fill-rule=\"evenodd\" fill-opacity=\"1\"/>\n",
       "<polyline clip-path=\"url(#clip602)\" style=\"stroke:#000000; stroke-linecap:butt; stroke-linejoin:round; stroke-width:4; stroke-opacity:1; fill:none\" points=\"\n",
       "  1927.87,1445.72 1927.87,1445.72 2079.43,1445.72 1927.87,1445.72 \n",
       "  \"/>\n",
       "<path clip-path=\"url(#clip602)\" d=\"\n",
       "M2079.43 1365.85 L2079.43 1445.72 L2230.99 1445.72 L2230.99 1365.85 L2079.43 1365.85 L2079.43 1365.85  Z\n",
       "  \" fill=\"#009af9\" fill-rule=\"evenodd\" fill-opacity=\"1\"/>\n",
       "<polyline clip-path=\"url(#clip602)\" style=\"stroke:#000000; stroke-linecap:butt; stroke-linejoin:round; stroke-width:4; stroke-opacity:1; fill:none\" points=\"\n",
       "  2079.43,1365.85 2079.43,1445.72 2230.99,1445.72 2230.99,1365.85 2079.43,1365.85 \n",
       "  \"/>\n",
       "<circle clip-path=\"url(#clip602)\" style=\"fill:#009af9; stroke:none; fill-opacity:0\" cx=\"336.502\" cy=\"1365.85\" r=\"2\"/>\n",
       "<circle clip-path=\"url(#clip602)\" style=\"fill:#009af9; stroke:none; fill-opacity:0\" cx=\"488.061\" cy=\"1445.72\" r=\"2\"/>\n",
       "<circle clip-path=\"url(#clip602)\" style=\"fill:#009af9; stroke:none; fill-opacity:0\" cx=\"639.62\" cy=\"1365.85\" r=\"2\"/>\n",
       "<circle clip-path=\"url(#clip602)\" style=\"fill:#009af9; stroke:none; fill-opacity:0\" cx=\"791.18\" cy=\"1445.72\" r=\"2\"/>\n",
       "<circle clip-path=\"url(#clip602)\" style=\"fill:#009af9; stroke:none; fill-opacity:0\" cx=\"942.739\" cy=\"1445.72\" r=\"2\"/>\n",
       "<circle clip-path=\"url(#clip602)\" style=\"fill:#009af9; stroke:none; fill-opacity:0\" cx=\"1094.3\" cy=\"1285.98\" r=\"2\"/>\n",
       "<circle clip-path=\"url(#clip602)\" style=\"fill:#009af9; stroke:none; fill-opacity:0\" cx=\"1245.86\" cy=\"87.9763\" r=\"2\"/>\n",
       "<circle clip-path=\"url(#clip602)\" style=\"fill:#009af9; stroke:none; fill-opacity:0\" cx=\"1397.42\" cy=\"487.311\" r=\"2\"/>\n",
       "<circle clip-path=\"url(#clip602)\" style=\"fill:#009af9; stroke:none; fill-opacity:0\" cx=\"1548.98\" cy=\"1126.25\" r=\"2\"/>\n",
       "<circle clip-path=\"url(#clip602)\" style=\"fill:#009af9; stroke:none; fill-opacity:0\" cx=\"1700.54\" cy=\"1365.85\" r=\"2\"/>\n",
       "<circle clip-path=\"url(#clip602)\" style=\"fill:#009af9; stroke:none; fill-opacity:0\" cx=\"1852.09\" cy=\"1365.85\" r=\"2\"/>\n",
       "<circle clip-path=\"url(#clip602)\" style=\"fill:#009af9; stroke:none; fill-opacity:0\" cx=\"2003.65\" cy=\"1445.72\" r=\"2\"/>\n",
       "<circle clip-path=\"url(#clip602)\" style=\"fill:#009af9; stroke:none; fill-opacity:0\" cx=\"2155.21\" cy=\"1365.85\" r=\"2\"/>\n",
       "<path clip-path=\"url(#clip600)\" d=\"\n",
       "M1980.56 198.898 L2278.96 198.898 L2278.96 95.2176 L1980.56 95.2176  Z\n",
       "  \" fill=\"#ffffff\" fill-rule=\"evenodd\" fill-opacity=\"1\"/>\n",
       "<polyline clip-path=\"url(#clip600)\" style=\"stroke:#000000; stroke-linecap:butt; stroke-linejoin:round; stroke-width:4; stroke-opacity:1; fill:none\" points=\"\n",
       "  1980.56,198.898 2278.96,198.898 2278.96,95.2176 1980.56,95.2176 1980.56,198.898 \n",
       "  \"/>\n",
       "<path clip-path=\"url(#clip600)\" d=\"\n",
       "M2005.15 167.794 L2152.74 167.794 L2152.74 126.322 L2005.15 126.322 L2005.15 167.794  Z\n",
       "  \" fill=\"#009af9\" fill-rule=\"evenodd\" fill-opacity=\"1\"/>\n",
       "<polyline clip-path=\"url(#clip600)\" style=\"stroke:#000000; stroke-linecap:butt; stroke-linejoin:round; stroke-width:4; stroke-opacity:1; fill:none\" points=\"\n",
       "  2005.15,167.794 2152.74,167.794 2152.74,126.322 2005.15,126.322 2005.15,167.794 \n",
       "  \"/>\n",
       "<path clip-path=\"url(#clip600)\" d=\"M2191.18 166.745 Q2189.37 171.375 2187.66 172.787 Q2185.95 174.199 2183.08 174.199 L2179.67 174.199 L2179.67 170.634 L2182.17 170.634 Q2183.93 170.634 2184.91 169.8 Q2185.88 168.967 2187.06 165.865 L2187.82 163.921 L2177.34 138.412 L2181.85 138.412 L2189.95 158.689 L2198.05 138.412 L2202.57 138.412 L2191.18 166.745 Z\" fill=\"#000000\" fill-rule=\"evenodd\" fill-opacity=\"1\" /><path clip-path=\"url(#clip600)\" d=\"M2209.86 160.402 L2217.5 160.402 L2217.5 134.037 L2209.19 135.703 L2209.19 131.444 L2217.45 129.778 L2222.13 129.778 L2222.13 160.402 L2229.77 160.402 L2229.77 164.338 L2209.86 164.338 L2209.86 160.402 Z\" fill=\"#000000\" fill-rule=\"evenodd\" fill-opacity=\"1\" /></svg>\n"
      ]
     },
     "execution_count": 1965,
     "metadata": {},
     "output_type": "execute_result"
    }
   ],
   "source": [
    "histogram(Alpha1[:,1])"
   ]
  },
  {
   "cell_type": "code",
   "execution_count": 1966,
   "id": "79e90507-aec7-4489-9ed5-93fefc3b8900",
   "metadata": {},
   "outputs": [
    {
     "data": {
      "text/plain": [
       "1×2 Matrix{Float64}:\n",
       " 0.509094  0.526062"
      ]
     },
     "execution_count": 1966,
     "metadata": {},
     "output_type": "execute_result"
    }
   ],
   "source": [
    "mg = mean(Gamma1, dims = 1)"
   ]
  },
  {
   "cell_type": "code",
   "execution_count": 1967,
   "id": "651d13b5-34fb-4af3-aa07-2c17ed6b897e",
   "metadata": {},
   "outputs": [
    {
     "data": {
      "text/plain": [
       "(0.1794000517936837, 0.28539110059992745)"
      ]
     },
     "execution_count": 1967,
     "metadata": {},
     "output_type": "execute_result"
    }
   ],
   "source": [
    "euclid(Gamma1, gamma)"
   ]
  },
  {
   "cell_type": "code",
   "execution_count": 1968,
   "id": "6bc2fe61-37be-40d0-8069-a7334aad330d",
   "metadata": {},
   "outputs": [
    {
     "data": {
      "image/svg+xml": [
       "<?xml version=\"1.0\" encoding=\"utf-8\"?>\n",
       "<svg xmlns=\"http://www.w3.org/2000/svg\" xmlns:xlink=\"http://www.w3.org/1999/xlink\" width=\"600\" height=\"400\" viewBox=\"0 0 2400 1600\">\n",
       "<defs>\n",
       "  <clipPath id=\"clip640\">\n",
       "    <rect x=\"0\" y=\"0\" width=\"2400\" height=\"1600\"/>\n",
       "  </clipPath>\n",
       "</defs>\n",
       "<path clip-path=\"url(#clip640)\" d=\"\n",
       "M0 1600 L2400 1600 L2400 0 L0 0  Z\n",
       "  \" fill=\"#ffffff\" fill-rule=\"evenodd\" fill-opacity=\"1\"/>\n",
       "<defs>\n",
       "  <clipPath id=\"clip641\">\n",
       "    <rect x=\"480\" y=\"0\" width=\"1681\" height=\"1600\"/>\n",
       "  </clipPath>\n",
       "</defs>\n",
       "<path clip-path=\"url(#clip640)\" d=\"\n",
       "M140.696 1486.45 L2352.76 1486.45 L2352.76 47.2441 L140.696 47.2441  Z\n",
       "  \" fill=\"#ffffff\" fill-rule=\"evenodd\" fill-opacity=\"1\"/>\n",
       "<defs>\n",
       "  <clipPath id=\"clip642\">\n",
       "    <rect x=\"140\" y=\"47\" width=\"2213\" height=\"1440\"/>\n",
       "  </clipPath>\n",
       "</defs>\n",
       "<polyline clip-path=\"url(#clip642)\" style=\"stroke:#000000; stroke-linecap:butt; stroke-linejoin:round; stroke-width:2; stroke-opacity:0.1; fill:none\" points=\"\n",
       "  530.825,1486.45 530.825,47.2441 \n",
       "  \"/>\n",
       "<polyline clip-path=\"url(#clip642)\" style=\"stroke:#000000; stroke-linecap:butt; stroke-linejoin:round; stroke-width:2; stroke-opacity:0.1; fill:none\" points=\"\n",
       "  978.263,1486.45 978.263,47.2441 \n",
       "  \"/>\n",
       "<polyline clip-path=\"url(#clip642)\" style=\"stroke:#000000; stroke-linecap:butt; stroke-linejoin:round; stroke-width:2; stroke-opacity:0.1; fill:none\" points=\"\n",
       "  1425.7,1486.45 1425.7,47.2441 \n",
       "  \"/>\n",
       "<polyline clip-path=\"url(#clip642)\" style=\"stroke:#000000; stroke-linecap:butt; stroke-linejoin:round; stroke-width:2; stroke-opacity:0.1; fill:none\" points=\"\n",
       "  1873.14,1486.45 1873.14,47.2441 \n",
       "  \"/>\n",
       "<polyline clip-path=\"url(#clip642)\" style=\"stroke:#000000; stroke-linecap:butt; stroke-linejoin:round; stroke-width:2; stroke-opacity:0.1; fill:none\" points=\"\n",
       "  2320.58,1486.45 2320.58,47.2441 \n",
       "  \"/>\n",
       "<polyline clip-path=\"url(#clip640)\" style=\"stroke:#000000; stroke-linecap:butt; stroke-linejoin:round; stroke-width:4; stroke-opacity:1; fill:none\" points=\"\n",
       "  140.696,1486.45 2352.76,1486.45 \n",
       "  \"/>\n",
       "<polyline clip-path=\"url(#clip640)\" style=\"stroke:#000000; stroke-linecap:butt; stroke-linejoin:round; stroke-width:4; stroke-opacity:1; fill:none\" points=\"\n",
       "  530.825,1486.45 530.825,1467.55 \n",
       "  \"/>\n",
       "<polyline clip-path=\"url(#clip640)\" style=\"stroke:#000000; stroke-linecap:butt; stroke-linejoin:round; stroke-width:4; stroke-opacity:1; fill:none\" points=\"\n",
       "  978.263,1486.45 978.263,1467.55 \n",
       "  \"/>\n",
       "<polyline clip-path=\"url(#clip640)\" style=\"stroke:#000000; stroke-linecap:butt; stroke-linejoin:round; stroke-width:4; stroke-opacity:1; fill:none\" points=\"\n",
       "  1425.7,1486.45 1425.7,1467.55 \n",
       "  \"/>\n",
       "<polyline clip-path=\"url(#clip640)\" style=\"stroke:#000000; stroke-linecap:butt; stroke-linejoin:round; stroke-width:4; stroke-opacity:1; fill:none\" points=\"\n",
       "  1873.14,1486.45 1873.14,1467.55 \n",
       "  \"/>\n",
       "<polyline clip-path=\"url(#clip640)\" style=\"stroke:#000000; stroke-linecap:butt; stroke-linejoin:round; stroke-width:4; stroke-opacity:1; fill:none\" points=\"\n",
       "  2320.58,1486.45 2320.58,1467.55 \n",
       "  \"/>\n",
       "<path clip-path=\"url(#clip640)\" d=\"M462.77 1532.02 L492.446 1532.02 L492.446 1535.95 L462.77 1535.95 L462.77 1532.02 Z\" fill=\"#000000\" fill-rule=\"evenodd\" fill-opacity=\"1\" /><path clip-path=\"url(#clip640)\" d=\"M512.538 1517.37 Q508.927 1517.37 507.099 1520.93 Q505.293 1524.47 505.293 1531.6 Q505.293 1538.71 507.099 1542.27 Q508.927 1545.82 512.538 1545.82 Q516.173 1545.82 517.978 1542.27 Q519.807 1538.71 519.807 1531.6 Q519.807 1524.47 517.978 1520.93 Q516.173 1517.37 512.538 1517.37 M512.538 1513.66 Q518.349 1513.66 521.404 1518.27 Q524.483 1522.85 524.483 1531.6 Q524.483 1540.33 521.404 1544.94 Q518.349 1549.52 512.538 1549.52 Q506.728 1549.52 503.65 1544.94 Q500.594 1540.33 500.594 1531.6 Q500.594 1522.85 503.65 1518.27 Q506.728 1513.66 512.538 1513.66 Z\" fill=\"#000000\" fill-rule=\"evenodd\" fill-opacity=\"1\" /><path clip-path=\"url(#clip640)\" d=\"M532.7 1542.97 L537.585 1542.97 L537.585 1548.85 L532.7 1548.85 L532.7 1542.97 Z\" fill=\"#000000\" fill-rule=\"evenodd\" fill-opacity=\"1\" /><path clip-path=\"url(#clip640)\" d=\"M551.798 1544.91 L568.117 1544.91 L568.117 1548.85 L546.173 1548.85 L546.173 1544.91 Q548.835 1542.16 553.418 1537.53 Q558.024 1532.88 559.205 1531.53 Q561.45 1529.01 562.33 1527.27 Q563.233 1525.51 563.233 1523.82 Q563.233 1521.07 561.288 1519.33 Q559.367 1517.6 556.265 1517.6 Q554.066 1517.6 551.612 1518.36 Q549.182 1519.13 546.404 1520.68 L546.404 1515.95 Q549.228 1514.82 551.682 1514.24 Q554.135 1513.66 556.173 1513.66 Q561.543 1513.66 564.737 1516.35 Q567.932 1519.03 567.932 1523.52 Q567.932 1525.65 567.122 1527.57 Q566.334 1529.47 564.228 1532.07 Q563.649 1532.74 560.547 1535.95 Q557.446 1539.15 551.798 1544.91 Z\" fill=\"#000000\" fill-rule=\"evenodd\" fill-opacity=\"1\" /><path clip-path=\"url(#clip640)\" d=\"M577.978 1514.29 L596.334 1514.29 L596.334 1518.22 L582.26 1518.22 L582.26 1526.7 Q583.279 1526.35 584.297 1526.19 Q585.316 1526 586.334 1526 Q592.121 1526 595.501 1529.17 Q598.881 1532.34 598.881 1537.76 Q598.881 1543.34 595.408 1546.44 Q591.936 1549.52 585.617 1549.52 Q583.441 1549.52 581.172 1549.15 Q578.927 1548.78 576.52 1548.04 L576.52 1543.34 Q578.603 1544.47 580.825 1545.03 Q583.047 1545.58 585.524 1545.58 Q589.529 1545.58 591.867 1543.48 Q594.205 1541.37 594.205 1537.76 Q594.205 1534.15 591.867 1532.04 Q589.529 1529.94 585.524 1529.94 Q583.649 1529.94 581.774 1530.35 Q579.922 1530.77 577.978 1531.65 L577.978 1514.29 Z\" fill=\"#000000\" fill-rule=\"evenodd\" fill-opacity=\"1\" /><path clip-path=\"url(#clip640)\" d=\"M940.567 1517.37 Q936.955 1517.37 935.127 1520.93 Q933.321 1524.47 933.321 1531.6 Q933.321 1538.71 935.127 1542.27 Q936.955 1545.82 940.567 1545.82 Q944.201 1545.82 946.006 1542.27 Q947.835 1538.71 947.835 1531.6 Q947.835 1524.47 946.006 1520.93 Q944.201 1517.37 940.567 1517.37 M940.567 1513.66 Q946.377 1513.66 949.432 1518.27 Q952.511 1522.85 952.511 1531.6 Q952.511 1540.33 949.432 1544.94 Q946.377 1549.52 940.567 1549.52 Q934.756 1549.52 931.678 1544.94 Q928.622 1540.33 928.622 1531.6 Q928.622 1522.85 931.678 1518.27 Q934.756 1513.66 940.567 1513.66 Z\" fill=\"#000000\" fill-rule=\"evenodd\" fill-opacity=\"1\" /><path clip-path=\"url(#clip640)\" d=\"M960.728 1542.97 L965.613 1542.97 L965.613 1548.85 L960.728 1548.85 L960.728 1542.97 Z\" fill=\"#000000\" fill-rule=\"evenodd\" fill-opacity=\"1\" /><path clip-path=\"url(#clip640)\" d=\"M985.798 1517.37 Q982.187 1517.37 980.358 1520.93 Q978.552 1524.47 978.552 1531.6 Q978.552 1538.71 980.358 1542.27 Q982.187 1545.82 985.798 1545.82 Q989.432 1545.82 991.238 1542.27 Q993.066 1538.71 993.066 1531.6 Q993.066 1524.47 991.238 1520.93 Q989.432 1517.37 985.798 1517.37 M985.798 1513.66 Q991.608 1513.66 994.663 1518.27 Q997.742 1522.85 997.742 1531.6 Q997.742 1540.33 994.663 1544.94 Q991.608 1549.52 985.798 1549.52 Q979.988 1549.52 976.909 1544.94 Q973.853 1540.33 973.853 1531.6 Q973.853 1522.85 976.909 1518.27 Q979.988 1513.66 985.798 1513.66 Z\" fill=\"#000000\" fill-rule=\"evenodd\" fill-opacity=\"1\" /><path clip-path=\"url(#clip640)\" d=\"M1015.96 1517.37 Q1012.35 1517.37 1010.52 1520.93 Q1008.71 1524.47 1008.71 1531.6 Q1008.71 1538.71 1010.52 1542.27 Q1012.35 1545.82 1015.96 1545.82 Q1019.59 1545.82 1021.4 1542.27 Q1023.23 1538.71 1023.23 1531.6 Q1023.23 1524.47 1021.4 1520.93 Q1019.59 1517.37 1015.96 1517.37 M1015.96 1513.66 Q1021.77 1513.66 1024.83 1518.27 Q1027.9 1522.85 1027.9 1531.6 Q1027.9 1540.33 1024.83 1544.94 Q1021.77 1549.52 1015.96 1549.52 Q1010.15 1549.52 1007.07 1544.94 Q1004.02 1540.33 1004.02 1531.6 Q1004.02 1522.85 1007.07 1518.27 Q1010.15 1513.66 1015.96 1513.66 Z\" fill=\"#000000\" fill-rule=\"evenodd\" fill-opacity=\"1\" /><path clip-path=\"url(#clip640)\" d=\"M1388.5 1517.37 Q1384.89 1517.37 1383.06 1520.93 Q1381.26 1524.47 1381.26 1531.6 Q1381.26 1538.71 1383.06 1542.27 Q1384.89 1545.82 1388.5 1545.82 Q1392.14 1545.82 1393.94 1542.27 Q1395.77 1538.71 1395.77 1531.6 Q1395.77 1524.47 1393.94 1520.93 Q1392.14 1517.37 1388.5 1517.37 M1388.5 1513.66 Q1394.31 1513.66 1397.37 1518.27 Q1400.45 1522.85 1400.45 1531.6 Q1400.45 1540.33 1397.37 1544.94 Q1394.31 1549.52 1388.5 1549.52 Q1382.69 1549.52 1379.61 1544.94 Q1376.56 1540.33 1376.56 1531.6 Q1376.56 1522.85 1379.61 1518.27 Q1382.69 1513.66 1388.5 1513.66 Z\" fill=\"#000000\" fill-rule=\"evenodd\" fill-opacity=\"1\" /><path clip-path=\"url(#clip640)\" d=\"M1408.66 1542.97 L1413.55 1542.97 L1413.55 1548.85 L1408.66 1548.85 L1408.66 1542.97 Z\" fill=\"#000000\" fill-rule=\"evenodd\" fill-opacity=\"1\" /><path clip-path=\"url(#clip640)\" d=\"M1427.76 1544.91 L1444.08 1544.91 L1444.08 1548.85 L1422.14 1548.85 L1422.14 1544.91 Q1424.8 1542.16 1429.38 1537.53 Q1433.99 1532.88 1435.17 1531.53 Q1437.41 1529.01 1438.29 1527.27 Q1439.2 1525.51 1439.2 1523.82 Q1439.2 1521.07 1437.25 1519.33 Q1435.33 1517.6 1432.23 1517.6 Q1430.03 1517.6 1427.58 1518.36 Q1425.15 1519.13 1422.37 1520.68 L1422.37 1515.95 Q1425.19 1514.82 1427.65 1514.24 Q1430.1 1513.66 1432.14 1513.66 Q1437.51 1513.66 1440.7 1516.35 Q1443.9 1519.03 1443.9 1523.52 Q1443.9 1525.65 1443.08 1527.57 Q1442.3 1529.47 1440.19 1532.07 Q1439.61 1532.74 1436.51 1535.95 Q1433.41 1539.15 1427.76 1544.91 Z\" fill=\"#000000\" fill-rule=\"evenodd\" fill-opacity=\"1\" /><path clip-path=\"url(#clip640)\" d=\"M1453.94 1514.29 L1472.3 1514.29 L1472.3 1518.22 L1458.22 1518.22 L1458.22 1526.7 Q1459.24 1526.35 1460.26 1526.19 Q1461.28 1526 1462.3 1526 Q1468.08 1526 1471.46 1529.17 Q1474.84 1532.34 1474.84 1537.76 Q1474.84 1543.34 1471.37 1546.44 Q1467.9 1549.52 1461.58 1549.52 Q1459.4 1549.52 1457.14 1549.15 Q1454.89 1548.78 1452.48 1548.04 L1452.48 1543.34 Q1454.57 1544.47 1456.79 1545.03 Q1459.01 1545.58 1461.49 1545.58 Q1465.49 1545.58 1467.83 1543.48 Q1470.17 1541.37 1470.17 1537.76 Q1470.17 1534.15 1467.83 1532.04 Q1465.49 1529.94 1461.49 1529.94 Q1459.61 1529.94 1457.74 1530.35 Q1455.89 1530.77 1453.94 1531.65 L1453.94 1514.29 Z\" fill=\"#000000\" fill-rule=\"evenodd\" fill-opacity=\"1\" /><path clip-path=\"url(#clip640)\" d=\"M1835.44 1517.37 Q1831.83 1517.37 1830 1520.93 Q1828.2 1524.47 1828.2 1531.6 Q1828.2 1538.71 1830 1542.27 Q1831.83 1545.82 1835.44 1545.82 Q1839.08 1545.82 1840.88 1542.27 Q1842.71 1538.71 1842.71 1531.6 Q1842.71 1524.47 1840.88 1520.93 Q1839.08 1517.37 1835.44 1517.37 M1835.44 1513.66 Q1841.25 1513.66 1844.31 1518.27 Q1847.39 1522.85 1847.39 1531.6 Q1847.39 1540.33 1844.31 1544.94 Q1841.25 1549.52 1835.44 1549.52 Q1829.63 1549.52 1826.55 1544.94 Q1823.5 1540.33 1823.5 1531.6 Q1823.5 1522.85 1826.55 1518.27 Q1829.63 1513.66 1835.44 1513.66 Z\" fill=\"#000000\" fill-rule=\"evenodd\" fill-opacity=\"1\" /><path clip-path=\"url(#clip640)\" d=\"M1855.6 1542.97 L1860.49 1542.97 L1860.49 1548.85 L1855.6 1548.85 L1855.6 1542.97 Z\" fill=\"#000000\" fill-rule=\"evenodd\" fill-opacity=\"1\" /><path clip-path=\"url(#clip640)\" d=\"M1870.72 1514.29 L1889.08 1514.29 L1889.08 1518.22 L1875 1518.22 L1875 1526.7 Q1876.02 1526.35 1877.04 1526.19 Q1878.06 1526 1879.08 1526 Q1884.86 1526 1888.24 1529.17 Q1891.62 1532.34 1891.62 1537.76 Q1891.62 1543.34 1888.15 1546.44 Q1884.68 1549.52 1878.36 1549.52 Q1876.18 1549.52 1873.91 1549.15 Q1871.67 1548.78 1869.26 1548.04 L1869.26 1543.34 Q1871.34 1544.47 1873.57 1545.03 Q1875.79 1545.58 1878.27 1545.58 Q1882.27 1545.58 1884.61 1543.48 Q1886.95 1541.37 1886.95 1537.76 Q1886.95 1534.15 1884.61 1532.04 Q1882.27 1529.94 1878.27 1529.94 Q1876.39 1529.94 1874.52 1530.35 Q1872.66 1530.77 1870.72 1531.65 L1870.72 1514.29 Z\" fill=\"#000000\" fill-rule=\"evenodd\" fill-opacity=\"1\" /><path clip-path=\"url(#clip640)\" d=\"M1910.84 1517.37 Q1907.22 1517.37 1905.4 1520.93 Q1903.59 1524.47 1903.59 1531.6 Q1903.59 1538.71 1905.4 1542.27 Q1907.22 1545.82 1910.84 1545.82 Q1914.47 1545.82 1916.27 1542.27 Q1918.1 1538.71 1918.1 1531.6 Q1918.1 1524.47 1916.27 1520.93 Q1914.47 1517.37 1910.84 1517.37 M1910.84 1513.66 Q1916.65 1513.66 1919.7 1518.27 Q1922.78 1522.85 1922.78 1531.6 Q1922.78 1540.33 1919.7 1544.94 Q1916.65 1549.52 1910.84 1549.52 Q1905.02 1549.52 1901.95 1544.94 Q1898.89 1540.33 1898.89 1531.6 Q1898.89 1522.85 1901.95 1518.27 Q1905.02 1513.66 1910.84 1513.66 Z\" fill=\"#000000\" fill-rule=\"evenodd\" fill-opacity=\"1\" /><path clip-path=\"url(#clip640)\" d=\"M2283.38 1517.37 Q2279.77 1517.37 2277.94 1520.93 Q2276.13 1524.47 2276.13 1531.6 Q2276.13 1538.71 2277.94 1542.27 Q2279.77 1545.82 2283.38 1545.82 Q2287.01 1545.82 2288.82 1542.27 Q2290.65 1538.71 2290.65 1531.6 Q2290.65 1524.47 2288.82 1520.93 Q2287.01 1517.37 2283.38 1517.37 M2283.38 1513.66 Q2289.19 1513.66 2292.24 1518.27 Q2295.32 1522.85 2295.32 1531.6 Q2295.32 1540.33 2292.24 1544.94 Q2289.19 1549.52 2283.38 1549.52 Q2277.57 1549.52 2274.49 1544.94 Q2271.43 1540.33 2271.43 1531.6 Q2271.43 1522.85 2274.49 1518.27 Q2277.57 1513.66 2283.38 1513.66 Z\" fill=\"#000000\" fill-rule=\"evenodd\" fill-opacity=\"1\" /><path clip-path=\"url(#clip640)\" d=\"M2303.54 1542.97 L2308.42 1542.97 L2308.42 1548.85 L2303.54 1548.85 L2303.54 1542.97 Z\" fill=\"#000000\" fill-rule=\"evenodd\" fill-opacity=\"1\" /><path clip-path=\"url(#clip640)\" d=\"M2317.43 1514.29 L2339.65 1514.29 L2339.65 1516.28 L2327.1 1548.85 L2322.22 1548.85 L2334.03 1518.22 L2317.43 1518.22 L2317.43 1514.29 Z\" fill=\"#000000\" fill-rule=\"evenodd\" fill-opacity=\"1\" /><path clip-path=\"url(#clip640)\" d=\"M2348.82 1514.29 L2367.17 1514.29 L2367.17 1518.22 L2353.1 1518.22 L2353.1 1526.7 Q2354.12 1526.35 2355.14 1526.19 Q2356.15 1526 2357.17 1526 Q2362.96 1526 2366.34 1529.17 Q2369.72 1532.34 2369.72 1537.76 Q2369.72 1543.34 2366.25 1546.44 Q2362.78 1549.52 2356.46 1549.52 Q2354.28 1549.52 2352.01 1549.15 Q2349.77 1548.78 2347.36 1548.04 L2347.36 1543.34 Q2349.44 1544.47 2351.66 1545.03 Q2353.89 1545.58 2356.36 1545.58 Q2360.37 1545.58 2362.71 1543.48 Q2365.04 1541.37 2365.04 1537.76 Q2365.04 1534.15 2362.71 1532.04 Q2360.37 1529.94 2356.36 1529.94 Q2354.49 1529.94 2352.61 1530.35 Q2350.76 1530.77 2348.82 1531.65 L2348.82 1514.29 Z\" fill=\"#000000\" fill-rule=\"evenodd\" fill-opacity=\"1\" /><polyline clip-path=\"url(#clip642)\" style=\"stroke:#000000; stroke-linecap:butt; stroke-linejoin:round; stroke-width:2; stroke-opacity:0.1; fill:none\" points=\"\n",
       "  140.696,1445.72 2352.76,1445.72 \n",
       "  \"/>\n",
       "<polyline clip-path=\"url(#clip642)\" style=\"stroke:#000000; stroke-linecap:butt; stroke-linejoin:round; stroke-width:2; stroke-opacity:0.1; fill:none\" points=\"\n",
       "  140.696,1007.74 2352.76,1007.74 \n",
       "  \"/>\n",
       "<polyline clip-path=\"url(#clip642)\" style=\"stroke:#000000; stroke-linecap:butt; stroke-linejoin:round; stroke-width:2; stroke-opacity:0.1; fill:none\" points=\"\n",
       "  140.696,569.755 2352.76,569.755 \n",
       "  \"/>\n",
       "<polyline clip-path=\"url(#clip642)\" style=\"stroke:#000000; stroke-linecap:butt; stroke-linejoin:round; stroke-width:2; stroke-opacity:0.1; fill:none\" points=\"\n",
       "  140.696,131.774 2352.76,131.774 \n",
       "  \"/>\n",
       "<polyline clip-path=\"url(#clip640)\" style=\"stroke:#000000; stroke-linecap:butt; stroke-linejoin:round; stroke-width:4; stroke-opacity:1; fill:none\" points=\"\n",
       "  140.696,1486.45 140.696,47.2441 \n",
       "  \"/>\n",
       "<polyline clip-path=\"url(#clip640)\" style=\"stroke:#000000; stroke-linecap:butt; stroke-linejoin:round; stroke-width:4; stroke-opacity:1; fill:none\" points=\"\n",
       "  140.696,1445.72 159.593,1445.72 \n",
       "  \"/>\n",
       "<polyline clip-path=\"url(#clip640)\" style=\"stroke:#000000; stroke-linecap:butt; stroke-linejoin:round; stroke-width:4; stroke-opacity:1; fill:none\" points=\"\n",
       "  140.696,1007.74 159.593,1007.74 \n",
       "  \"/>\n",
       "<polyline clip-path=\"url(#clip640)\" style=\"stroke:#000000; stroke-linecap:butt; stroke-linejoin:round; stroke-width:4; stroke-opacity:1; fill:none\" points=\"\n",
       "  140.696,569.755 159.593,569.755 \n",
       "  \"/>\n",
       "<polyline clip-path=\"url(#clip640)\" style=\"stroke:#000000; stroke-linecap:butt; stroke-linejoin:round; stroke-width:4; stroke-opacity:1; fill:none\" points=\"\n",
       "  140.696,131.774 159.593,131.774 \n",
       "  \"/>\n",
       "<path clip-path=\"url(#clip640)\" d=\"M92.7512 1431.51 Q89.1401 1431.51 87.3114 1435.08 Q85.5058 1438.62 85.5058 1445.75 Q85.5058 1452.86 87.3114 1456.42 Q89.1401 1459.96 92.7512 1459.96 Q96.3854 1459.96 98.1909 1456.42 Q100.02 1452.86 100.02 1445.75 Q100.02 1438.62 98.1909 1435.08 Q96.3854 1431.51 92.7512 1431.51 M92.7512 1427.81 Q98.5613 1427.81 101.617 1432.42 Q104.696 1437 104.696 1445.75 Q104.696 1454.48 101.617 1459.08 Q98.5613 1463.67 92.7512 1463.67 Q86.941 1463.67 83.8623 1459.08 Q80.8068 1454.48 80.8068 1445.75 Q80.8068 1437 83.8623 1432.42 Q86.941 1427.81 92.7512 1427.81 Z\" fill=\"#000000\" fill-rule=\"evenodd\" fill-opacity=\"1\" /><path clip-path=\"url(#clip640)\" d=\"M53.3995 1021.08 L61.0384 1021.08 L61.0384 994.714 L52.7282 996.381 L52.7282 992.122 L60.9921 990.455 L65.668 990.455 L65.668 1021.08 L73.3068 1021.08 L73.3068 1025.02 L53.3995 1025.02 L53.3995 1021.08 Z\" fill=\"#000000\" fill-rule=\"evenodd\" fill-opacity=\"1\" /><path clip-path=\"url(#clip640)\" d=\"M92.7512 993.534 Q89.1401 993.534 87.3114 997.099 Q85.5058 1000.64 85.5058 1007.77 Q85.5058 1014.88 87.3114 1018.44 Q89.1401 1021.98 92.7512 1021.98 Q96.3854 1021.98 98.1909 1018.44 Q100.02 1014.88 100.02 1007.77 Q100.02 1000.64 98.1909 997.099 Q96.3854 993.534 92.7512 993.534 M92.7512 989.83 Q98.5613 989.83 101.617 994.437 Q104.696 999.02 104.696 1007.77 Q104.696 1016.5 101.617 1021.1 Q98.5613 1025.69 92.7512 1025.69 Q86.941 1025.69 83.8623 1021.1 Q80.8068 1016.5 80.8068 1007.77 Q80.8068 999.02 83.8623 994.437 Q86.941 989.83 92.7512 989.83 Z\" fill=\"#000000\" fill-rule=\"evenodd\" fill-opacity=\"1\" /><path clip-path=\"url(#clip640)\" d=\"M56.6171 583.1 L72.9365 583.1 L72.9365 587.035 L50.9921 587.035 L50.9921 583.1 Q53.6541 580.345 58.2375 575.715 Q62.8439 571.063 64.0245 569.72 Q66.2698 567.197 67.1494 565.461 Q68.0522 563.702 68.0522 562.012 Q68.0522 559.257 66.1078 557.521 Q64.1865 555.785 61.0847 555.785 Q58.8856 555.785 56.4319 556.549 Q54.0014 557.313 51.2236 558.864 L51.2236 554.141 Q54.0477 553.007 56.5014 552.428 Q58.955 551.85 60.9921 551.85 Q66.3624 551.85 69.5568 554.535 Q72.7513 557.22 72.7513 561.711 Q72.7513 563.84 71.9411 565.762 Q71.1541 567.66 69.0476 570.252 Q68.4689 570.924 65.367 574.141 Q62.2652 577.336 56.6171 583.1 Z\" fill=\"#000000\" fill-rule=\"evenodd\" fill-opacity=\"1\" /><path clip-path=\"url(#clip640)\" d=\"M92.7512 555.553 Q89.1401 555.553 87.3114 559.118 Q85.5058 562.66 85.5058 569.79 Q85.5058 576.896 87.3114 580.461 Q89.1401 584.002 92.7512 584.002 Q96.3854 584.002 98.1909 580.461 Q100.02 576.896 100.02 569.79 Q100.02 562.66 98.1909 559.118 Q96.3854 555.553 92.7512 555.553 M92.7512 551.85 Q98.5613 551.85 101.617 556.456 Q104.696 561.04 104.696 569.79 Q104.696 578.516 101.617 583.123 Q98.5613 587.706 92.7512 587.706 Q86.941 587.706 83.8623 583.123 Q80.8068 578.516 80.8068 569.79 Q80.8068 561.04 83.8623 556.456 Q86.941 551.85 92.7512 551.85 Z\" fill=\"#000000\" fill-rule=\"evenodd\" fill-opacity=\"1\" /><path clip-path=\"url(#clip640)\" d=\"M66.7559 130.42 Q70.1124 131.138 71.9874 133.406 Q73.8855 135.675 73.8855 139.008 Q73.8855 144.124 70.367 146.925 Q66.8485 149.726 60.3671 149.726 Q58.1912 149.726 55.8764 149.286 Q53.5847 148.869 51.131 148.013 L51.131 143.499 Q53.0754 144.633 55.3903 145.212 Q57.7051 145.79 60.2282 145.79 Q64.6263 145.79 66.918 144.054 Q69.2328 142.318 69.2328 139.008 Q69.2328 135.953 67.08 134.24 Q64.9504 132.503 61.131 132.503 L57.1032 132.503 L57.1032 128.661 L61.3161 128.661 Q64.7652 128.661 66.5939 127.295 Q68.4226 125.906 68.4226 123.314 Q68.4226 120.652 66.5245 119.24 Q64.6495 117.804 61.131 117.804 Q59.2097 117.804 57.0106 118.221 Q54.8115 118.638 52.1727 119.517 L52.1727 115.351 Q54.8347 114.61 57.1495 114.24 Q59.4875 113.869 61.5476 113.869 Q66.8717 113.869 69.9735 116.3 Q73.0753 118.707 73.0753 122.828 Q73.0753 125.698 71.4318 127.689 Q69.7883 129.656 66.7559 130.42 Z\" fill=\"#000000\" fill-rule=\"evenodd\" fill-opacity=\"1\" /><path clip-path=\"url(#clip640)\" d=\"M92.7512 117.573 Q89.1401 117.573 87.3114 121.138 Q85.5058 124.679 85.5058 131.809 Q85.5058 138.915 87.3114 142.48 Q89.1401 146.022 92.7512 146.022 Q96.3854 146.022 98.1909 142.48 Q100.02 138.915 100.02 131.809 Q100.02 124.679 98.1909 121.138 Q96.3854 117.573 92.7512 117.573 M92.7512 113.869 Q98.5613 113.869 101.617 118.476 Q104.696 123.059 104.696 131.809 Q104.696 140.536 101.617 145.142 Q98.5613 149.726 92.7512 149.726 Q86.941 149.726 83.8623 145.142 Q80.8068 140.536 80.8068 131.809 Q80.8068 123.059 83.8623 118.476 Q86.941 113.869 92.7512 113.869 Z\" fill=\"#000000\" fill-rule=\"evenodd\" fill-opacity=\"1\" /><path clip-path=\"url(#clip642)\" d=\"\n",
       "M262.363 1401.92 L262.363 1445.72 L441.338 1445.72 L441.338 1401.92 L262.363 1401.92 L262.363 1401.92  Z\n",
       "  \" fill=\"#009af9\" fill-rule=\"evenodd\" fill-opacity=\"1\"/>\n",
       "<polyline clip-path=\"url(#clip642)\" style=\"stroke:#000000; stroke-linecap:butt; stroke-linejoin:round; stroke-width:4; stroke-opacity:1; fill:none\" points=\"\n",
       "  262.363,1401.92 262.363,1445.72 441.338,1445.72 441.338,1401.92 262.363,1401.92 \n",
       "  \"/>\n",
       "<path clip-path=\"url(#clip642)\" d=\"\n",
       "M441.338 1445.72 L441.338 1445.72 L620.313 1445.72 L620.313 1445.72 L441.338 1445.72 L441.338 1445.72  Z\n",
       "  \" fill=\"#009af9\" fill-rule=\"evenodd\" fill-opacity=\"1\"/>\n",
       "<polyline clip-path=\"url(#clip642)\" style=\"stroke:#000000; stroke-linecap:butt; stroke-linejoin:round; stroke-width:4; stroke-opacity:1; fill:none\" points=\"\n",
       "  441.338,1445.72 441.338,1445.72 620.313,1445.72 441.338,1445.72 \n",
       "  \"/>\n",
       "<path clip-path=\"url(#clip642)\" d=\"\n",
       "M620.313 1445.72 L620.313 1445.72 L799.288 1445.72 L799.288 1445.72 L620.313 1445.72 L620.313 1445.72  Z\n",
       "  \" fill=\"#009af9\" fill-rule=\"evenodd\" fill-opacity=\"1\"/>\n",
       "<polyline clip-path=\"url(#clip642)\" style=\"stroke:#000000; stroke-linecap:butt; stroke-linejoin:round; stroke-width:4; stroke-opacity:1; fill:none\" points=\"\n",
       "  620.313,1445.72 620.313,1445.72 799.288,1445.72 620.313,1445.72 \n",
       "  \"/>\n",
       "<path clip-path=\"url(#clip642)\" d=\"\n",
       "M799.288 1445.72 L799.288 1445.72 L978.263 1445.72 L978.263 1445.72 L799.288 1445.72 L799.288 1445.72  Z\n",
       "  \" fill=\"#009af9\" fill-rule=\"evenodd\" fill-opacity=\"1\"/>\n",
       "<polyline clip-path=\"url(#clip642)\" style=\"stroke:#000000; stroke-linecap:butt; stroke-linejoin:round; stroke-width:4; stroke-opacity:1; fill:none\" points=\"\n",
       "  799.288,1445.72 799.288,1445.72 978.263,1445.72 799.288,1445.72 \n",
       "  \"/>\n",
       "<path clip-path=\"url(#clip642)\" d=\"\n",
       "M978.263 1401.92 L978.263 1445.72 L1157.24 1445.72 L1157.24 1401.92 L978.263 1401.92 L978.263 1401.92  Z\n",
       "  \" fill=\"#009af9\" fill-rule=\"evenodd\" fill-opacity=\"1\"/>\n",
       "<polyline clip-path=\"url(#clip642)\" style=\"stroke:#000000; stroke-linecap:butt; stroke-linejoin:round; stroke-width:4; stroke-opacity:1; fill:none\" points=\"\n",
       "  978.263,1401.92 978.263,1445.72 1157.24,1445.72 1157.24,1401.92 978.263,1401.92 \n",
       "  \"/>\n",
       "<path clip-path=\"url(#clip642)\" d=\"\n",
       "M1157.24 1445.72 L1157.24 1445.72 L1336.21 1445.72 L1336.21 1445.72 L1157.24 1445.72 L1157.24 1445.72  Z\n",
       "  \" fill=\"#009af9\" fill-rule=\"evenodd\" fill-opacity=\"1\"/>\n",
       "<polyline clip-path=\"url(#clip642)\" style=\"stroke:#000000; stroke-linecap:butt; stroke-linejoin:round; stroke-width:4; stroke-opacity:1; fill:none\" points=\"\n",
       "  1157.24,1445.72 1157.24,1445.72 1336.21,1445.72 1157.24,1445.72 \n",
       "  \"/>\n",
       "<path clip-path=\"url(#clip642)\" d=\"\n",
       "M1336.21 1445.72 L1336.21 1445.72 L1515.19 1445.72 L1515.19 1445.72 L1336.21 1445.72 L1336.21 1445.72  Z\n",
       "  \" fill=\"#009af9\" fill-rule=\"evenodd\" fill-opacity=\"1\"/>\n",
       "<polyline clip-path=\"url(#clip642)\" style=\"stroke:#000000; stroke-linecap:butt; stroke-linejoin:round; stroke-width:4; stroke-opacity:1; fill:none\" points=\"\n",
       "  1336.21,1445.72 1336.21,1445.72 1515.19,1445.72 1336.21,1445.72 \n",
       "  \"/>\n",
       "<path clip-path=\"url(#clip642)\" d=\"\n",
       "M1515.19 1445.72 L1515.19 1445.72 L1694.16 1445.72 L1694.16 1445.72 L1515.19 1445.72 L1515.19 1445.72  Z\n",
       "  \" fill=\"#009af9\" fill-rule=\"evenodd\" fill-opacity=\"1\"/>\n",
       "<polyline clip-path=\"url(#clip642)\" style=\"stroke:#000000; stroke-linecap:butt; stroke-linejoin:round; stroke-width:4; stroke-opacity:1; fill:none\" points=\"\n",
       "  1515.19,1445.72 1515.19,1445.72 1694.16,1445.72 1515.19,1445.72 \n",
       "  \"/>\n",
       "<path clip-path=\"url(#clip642)\" d=\"\n",
       "M1694.16 1182.93 L1694.16 1445.72 L1873.14 1445.72 L1873.14 1182.93 L1694.16 1182.93 L1694.16 1182.93  Z\n",
       "  \" fill=\"#009af9\" fill-rule=\"evenodd\" fill-opacity=\"1\"/>\n",
       "<polyline clip-path=\"url(#clip642)\" style=\"stroke:#000000; stroke-linecap:butt; stroke-linejoin:round; stroke-width:4; stroke-opacity:1; fill:none\" points=\"\n",
       "  1694.16,1182.93 1694.16,1445.72 1873.14,1445.72 1873.14,1182.93 1694.16,1182.93 \n",
       "  \"/>\n",
       "<path clip-path=\"url(#clip642)\" d=\"\n",
       "M1873.14 87.9763 L1873.14 1445.72 L2052.11 1445.72 L2052.11 87.9763 L1873.14 87.9763 L1873.14 87.9763  Z\n",
       "  \" fill=\"#009af9\" fill-rule=\"evenodd\" fill-opacity=\"1\"/>\n",
       "<polyline clip-path=\"url(#clip642)\" style=\"stroke:#000000; stroke-linecap:butt; stroke-linejoin:round; stroke-width:4; stroke-opacity:1; fill:none\" points=\"\n",
       "  1873.14,87.9763 1873.14,1445.72 2052.11,1445.72 2052.11,87.9763 1873.14,87.9763 \n",
       "  \"/>\n",
       "<path clip-path=\"url(#clip642)\" d=\"\n",
       "M2052.11 1401.92 L2052.11 1445.72 L2231.09 1445.72 L2231.09 1401.92 L2052.11 1401.92 L2052.11 1401.92  Z\n",
       "  \" fill=\"#009af9\" fill-rule=\"evenodd\" fill-opacity=\"1\"/>\n",
       "<polyline clip-path=\"url(#clip642)\" style=\"stroke:#000000; stroke-linecap:butt; stroke-linejoin:round; stroke-width:4; stroke-opacity:1; fill:none\" points=\"\n",
       "  2052.11,1401.92 2052.11,1445.72 2231.09,1445.72 2231.09,1401.92 2052.11,1401.92 \n",
       "  \"/>\n",
       "<circle clip-path=\"url(#clip642)\" style=\"fill:#009af9; stroke:none; fill-opacity:0\" cx=\"351.85\" cy=\"1401.92\" r=\"2\"/>\n",
       "<circle clip-path=\"url(#clip642)\" style=\"fill:#009af9; stroke:none; fill-opacity:0\" cx=\"530.825\" cy=\"1445.72\" r=\"2\"/>\n",
       "<circle clip-path=\"url(#clip642)\" style=\"fill:#009af9; stroke:none; fill-opacity:0\" cx=\"709.8\" cy=\"1445.72\" r=\"2\"/>\n",
       "<circle clip-path=\"url(#clip642)\" style=\"fill:#009af9; stroke:none; fill-opacity:0\" cx=\"888.776\" cy=\"1445.72\" r=\"2\"/>\n",
       "<circle clip-path=\"url(#clip642)\" style=\"fill:#009af9; stroke:none; fill-opacity:0\" cx=\"1067.75\" cy=\"1401.92\" r=\"2\"/>\n",
       "<circle clip-path=\"url(#clip642)\" style=\"fill:#009af9; stroke:none; fill-opacity:0\" cx=\"1246.73\" cy=\"1445.72\" r=\"2\"/>\n",
       "<circle clip-path=\"url(#clip642)\" style=\"fill:#009af9; stroke:none; fill-opacity:0\" cx=\"1425.7\" cy=\"1445.72\" r=\"2\"/>\n",
       "<circle clip-path=\"url(#clip642)\" style=\"fill:#009af9; stroke:none; fill-opacity:0\" cx=\"1604.68\" cy=\"1445.72\" r=\"2\"/>\n",
       "<circle clip-path=\"url(#clip642)\" style=\"fill:#009af9; stroke:none; fill-opacity:0\" cx=\"1783.65\" cy=\"1182.93\" r=\"2\"/>\n",
       "<circle clip-path=\"url(#clip642)\" style=\"fill:#009af9; stroke:none; fill-opacity:0\" cx=\"1962.63\" cy=\"87.9763\" r=\"2\"/>\n",
       "<circle clip-path=\"url(#clip642)\" style=\"fill:#009af9; stroke:none; fill-opacity:0\" cx=\"2141.6\" cy=\"1401.92\" r=\"2\"/>\n",
       "<path clip-path=\"url(#clip640)\" d=\"\n",
       "M1980.81 198.898 L2279.02 198.898 L2279.02 95.2176 L1980.81 95.2176  Z\n",
       "  \" fill=\"#ffffff\" fill-rule=\"evenodd\" fill-opacity=\"1\"/>\n",
       "<polyline clip-path=\"url(#clip640)\" style=\"stroke:#000000; stroke-linecap:butt; stroke-linejoin:round; stroke-width:4; stroke-opacity:1; fill:none\" points=\"\n",
       "  1980.81,198.898 2279.02,198.898 2279.02,95.2176 1980.81,95.2176 1980.81,198.898 \n",
       "  \"/>\n",
       "<path clip-path=\"url(#clip640)\" d=\"\n",
       "M2005.38 167.794 L2152.85 167.794 L2152.85 126.322 L2005.38 126.322 L2005.38 167.794  Z\n",
       "  \" fill=\"#009af9\" fill-rule=\"evenodd\" fill-opacity=\"1\"/>\n",
       "<polyline clip-path=\"url(#clip640)\" style=\"stroke:#000000; stroke-linecap:butt; stroke-linejoin:round; stroke-width:4; stroke-opacity:1; fill:none\" points=\"\n",
       "  2005.38,167.794 2152.85,167.794 2152.85,126.322 2005.38,126.322 2005.38,167.794 \n",
       "  \"/>\n",
       "<path clip-path=\"url(#clip640)\" d=\"M2191.28 166.745 Q2189.47 171.375 2187.76 172.787 Q2186.04 174.199 2183.17 174.199 L2179.77 174.199 L2179.77 170.634 L2182.27 170.634 Q2184.03 170.634 2185 169.8 Q2185.98 168.967 2187.16 165.865 L2187.92 163.921 L2177.43 138.412 L2181.95 138.412 L2190.05 158.689 L2198.15 138.412 L2202.66 138.412 L2191.28 166.745 Z\" fill=\"#000000\" fill-rule=\"evenodd\" fill-opacity=\"1\" /><path clip-path=\"url(#clip640)\" d=\"M2209.96 160.402 L2217.6 160.402 L2217.6 134.037 L2209.29 135.703 L2209.29 131.444 L2217.55 129.778 L2222.22 129.778 L2222.22 160.402 L2229.86 160.402 L2229.86 164.338 L2209.96 164.338 L2209.96 160.402 Z\" fill=\"#000000\" fill-rule=\"evenodd\" fill-opacity=\"1\" /></svg>\n"
      ]
     },
     "execution_count": 1968,
     "metadata": {},
     "output_type": "execute_result"
    }
   ],
   "source": [
    "histogram(Gamma1[:,1], bins = 10)"
   ]
  },
  {
   "cell_type": "code",
   "execution_count": 1969,
   "id": "1b93fc6e-fbb5-4360-ab3c-215fdc107544",
   "metadata": {},
   "outputs": [
    {
     "data": {
      "text/plain": [
       "1×2 Matrix{Float64}:\n",
       " 1.16029  -0.876689"
      ]
     },
     "execution_count": 1969,
     "metadata": {},
     "output_type": "execute_result"
    }
   ],
   "source": [
    "mb = mean(Beta1, dims = 1)"
   ]
  },
  {
   "cell_type": "markdown",
   "id": "4cc43cda-d1d0-4771-ad74-a45f95f39fde",
   "metadata": {},
   "source": [
    "# Tabular"
   ]
  },
  {
   "cell_type": "code",
   "execution_count": 1817,
   "id": "1ebc90e8-71b2-40b6-b75d-48a3a688b3a0",
   "metadata": {},
   "outputs": [],
   "source": [
    "N = [500, 1000]\n",
    "Etype = [1,2,3,4]\n",
    "\n",
    "len_n = length(N)\n",
    "len_e = length(Etype)\n",
    "\n",
    "meanEE_theta = zeros(len_n, len_e)\n",
    "stdEE_theta = zeros(len_n, len_e)\n",
    "\n",
    "mean_alpha = zeros(len_n, len_e)\n",
    "std_alpha = zeros(len_n, len_e)\n",
    "\n",
    "mean_gamma = zeros(len_n, len_e)\n",
    "std_gamma = zeros(len_n, len_e)\n",
    "\n",
    "mean_beta = zeros(len_n, len_e)\n",
    "std_beta = zeros(len_n, len_e)\n",
    "\n",
    "n_repeat = 100\n",
    "tau = [0.5]\n",
    "widthExp = -0.17\n",
    "method = \"gurobi\"\n",
    "\n",
    "alpha = [1, -2]\n",
    "theta = [2, 1]/sqrt(5)\n",
    "beta = [1.0, -1.0]\n",
    "gamma = [1.0, 1.0]/2\n",
    "\n",
    "p = length(alpha)\n",
    "q = length(beta)\n",
    "\n",
    "@threads for j in 1:len_e\n",
    "    \n",
    "    etype = Etype[j]    \n",
    "    \n",
    "    for i in 1:len_n  \n",
    "\n",
    "        n = N[i] \n",
    "       \n",
    "        Alpha = zeros(n_repeat, p)\n",
    "        Theta = zeros(n_repeat, p)\n",
    "        Beta = zeros(n_repeat, q)\n",
    "        Gamma = zeros(n_repeat, q)\n",
    "        \n",
    "        for k in 1:n_repeat\n",
    "            \n",
    "            e = eps(n, etype)\n",
    "            X, y, Z = xyz3(n, alpha, theta, beta, gamma, 0.2e, 2)\n",
    "            modelk = qgplsim.model(X, Z, y, tau, widthExp)\n",
    "            qgplsim.estimator(modelk, method)\n",
    "            # qgplsim.print_model(modelk)\n",
    "            Alpha[k, :] = modelk.alpha\n",
    "            Theta[k, :] = modelk.theta\n",
    "            Beta[k, :] = modelk.beta\n",
    "            Gamma[k,:] = modelk.gamma\n",
    "            \n",
    "        end\n",
    "        EE = sqrt.(1 .- abs.(Theta * theta)) \n",
    "        meanEE_theta[i,j] = mean(EE)\n",
    "        stdEE_theta[i,j] = std(EE)\n",
    "        mean_alpha[i,j], std_alpha[i,j] = euclid(Alpha, alpha)\n",
    "        mean_gamma[i,j], std_gamma[i,j] = euclid(Gamma, gamma)\n",
    "        mean_beta[i,j], std_beta[i,j] = euclid(Beta, beta)\n",
    "\n",
    "        \n",
    "    end\n",
    "end"
   ]
  },
  {
   "cell_type": "code",
   "execution_count": 1818,
   "id": "096ae760-ecca-4375-9c1c-ab04e8df8775",
   "metadata": {},
   "outputs": [
    {
     "data": {
      "text/plain": [
       "2×4 Matrix{String}:\n",
       " \"0.0150(.0108)\"  \"0.0103(.0076)\"  \"0.0560(.1588)\"  \"0.0725(.1512)\"\n",
       " \"0.0104(.0071)\"  \"0.0057(.0046)\"  \"0.0119(.0215)\"  \"0.0201(.0309)\""
      ]
     },
     "execution_count": 1818,
     "metadata": {},
     "output_type": "execute_result"
    }
   ],
   "source": [
    "table_theta = tabular(meanEE_theta, stdEE_theta)"
   ]
  },
  {
   "cell_type": "code",
   "execution_count": 1824,
   "id": "2f592b84-7fcb-4bd8-a150-babbf583f18c",
   "metadata": {},
   "outputs": [
    {
     "data": {
      "text/plain": [
       "2×4 Matrix{String}:\n",
       " \"0.2054(.1097)\"  \"0.2113(.1143)\"  \"0.1963(.1998)\"  \"0.2184(.1520)\"\n",
       " \"0.2186(.1157)\"  \"0.2023(.0898)\"  \"0.1812(.0833)\"  \"0.1964(.0817)\""
      ]
     },
     "execution_count": 1824,
     "metadata": {},
     "output_type": "execute_result"
    }
   ],
   "source": [
    "table_gamma = tabular(mean_gamma, std_gamma)"
   ]
  },
  {
   "cell_type": "code",
   "execution_count": 1820,
   "id": "f163ac44-6182-48ac-a0ba-d096358bf172",
   "metadata": {},
   "outputs": [
    {
     "data": {
      "text/plain": [
       "2×4 Matrix{String}:\n",
       " \"0.0783(.0136)\"  \"0.0822(.0131)\"  \"0.0834(.0226)\"  \"0.0786(.0278)\"\n",
       " \"0.0607(.0129)\"  \"0.0641(.0099)\"  \"0.0677(.0113)\"  \"0.0639(.0342)\""
      ]
     },
     "execution_count": 1820,
     "metadata": {},
     "output_type": "execute_result"
    }
   ],
   "source": [
    "table_beta = tabular(mean_beta, std_beta)"
   ]
  },
  {
   "cell_type": "code",
   "execution_count": 1821,
   "id": "3eba8369-df04-4bca-8193-9929fcc70c4b",
   "metadata": {},
   "outputs": [
    {
     "data": {
      "text/plain": [
       "2×4 Matrix{String}:\n",
       " \"0.0216(.0150)\"  \"0.0148(.0106)\"  \"0.0713(.1857)\"  \"0.0958(.1824)\"\n",
       " \"0.0149(.0098)\"  \"0.0082(.0064)\"  \"0.0170(.0302)\"  \"0.0287(.0433)\""
      ]
     },
     "execution_count": 1821,
     "metadata": {},
     "output_type": "execute_result"
    }
   ],
   "source": [
    "table_alpha = tabular(mean_alpha, std_alpha)"
   ]
  },
  {
   "cell_type": "code",
   "execution_count": 1822,
   "id": "31b05603-a839-4dbd-b21c-0531237eff0d",
   "metadata": {},
   "outputs": [
    {
     "data": {
      "text/plain": [
       "8×4 Matrix{String}:\n",
       " \"0.0216(.0150)\"  \"0.0148(.0106)\"  \"0.0713(.1857)\"  \"0.0958(.1824)\"\n",
       " \"0.0149(.0098)\"  \"0.0082(.0064)\"  \"0.0170(.0302)\"  \"0.0287(.0433)\"\n",
       " \"0.0783(.0136)\"  \"0.0822(.0131)\"  \"0.0834(.0226)\"  \"0.0786(.0278)\"\n",
       " \"0.0607(.0129)\"  \"0.0641(.0099)\"  \"0.0677(.0113)\"  \"0.0639(.0342)\"\n",
       " \"0.0150(.0108)\"  \"0.0103(.0076)\"  \"0.0560(.1588)\"  \"0.0725(.1512)\"\n",
       " \"0.0104(.0071)\"  \"0.0057(.0046)\"  \"0.0119(.0215)\"  \"0.0201(.0309)\"\n",
       " \"0.2054(.1097)\"  \"0.2113(.1143)\"  \"0.1963(.1998)\"  \"0.2184(.1520)\"\n",
       " \"0.2186(.1157)\"  \"0.2023(.0898)\"  \"0.1812(.0833)\"  \"0.1964(.0817)\""
      ]
     },
     "execution_count": 1822,
     "metadata": {},
     "output_type": "execute_result"
    }
   ],
   "source": [
    "table_sum = [table_alpha; table_beta; table_theta; table_gamma]"
   ]
  },
  {
   "cell_type": "code",
   "execution_count": 1823,
   "id": "074e4f00-2a4e-4dab-bb8c-450571229d44",
   "metadata": {},
   "outputs": [
    {
     "data": {
      "text/plain": [
       "\"table_2.csv\""
      ]
     },
     "execution_count": 1823,
     "metadata": {},
     "output_type": "execute_result"
    }
   ],
   "source": [
    "using DataFrames, CSV\n",
    "df = DataFrame(table_sum)\n",
    "df[:size] = [500, 1000, 500, 1000, 500, 1000, 500, 1000]\n",
    "CSV.write(\"table_2.csv\", df)"
   ]
  },
  {
   "cell_type": "code",
   "execution_count": null,
   "id": "1a831bd4-c3af-4758-bb7a-8cf4ef1017f4",
   "metadata": {},
   "outputs": [],
   "source": []
  }
 ],
 "metadata": {
  "kernelspec": {
   "display_name": "Julia 1.6.4",
   "language": "julia",
   "name": "julia-1.6"
  },
  "language_info": {
   "file_extension": ".jl",
   "mimetype": "application/julia",
   "name": "julia",
   "version": "1.6.4"
  }
 },
 "nbformat": 4,
 "nbformat_minor": 5
}
