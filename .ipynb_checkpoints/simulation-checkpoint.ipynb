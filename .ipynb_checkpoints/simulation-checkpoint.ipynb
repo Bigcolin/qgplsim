{
 "cells": [
  {
   "cell_type": "code",
   "execution_count": 237,
   "id": "e66c1859-81b4-454d-acf6-f25cc7ce7ee4",
   "metadata": {},
   "outputs": [
    {
     "name": "stderr",
     "output_type": "stream",
     "text": [
      "WARNING: replacing module qgplsim.\n"
     ]
    },
    {
     "data": {
      "text/plain": [
       "\"/home/kyan/Projects/qgplsim\""
      ]
     },
     "execution_count": 237,
     "metadata": {},
     "output_type": "execute_result"
    }
   ],
   "source": [
    "using Plots, Distributions\n",
    "include(\"./src/supportFunctions.ji\")\n",
    "include(\"./src/qgplsim.ji\")\n",
    "pwd()"
   ]
  },
  {
   "cell_type": "markdown",
   "id": "1da4cc33-08d3-4ee9-bf7d-e5ac42d2ed6e",
   "metadata": {},
   "source": [
    "# Case 1\n",
    "$y = X \\alpha + exp(X \\theta) + \\epsilon$"
   ]
  },
  {
   "cell_type": "code",
   "execution_count": 183,
   "id": "438a8615-7f44-48dd-997d-da4933421ae8",
   "metadata": {},
   "outputs": [
    {
     "data": {
      "text/plain": [
       "eps (generic function with 1 method)"
      ]
     },
     "execution_count": 183,
     "metadata": {},
     "output_type": "execute_result"
    }
   ],
   "source": [
    "function simu_data1(X, α, θ, ϵ)\n",
    "\n",
    "    y = X*α + exp.(X*θ) + ϵ\n",
    "\n",
    "end\n",
    "\n",
    "t3 = TDist(3)\n",
    "t1 = TDist(1)\n",
    "\n",
    "function eps(n, etype)\n",
    "    \n",
    "    if etype == 1\n",
    "            e = randn(n)/2\n",
    "        elseif etype == 2\n",
    "            e = rand(t3, n) * sqrt(3) / 10    \n",
    "        elseif etype == 3\n",
    "            e = rand(t1, n) / 10\n",
    "        else\n",
    "            e = randn(n)\n",
    "            e = (e.^4 .- 3) .* 0.3             \n",
    "    end\n",
    "    e\n",
    "\n",
    "end"
   ]
  },
  {
   "cell_type": "markdown",
   "id": "4cb9e554-89cf-4e21-980e-c1f97dedda2c",
   "metadata": {},
   "source": [
    "## test "
   ]
  },
  {
   "cell_type": "code",
   "execution_count": 189,
   "id": "2d3055f9-bc55-406e-89be-780600547372",
   "metadata": {},
   "outputs": [
    {
     "name": "stdout",
     "output_type": "stream",
     "text": [
      "alpha => [0.0793, 0.9967, 0.1066, -2.1169, 0.1533]\n",
      "theta => [0.5964, 0.0535, -0.4542, 0.0722, 0.6558]\n",
      "gamma => [0.0]\n",
      "beta => [0.0]\n"
     ]
    }
   ],
   "source": [
    "∑ = zeros(5,5)\n",
    "\n",
    "for i in 1:5\n",
    "    for j in i:5\n",
    "        ∑[i, j] = 0.5^(j - i)\n",
    "        ∑[j, i] = ∑[i, j]\n",
    "    end\n",
    "end\n",
    "\n",
    "∑ = sqrt.(∑)\n",
    "\n",
    "n = 200\n",
    "alpha = [0, 1, 0, -2, 0]\n",
    "theta = [2, 0, -1, 0, 2]/3\n",
    "\n",
    "U = randn(n, 5)\n",
    "X = U * ∑\n",
    "e = eps(n, 1)\n",
    "y = simu_data1(X, alpha, theta, e)\n",
    "Z = zeros(n, 1) # rand(n, 1) .> 0.5\n",
    "\n",
    "tau = [0.5]\n",
    "widthExp = -0.17\n",
    "model1 = qgplsim.model(X, Z, y, tau, widthExp)\n",
    "qgplsim.estimator(model1, \"optim_qr\")\n",
    "qgplsim.print_model(model1)"
   ]
  },
  {
   "cell_type": "markdown",
   "id": "c373fdaf-adb6-4754-a86d-ea95e806cd66",
   "metadata": {},
   "source": [
    "## Monte Carlo Simulation"
   ]
  },
  {
   "cell_type": "code",
   "execution_count": 166,
   "id": "150b0a1a-b068-478b-92fb-7cc8b92876a4",
   "metadata": {},
   "outputs": [
    {
     "name": "stdout",
     "output_type": "stream",
     "text": [
      "threads for parallel computing:  4\n"
     ]
    }
   ],
   "source": [
    "using Base.Threads\n",
    "nth = Threads.nthreads()\n",
    "println(\"threads for parallel computing:  \", nth)"
   ]
  },
  {
   "cell_type": "code",
   "execution_count": 167,
   "id": "c1814379-949c-4167-b897-297840a4e6f2",
   "metadata": {},
   "outputs": [
    {
     "data": {
      "text/plain": [
       "100"
      ]
     },
     "execution_count": 167,
     "metadata": {},
     "output_type": "execute_result"
    }
   ],
   "source": [
    "n = 200\n",
    "alpha = [0, 1, 0, -2, 0]\n",
    "theta = [2, 0, -1, 0, 2]/3\n",
    "Z = zeros(n, 1)\n",
    "n_repeat = 25\n",
    "n_repeat * nth"
   ]
  },
  {
   "cell_type": "markdown",
   "id": "96bfcf57-0188-4f47-a297-dd677523c11d",
   "metadata": {},
   "source": [
    "### $\\epsilon$ ~ $N(0, 1)/2$"
   ]
  },
  {
   "cell_type": "code",
   "execution_count": 168,
   "id": "e70b3702-518d-400d-8058-bb5f42072eee",
   "metadata": {},
   "outputs": [],
   "source": [
    "Alpha1 = zeros(n_repeat * nth, 5)\n",
    "Theta1 = zeros(n_repeat * nth, 5)\n",
    "@threads for i in 1:nth\n",
    "    for j in 1:n_repeat\n",
    "        \n",
    "        k = (i - 1) * n_repeat + j\n",
    "        U = randn(n, 5)\n",
    "        X = U * ∑\n",
    "        e = rand(n) / 2\n",
    "        y = simu_data1(X, alpha, theta, e)\n",
    "        modelk = qgplsim.model(X, Z, y, tau, widthExp)\n",
    "        qgplsim.estimator(modelk, \"optim_qr\")\n",
    "        Alpha1[k, :] = modelk.alpha\n",
    "        Theta1[k, :] = modelk.theta\n",
    "    end\n",
    "end\n",
    "\n"
   ]
  },
  {
   "cell_type": "code",
   "execution_count": 169,
   "id": "f6535e08-ecb6-41c9-b198-3ae9dafd1098",
   "metadata": {},
   "outputs": [
    {
     "name": "stdout",
     "output_type": "stream",
     "text": [
      "0.13994777542057338 0.158703032115617\n"
     ]
    }
   ],
   "source": [
    "EE1 = sqrt.(1 .- abs.(Theta1 * theta)) \n",
    "println(mean(EE1), \" \", std(EE1))"
   ]
  },
  {
   "cell_type": "code",
   "execution_count": 170,
   "id": "a180022c-0204-4a71-838a-4d99c5b57bea",
   "metadata": {},
   "outputs": [
    {
     "data": {
      "text/plain": [
       "1×5 Matrix{Float64}:\n",
       " 0.658525  -0.0069852  -0.333576  0.0224074  0.600136"
      ]
     },
     "execution_count": 170,
     "metadata": {},
     "output_type": "execute_result"
    }
   ],
   "source": [
    "mean(Theta1, dims = 1)"
   ]
  },
  {
   "cell_type": "markdown",
   "id": "0a897d03-bea3-4561-8b75-cedc1caf27ee",
   "metadata": {},
   "source": [
    "### $\\epsilon$ ~ $\\sqrt 3 t(3) / 10$"
   ]
  },
  {
   "cell_type": "code",
   "execution_count": 171,
   "id": "a27afd08-2592-4913-9d12-7646c1ffcecb",
   "metadata": {},
   "outputs": [
    {
     "data": {
      "text/plain": [
       "TDist{Float64}(ν=3.0)"
      ]
     },
     "execution_count": 171,
     "metadata": {},
     "output_type": "execute_result"
    }
   ],
   "source": [
    "t3 = TDist(3)"
   ]
  },
  {
   "cell_type": "code",
   "execution_count": 172,
   "id": "e412273e-824d-4f42-a4ea-3b515e2c5da3",
   "metadata": {},
   "outputs": [],
   "source": [
    "Alpha2 = zeros(n_repeat * nth, 5)\n",
    "Theta2 = zeros(n_repeat * nth, 5)\n",
    "\n",
    "@threads for i in 1:nth\n",
    "    for j in 1:n_repeat\n",
    "        \n",
    "        k = (i - 1) * n_repeat + j\n",
    "        U = randn(n, 5)\n",
    "        X = U * ∑\n",
    "        e = rand(t3, n) * sqrt(3) / 10\n",
    "        y = simu_data1(X, alpha, theta, e)\n",
    "        modelk = qgplsim.model(X, Z, y, tau, widthExp)\n",
    "        qgplsim.estimator(modelk, \"optim_qr\")\n",
    "        Alpha2[k, :] = modelk.alpha\n",
    "        Theta2[k, :] = modelk.theta\n",
    "    end\n",
    "end"
   ]
  },
  {
   "cell_type": "code",
   "execution_count": 173,
   "id": "d0141cc6-a585-4270-8f1c-2fd2c92d56fc",
   "metadata": {},
   "outputs": [
    {
     "data": {
      "text/plain": [
       "1×5 Matrix{Float64}:\n",
       " 0.618235  0.0223955  -0.331152  0.0309383  0.577526"
      ]
     },
     "execution_count": 173,
     "metadata": {},
     "output_type": "execute_result"
    }
   ],
   "source": [
    "mean(Theta2, dims = 1)"
   ]
  },
  {
   "cell_type": "code",
   "execution_count": 174,
   "id": "67070f62-31b6-4014-9925-c07eb574a351",
   "metadata": {},
   "outputs": [
    {
     "name": "stdout",
     "output_type": "stream",
     "text": [
      "0.1773731420044237 0.21078261894154507\n"
     ]
    }
   ],
   "source": [
    "EE2 = sqrt.(1 .- abs.(Theta2 * theta)) \n",
    "println(mean(EE2), \" \", std(EE2))"
   ]
  },
  {
   "cell_type": "markdown",
   "id": "653a9104-a308-4231-908d-ac423e66dfe7",
   "metadata": {
    "tags": []
   },
   "source": [
    "### $\\epsilon$ ~ $t(1)/10$"
   ]
  },
  {
   "cell_type": "code",
   "execution_count": 175,
   "id": "e4189620-2344-472f-b4e1-d4c3e6375e3c",
   "metadata": {},
   "outputs": [
    {
     "data": {
      "text/plain": [
       "TDist{Float64}(ν=1.0)"
      ]
     },
     "execution_count": 175,
     "metadata": {},
     "output_type": "execute_result"
    }
   ],
   "source": [
    "t1 = TDist(1)"
   ]
  },
  {
   "cell_type": "code",
   "execution_count": 176,
   "id": "baa6aec7-16d7-4bc2-86de-bf91224a141c",
   "metadata": {},
   "outputs": [],
   "source": [
    "Alpha3 = zeros(n_repeat * nth, 5)\n",
    "Theta3 = zeros(n_repeat * nth, 5)\n",
    "\n",
    "@threads for i in 1:nth\n",
    "    for j in 1:n_repeat\n",
    "        \n",
    "        k = (i - 1) * n_repeat + j\n",
    "        U = randn(n, 5)\n",
    "        X = U * ∑\n",
    "        e = rand(t1, n) / 10\n",
    "        y = simu_data1(X, alpha, theta, e)\n",
    "        modelk = qgplsim.model(X, Z, y, tau, widthExp)\n",
    "        qgplsim.estimator(modelk, \"optim_qr\")\n",
    "        Alpha3[k, :] = modelk.alpha\n",
    "        Theta3[k, :] = modelk.theta\n",
    "    end\n",
    "end"
   ]
  },
  {
   "cell_type": "code",
   "execution_count": 177,
   "id": "8679e5af-164e-4b9a-bb5d-dee4562047fe",
   "metadata": {},
   "outputs": [
    {
     "data": {
      "text/plain": [
       "1×5 Matrix{Float64}:\n",
       " 0.647159  0.00469007  -0.344865  0.0617279  0.600015"
      ]
     },
     "execution_count": 177,
     "metadata": {},
     "output_type": "execute_result"
    }
   ],
   "source": [
    "mean(Theta3, dims = 1)"
   ]
  },
  {
   "cell_type": "code",
   "execution_count": 178,
   "id": "90b74c1f-5250-41e1-8589-6b18d9bb2bb9",
   "metadata": {},
   "outputs": [
    {
     "name": "stdout",
     "output_type": "stream",
     "text": [
      "0.1572008337416937 0.15656874707896248\n"
     ]
    }
   ],
   "source": [
    "EE3 = sqrt.(1 .- abs.(Theta3 * theta)) \n",
    "println(mean(EE3), \" \", std(EE3))"
   ]
  },
  {
   "cell_type": "markdown",
   "id": "88a310c8-1a38-4151-83a4-aca91ce661c5",
   "metadata": {
    "tags": []
   },
   "source": [
    "### $\\epsilon$ ~ $0.3(N(0, 1)^4 - 3)$"
   ]
  },
  {
   "cell_type": "code",
   "execution_count": 179,
   "id": "9bfb0569-08d3-4fe8-8d7d-51f5ff9e6717",
   "metadata": {},
   "outputs": [],
   "source": [
    "Alpha4 = zeros(n_repeat * nth, 5)\n",
    "Theta4 = zeros(n_repeat * nth, 5)\n",
    "\n",
    "@threads for i in 1:nth\n",
    "    for j in 1:n_repeat\n",
    "        \n",
    "        k = (i - 1) * n_repeat + j\n",
    "        U = randn(n, 5)\n",
    "        X = U * ∑\n",
    "        e = randn(n)\n",
    "        e = (e.^4 .- 3) .* 0.3\n",
    "        y = simu_data1(X, alpha, theta, e)\n",
    "        modelk = qgplsim.model(X, Z, y, tau, widthExp)\n",
    "        qgplsim.estimator(modelk, \"optim_qr\")\n",
    "        Alpha4[k, :] = modelk.alpha\n",
    "        Theta4[k, :] = modelk.theta\n",
    "    end\n",
    "end"
   ]
  },
  {
   "cell_type": "code",
   "execution_count": 180,
   "id": "bb27f287-4c5e-4b3e-ba5e-1c97c9c67594",
   "metadata": {},
   "outputs": [
    {
     "data": {
      "text/plain": [
       "1×5 Matrix{Float64}:\n",
       " 0.631767  0.0122769  -0.346298  0.0687969  0.577738"
      ]
     },
     "execution_count": 180,
     "metadata": {},
     "output_type": "execute_result"
    }
   ],
   "source": [
    "mean(Theta4, dims = 1)"
   ]
  },
  {
   "cell_type": "code",
   "execution_count": 181,
   "id": "a6ab027d-5709-4d6d-9cfb-fb402cbf1444",
   "metadata": {},
   "outputs": [
    {
     "name": "stdout",
     "output_type": "stream",
     "text": [
      "0.21594105838062394 0.1751448733458884\n"
     ]
    }
   ],
   "source": [
    "EE4 = sqrt.(1 .- abs.(Theta4 * theta)) \n",
    "println(mean(EE4), \" \", std(EE4))"
   ]
  },
  {
   "cell_type": "markdown",
   "id": "25e572ca-500c-4c81-bfb4-e7ca886ee77f",
   "metadata": {},
   "source": [
    "# Case 2\n",
    "$y = X \\alpha + Z \\beta + exp(X \\theta + Z \\gamma) + \\epsilon$"
   ]
  },
  {
   "cell_type": "code",
   "execution_count": 137,
   "id": "93d256e6-ea67-4b0c-8335-c002b2ef0c85",
   "metadata": {},
   "outputs": [
    {
     "data": {
      "text/plain": [
       "xyz (generic function with 1 method)"
      ]
     },
     "execution_count": 137,
     "metadata": {},
     "output_type": "execute_result"
    }
   ],
   "source": [
    "function simu_data2(X, α, θ, Z, β, γ, ϵ)\n",
    "\n",
    "    y = X*α  + Z*β + exp.(X*θ + Z*γ) + ϵ\n",
    "\n",
    "end\n",
    "\n",
    "function xyz(n, alpha, theta, beta, gamma, e)\n",
    "    ∑ = zeros(5,5)\n",
    "\n",
    "    for i in 1:5\n",
    "        for j in i:5\n",
    "            ∑[i, j] = 0.5^(j - i)\n",
    "            ∑[j, i] = ∑[i, j]\n",
    "        end\n",
    "    end\n",
    "\n",
    "    ∑ = sqrt.(∑)\n",
    "\n",
    "\n",
    "    U = randn(n, 5)\n",
    "    X = U * ∑\n",
    "\n",
    "    Z = zeros(n, 2)\n",
    "    Z[:, 1] = rand(n, 1) .> 0.25\n",
    "    Z[:, 2] = rand(n, 1) .> 0.5\n",
    "\n",
    "    y = simu_data2(X, alpha, theta, Z, beta, gamma, e)\n",
    "    X, y, Z\n",
    "    \n",
    "end"
   ]
  },
  {
   "cell_type": "markdown",
   "id": "992ea2f9-df57-41cf-80cc-66e421dd3f18",
   "metadata": {},
   "source": [
    "## test "
   ]
  },
  {
   "cell_type": "code",
   "execution_count": 271,
   "id": "f428fb11-9263-4cff-b25b-0b7eac3bcc67",
   "metadata": {},
   "outputs": [
    {
     "name": "stdout",
     "output_type": "stream",
     "text": [
      "alpha => [0.0716, 0.9219, -0.0253, -1.9135, -0.0038]\n",
      "theta => [0.6921, 0.0812, -0.3367, 0.0682, 0.6296]\n",
      "gamma => [0.0056, -0.0021]\n",
      "beta => [0.9884, 0.0942]\n"
     ]
    }
   ],
   "source": [
    "n = 400\n",
    "alpha = [0, 1, 0, -2, 0]\n",
    "theta = [2, 0, -1, 0, 2]/3\n",
    "beta = [0, 0]\n",
    "gamma = [0, -0] \n",
    "e = rand(n) / 2\n",
    "\n",
    "X, y, Z = xyz(n, alpha, theta, beta, gamma, e)\n",
    "\n",
    "tau = [0.5]\n",
    "widthExp = -0.0\n",
    "model1 = qgplsim.model(X, Z, y, tau, widthExp)\n",
    "qgplsim.estimator(model1, \"optim_qr\")\n",
    "qgplsim.print_model(model1)"
   ]
  },
  {
   "cell_type": "code",
   "execution_count": 272,
   "id": "ad947858-3925-480e-926d-2a0a215b9661",
   "metadata": {},
   "outputs": [
    {
     "data": {
      "text/plain": [
       "-0.2"
      ]
     },
     "execution_count": 272,
     "metadata": {},
     "output_type": "execute_result"
    }
   ],
   "source": [
    "model1.widthExp"
   ]
  },
  {
   "cell_type": "markdown",
   "id": "a085c90d-dea4-473b-b365-ea9a3dd65e6a",
   "metadata": {},
   "source": [
    "## Monte Carlo Simulation"
   ]
  },
  {
   "cell_type": "code",
   "execution_count": 110,
   "id": "ad4b0ea3-69d0-4d39-83b9-24a1a42f35a6",
   "metadata": {},
   "outputs": [
    {
     "name": "stdout",
     "output_type": "stream",
     "text": [
      "threads for parallel computing:  4\n"
     ]
    }
   ],
   "source": [
    "using Base.Threads\n",
    "nth = Threads.nthreads()\n",
    "println(\"threads for parallel computing:  \", nth)"
   ]
  },
  {
   "cell_type": "code",
   "execution_count": 143,
   "id": "7597f098-417f-4071-bfd4-bdc4d5eb4654",
   "metadata": {},
   "outputs": [
    {
     "data": {
      "text/plain": [
       "100"
      ]
     },
     "execution_count": 143,
     "metadata": {},
     "output_type": "execute_result"
    }
   ],
   "source": [
    "n = 400\n",
    "alpha = [0, 1, 0, -2, 0]\n",
    "theta = [2, 0, -1, 0, 2]/3\n",
    "beta = [1, 0]\n",
    "gamma = [0, -1] \n",
    "n_repeat = 25\n",
    "n_repeat * nth"
   ]
  },
  {
   "cell_type": "markdown",
   "id": "4bbc09d0-0e6a-4f5f-974c-5a4a35a998d8",
   "metadata": {},
   "source": [
    "### $\\epsilon$ ~ $N(0, 1)/2$"
   ]
  },
  {
   "cell_type": "code",
   "execution_count": 144,
   "id": "0dea4b10-f086-41b1-a1db-e49fe12af4a2",
   "metadata": {},
   "outputs": [],
   "source": [
    "Alpha1 = zeros(n_repeat * nth, 5)\n",
    "Theta1 = zeros(n_repeat * nth, 5)\n",
    "Gamma1 = zeros(n_repeat * nth, 2)\n",
    "\n",
    "\n",
    "@threads for i in 1:nth\n",
    "    for j in 1:n_repeat\n",
    "        \n",
    "        k = (i - 1) * n_repeat + j\n",
    "        e = randn(n) / 2\n",
    "        X, y, Z = xyz(n, alpha, theta, beta, gamma, e)\n",
    "\n",
    "        modelk = qgplsim.model(X, Z, y, tau, widthExp)\n",
    "        qgplsim.estimator(modelk, \"optim_qr\")\n",
    "        Alpha1[k, :] = modelk.alpha\n",
    "        Theta1[k, :] = modelk.theta\n",
    "        Gamma1[k, :] = modelk.gamma\n",
    "\n",
    "    end\n",
    "end\n",
    "\n"
   ]
  },
  {
   "cell_type": "code",
   "execution_count": 145,
   "id": "f7ae8a1d-48e1-490f-a777-e1d6e49495a4",
   "metadata": {},
   "outputs": [
    {
     "name": "stdout",
     "output_type": "stream",
     "text": [
      "0.20767519124620332 0.17338606480289112\n"
     ]
    }
   ],
   "source": [
    "EE1 = sqrt.(1 .- abs.(Theta1 * theta)) \n",
    "println(mean(EE1), \" \", std(EE1))"
   ]
  },
  {
   "cell_type": "code",
   "execution_count": 229,
   "id": "9db18eff-0a0a-426b-a8db-1552ec33ecdd",
   "metadata": {},
   "outputs": [
    {
     "name": "stdout",
     "output_type": "stream",
     "text": [
      "0.20532993746471717 0.20293767594501722\n"
     ]
    }
   ],
   "source": [
    "EEa = sqrt.(abs.(5 .- Alpha1 * alpha)/5)\n",
    "println(mean(EEa), \" \", std(EEa))"
   ]
  },
  {
   "cell_type": "code",
   "execution_count": 147,
   "id": "713ab7ea-f998-49db-956f-e6b9a41fe829",
   "metadata": {},
   "outputs": [
    {
     "data": {
      "text/plain": [
       "1×5 Matrix{Float64}:\n",
       " 0.642819  -0.0141103  -0.345428  -0.012472  0.557171"
      ]
     },
     "execution_count": 147,
     "metadata": {},
     "output_type": "execute_result"
    }
   ],
   "source": [
    "mean(Theta1, dims = 1)"
   ]
  },
  {
   "cell_type": "code",
   "execution_count": 148,
   "id": "72f2b9af-47dd-4a27-a683-259ecc4a7d7d",
   "metadata": {},
   "outputs": [
    {
     "data": {
      "text/plain": [
       "1×2 Matrix{Float64}:\n",
       " -0.0180522  -0.319757"
      ]
     },
     "execution_count": 148,
     "metadata": {},
     "output_type": "execute_result"
    }
   ],
   "source": [
    "mean(Gamma1, dims = 1)"
   ]
  },
  {
   "cell_type": "markdown",
   "id": "1e10555a-8bb2-4840-9e4c-8ced3c12ebd1",
   "metadata": {},
   "source": [
    "### $\\epsilon$ ~ $\\sqrt 3 t(3) / 10$"
   ]
  },
  {
   "cell_type": "code",
   "execution_count": 149,
   "id": "b20276b3-46d1-48d2-8a8e-fa8fa3c7cf7c",
   "metadata": {},
   "outputs": [
    {
     "data": {
      "text/plain": [
       "TDist{Float64}(ν=3.0)"
      ]
     },
     "execution_count": 149,
     "metadata": {},
     "output_type": "execute_result"
    }
   ],
   "source": [
    "t3 = TDist(3)"
   ]
  },
  {
   "cell_type": "code",
   "execution_count": 150,
   "id": "07c5c281-9a28-4040-8c9a-c4cf1fca0246",
   "metadata": {},
   "outputs": [],
   "source": [
    "Alpha2 = zeros(n_repeat * nth, 5)\n",
    "Theta2 = zeros(n_repeat * nth, 5)\n",
    "Gamma2 = zeros(n_repeat * nth, 2)\n",
    "\n",
    "@threads for i in 1:nth\n",
    "    for j in 1:n_repeat\n",
    "        \n",
    "        k = (i - 1) * n_repeat + j\n",
    "        e = rand(t3, n) * sqrt(3) / 10\n",
    "        X, y, Z = xyz(n, alpha, theta, beta, gamma, e)\n",
    "        modelk = qgplsim.model(X, Z, y, tau, widthExp)\n",
    "        qgplsim.estimator(modelk, \"optim_qr\")\n",
    "        Alpha2[k, :] = modelk.alpha\n",
    "        Theta2[k, :] = modelk.theta\n",
    "        Gamma2[k, :] = modelk.gamma\n",
    "\n",
    "        \n",
    "    end\n",
    "end"
   ]
  },
  {
   "cell_type": "code",
   "execution_count": 151,
   "id": "17f8b60c-0157-43a9-bba2-93b1159caebe",
   "metadata": {},
   "outputs": [
    {
     "data": {
      "text/plain": [
       "1×5 Matrix{Float64}:\n",
       " 0.6453  0.00128617  -0.32176  0.0106369  0.572918"
      ]
     },
     "execution_count": 151,
     "metadata": {},
     "output_type": "execute_result"
    }
   ],
   "source": [
    "mean(Theta2, dims = 1)"
   ]
  },
  {
   "cell_type": "code",
   "execution_count": 152,
   "id": "72873489-3754-45cc-a509-6b8a064b914d",
   "metadata": {},
   "outputs": [
    {
     "name": "stdout",
     "output_type": "stream",
     "text": [
      "0.17522982401106535 0.21081039981797559\n"
     ]
    }
   ],
   "source": [
    "EE2 = sqrt.(1 .- abs.(Theta2 * theta)) \n",
    "println(mean(EE2), \" \", std(EE2))"
   ]
  },
  {
   "cell_type": "code",
   "execution_count": 230,
   "id": "04e6c896-3dc4-4754-8fde-0b1122f2a23e",
   "metadata": {},
   "outputs": [
    {
     "name": "stdout",
     "output_type": "stream",
     "text": [
      "0.2604622974978035 0.2441158621826322\n"
     ]
    }
   ],
   "source": [
    "EEa = sqrt.(abs.(5 .- abs.(Alpha2 * alpha))/5)\n",
    "println(mean(EEa), \" \", std(EEa))"
   ]
  },
  {
   "cell_type": "code",
   "execution_count": 153,
   "id": "8bf9ef69-d0e0-4493-9bbe-4944a057bd6f",
   "metadata": {},
   "outputs": [
    {
     "data": {
      "text/plain": [
       "1×2 Matrix{Float64}:\n",
       " -0.0015759  -0.36258"
      ]
     },
     "execution_count": 153,
     "metadata": {},
     "output_type": "execute_result"
    }
   ],
   "source": [
    "mean(Gamma2, dims = 1)"
   ]
  },
  {
   "cell_type": "markdown",
   "id": "3699aeac-48dc-44ac-93f0-324cd0807105",
   "metadata": {
    "tags": []
   },
   "source": [
    "### $\\epsilon$ ~ $t(1)/10$"
   ]
  },
  {
   "cell_type": "code",
   "execution_count": 122,
   "id": "5d7de51f-6c32-43bc-94ac-e5ef93c0a506",
   "metadata": {},
   "outputs": [
    {
     "data": {
      "text/plain": [
       "TDist{Float64}(ν=1.0)"
      ]
     },
     "execution_count": 122,
     "metadata": {},
     "output_type": "execute_result"
    }
   ],
   "source": [
    "t1 = TDist(1)"
   ]
  },
  {
   "cell_type": "code",
   "execution_count": 154,
   "id": "34232bd4-e92c-401c-8205-a7cd8b1d69d9",
   "metadata": {},
   "outputs": [],
   "source": [
    "Alpha3 = zeros(n_repeat * nth, 5)\n",
    "Theta3 = zeros(n_repeat * nth, 5)\n",
    "Gamma3 = zeros(n_repeat * nth, 2)\n",
    "\n",
    "@threads for i in 1:nth\n",
    "    for j in 1:n_repeat\n",
    "        \n",
    "        k = (i - 1) * n_repeat + j\n",
    "        e = rand(t1, n) / 10\n",
    "        X, y, Z = xyz(n, alpha, theta, beta, gamma, e)\n",
    "        modelk = qgplsim.model(X, Z, y, tau, widthExp)\n",
    "        qgplsim.estimator(modelk, \"optim_qr\")\n",
    "        Alpha3[k, :] = modelk.alpha\n",
    "        Theta3[k, :] = modelk.theta\n",
    "        Gamma3[k, :] = modelk.gamma\n",
    "\n",
    "        \n",
    "    end\n",
    "end"
   ]
  },
  {
   "cell_type": "code",
   "execution_count": 155,
   "id": "c35af225-0c95-41d9-8ceb-eaae1f509c46",
   "metadata": {},
   "outputs": [
    {
     "data": {
      "text/plain": [
       "1×5 Matrix{Float64}:\n",
       " 0.635217  -0.0285129  -0.33521  0.0350691  0.598973"
      ]
     },
     "execution_count": 155,
     "metadata": {},
     "output_type": "execute_result"
    }
   ],
   "source": [
    "mean(Theta3, dims = 1)"
   ]
  },
  {
   "cell_type": "code",
   "execution_count": 264,
   "id": "cd865b15-9fc7-4972-928e-fe8ab5c4f778",
   "metadata": {},
   "outputs": [
    {
     "name": "stdout",
     "output_type": "stream",
     "text": [
      "0.1572008337416937 0.15656874707896248\n"
     ]
    }
   ],
   "source": [
    "EE3 = sqrt.(1 .- abs.(Theta3 * theta)) \n",
    "println(mean(EE3), \" \", std(EE3))"
   ]
  },
  {
   "cell_type": "code",
   "execution_count": 266,
   "id": "78b3e367-b704-463f-a216-1ce65d43a3ed",
   "metadata": {},
   "outputs": [
    {
     "name": "stdout",
     "output_type": "stream",
     "text": [
      "0.10734724786839749 0.10430637727052751\n"
     ]
    }
   ],
   "source": [
    "na3 = norm.([Alpha3[k, :] for k in 1:100] )\n",
    "EEa = sqrt.(abs.(1 .- abs.(Alpha3 ./ na3 * alpha / norm(alpha))))\n",
    "println(mean(EEa), \" \", std(EEa))"
   ]
  },
  {
   "cell_type": "code",
   "execution_count": 157,
   "id": "4991064a-ff3e-449e-8196-66381f567228",
   "metadata": {},
   "outputs": [
    {
     "data": {
      "text/plain": [
       "1×2 Matrix{Float64}:\n",
       " -0.00624061  -0.363546"
      ]
     },
     "execution_count": 157,
     "metadata": {},
     "output_type": "execute_result"
    }
   ],
   "source": [
    "mean(Gamma3, dims = 1)"
   ]
  },
  {
   "cell_type": "markdown",
   "id": "c3eabbe2-900d-44fe-bdcf-d2683398e8ba",
   "metadata": {
    "tags": []
   },
   "source": [
    "### $\\epsilon$ ~ $0.3(N(0, 1)^4 - 3)$"
   ]
  },
  {
   "cell_type": "code",
   "execution_count": 158,
   "id": "631910ff-2e14-4e7c-85f9-306bb031e10a",
   "metadata": {},
   "outputs": [],
   "source": [
    "Alpha4 = zeros(n_repeat * nth, 5)\n",
    "Theta4 = zeros(n_repeat * nth, 5)\n",
    "Gamma4 = zeros(n_repeat * nth, 2)\n",
    "\n",
    "@threads for i in 1:nth\n",
    "    for j in 1:n_repeat\n",
    "        \n",
    "        k = (i - 1) * n_repeat + j\n",
    "        e = randn(n)\n",
    "        e = (e.^4 .- 3) .* 0.3\n",
    "        X, y, Z = xyz(n, alpha, theta, beta, gamma, e)\n",
    "        modelk = qgplsim.model(X, Z, y, tau, widthExp)\n",
    "        qgplsim.estimator(modelk, \"optim_qr\")\n",
    "        Alpha4[k, :] = modelk.alpha\n",
    "        Theta4[k, :] = modelk.theta\n",
    "        Gamma4[k, :] = modelk.gamma\n",
    "        \n",
    "    end\n",
    "end"
   ]
  },
  {
   "cell_type": "code",
   "execution_count": 159,
   "id": "7de8d1f4-6454-45cb-95df-9a4c93c714d6",
   "metadata": {},
   "outputs": [
    {
     "data": {
      "text/plain": [
       "1×5 Matrix{Float64}:\n",
       " 0.623733  -0.0435303  -0.349124  0.0472179  0.553621"
      ]
     },
     "execution_count": 159,
     "metadata": {},
     "output_type": "execute_result"
    }
   ],
   "source": [
    "mean(Theta4, dims = 1)"
   ]
  },
  {
   "cell_type": "code",
   "execution_count": 160,
   "id": "4eaea828-505c-492a-841b-52f1e33161c6",
   "metadata": {},
   "outputs": [
    {
     "name": "stdout",
     "output_type": "stream",
     "text": [
      "0.23493551471318813 0.20054916315879562\n"
     ]
    }
   ],
   "source": [
    "EE4 = sqrt.(1 .- abs.(Theta4 * theta)) \n",
    "println(mean(EE4), \" \", std(EE4))"
   ]
  },
  {
   "cell_type": "code",
   "execution_count": 261,
   "id": "40606d4a-6f00-4e37-8061-b7d56b3a8534",
   "metadata": {},
   "outputs": [],
   "source": [
    "na4 = norm.([Alpha4[k, :] for k in 1:100] )\n",
    "EEa = sqrt.(abs.(1 .- Alpha4./na4 * alpha / norm(alpha)))\n",
    "println(mean(EEa), \" \", std(EEa))"
   ]
  },
  {
   "cell_type": "code",
   "execution_count": 161,
   "id": "f038813b-63e4-4f04-a608-576b4dc36377",
   "metadata": {},
   "outputs": [
    {
     "data": {
      "text/plain": [
       "1×2 Matrix{Float64}:\n",
       " -0.0045003  -0.321222"
      ]
     },
     "execution_count": 161,
     "metadata": {},
     "output_type": "execute_result"
    }
   ],
   "source": [
    "mean(Gamma4, dims = 1)"
   ]
  },
  {
   "cell_type": "code",
   "execution_count": null,
   "id": "30381bec-3a1c-4c28-94ff-5de972f61ee5",
   "metadata": {},
   "outputs": [],
   "source": []
  },
  {
   "cell_type": "markdown",
   "id": "4cc43cda-d1d0-4771-ad74-a45f95f39fde",
   "metadata": {},
   "source": [
    "# Tabular"
   ]
  },
  {
   "cell_type": "code",
   "execution_count": null,
   "id": "1ebc90e8-71b2-40b6-b75d-48a3a688b3a0",
   "metadata": {},
   "outputs": [],
   "source": [
    "N = [100, 200, 400]\n",
    "Etype = [1,2,3,4]\n",
    "\n",
    "len_n = length(N)\n",
    "len_e = length(Etype)\n",
    "\n",
    "meanEE_theta = zeros(len_n, len_e)\n",
    "stdEE_theta = zeros(len_n, len_e)\n",
    "\n",
    "meanEE_alpha = zeros(len_n, len_e)\n",
    "stdEE_alpha = zeros(len_n, len_e)\n",
    "n_repeat = 100\n",
    "tau = [0.5]\n",
    "widthExp = -0.17\n",
    "\n",
    "alpha = [0, 1, 0, -2, 0]\n",
    "theta = [2, 0, -1, 0, 2]/3\n",
    "beta = [0, 0]\n",
    "gamma = [0, -0] \n",
    "\n",
    "@threads for j in 1:len_e\n",
    "    \n",
    "    etype = Etype[j]    \n",
    "    \n",
    "    for i in 1:len_n  \n",
    "\n",
    "        n = N[i] \n",
    "       \n",
    "        Alpha = zeros(n_repeat, 5)\n",
    "        Theta = zeros(n_repeat, 5)\n",
    "        \n",
    "        for k in 1:n_repeat\n",
    "            \n",
    "            e = eps(n, etype)\n",
    "            X, y, Z = xyz(n, alpha, theta, beta, gamma, e)\n",
    "            Z = zeros(n, 1)\n",
    "            modelk = qgplsim.model(X, Z, y, tau, widthExp)\n",
    "            qgplsim.estimator(modelk, \"optim_qr\")\n",
    "            Alpha[k, :] = modelk.alpha\n",
    "            Theta[k, :] = modelk.theta\n",
    "            \n",
    "        end\n",
    "        EE = sqrt.(1 .- abs.(Theta * theta)) \n",
    "        meanEE_theta[i,j] = mean(EE)\n",
    "        stdEE_theta[i,j] = std(EE)\n",
    "        norm_Alpha = norm.([Alpha[k, :] for k in 1:n_repeat]\n",
    "        EE = sqrt.(abs.(1 .- abs.(Alpha ./ norm_Alpha * alpha / norm(alpha)))) \n",
    "        meanEE_alpha[i,j] = mean(EE)\n",
    "        stdEE_alpha[i,j] = std(EE)\n",
    "    end\n",
    "end"
   ]
  },
  {
   "cell_type": "code",
   "execution_count": 241,
   "id": "096ae760-ecca-4375-9c1c-ab04e8df8775",
   "metadata": {},
   "outputs": [
    {
     "data": {
      "text/plain": [
       "4×4 Matrix{String}:\n",
       " \"0.5865(.2482)\"  \"0.5490(.2372)\"  \"0.5874(.2378)\"  \"0.6538(.2138)\"\n",
       " \"0.4125(.2088)\"  \"0.2299(.1540)\"  \"0.3585(.2217)\"  \"0.4950(.2373)\"\n",
       " \"0.1943(.1407)\"  \"0.1527(.1721)\"  \"0.1563(.1349)\"  \"0.2239(.1737)\"\n",
       " \"0.1359(.1712)\"  \"0.0892(.1054)\"  \"0.1324(.1811)\"  \"0.1554(.1724)\""
      ]
     },
     "execution_count": 241,
     "metadata": {},
     "output_type": "execute_result"
    }
   ],
   "source": [
    "table_theta = tabular(meanEE_theta, stdEE_theta)"
   ]
  },
  {
   "cell_type": "code",
   "execution_count": 244,
   "id": "3eba8369-df04-4bca-8193-9929fcc70c4b",
   "metadata": {},
   "outputs": [
    {
     "data": {
      "text/plain": [
       "4×4 Matrix{String}:\n",
       " \"0.7268(.1465)\"  \"0.7387(.1491)\"  \"0.7136(.1547)\"  \"0.7283(.1570)\"\n",
       " \"0.5548(.1811)\"  \"0.3589(.1506)\"  \"0.4800(.1817)\"  \"0.5565(.1712)\"\n",
       " \"0.2668(.1145)\"  \"0.1996(.1255)\"  \"0.2314(.1094)\"  \"0.3137(.1667)\"\n",
       " \"0.2123(.1307)\"  \"0.1364(.0678)\"  \"0.1604(.1285)\"  \"0.2116(.1350)\""
      ]
     },
     "execution_count": 244,
     "metadata": {},
     "output_type": "execute_result"
    }
   ],
   "source": [
    "table_alpha = tabular(meanEE_alpha, stdEE_alpha)"
   ]
  },
  {
   "cell_type": "code",
   "execution_count": 245,
   "id": "074e4f00-2a4e-4dab-bb8c-450571229d44",
   "metadata": {},
   "outputs": [
    {
     "data": {
      "text/plain": [
       "\"tablez_alpha.csv\""
      ]
     },
     "execution_count": 245,
     "metadata": {},
     "output_type": "execute_result"
    }
   ],
   "source": [
    "using DataFrames, CSV\n",
    "df = DataFrame(table_alpha)\n",
    "CSV.write(\"table_alpha.csv\", df)"
   ]
  },
  {
   "cell_type": "code",
   "execution_count": null,
   "id": "1a831bd4-c3af-4758-bb7a-8cf4ef1017f4",
   "metadata": {},
   "outputs": [],
   "source": []
  }
 ],
 "metadata": {
  "kernelspec": {
   "display_name": "Julia 1.6.4",
   "language": "julia",
   "name": "julia-1.6"
  },
  "language_info": {
   "file_extension": ".jl",
   "mimetype": "application/julia",
   "name": "julia",
   "version": "1.6.4"
  }
 },
 "nbformat": 4,
 "nbformat_minor": 5
}
