{
 "cells": [
  {
   "cell_type": "code",
   "execution_count": 106,
   "id": "e66c1859-81b4-454d-acf6-f25cc7ce7ee4",
   "metadata": {},
   "outputs": [
    {
     "name": "stderr",
     "output_type": "stream",
     "text": [
      "WARNING: replacing module qgplsim.\n"
     ]
    },
    {
     "data": {
      "text/plain": [
       "\"/home/kyan/Projects/qgplsim\""
      ]
     },
     "execution_count": 106,
     "metadata": {},
     "output_type": "execute_result"
    }
   ],
   "source": [
    "using Plots, Distributions\n",
    "include(\"./src/supportFunctions.ji\")\n",
    "include(\"./src/qgplsim.ji\")\n",
    "pwd()"
   ]
  },
  {
   "cell_type": "markdown",
   "id": "1da4cc33-08d3-4ee9-bf7d-e5ac42d2ed6e",
   "metadata": {},
   "source": [
    "# Case 1\n",
    "$y = X \\alpha + exp(X \\theta) + \\epsilon$"
   ]
  },
  {
   "cell_type": "code",
   "execution_count": 5,
   "id": "438a8615-7f44-48dd-997d-da4933421ae8",
   "metadata": {},
   "outputs": [],
   "source": [
    "function simu_data1(X, α, θ, ϵ)\n",
    "\n",
    "    y = X*α + exp.(X*θ) + ϵ\n",
    "\n",
    "end"
   ]
  },
  {
   "cell_type": "markdown",
   "id": "4cb9e554-89cf-4e21-980e-c1f97dedda2c",
   "metadata": {},
   "source": [
    "## test "
   ]
  },
  {
   "cell_type": "code",
   "execution_count": 109,
   "id": "2d3055f9-bc55-406e-89be-780600547372",
   "metadata": {},
   "outputs": [
    {
     "name": "stdout",
     "output_type": "stream",
     "text": [
      "alpha => [0.1431, 0.993, -0.0515, -2.0234, 0.1335]\n",
      "theta => [0.6977, -0.0542, -0.3425, 0.0725, 0.6227]\n",
      "gamma => [0.0]\n",
      "beta => [0.0]\n"
     ]
    }
   ],
   "source": [
    "∑ = zeros(5,5)\n",
    "\n",
    "for i in 1:5\n",
    "    for j in i:5\n",
    "        ∑[i, j] = 0.5^(j - i)\n",
    "        ∑[j, i] = ∑[i, j]\n",
    "    end\n",
    "end\n",
    "\n",
    "∑ = sqrt.(∑)\n",
    "\n",
    "n = 200\n",
    "alpha = [0, 1, 0, -2, 0]\n",
    "theta = [2, 0, -1, 0, 2]/3\n",
    "\n",
    "U = randn(n, 5)\n",
    "X = U * ∑\n",
    "e = rand(n) / 2\n",
    "y = simu_data1(X, alpha, theta, e)\n",
    "Z = zeros(n, 1)\n",
    "\n",
    "tau = [0.5]\n",
    "widthExp = -0.17\n",
    "model1 = qgplsim.model(X, Z, y, tau, widthExp)\n",
    "qgplsim.estimator(model1, \"optim_qr\")\n",
    "qgplsim.print_model(model1)"
   ]
  },
  {
   "cell_type": "markdown",
   "id": "c373fdaf-adb6-4754-a86d-ea95e806cd66",
   "metadata": {},
   "source": [
    "## Monte Carlo Simulation"
   ]
  },
  {
   "cell_type": "code",
   "execution_count": 110,
   "id": "150b0a1a-b068-478b-92fb-7cc8b92876a4",
   "metadata": {},
   "outputs": [
    {
     "name": "stdout",
     "output_type": "stream",
     "text": [
      "threads for parallel computing:  4\n"
     ]
    }
   ],
   "source": [
    "using Base.Threads\n",
    "nth = Threads.nthreads()\n",
    "println(\"threads for parallel computing:  \", nth)"
   ]
  },
  {
   "cell_type": "code",
   "execution_count": 111,
   "id": "c1814379-949c-4167-b897-297840a4e6f2",
   "metadata": {},
   "outputs": [
    {
     "data": {
      "text/plain": [
       "100"
      ]
     },
     "execution_count": 111,
     "metadata": {},
     "output_type": "execute_result"
    }
   ],
   "source": [
    "n = 200\n",
    "alpha = [0, 1, 0, -2, 0]\n",
    "theta = [2, 0, -1, 0, 2]/3\n",
    "Z = zeros(n, 1)\n",
    "n_repeat = 25\n",
    "n_repeat * nth"
   ]
  },
  {
   "cell_type": "markdown",
   "id": "96bfcf57-0188-4f47-a297-dd677523c11d",
   "metadata": {},
   "source": [
    "### $\\epsilon$ ~ $N(0, 1)/2$"
   ]
  },
  {
   "cell_type": "code",
   "execution_count": 83,
   "id": "e70b3702-518d-400d-8058-bb5f42072eee",
   "metadata": {},
   "outputs": [],
   "source": [
    "Alpha1 = zeros(n_repeat * nth, 5)\n",
    "Theta1 = zeros(n_repeat * nth, 5)\n",
    "@threads for i in 1:nth\n",
    "    for j in 1:n_repeat\n",
    "        \n",
    "        k = (i - 1) * n_repeat + j\n",
    "        U = randn(n, 5)\n",
    "        X = U * ∑\n",
    "        e = rand(n) / 2\n",
    "        y = simu_data1(X, alpha, theta, e)\n",
    "        modelk = qgplsim.model(X, Z, y, tau, widthExp)\n",
    "        qgplsim.estimator(modelk, \"optim_qr\")\n",
    "        Alpha1[k, :] = modelk.alpha\n",
    "        Theta1[k, :] = modelk.theta\n",
    "    end\n",
    "end\n",
    "\n"
   ]
  },
  {
   "cell_type": "code",
   "execution_count": 102,
   "id": "f6535e08-ecb6-41c9-b198-3ae9dafd1098",
   "metadata": {},
   "outputs": [
    {
     "name": "stdout",
     "output_type": "stream",
     "text": [
      "0.16482091958569153 0.1980300839525535\n"
     ]
    }
   ],
   "source": [
    "EE1 = sqrt.(1 .- abs.(Theta1 * theta)) \n",
    "println(mean(EE1), \" \", std(EE1))"
   ]
  },
  {
   "cell_type": "code",
   "execution_count": 85,
   "id": "a180022c-0204-4a71-838a-4d99c5b57bea",
   "metadata": {},
   "outputs": [
    {
     "data": {
      "text/plain": [
       "1×5 Matrix{Float64}:\n",
       " 0.644122  0.0373451  -0.309425  -0.00394015  0.589856"
      ]
     },
     "execution_count": 85,
     "metadata": {},
     "output_type": "execute_result"
    }
   ],
   "source": [
    "mean(Theta1, dims = 1)"
   ]
  },
  {
   "cell_type": "markdown",
   "id": "0a897d03-bea3-4561-8b75-cedc1caf27ee",
   "metadata": {},
   "source": [
    "### $\\epsilon$ ~ $\\sqrt 3 t(3) / 10$"
   ]
  },
  {
   "cell_type": "code",
   "execution_count": 86,
   "id": "a27afd08-2592-4913-9d12-7646c1ffcecb",
   "metadata": {},
   "outputs": [
    {
     "data": {
      "text/plain": [
       "TDist{Float64}(ν=3.0)"
      ]
     },
     "execution_count": 86,
     "metadata": {},
     "output_type": "execute_result"
    }
   ],
   "source": [
    "t3 = TDist(3)"
   ]
  },
  {
   "cell_type": "code",
   "execution_count": 87,
   "id": "e412273e-824d-4f42-a4ea-3b515e2c5da3",
   "metadata": {},
   "outputs": [],
   "source": [
    "Alpha2 = zeros(n_repeat * nth, 5)\n",
    "Theta2 = zeros(n_repeat * nth, 5)\n",
    "\n",
    "@threads for i in 1:nth\n",
    "    for j in 1:n_repeat\n",
    "        \n",
    "        k = (i - 1) * n_repeat + j\n",
    "        U = randn(n, 5)\n",
    "        X = U * ∑\n",
    "        e = rand(t3, n) * sqrt(3) / 10\n",
    "        y = simu_data1(X, alpha, theta, e)\n",
    "        modelk = qgplsim.model(X, Z, y, tau, widthExp)\n",
    "        qgplsim.estimator(modelk, \"optim_qr\")\n",
    "        Alpha2[k, :] = modelk.alpha\n",
    "        Theta2[k, :] = modelk.theta\n",
    "    end\n",
    "end"
   ]
  },
  {
   "cell_type": "code",
   "execution_count": 88,
   "id": "d0141cc6-a585-4270-8f1c-2fd2c92d56fc",
   "metadata": {},
   "outputs": [
    {
     "data": {
      "text/plain": [
       "1×5 Matrix{Float64}:\n",
       " 0.621185  0.0157167  -0.286917  -0.0121791  0.555159"
      ]
     },
     "execution_count": 88,
     "metadata": {},
     "output_type": "execute_result"
    }
   ],
   "source": [
    "mean(Theta2, dims = 1)"
   ]
  },
  {
   "cell_type": "code",
   "execution_count": 101,
   "id": "67070f62-31b6-4014-9925-c07eb574a351",
   "metadata": {},
   "outputs": [
    {
     "name": "stdout",
     "output_type": "stream",
     "text": [
      "0.19210274022474047 0.22122747635563317\n"
     ]
    }
   ],
   "source": [
    "EE2 = sqrt.(1 .- abs.(Theta2 * theta)) \n",
    "println(mean(EE2), \" \", std(EE2))"
   ]
  },
  {
   "cell_type": "markdown",
   "id": "653a9104-a308-4231-908d-ac423e66dfe7",
   "metadata": {
    "tags": []
   },
   "source": [
    "### $\\epsilon$ ~ $t(1)/10$"
   ]
  },
  {
   "cell_type": "code",
   "execution_count": 90,
   "id": "e4189620-2344-472f-b4e1-d4c3e6375e3c",
   "metadata": {},
   "outputs": [
    {
     "data": {
      "text/plain": [
       "TDist{Float64}(ν=1.0)"
      ]
     },
     "execution_count": 90,
     "metadata": {},
     "output_type": "execute_result"
    }
   ],
   "source": [
    "t1 = TDist(1)"
   ]
  },
  {
   "cell_type": "code",
   "execution_count": 91,
   "id": "baa6aec7-16d7-4bc2-86de-bf91224a141c",
   "metadata": {},
   "outputs": [],
   "source": [
    "Alpha3 = zeros(n_repeat * nth, 5)\n",
    "Theta3 = zeros(n_repeat * nth, 5)\n",
    "\n",
    "@threads for i in 1:nth\n",
    "    for j in 1:n_repeat\n",
    "        \n",
    "        k = (i - 1) * n_repeat + j\n",
    "        U = randn(n, 5)\n",
    "        X = U * ∑\n",
    "        e = rand(t1, n) / 10\n",
    "        y = simu_data1(X, alpha, theta, e)\n",
    "        modelk = qgplsim.model(X, Z, y, tau, widthExp)\n",
    "        qgplsim.estimator(modelk, \"optim_qr\")\n",
    "        Alpha3[k, :] = modelk.alpha\n",
    "        Theta3[k, :] = modelk.theta\n",
    "    end\n",
    "end"
   ]
  },
  {
   "cell_type": "code",
   "execution_count": 92,
   "id": "8679e5af-164e-4b9a-bb5d-dee4562047fe",
   "metadata": {},
   "outputs": [
    {
     "data": {
      "text/plain": [
       "1×5 Matrix{Float64}:\n",
       " 0.663367  -0.00342113  -0.337264  0.0275873  0.611017"
      ]
     },
     "execution_count": 92,
     "metadata": {},
     "output_type": "execute_result"
    }
   ],
   "source": [
    "mean(Theta3, dims = 1)"
   ]
  },
  {
   "cell_type": "code",
   "execution_count": 100,
   "id": "90b74c1f-5250-41e1-8589-6b18d9bb2bb9",
   "metadata": {},
   "outputs": [
    {
     "name": "stdout",
     "output_type": "stream",
     "text": [
      "0.1307498044544481 0.11712713930977704\n"
     ]
    }
   ],
   "source": [
    "EE3 = sqrt.(1 .- abs.(Theta3 * theta)) \n",
    "println(mean(EE3), \" \", std(EE3))"
   ]
  },
  {
   "cell_type": "markdown",
   "id": "88a310c8-1a38-4151-83a4-aca91ce661c5",
   "metadata": {
    "tags": []
   },
   "source": [
    "### $\\epsilon$ ~ $0.3(N(0, 1)^4 - 3)$"
   ]
  },
  {
   "cell_type": "code",
   "execution_count": 94,
   "id": "9bfb0569-08d3-4fe8-8d7d-51f5ff9e6717",
   "metadata": {},
   "outputs": [],
   "source": [
    "Alpha4 = zeros(n_repeat * nth, 5)\n",
    "Theta4 = zeros(n_repeat * nth, 5)\n",
    "\n",
    "@threads for i in 1:nth\n",
    "    for j in 1:n_repeat\n",
    "        \n",
    "        k = (i - 1) * n_repeat + j\n",
    "        U = randn(n, 5)\n",
    "        X = U * ∑\n",
    "        e = randn(n)\n",
    "        e = (e.^4 .- 3) .* 0.3\n",
    "        y = simu_data1(X, alpha, theta, e)\n",
    "        modelk = qgplsim.model(X, Z, y, tau, widthExp)\n",
    "        qgplsim.estimator(modelk, \"optim_qr\")\n",
    "        Alpha4[k, :] = modelk.alpha\n",
    "        Theta4[k, :] = modelk.theta\n",
    "    end\n",
    "end"
   ]
  },
  {
   "cell_type": "code",
   "execution_count": 95,
   "id": "bb27f287-4c5e-4b3e-ba5e-1c97c9c67594",
   "metadata": {},
   "outputs": [
    {
     "data": {
      "text/plain": [
       "1×5 Matrix{Float64}:\n",
       " 0.647749  -0.010852  -0.357562  0.0789847  0.583949"
      ]
     },
     "execution_count": 95,
     "metadata": {},
     "output_type": "execute_result"
    }
   ],
   "source": [
    "mean(Theta4, dims = 1)"
   ]
  },
  {
   "cell_type": "code",
   "execution_count": 99,
   "id": "a6ab027d-5709-4d6d-9cfb-fb402cbf1444",
   "metadata": {},
   "outputs": [
    {
     "name": "stdout",
     "output_type": "stream",
     "text": [
      "0.20204432434805344 0.1367672696927415\n"
     ]
    }
   ],
   "source": [
    "EE4 = sqrt.(1 .- abs.(Theta4 * theta)) \n",
    "println(mean(EE4), \" \", std(EE4))"
   ]
  },
  {
   "cell_type": "code",
   "execution_count": null,
   "id": "cbbe75ef-dbbb-4993-afba-506f9704f952",
   "metadata": {},
   "outputs": [],
   "source": []
  }
 ],
 "metadata": {
  "kernelspec": {
   "display_name": "Julia 1.6.4",
   "language": "julia",
   "name": "julia-1.6"
  },
  "language_info": {
   "file_extension": ".jl",
   "mimetype": "application/julia",
   "name": "julia",
   "version": "1.6.4"
  }
 },
 "nbformat": 4,
 "nbformat_minor": 5
}
