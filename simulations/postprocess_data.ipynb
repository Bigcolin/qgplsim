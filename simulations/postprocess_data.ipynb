{
 "cells": [
  {
   "cell_type": "code",
   "execution_count": 1,
   "metadata": {},
   "outputs": [],
   "source": [
    "import pandas as pd\n",
    "import numpy as np\n",
    "import matplotlib.pyplot as plt\n",
    "import matplotlib.gridspec as gridspec"
   ]
  },
  {
   "cell_type": "markdown",
   "metadata": {},
   "source": [
    "# Tables"
   ]
  },
  {
   "cell_type": "code",
   "execution_count": 2,
   "metadata": {},
   "outputs": [],
   "source": [
    "file_dir = \"len_a=1/intercept=-1/\""
   ]
  },
  {
   "cell_type": "code",
   "execution_count": 3,
   "metadata": {},
   "outputs": [
    {
     "data": {
      "text/plain": [
       "'len_a=1/intercept=-1/3'"
      ]
     },
     "execution_count": 3,
     "metadata": {},
     "output_type": "execute_result"
    }
   ],
   "source": [
    "file_dir + \"3\""
   ]
  },
  {
   "cell_type": "code",
   "execution_count": 57,
   "metadata": {},
   "outputs": [],
   "source": [
    "df110 = pd.read_csv(file_dir + \"250 f1 d0.csv\")\n",
    "df111 = pd.read_csv(file_dir + \"250 f1 d1.csv\")\n",
    "df210 = pd.read_csv(file_dir + \"500 f1 d0.csv\")\n",
    "df211 = pd.read_csv(file_dir + \"500 f1 d1.csv\")\n",
    "df310 = pd.read_csv(file_dir + \"1000 f1 d0.csv\")\n",
    "df311 = pd.read_csv(file_dir + \"1000 f1 d1.csv\")"
   ]
  },
  {
   "cell_type": "code",
   "execution_count": 4,
   "metadata": {},
   "outputs": [],
   "source": [
    "df120 = pd.read_csv(file_dir + \"250 f2 d0.csv\")\n",
    "df121 = pd.read_csv(file_dir + \"250 f2 d1.csv\")\n",
    "df220 = pd.read_csv(file_dir + \"500 f2 d0.csv\")\n",
    "df221 = pd.read_csv(file_dir + \"500 f2 d1.csv\")\n",
    "df320 = pd.read_csv(file_dir + \"1000 f2 d0.csv\")\n",
    "df321 = pd.read_csv(file_dir + \"1000 f2 d1.csv\")"
   ]
  },
  {
   "cell_type": "code",
   "execution_count": 58,
   "metadata": {},
   "outputs": [],
   "source": [
    "α = [1, -2]\n",
    "\n",
    "gamma = [[0.5, 0.0], [0.5, 1.0], [0.0, 0.5], [1.0, 0.5], [0.5, 0.5]]\n",
    "gamma_ = [\"[0.5, 0.0]\", \"[0.5, 1.0]\", \"[0.0, 0.5]\", \"[1.0, 0.5]\", \"[0.5, 0.5]\"]"
   ]
  },
  {
   "cell_type": "code",
   "execution_count": 79,
   "metadata": {},
   "outputs": [
    {
     "data": {
      "text/html": [
       "<div>\n",
       "<style scoped>\n",
       "    .dataframe tbody tr th:only-of-type {\n",
       "        vertical-align: middle;\n",
       "    }\n",
       "\n",
       "    .dataframe tbody tr th {\n",
       "        vertical-align: top;\n",
       "    }\n",
       "\n",
       "    .dataframe thead th {\n",
       "        text-align: right;\n",
       "    }\n",
       "</style>\n",
       "<table border=\"1\" class=\"dataframe\">\n",
       "  <thead>\n",
       "    <tr style=\"text-align: right;\">\n",
       "      <th></th>\n",
       "      <th>γ1</th>\n",
       "      <th>γ2</th>\n",
       "    </tr>\n",
       "  </thead>\n",
       "  <tbody>\n",
       "    <tr>\n",
       "      <th>0</th>\n",
       "      <td>0.2663</td>\n",
       "      <td>0.5414</td>\n",
       "    </tr>\n",
       "    <tr>\n",
       "      <th>1</th>\n",
       "      <td>0.0035</td>\n",
       "      <td>0.2709</td>\n",
       "    </tr>\n",
       "    <tr>\n",
       "      <th>2</th>\n",
       "      <td>0.2701</td>\n",
       "      <td>-0.0033</td>\n",
       "    </tr>\n",
       "    <tr>\n",
       "      <th>3</th>\n",
       "      <td>0.5308</td>\n",
       "      <td>0.2732</td>\n",
       "    </tr>\n",
       "    <tr>\n",
       "      <th>4</th>\n",
       "      <td>0.2645</td>\n",
       "      <td>0.2687</td>\n",
       "    </tr>\n",
       "  </tbody>\n",
       "</table>\n",
       "</div>"
      ],
      "text/plain": [
       "       γ1      γ2\n",
       "0  0.2663  0.5414\n",
       "1  0.0035  0.2709\n",
       "2  0.2701 -0.0033\n",
       "3  0.5308  0.2732\n",
       "4  0.2645  0.2687"
      ]
     },
     "execution_count": 79,
     "metadata": {},
     "output_type": "execute_result"
    }
   ],
   "source": [
    "df = df211.round(4)\n",
    "df[[\"γ1\", \"γ2\"]]"
   ]
  },
  {
   "cell_type": "code",
   "execution_count": 80,
   "metadata": {},
   "outputs": [],
   "source": [
    "df = df.iloc[[2,0,1,3,4]]"
   ]
  },
  {
   "cell_type": "code",
   "execution_count": 81,
   "metadata": {},
   "outputs": [
    {
     "data": {
      "text/html": [
       "<div>\n",
       "<style scoped>\n",
       "    .dataframe tbody tr th:only-of-type {\n",
       "        vertical-align: middle;\n",
       "    }\n",
       "\n",
       "    .dataframe tbody tr th {\n",
       "        vertical-align: top;\n",
       "    }\n",
       "\n",
       "    .dataframe thead th {\n",
       "        text-align: right;\n",
       "    }\n",
       "</style>\n",
       "<table border=\"1\" class=\"dataframe\">\n",
       "  <thead>\n",
       "    <tr style=\"text-align: right;\">\n",
       "      <th></th>\n",
       "      <th>α1</th>\n",
       "      <th>α2</th>\n",
       "      <th>var_α1</th>\n",
       "      <th>var_α2</th>\n",
       "      <th>γ1</th>\n",
       "      <th>γ2</th>\n",
       "      <th>var_γ1</th>\n",
       "      <th>var_γ2</th>\n",
       "      <th>θ1</th>\n",
       "      <th>θ2</th>\n",
       "      <th>var_θ1</th>\n",
       "      <th>var_θ2</th>\n",
       "      <th>β1</th>\n",
       "      <th>β2</th>\n",
       "      <th>var_β1</th>\n",
       "      <th>var_β2</th>\n",
       "    </tr>\n",
       "  </thead>\n",
       "  <tbody>\n",
       "    <tr>\n",
       "      <th>2</th>\n",
       "      <td>0.4472</td>\n",
       "      <td>-0.8942</td>\n",
       "      <td>0.0004</td>\n",
       "      <td>0.0001</td>\n",
       "      <td>0.2701</td>\n",
       "      <td>-0.0033</td>\n",
       "      <td>0.0033</td>\n",
       "      <td>0.0016</td>\n",
       "      <td>2.0111</td>\n",
       "      <td>1.0078</td>\n",
       "      <td>0.0086</td>\n",
       "      <td>0.0085</td>\n",
       "      <td>-0.0397</td>\n",
       "      <td>-0.5085</td>\n",
       "      <td>0.1278</td>\n",
       "      <td>0.0310</td>\n",
       "    </tr>\n",
       "    <tr>\n",
       "      <th>0</th>\n",
       "      <td>0.4470</td>\n",
       "      <td>-0.8943</td>\n",
       "      <td>0.0003</td>\n",
       "      <td>0.0001</td>\n",
       "      <td>0.2663</td>\n",
       "      <td>0.5414</td>\n",
       "      <td>0.0030</td>\n",
       "      <td>0.0029</td>\n",
       "      <td>2.0113</td>\n",
       "      <td>1.0059</td>\n",
       "      <td>0.0065</td>\n",
       "      <td>0.0043</td>\n",
       "      <td>1.4137</td>\n",
       "      <td>-2.3083</td>\n",
       "      <td>0.2246</td>\n",
       "      <td>0.3131</td>\n",
       "    </tr>\n",
       "    <tr>\n",
       "      <th>1</th>\n",
       "      <td>0.4495</td>\n",
       "      <td>-0.8931</td>\n",
       "      <td>0.0003</td>\n",
       "      <td>0.0001</td>\n",
       "      <td>0.0035</td>\n",
       "      <td>0.2709</td>\n",
       "      <td>0.0032</td>\n",
       "      <td>0.0018</td>\n",
       "      <td>2.0038</td>\n",
       "      <td>1.0099</td>\n",
       "      <td>0.0063</td>\n",
       "      <td>0.0061</td>\n",
       "      <td>1.1146</td>\n",
       "      <td>-1.2955</td>\n",
       "      <td>0.1755</td>\n",
       "      <td>0.0960</td>\n",
       "    </tr>\n",
       "    <tr>\n",
       "      <th>3</th>\n",
       "      <td>0.4487</td>\n",
       "      <td>-0.8934</td>\n",
       "      <td>0.0004</td>\n",
       "      <td>0.0001</td>\n",
       "      <td>0.5308</td>\n",
       "      <td>0.2732</td>\n",
       "      <td>0.0045</td>\n",
       "      <td>0.0020</td>\n",
       "      <td>2.0144</td>\n",
       "      <td>1.0132</td>\n",
       "      <td>0.0080</td>\n",
       "      <td>0.0069</td>\n",
       "      <td>0.1217</td>\n",
       "      <td>-1.3983</td>\n",
       "      <td>0.1238</td>\n",
       "      <td>0.1148</td>\n",
       "    </tr>\n",
       "    <tr>\n",
       "      <th>4</th>\n",
       "      <td>0.4493</td>\n",
       "      <td>-0.8932</td>\n",
       "      <td>0.0003</td>\n",
       "      <td>0.0001</td>\n",
       "      <td>0.2645</td>\n",
       "      <td>0.2687</td>\n",
       "      <td>0.0038</td>\n",
       "      <td>0.0020</td>\n",
       "      <td>2.0041</td>\n",
       "      <td>1.0094</td>\n",
       "      <td>0.0076</td>\n",
       "      <td>0.0058</td>\n",
       "      <td>0.6390</td>\n",
       "      <td>-1.3982</td>\n",
       "      <td>0.0849</td>\n",
       "      <td>0.1195</td>\n",
       "    </tr>\n",
       "  </tbody>\n",
       "</table>\n",
       "</div>"
      ],
      "text/plain": [
       "       α1      α2  var_α1  var_α2      γ1      γ2  var_γ1  var_γ2      θ1  \\\n",
       "2  0.4472 -0.8942  0.0004  0.0001  0.2701 -0.0033  0.0033  0.0016  2.0111   \n",
       "0  0.4470 -0.8943  0.0003  0.0001  0.2663  0.5414  0.0030  0.0029  2.0113   \n",
       "1  0.4495 -0.8931  0.0003  0.0001  0.0035  0.2709  0.0032  0.0018  2.0038   \n",
       "3  0.4487 -0.8934  0.0004  0.0001  0.5308  0.2732  0.0045  0.0020  2.0144   \n",
       "4  0.4493 -0.8932  0.0003  0.0001  0.2645  0.2687  0.0038  0.0020  2.0041   \n",
       "\n",
       "       θ2  var_θ1  var_θ2      β1      β2  var_β1  var_β2  \n",
       "2  1.0078  0.0086  0.0085 -0.0397 -0.5085  0.1278  0.0310  \n",
       "0  1.0059  0.0065  0.0043  1.4137 -2.3083  0.2246  0.3131  \n",
       "1  1.0099  0.0063  0.0061  1.1146 -1.2955  0.1755  0.0960  \n",
       "3  1.0132  0.0080  0.0069  0.1217 -1.3983  0.1238  0.1148  \n",
       "4  1.0094  0.0076  0.0058  0.6390 -1.3982  0.0849  0.1195  "
      ]
     },
     "execution_count": 81,
     "metadata": {},
     "output_type": "execute_result"
    }
   ],
   "source": [
    "df"
   ]
  },
  {
   "cell_type": "code",
   "execution_count": 82,
   "metadata": {},
   "outputs": [
    {
     "data": {
      "text/html": [
       "<div>\n",
       "<style scoped>\n",
       "    .dataframe tbody tr th:only-of-type {\n",
       "        vertical-align: middle;\n",
       "    }\n",
       "\n",
       "    .dataframe tbody tr th {\n",
       "        vertical-align: top;\n",
       "    }\n",
       "\n",
       "    .dataframe thead th {\n",
       "        text-align: right;\n",
       "    }\n",
       "</style>\n",
       "<table border=\"1\" class=\"dataframe\">\n",
       "  <thead>\n",
       "    <tr style=\"text-align: right;\">\n",
       "      <th></th>\n",
       "      <th>a2</th>\n",
       "      <th>var_a2</th>\n",
       "      <th>g</th>\n",
       "      <th>g1</th>\n",
       "      <th>g2</th>\n",
       "      <th>var_g1</th>\n",
       "      <th>var_g2</th>\n",
       "      <th>gamma1</th>\n",
       "      <th>gamma2</th>\n",
       "      <th>alpha2</th>\n",
       "    </tr>\n",
       "  </thead>\n",
       "  <tbody>\n",
       "    <tr>\n",
       "      <th>2</th>\n",
       "      <td>-1.9996</td>\n",
       "      <td>0.000500</td>\n",
       "      <td>[0.5, 0.0]</td>\n",
       "      <td>0.5402</td>\n",
       "      <td>-0.0066</td>\n",
       "      <td>0.0132</td>\n",
       "      <td>0.0064</td>\n",
       "      <td>0.5402(0.0132)</td>\n",
       "      <td>-0.0066(0.0064)</td>\n",
       "      <td>-1.9996(0.0064)</td>\n",
       "    </tr>\n",
       "    <tr>\n",
       "      <th>0</th>\n",
       "      <td>-2.0007</td>\n",
       "      <td>0.000500</td>\n",
       "      <td>[0.5, 1.0]</td>\n",
       "      <td>0.5326</td>\n",
       "      <td>1.0828</td>\n",
       "      <td>0.0120</td>\n",
       "      <td>0.0116</td>\n",
       "      <td>0.5326(0.0120)</td>\n",
       "      <td>1.0828(0.0116)</td>\n",
       "      <td>-2.0007(0.0116)</td>\n",
       "    </tr>\n",
       "    <tr>\n",
       "      <th>1</th>\n",
       "      <td>-1.9869</td>\n",
       "      <td>0.000495</td>\n",
       "      <td>[0.0, 0.5]</td>\n",
       "      <td>0.0070</td>\n",
       "      <td>0.5418</td>\n",
       "      <td>0.0128</td>\n",
       "      <td>0.0072</td>\n",
       "      <td>0.0070(0.0128)</td>\n",
       "      <td>0.5418(0.0072)</td>\n",
       "      <td>-1.9869(0.0072)</td>\n",
       "    </tr>\n",
       "    <tr>\n",
       "      <th>3</th>\n",
       "      <td>-1.9911</td>\n",
       "      <td>0.000497</td>\n",
       "      <td>[1.0, 0.5]</td>\n",
       "      <td>1.0616</td>\n",
       "      <td>0.5464</td>\n",
       "      <td>0.0180</td>\n",
       "      <td>0.0080</td>\n",
       "      <td>1.0616(0.0180)</td>\n",
       "      <td>0.5464(0.0080)</td>\n",
       "      <td>-1.9911(0.0080)</td>\n",
       "    </tr>\n",
       "    <tr>\n",
       "      <th>4</th>\n",
       "      <td>-1.9880</td>\n",
       "      <td>0.000495</td>\n",
       "      <td>[0.5, 0.5]</td>\n",
       "      <td>0.5290</td>\n",
       "      <td>0.5374</td>\n",
       "      <td>0.0152</td>\n",
       "      <td>0.0080</td>\n",
       "      <td>0.5290(0.0152)</td>\n",
       "      <td>0.5374(0.0080)</td>\n",
       "      <td>-1.988(0.0080)</td>\n",
       "    </tr>\n",
       "  </tbody>\n",
       "</table>\n",
       "</div>"
      ],
      "text/plain": [
       "       a2    var_a2           g      g1      g2  var_g1  var_g2  \\\n",
       "2 -1.9996  0.000500  [0.5, 0.0]  0.5402 -0.0066  0.0132  0.0064   \n",
       "0 -2.0007  0.000500  [0.5, 1.0]  0.5326  1.0828  0.0120  0.0116   \n",
       "1 -1.9869  0.000495  [0.0, 0.5]  0.0070  0.5418  0.0128  0.0072   \n",
       "3 -1.9911  0.000497  [1.0, 0.5]  1.0616  0.5464  0.0180  0.0080   \n",
       "4 -1.9880  0.000495  [0.5, 0.5]  0.5290  0.5374  0.0152  0.0080   \n",
       "\n",
       "           gamma1           gamma2           alpha2  \n",
       "2  0.5402(0.0132)  -0.0066(0.0064)  -1.9996(0.0064)  \n",
       "0  0.5326(0.0120)   1.0828(0.0116)  -2.0007(0.0116)  \n",
       "1  0.0070(0.0128)   0.5418(0.0072)  -1.9869(0.0072)  \n",
       "3  1.0616(0.0180)   0.5464(0.0080)  -1.9911(0.0080)  \n",
       "4  0.5290(0.0152)   0.5374(0.0080)   -1.988(0.0080)  "
      ]
     },
     "execution_count": 82,
     "metadata": {},
     "output_type": "execute_result"
    }
   ],
   "source": [
    "table = pd.DataFrame()\n",
    "\n",
    "table[\"a2\"] =  (df[\"α2\"] / df[\"α1\"]).round(4)\n",
    "\n",
    "weight = 1 / df[\"α1\"]\n",
    "\n",
    "# weight ** 2\n",
    "\n",
    "table[\"var_a2\"] = df[\"var_α2\"] * weight**2\n",
    "\n",
    "table[\"g\"] = gamma_\n",
    "\n",
    "table[[\"g1\", \"g2\"]] = df[[\"γ1\", \"γ2\"]] * 2\n",
    "\n",
    "table[\"var_g1\"] = df[\"var_γ1\"] * 4\n",
    "table[\"var_g2\"] = df[\"var_γ2\"] * 4\n",
    "\n",
    "# table\n",
    "\n",
    "g2 = []\n",
    "for m, v in zip(table[\"g2\"], table[\"var_g2\"]):\n",
    "    g2.append(\"{mean:0<6}({var:0<6})\".format(mean = m, var = v))\n",
    "# print(g2)\n",
    "\n",
    "g1 = []\n",
    "for m, v in zip(table[\"g1\"], table[\"var_g1\"]):\n",
    "    g1.append(\"{mean:0<6}({var:0<6})\".format(mean = m, var = v))\n",
    "# print(g1)\n",
    "\n",
    "a2 = []\n",
    "for m, v in zip(table[\"a2\"], table[\"var_g2\"]):\n",
    "    a2.append(\"{mean:0<6}({var:0<6})\".format(mean = m, var = v))\n",
    "# print(a2)\n",
    "\n",
    "table[\"gamma1\"] = g1\n",
    "table[\"gamma2\"] = g2\n",
    "table[\"alpha2\"] = a2\n",
    "\n",
    "table"
   ]
  },
  {
   "cell_type": "code",
   "execution_count": 83,
   "metadata": {},
   "outputs": [],
   "source": [
    "t211 = table[[\"g\", \"alpha2\", \"gamma1\", \"gamma2\"]]"
   ]
  },
  {
   "cell_type": "code",
   "execution_count": 84,
   "metadata": {},
   "outputs": [],
   "source": [
    "t211.to_csv(\"n500f1d1.csv\")"
   ]
  },
  {
   "cell_type": "markdown",
   "metadata": {},
   "source": [
    "# Plots"
   ]
  },
  {
   "cell_type": "code",
   "execution_count": 133,
   "metadata": {},
   "outputs": [
    {
     "ename": "NameError",
     "evalue": "name 'Alpha' is not defined",
     "output_type": "error",
     "traceback": [
      "\u001b[0;31m---------------------------------------------------------------------------\u001b[0m",
      "\u001b[0;31mNameError\u001b[0m                                 Traceback (most recent call last)",
      "\u001b[0;32m<ipython-input-133-ae9874783b78>\u001b[0m in \u001b[0;36m<module>\u001b[0;34m\u001b[0m\n\u001b[1;32m      3\u001b[0m \u001b[0mplt\u001b[0m\u001b[0;34m.\u001b[0m\u001b[0mplot\u001b[0m\u001b[0;34m(\u001b[0m\u001b[0mx_\u001b[0m\u001b[0;34m,\u001b[0m \u001b[0mf\u001b[0m\u001b[0;34m(\u001b[0m\u001b[0mx_\u001b[0m\u001b[0;34m)\u001b[0m\u001b[0;34m)\u001b[0m\u001b[0;34m\u001b[0m\u001b[0;34m\u001b[0m\u001b[0m\n\u001b[1;32m      4\u001b[0m \u001b[0;32mfor\u001b[0m \u001b[0mk\u001b[0m \u001b[0;32min\u001b[0m \u001b[0mrange\u001b[0m\u001b[0;34m(\u001b[0m\u001b[0;36m0\u001b[0m\u001b[0;34m,\u001b[0m \u001b[0;36m4\u001b[0m\u001b[0;34m)\u001b[0m\u001b[0;34m:\u001b[0m\u001b[0;34m\u001b[0m\u001b[0;34m\u001b[0m\u001b[0m\n\u001b[0;32m----> 5\u001b[0;31m     \u001b[0malphak\u001b[0m \u001b[0;34m=\u001b[0m \u001b[0mAlpha\u001b[0m\u001b[0;34m.\u001b[0m\u001b[0mloc\u001b[0m\u001b[0;34m[\u001b[0m\u001b[0mk\u001b[0m\u001b[0;34m]\u001b[0m\u001b[0;34m\u001b[0m\u001b[0;34m\u001b[0m\u001b[0m\n\u001b[0m\u001b[1;32m      6\u001b[0m     \u001b[0mk\u001b[0m \u001b[0;34m=\u001b[0m \u001b[0malphak\u001b[0m\u001b[0;34m[\u001b[0m\u001b[0;36m1\u001b[0m\u001b[0;34m]\u001b[0m\u001b[0;34m/\u001b[0m\u001b[0malphak\u001b[0m\u001b[0;34m[\u001b[0m\u001b[0;36m0\u001b[0m\u001b[0;34m]\u001b[0m\u001b[0;34m\u001b[0m\u001b[0;34m\u001b[0m\u001b[0m\n\u001b[1;32m      7\u001b[0m     \u001b[0mfk\u001b[0m \u001b[0;34m=\u001b[0m \u001b[0;32mlambda\u001b[0m \u001b[0mx\u001b[0m\u001b[0;34m:\u001b[0m \u001b[0mk\u001b[0m\u001b[0;34m*\u001b[0m\u001b[0mx\u001b[0m\u001b[0;34m\u001b[0m\u001b[0;34m\u001b[0m\u001b[0m\n",
      "\u001b[0;31mNameError\u001b[0m: name 'Alpha' is not defined"
     ]
    },
    {
     "data": {
      "image/png": "[encoded data removed]",
      "text/plain": [
       "<Figure size 432x288 with 1 Axes>"
      ]
     },
     "metadata": {
      "needs_background": "light"
     },
     "output_type": "display_data"
    }
   ],
   "source": [
    "f = lambda x: -2.0*x\n",
    "x_ = np.linspace(0, α[0]/2, 10)\n",
    "plt.plot(x_, f(x_))\n",
    "for k in range(0, 4):\n",
    "    alphak = Alpha.loc[k]\n",
    "    k = alphak[1]/alphak[0]\n",
    "    fk = lambda x: k*x\n",
    "    x_ = np.linspace(0, alphak[0], 10)\n",
    "    plt.plot(x_, fk(x_), linestyle = \"--\")"
   ]
  },
  {
   "cell_type": "code",
   "execution_count": 134,
   "metadata": {},
   "outputs": [
    {
     "name": "stderr",
     "output_type": "stream",
     "text": [
      "<ipython-input-134-a0e2e256ed6c>:38: MatplotlibDeprecationWarning: Adding an axes using the same arguments as a previous axes currently reuses the earlier instance.  In a future version, a new instance will always be created and returned.  Meanwhile, this warning can be suppressed, and the future behavior ensured, by passing a unique label to each axes instance.\n",
      "  ax1 = fig.add_subplot(spec[0,1])\n",
      "<ipython-input-134-a0e2e256ed6c>:59: MatplotlibDeprecationWarning: Adding an axes using the same arguments as a previous axes currently reuses the earlier instance.  In a future version, a new instance will always be created and returned.  Meanwhile, this warning can be suppressed, and the future behavior ensured, by passing a unique label to each axes instance.\n",
      "  ax2 = fig.add_subplot(spec[1,0])\n",
      "<ipython-input-134-a0e2e256ed6c>:80: MatplotlibDeprecationWarning: Adding an axes using the same arguments as a previous axes currently reuses the earlier instance.  In a future version, a new instance will always be created and returned.  Meanwhile, this warning can be suppressed, and the future behavior ensured, by passing a unique label to each axes instance.\n",
      "  ax3 = fig.add_subplot(spec[1,1])\n"
     ]
    },
    {
     "data": {
      "image/png": "[encoded data removed]",
      "text/plain": [
       "<Figure size 720x576 with 4 Axes>"
      ]
     },
     "metadata": {
      "needs_background": "light"
     },
     "output_type": "display_data"
    }
   ],
   "source": [
    "fig = plt.figure(figsize = [10,8], constrained_layout=True)\n",
    "spec = gridspec.GridSpec(ncols=2, nrows=2, figure=fig)\n",
    "ax0 = fig.add_subplot(spec[0,0])\n",
    "ax0.grid()\n",
    "\n",
    "ax1 = fig.add_subplot(spec[0,1])\n",
    "ax1.grid()\n",
    "\n",
    "ax2 = fig.add_subplot(spec[1,0])\n",
    "ax2.grid()\n",
    "\n",
    "ax3 = fig.add_subplot(spec[1,1])\n",
    "ax3.grid()\n",
    "\n",
    "Gamma = df120[[\"γ1\", \"γ2\"]].round(2)\n",
    "Gamma\n",
    "ax0.set_title(r\"n = 300, $\\epsilon$ ~ $N(0, 1)$\")\n",
    "ax0.set_xlabel(r\"$\\gamma_1$\")\n",
    "ax0.set_ylabel(r\"$\\gamma_2$\")\n",
    "# ax0.text(0.5,3.5, r\"$\\gamma$ = $(1, 4)^T$\")\n",
    "# ax0.text(0.12,2.2, r\"$\\hat \\gamma$ = $({}, {})^T$\".format(Gamma.loc[4][0],Gamma.loc[4][1]))\n",
    "# ax0.text(3.0,0.8, r\"$\\gamma$ = $(4, 1)^T$\")\n",
    "# ax0.text(2.0,0.4, r\"$\\hat \\gamma$ = $({}, {})^T$\".format(Gamma.loc[7][0],Gamma.loc[7][1]))\n",
    "for i in range(3):\n",
    "    k = gamma[i + 1][1]/(gamma[i + 1][0] + 0.01)\n",
    "    fk = lambda x: k*x\n",
    "    x = np.linspace(0, gamma[i + 1][0], 10)\n",
    "    ax0.plot(x, fk(x), c = \"y\")\n",
    "    gammai = Gamma.loc[i + 1]\n",
    "    k_ = gammai[1]/gammai[0]\n",
    "    fk_ = lambda x: k_*x\n",
    "    x_ = np.linspace(0, gammai[0], 10)\n",
    "    ax0.plot(x_, fk_(x_), linestyle = \"--\", c = \"g\")\n",
    "\n",
    "Gamma = df121[[\"γ1\", \"γ2\"]].round(2)\n",
    "Gamma\n",
    "ax1.set_title(r\"n = 300, $\\epsilon$ ~ $Cauchy(0, 1)$\")\n",
    "ax1 = fig.add_subplot(spec[0,1])\n",
    "ax1.set_xlabel(r\"$\\gamma_1$\")\n",
    "ax1.set_ylabel(r\"$\\gamma_2$\")\n",
    "# ax1.text(0.5,3.5, r\"$\\gamma$ = $(1, 4)^T$\")\n",
    "# ax1.text(0.12,2.2, r\"$\\hat \\gamma$ = $({}, {})^T$\".format(Gamma.loc[4][0],Gamma.loc[4][1]))\n",
    "# ax1.text(3.0,0.8, r\"$\\gamma$ = $(4, 1)^T$\")\n",
    "# ax1.text(2.0,0.4, r\"$\\hat \\gamma$ = $({}, {})^T$\".format(Gamma.loc[7][0],Gamma.loc[7][1]))\n",
    "for i in range(3):\n",
    "    k = gamma[i + 1][1]/(gamma[i + 1][0] + 0.01)\n",
    "    fk = lambda x: k*x\n",
    "    x = np.linspace(0, gamma[i + 1][0], 10)\n",
    "    ax1.plot(x, fk(x), c = \"y\")\n",
    "    gammai = Gamma.loc[i + 1]\n",
    "    k_ = gammai[1]/gammai[0]\n",
    "    fk_ = lambda x: k_*x\n",
    "    x_ = np.linspace(0, gammai[0], 10)\n",
    "    ax1.plot(x_, fk_(x_), linestyle = \"--\", c = \"g\")\n",
    "\n",
    "Gamma = df220[[\"γ1\", \"γ2\"]].round(2)\n",
    "Gamma\n",
    "ax2.set_title(r\"n = 600, $\\epsilon$ ~ $N(0, 1)$\")\n",
    "ax2 = fig.add_subplot(spec[1,0])\n",
    "ax2.set_xlabel(r\"$\\gamma_1$\")\n",
    "ax2.set_ylabel(r\"$\\gamma_2$\")\n",
    "# ax2.text(0.5,3.5, r\"$\\gamma$ = $(1, 4)^T$\")\n",
    "# ax2.text(0.12,2.2, r\"$\\hat \\gamma$ = $({}, {})^T$\".format(Gamma.loc[4][0],Gamma.loc[4][1]))\n",
    "# ax2.text(3.0,0.8, r\"$\\gamma$ = $(4, 1)^T$\")\n",
    "# ax2.text(2.0,0.4, r\"$\\hat \\gamma$ = $({}, {})^T$\".format(Gamma.loc[7][0],Gamma.loc[7][1]))\n",
    "for i in range(3):\n",
    "    k = gamma[i + 1][1]/(gamma[i + 1][0] + 0.01)\n",
    "    fk = lambda x: k*x\n",
    "    x = np.linspace(0, gamma[i + 1][0], 10)\n",
    "    ax2.plot(x, fk(x), c = \"y\")\n",
    "    gammai = Gamma.loc[i + 1]\n",
    "    k_ = gammai[1]/gammai[0]\n",
    "    fk_ = lambda x: k_*x\n",
    "    x_ = np.linspace(0, gammai[0], 10)\n",
    "    ax2.plot(x_, fk_(x_), linestyle = \"--\", c = \"g\")\n",
    "\n",
    "Gamma = df221[[\"γ1\", \"γ2\"]].round(2)\n",
    "Gamma\n",
    "ax3.set_title(r\"n = 600, $\\epsilon$ ~ $Cauchy(0, 1)$\")\n",
    "ax3 = fig.add_subplot(spec[1,1])\n",
    "ax3.set_xlabel(r\"$\\gamma_1$\")\n",
    "ax3.set_ylabel(r\"$\\gamma_2$\")\n",
    "# ax3.text(0.5,3.5, r\"$\\gamma$ = $(1, 4)^T$\")\n",
    "# ax3.text(0.12,2.2, r\"$\\hat \\gamma$ = $({}, {})^T$\".format(Gamma.loc[4][0],Gamma.loc[4][1]))\n",
    "# ax3.text(3.0,0.8, r\"$\\gamma$ = $(4, 1)^T$\")\n",
    "# ax3.text(2.0,0.4, r\"$\\hat \\gamma$ = $({}, {})^T$\".format(Gamma.loc[7][0],Gamma.loc[7][1]))\n",
    "for i in range(3):\n",
    "    k = gamma[i + 1][1]/(gamma[i + 1][0] + 0.01)\n",
    "    fk = lambda x: k*x\n",
    "    x = np.linspace(0, gamma[i + 1][0], 10)\n",
    "    ax3.plot(x, fk(x), c = \"y\")\n",
    "    gammai = Gamma.loc[i + 1]\n",
    "    k_ = gammai[1]/gammai[0]\n",
    "    fk_ = lambda x: k_*x\n",
    "    x_ = np.linspace(0, gammai[0], 10)\n",
    "    ax3.plot(x_, fk_(x_), linestyle = \"--\", c = \"g\")\n",
    "\n",
    "plt.savefig(\"model_2.png\", format='png', bbox_inches='tight', dpi=300, transparent=True)"
   ]
  },
  {
   "cell_type": "code",
   "execution_count": 287,
   "metadata": {},
   "outputs": [],
   "source": [
    "fig.savefig(\"model_2.png\")"
   ]
  },
  {
   "cell_type": "code",
   "execution_count": 102,
   "metadata": {},
   "outputs": [
    {
     "name": "stdout",
     "output_type": "stream",
     "text": [
      " 0.9994215685377588\n",
      " 0.9999941336742791\n",
      " 0.99995613933659\n",
      " 0.9997189287243002\n",
      " 0.999969069416688\n",
      " 0.9999975360914906\n",
      " 0.9997783344796746\n"
     ]
    }
   ],
   "source": [
    "for k in range(7):\n",
    "    γk = gamma[k + 1]\n",
    "    gammak = Gamma.loc[k + 1]\n",
    "    angle = np.sum(gammak * γk) / (np.linalg.norm(γk)* np.linalg.norm(gammak))\n",
    "    print(\"\",angle)"
   ]
  },
  {
   "cell_type": "code",
   "execution_count": 91,
   "metadata": {},
   "outputs": [
    {
     "data": {
      "text/plain": [
       "[[0, 0],\n",
       " [1.0, 0.001],\n",
       " [1.0, 1.0],\n",
       " [1.0, 2.0],\n",
       " [1.0, 4.0],\n",
       " [0.001, 1.0],\n",
       " [2.0, 1.0],\n",
       " [4.0, 1.0]]"
      ]
     },
     "execution_count": 91,
     "metadata": {},
     "output_type": "execute_result"
    }
   ],
   "source": [
    "gamma"
   ]
  },
  {
   "cell_type": "code",
   "execution_count": null,
   "metadata": {},
   "outputs": [],
   "source": []
  }
 ],
 "metadata": {
  "kernelspec": {
   "display_name": "Python 3 (ipykernel)",
   "language": "python",
   "name": "python3"
  },
  "language_info": {
   "codemirror_mode": {
    "name": "ipython",
    "version": 3
   },
   "file_extension": ".py",
   "mimetype": "text/x-python",
   "name": "python",
   "nbconvert_exporter": "python",
   "pygments_lexer": "ipython3",
   "version": "3.9.5"
  }
 },
 "nbformat": 4,
 "nbformat_minor": 4
}
