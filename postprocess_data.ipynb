{
 "cells": [
  {
   "cell_type": "code",
   "execution_count": 11,
   "metadata": {},
   "outputs": [],
   "source": [
    "import pandas as pd\n",
    "import matplotlib.pyplot as plt"
   ]
  },
  {
   "cell_type": "code",
   "execution_count": 17,
   "metadata": {},
   "outputs": [],
   "source": [
    "df310 = pd.read_csv(\"simulation_2/300 f1 d0.csv\")\n",
    "df320 = pd.read_csv(\"simulation_2/300 f2 d0.csv\")\n",
    "df311 = pd.read_csv(\"simulation_2/300 f1 d1.csv\")\n",
    "df321 = pd.read_csv(\"simulation_2/300 f2 d1.csv\")\n",
    "\n",
    "df610 = pd.read_csv(\"simulation_2/600 f1 d0.csv\")\n",
    "df620 = pd.read_csv(\"simulation_2/600 f2 d0.csv\")\n",
    "df611 = pd.read_csv(\"simulation_2/600 f1 d1.csv\")\n",
    "df621 = pd.read_csv(\"simulation_2/600 f2 d1.csv\")"
   ]
  },
  {
   "cell_type": "code",
   "execution_count": 18,
   "metadata": {},
   "outputs": [],
   "source": [
    "df = df321"
   ]
  },
  {
   "cell_type": "code",
   "execution_count": 19,
   "metadata": {},
   "outputs": [
    {
     "data": {
      "text/plain": [
       "0      0.110868\n",
       "1      0.035029\n",
       "2      1.006874\n",
       "3      1.954030\n",
       "4      3.631781\n",
       "5    112.797570\n",
       "6      0.502778\n",
       "7      0.227742\n",
       "dtype: float64"
      ]
     },
     "execution_count": 19,
     "metadata": {},
     "output_type": "execute_result"
    }
   ],
   "source": [
    "df[\"γ2\"] / df[\"γ1\"]"
   ]
  },
  {
   "cell_type": "code",
   "execution_count": 20,
   "metadata": {},
   "outputs": [
    {
     "data": {
      "text/plain": [
       "0    0.398097\n",
       "1    0.671760\n",
       "2    0.466999\n",
       "3    0.529935\n",
       "4    0.491888\n",
       "5    0.443368\n",
       "6    0.596443\n",
       "7    0.511145\n",
       "dtype: float64"
      ]
     },
     "execution_count": 20,
     "metadata": {},
     "output_type": "execute_result"
    }
   ],
   "source": [
    "df[\"α2\"] / df[\"α1\"]"
   ]
  },
  {
   "cell_type": "code",
   "execution_count": null,
   "metadata": {},
   "outputs": [],
   "source": []
  }
 ],
 "metadata": {
  "kernelspec": {
   "display_name": "Python 3",
   "language": "python",
   "name": "python3"
  },
  "language_info": {
   "codemirror_mode": {
    "name": "ipython",
    "version": 3
   },
   "file_extension": ".py",
   "mimetype": "text/x-python",
   "name": "python",
   "nbconvert_exporter": "python",
   "pygments_lexer": "ipython3",
   "version": "3.8.3"
  }
 },
 "nbformat": 4,
 "nbformat_minor": 4
}
