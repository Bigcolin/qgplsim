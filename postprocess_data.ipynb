{
 "cells": [
  {
   "cell_type": "code",
   "execution_count": 4,
   "metadata": {},
   "outputs": [],
   "source": [
    "import pandas as pd\n",
    "import numpy as np\n",
    "import matplotlib.pyplot as plt\n",
    "import matplotlib.gridspec as gridspec"
   ]
  },
  {
   "cell_type": "code",
   "execution_count": 25,
   "metadata": {},
   "outputs": [],
   "source": [
    "df320 = pd.read_csv(\"250 f2 d0.csv\")\n",
    "df321 = pd.read_csv(\"250 f2 d1.csv\")\n",
    "df620 = pd.read_csv(\"500 f2 d0.csv\")\n",
    "df621 = pd.read_csv(\"500 f2 d1.csv\")\n",
    "df = pd.read_csv(\"500 f1 d0.csv\")\n"
   ]
  },
  {
   "cell_type": "code",
   "execution_count": 32,
   "metadata": {},
   "outputs": [],
   "source": [
    "α = [1, -2]\n",
    "\n",
    "gamma = [[0.5, 0.0], [0.5, 1.0], [0.0, 0.5], [1.0, 0.5]]"
   ]
  },
  {
   "cell_type": "code",
   "execution_count": 8,
   "metadata": {},
   "outputs": [
    {
     "data": {
      "text/html": [
       "<div>\n",
       "<style scoped>\n",
       "    .dataframe tbody tr th:only-of-type {\n",
       "        vertical-align: middle;\n",
       "    }\n",
       "\n",
       "    .dataframe tbody tr th {\n",
       "        vertical-align: top;\n",
       "    }\n",
       "\n",
       "    .dataframe thead th {\n",
       "        text-align: right;\n",
       "    }\n",
       "</style>\n",
       "<table border=\"1\" class=\"dataframe\">\n",
       "  <thead>\n",
       "    <tr style=\"text-align: right;\">\n",
       "      <th></th>\n",
       "      <th>α1</th>\n",
       "      <th>α2</th>\n",
       "      <th>var_α1</th>\n",
       "      <th>var_α2</th>\n",
       "      <th>γ1</th>\n",
       "      <th>γ2</th>\n",
       "      <th>var_γ1</th>\n",
       "      <th>var_γ2</th>\n",
       "      <th>θ1</th>\n",
       "      <th>θ2</th>\n",
       "      <th>var_θ1</th>\n",
       "      <th>var_θ2</th>\n",
       "      <th>β1</th>\n",
       "      <th>β2</th>\n",
       "      <th>var_β1</th>\n",
       "      <th>var_β2</th>\n",
       "    </tr>\n",
       "  </thead>\n",
       "  <tbody>\n",
       "    <tr>\n",
       "      <th>0</th>\n",
       "      <td>0.445879</td>\n",
       "      <td>-0.895050</td>\n",
       "      <td>0.000063</td>\n",
       "      <td>0.000016</td>\n",
       "      <td>0.347573</td>\n",
       "      <td>0.003152</td>\n",
       "      <td>0.015603</td>\n",
       "      <td>0.007302</td>\n",
       "      <td>1.994412</td>\n",
       "      <td>0.993792</td>\n",
       "      <td>0.005033</td>\n",
       "      <td>0.002047</td>\n",
       "      <td>-0.444737</td>\n",
       "      <td>-0.404149</td>\n",
       "      <td>1.345134</td>\n",
       "      <td>0.162563</td>\n",
       "    </tr>\n",
       "    <tr>\n",
       "      <th>1</th>\n",
       "      <td>0.446344</td>\n",
       "      <td>-0.894826</td>\n",
       "      <td>0.000051</td>\n",
       "      <td>0.000013</td>\n",
       "      <td>0.349580</td>\n",
       "      <td>0.719109</td>\n",
       "      <td>0.022394</td>\n",
       "      <td>0.011420</td>\n",
       "      <td>2.002462</td>\n",
       "      <td>0.998756</td>\n",
       "      <td>0.004489</td>\n",
       "      <td>0.001181</td>\n",
       "      <td>-0.633307</td>\n",
       "      <td>-2.510042</td>\n",
       "      <td>1.743443</td>\n",
       "      <td>1.870744</td>\n",
       "    </tr>\n",
       "    <tr>\n",
       "      <th>2</th>\n",
       "      <td>0.447453</td>\n",
       "      <td>-0.894272</td>\n",
       "      <td>0.000051</td>\n",
       "      <td>0.000013</td>\n",
       "      <td>-0.005714</td>\n",
       "      <td>0.354443</td>\n",
       "      <td>0.015987</td>\n",
       "      <td>0.008095</td>\n",
       "      <td>2.002929</td>\n",
       "      <td>1.002295</td>\n",
       "      <td>0.003850</td>\n",
       "      <td>0.001452</td>\n",
       "      <td>0.670376</td>\n",
       "      <td>-1.342704</td>\n",
       "      <td>0.385775</td>\n",
       "      <td>0.449079</td>\n",
       "    </tr>\n",
       "    <tr>\n",
       "      <th>3</th>\n",
       "      <td>0.445283</td>\n",
       "      <td>-0.895336</td>\n",
       "      <td>0.000077</td>\n",
       "      <td>0.000019</td>\n",
       "      <td>0.699121</td>\n",
       "      <td>0.351257</td>\n",
       "      <td>0.017505</td>\n",
       "      <td>0.008245</td>\n",
       "      <td>1.999168</td>\n",
       "      <td>0.994418</td>\n",
       "      <td>0.005820</td>\n",
       "      <td>0.002062</td>\n",
       "      <td>-2.949233</td>\n",
       "      <td>-1.341388</td>\n",
       "      <td>4.576266</td>\n",
       "      <td>0.541582</td>\n",
       "    </tr>\n",
       "  </tbody>\n",
       "</table>\n",
       "</div>"
      ],
      "text/plain": [
       "         α1        α2    var_α1    var_α2        γ1        γ2    var_γ1  \\\n",
       "0  0.445879 -0.895050  0.000063  0.000016  0.347573  0.003152  0.015603   \n",
       "1  0.446344 -0.894826  0.000051  0.000013  0.349580  0.719109  0.022394   \n",
       "2  0.447453 -0.894272  0.000051  0.000013 -0.005714  0.354443  0.015987   \n",
       "3  0.445283 -0.895336  0.000077  0.000019  0.699121  0.351257  0.017505   \n",
       "\n",
       "     var_γ2        θ1        θ2    var_θ1    var_θ2        β1        β2  \\\n",
       "0  0.007302  1.994412  0.993792  0.005033  0.002047 -0.444737 -0.404149   \n",
       "1  0.011420  2.002462  0.998756  0.004489  0.001181 -0.633307 -2.510042   \n",
       "2  0.008095  2.002929  1.002295  0.003850  0.001452  0.670376 -1.342704   \n",
       "3  0.008245  1.999168  0.994418  0.005820  0.002062 -2.949233 -1.341388   \n",
       "\n",
       "     var_β1    var_β2  \n",
       "0  1.345134  0.162563  \n",
       "1  1.743443  1.870744  \n",
       "2  0.385775  0.449079  \n",
       "3  4.576266  0.541582  "
      ]
     },
     "execution_count": 8,
     "metadata": {},
     "output_type": "execute_result"
    }
   ],
   "source": [
    "df"
   ]
  },
  {
   "cell_type": "code",
   "execution_count": 9,
   "metadata": {},
   "outputs": [],
   "source": [
    "table = pd.DataFrame(columns = ['a', 'g1', 'g2'], index = gamma)"
   ]
  },
  {
   "cell_type": "code",
   "execution_count": 11,
   "metadata": {},
   "outputs": [],
   "source": [
    "table['g1'].iloc[0] = 0"
   ]
  },
  {
   "cell_type": "code",
   "execution_count": 12,
   "metadata": {},
   "outputs": [
    {
     "data": {
      "text/html": [
       "<div>\n",
       "<style scoped>\n",
       "    .dataframe tbody tr th:only-of-type {\n",
       "        vertical-align: middle;\n",
       "    }\n",
       "\n",
       "    .dataframe tbody tr th {\n",
       "        vertical-align: top;\n",
       "    }\n",
       "\n",
       "    .dataframe thead th {\n",
       "        text-align: right;\n",
       "    }\n",
       "</style>\n",
       "<table border=\"1\" class=\"dataframe\">\n",
       "  <thead>\n",
       "    <tr style=\"text-align: right;\">\n",
       "      <th></th>\n",
       "      <th>a</th>\n",
       "      <th>g1</th>\n",
       "      <th>g2</th>\n",
       "    </tr>\n",
       "  </thead>\n",
       "  <tbody>\n",
       "    <tr>\n",
       "      <th>[0.5 0.0]</th>\n",
       "      <td>NaN</td>\n",
       "      <td>0</td>\n",
       "      <td>NaN</td>\n",
       "    </tr>\n",
       "    <tr>\n",
       "      <th>[0.5 1.0]</th>\n",
       "      <td>NaN</td>\n",
       "      <td>NaN</td>\n",
       "      <td>NaN</td>\n",
       "    </tr>\n",
       "    <tr>\n",
       "      <th>[0.0 0.5]</th>\n",
       "      <td>NaN</td>\n",
       "      <td>NaN</td>\n",
       "      <td>NaN</td>\n",
       "    </tr>\n",
       "    <tr>\n",
       "      <th>[1.0 0.5]</th>\n",
       "      <td>NaN</td>\n",
       "      <td>NaN</td>\n",
       "      <td>NaN</td>\n",
       "    </tr>\n",
       "  </tbody>\n",
       "</table>\n",
       "</div>"
      ],
      "text/plain": [
       "             a   g1   g2\n",
       "[0.5 0.0]  NaN    0  NaN\n",
       "[0.5 1.0]  NaN  NaN  NaN\n",
       "[0.0 0.5]  NaN  NaN  NaN\n",
       "[1.0 0.5]  NaN  NaN  NaN"
      ]
     },
     "execution_count": 12,
     "metadata": {},
     "output_type": "execute_result"
    }
   ],
   "source": [
    "table"
   ]
  },
  {
   "cell_type": "code",
   "execution_count": 26,
   "metadata": {},
   "outputs": [
    {
     "data": {
      "text/html": [
       "<div>\n",
       "<style scoped>\n",
       "    .dataframe tbody tr th:only-of-type {\n",
       "        vertical-align: middle;\n",
       "    }\n",
       "\n",
       "    .dataframe tbody tr th {\n",
       "        vertical-align: top;\n",
       "    }\n",
       "\n",
       "    .dataframe thead th {\n",
       "        text-align: right;\n",
       "    }\n",
       "</style>\n",
       "<table border=\"1\" class=\"dataframe\">\n",
       "  <thead>\n",
       "    <tr style=\"text-align: right;\">\n",
       "      <th></th>\n",
       "      <th>α1</th>\n",
       "      <th>α2</th>\n",
       "      <th>var_α1</th>\n",
       "      <th>var_α2</th>\n",
       "      <th>γ1</th>\n",
       "      <th>γ2</th>\n",
       "      <th>var_γ1</th>\n",
       "      <th>var_γ2</th>\n",
       "      <th>θ1</th>\n",
       "      <th>θ2</th>\n",
       "      <th>var_θ1</th>\n",
       "      <th>var_θ2</th>\n",
       "      <th>β1</th>\n",
       "      <th>β2</th>\n",
       "      <th>var_β1</th>\n",
       "      <th>var_β2</th>\n",
       "    </tr>\n",
       "  </thead>\n",
       "  <tbody>\n",
       "    <tr>\n",
       "      <th>0</th>\n",
       "      <td>0.4459</td>\n",
       "      <td>-0.8950</td>\n",
       "      <td>0.0001</td>\n",
       "      <td>0.0</td>\n",
       "      <td>0.3476</td>\n",
       "      <td>0.0032</td>\n",
       "      <td>0.0156</td>\n",
       "      <td>0.0073</td>\n",
       "      <td>1.9944</td>\n",
       "      <td>0.9938</td>\n",
       "      <td>0.0050</td>\n",
       "      <td>0.0020</td>\n",
       "      <td>-0.4447</td>\n",
       "      <td>-0.4041</td>\n",
       "      <td>1.3451</td>\n",
       "      <td>0.1626</td>\n",
       "    </tr>\n",
       "    <tr>\n",
       "      <th>1</th>\n",
       "      <td>0.4463</td>\n",
       "      <td>-0.8948</td>\n",
       "      <td>0.0001</td>\n",
       "      <td>0.0</td>\n",
       "      <td>0.3496</td>\n",
       "      <td>0.7191</td>\n",
       "      <td>0.0224</td>\n",
       "      <td>0.0114</td>\n",
       "      <td>2.0025</td>\n",
       "      <td>0.9988</td>\n",
       "      <td>0.0045</td>\n",
       "      <td>0.0012</td>\n",
       "      <td>-0.6333</td>\n",
       "      <td>-2.5100</td>\n",
       "      <td>1.7434</td>\n",
       "      <td>1.8707</td>\n",
       "    </tr>\n",
       "    <tr>\n",
       "      <th>2</th>\n",
       "      <td>0.4475</td>\n",
       "      <td>-0.8943</td>\n",
       "      <td>0.0001</td>\n",
       "      <td>0.0</td>\n",
       "      <td>-0.0057</td>\n",
       "      <td>0.3544</td>\n",
       "      <td>0.0160</td>\n",
       "      <td>0.0081</td>\n",
       "      <td>2.0029</td>\n",
       "      <td>1.0023</td>\n",
       "      <td>0.0039</td>\n",
       "      <td>0.0015</td>\n",
       "      <td>0.6704</td>\n",
       "      <td>-1.3427</td>\n",
       "      <td>0.3858</td>\n",
       "      <td>0.4491</td>\n",
       "    </tr>\n",
       "    <tr>\n",
       "      <th>3</th>\n",
       "      <td>0.4453</td>\n",
       "      <td>-0.8953</td>\n",
       "      <td>0.0001</td>\n",
       "      <td>0.0</td>\n",
       "      <td>0.6991</td>\n",
       "      <td>0.3513</td>\n",
       "      <td>0.0175</td>\n",
       "      <td>0.0082</td>\n",
       "      <td>1.9992</td>\n",
       "      <td>0.9944</td>\n",
       "      <td>0.0058</td>\n",
       "      <td>0.0021</td>\n",
       "      <td>-2.9492</td>\n",
       "      <td>-1.3414</td>\n",
       "      <td>4.5763</td>\n",
       "      <td>0.5416</td>\n",
       "    </tr>\n",
       "  </tbody>\n",
       "</table>\n",
       "</div>"
      ],
      "text/plain": [
       "       α1      α2  var_α1  var_α2      γ1      γ2  var_γ1  var_γ2      θ1  \\\n",
       "0  0.4459 -0.8950  0.0001     0.0  0.3476  0.0032  0.0156  0.0073  1.9944   \n",
       "1  0.4463 -0.8948  0.0001     0.0  0.3496  0.7191  0.0224  0.0114  2.0025   \n",
       "2  0.4475 -0.8943  0.0001     0.0 -0.0057  0.3544  0.0160  0.0081  2.0029   \n",
       "3  0.4453 -0.8953  0.0001     0.0  0.6991  0.3513  0.0175  0.0082  1.9992   \n",
       "\n",
       "       θ2  var_θ1  var_θ2      β1      β2  var_β1  var_β2  \n",
       "0  0.9938  0.0050  0.0020 -0.4447 -0.4041  1.3451  0.1626  \n",
       "1  0.9988  0.0045  0.0012 -0.6333 -2.5100  1.7434  1.8707  \n",
       "2  1.0023  0.0039  0.0015  0.6704 -1.3427  0.3858  0.4491  \n",
       "3  0.9944  0.0058  0.0021 -2.9492 -1.3414  4.5763  0.5416  "
      ]
     },
     "execution_count": 26,
     "metadata": {},
     "output_type": "execute_result"
    }
   ],
   "source": [
    "df3 = df.round(4)\n",
    "df3"
   ]
  },
  {
   "cell_type": "code",
   "execution_count": 14,
   "metadata": {},
   "outputs": [
    {
     "name": "stdout",
     "output_type": "stream",
     "text": [
      "0.0032(0.0073)\n",
      "0.7191(0.0114)\n",
      "0.3544(0.0081)\n",
      "0.3513(0.0082)\n"
     ]
    }
   ],
   "source": [
    "s = []\n",
    "for m, v in zip(df3[\"γ2\"], df3[\"var_γ2\"]):\n",
    "    s = \"{mean:0<5}({var:0<5})\".format(mean = m, var = v)\n",
    "    print(s)"
   ]
  },
  {
   "cell_type": "code",
   "execution_count": 15,
   "metadata": {},
   "outputs": [
    {
     "data": {
      "text/plain": [
       "'0.3513(0.0082)'"
      ]
     },
     "execution_count": 15,
     "metadata": {},
     "output_type": "execute_result"
    }
   ],
   "source": [
    "s"
   ]
  },
  {
   "cell_type": "code",
   "execution_count": 16,
   "metadata": {},
   "outputs": [],
   "source": [
    "Alpha = df[[\"α1\", \"α2\"]]\n",
    "Gamma = df[[\"γ1\", \"γ2\"]]"
   ]
  },
  {
   "cell_type": "code",
   "execution_count": 17,
   "metadata": {},
   "outputs": [
    {
     "data": {
      "text/plain": [
       "0.9999995432207499"
      ]
     },
     "execution_count": 17,
     "metadata": {},
     "output_type": "execute_result"
    }
   ],
   "source": [
    "alphak = Alpha.loc[1]\n",
    "np.sum(alphak * α) / (np.linalg.norm(α)* np.linalg.norm(alphak))"
   ]
  },
  {
   "cell_type": "code",
   "execution_count": 18,
   "metadata": {},
   "outputs": [
    {
     "data": {
      "text/plain": [
       "0   -0.498161\n",
       "1   -0.498806\n",
       "2   -0.500355\n",
       "3   -0.497336\n",
       "dtype: float64"
      ]
     },
     "execution_count": 18,
     "metadata": {},
     "output_type": "execute_result"
    }
   ],
   "source": [
    "df[\"α1\"] / df[\"α2\"]"
   ]
  },
  {
   "cell_type": "code",
   "execution_count": 21,
   "metadata": {},
   "outputs": [
    {
     "data": {
      "image/png": "[encoded data removed]",
      "text/plain": [
       "<Figure size 432x288 with 1 Axes>"
      ]
     },
     "metadata": {
      "needs_background": "light"
     },
     "output_type": "display_data"
    }
   ],
   "source": [
    "f = lambda x: -2.0*x\n",
    "x_ = np.linspace(0, α[0]/2, 10)\n",
    "plt.plot(x_, f(x_))\n",
    "for k in range(0, 4):\n",
    "    alphak = Alpha.loc[k]\n",
    "    k = alphak[1]/alphak[0]\n",
    "    fk = lambda x: k*x\n",
    "    x_ = np.linspace(0, alphak[0], 10)\n",
    "    plt.plot(x_, fk(x_), linestyle = \"--\")"
   ]
  },
  {
   "cell_type": "code",
   "execution_count": 22,
   "metadata": {},
   "outputs": [
    {
     "data": {
      "text/html": [
       "<div>\n",
       "<style scoped>\n",
       "    .dataframe tbody tr th:only-of-type {\n",
       "        vertical-align: middle;\n",
       "    }\n",
       "\n",
       "    .dataframe tbody tr th {\n",
       "        vertical-align: top;\n",
       "    }\n",
       "\n",
       "    .dataframe thead th {\n",
       "        text-align: right;\n",
       "    }\n",
       "</style>\n",
       "<table border=\"1\" class=\"dataframe\">\n",
       "  <thead>\n",
       "    <tr style=\"text-align: right;\">\n",
       "      <th></th>\n",
       "      <th>γ1</th>\n",
       "      <th>γ2</th>\n",
       "    </tr>\n",
       "  </thead>\n",
       "  <tbody>\n",
       "    <tr>\n",
       "      <th>0</th>\n",
       "      <td>0.347573</td>\n",
       "      <td>0.003152</td>\n",
       "    </tr>\n",
       "    <tr>\n",
       "      <th>1</th>\n",
       "      <td>0.349580</td>\n",
       "      <td>0.719109</td>\n",
       "    </tr>\n",
       "    <tr>\n",
       "      <th>2</th>\n",
       "      <td>-0.005714</td>\n",
       "      <td>0.354443</td>\n",
       "    </tr>\n",
       "    <tr>\n",
       "      <th>3</th>\n",
       "      <td>0.699121</td>\n",
       "      <td>0.351257</td>\n",
       "    </tr>\n",
       "  </tbody>\n",
       "</table>\n",
       "</div>"
      ],
      "text/plain": [
       "         γ1        γ2\n",
       "0  0.347573  0.003152\n",
       "1  0.349580  0.719109\n",
       "2 -0.005714  0.354443\n",
       "3  0.699121  0.351257"
      ]
     },
     "execution_count": 22,
     "metadata": {},
     "output_type": "execute_result"
    }
   ],
   "source": [
    "Gamma"
   ]
  },
  {
   "cell_type": "code",
   "execution_count": 35,
   "metadata": {},
   "outputs": [
    {
     "name": "stderr",
     "output_type": "stream",
     "text": [
      "<ipython-input-35-5bc400241c0c>:38: MatplotlibDeprecationWarning: Adding an axes using the same arguments as a previous axes currently reuses the earlier instance.  In a future version, a new instance will always be created and returned.  Meanwhile, this warning can be suppressed, and the future behavior ensured, by passing a unique label to each axes instance.\n",
      "  ax1 = fig.add_subplot(spec[0,1])\n",
      "<ipython-input-35-5bc400241c0c>:59: MatplotlibDeprecationWarning: Adding an axes using the same arguments as a previous axes currently reuses the earlier instance.  In a future version, a new instance will always be created and returned.  Meanwhile, this warning can be suppressed, and the future behavior ensured, by passing a unique label to each axes instance.\n",
      "  ax2 = fig.add_subplot(spec[1,0])\n",
      "<ipython-input-35-5bc400241c0c>:72: RuntimeWarning: divide by zero encountered in double_scalars\n",
      "  k_ = gammai[1]/gammai[0]\n",
      "<ipython-input-35-5bc400241c0c>:73: RuntimeWarning: invalid value encountered in multiply\n",
      "  fk_ = lambda x: k_*x\n",
      "<ipython-input-35-5bc400241c0c>:80: MatplotlibDeprecationWarning: Adding an axes using the same arguments as a previous axes currently reuses the earlier instance.  In a future version, a new instance will always be created and returned.  Meanwhile, this warning can be suppressed, and the future behavior ensured, by passing a unique label to each axes instance.\n",
      "  ax3 = fig.add_subplot(spec[1,1])\n",
      "<ipython-input-35-5bc400241c0c>:93: RuntimeWarning: divide by zero encountered in double_scalars\n",
      "  k_ = gammai[1]/gammai[0]\n",
      "<ipython-input-35-5bc400241c0c>:94: RuntimeWarning: invalid value encountered in multiply\n",
      "  fk_ = lambda x: k_*x\n"
     ]
    },
    {
     "data": {
      "image/png": "[encoded data removed]",
      "text/plain": [
       "<Figure size 720x576 with 4 Axes>"
      ]
     },
     "metadata": {
      "needs_background": "light"
     },
     "output_type": "display_data"
    }
   ],
   "source": [
    "fig = plt.figure(figsize = [10,8], constrained_layout=True)\n",
    "spec = gridspec.GridSpec(ncols=2, nrows=2, figure=fig)\n",
    "ax0 = fig.add_subplot(spec[0,0])\n",
    "ax0.grid()\n",
    "\n",
    "ax1 = fig.add_subplot(spec[0,1])\n",
    "ax1.grid()\n",
    "\n",
    "ax2 = fig.add_subplot(spec[1,0])\n",
    "ax2.grid()\n",
    "\n",
    "ax3 = fig.add_subplot(spec[1,1])\n",
    "ax3.grid()\n",
    "\n",
    "Gamma = df320[[\"γ1\", \"γ2\"]].round(2)\n",
    "Gamma\n",
    "ax0.set_title(r\"n = 300, $\\epsilon$ ~ $N(0, 1)$\")\n",
    "ax0.set_xlabel(r\"$\\gamma_1$\")\n",
    "ax0.set_ylabel(r\"$\\gamma_2$\")\n",
    "# ax0.text(0.5,3.5, r\"$\\gamma$ = $(1, 4)^T$\")\n",
    "# ax0.text(0.12,2.2, r\"$\\hat \\gamma$ = $({}, {})^T$\".format(Gamma.loc[4][0],Gamma.loc[4][1]))\n",
    "# ax0.text(3.0,0.8, r\"$\\gamma$ = $(4, 1)^T$\")\n",
    "# ax0.text(2.0,0.4, r\"$\\hat \\gamma$ = $({}, {})^T$\".format(Gamma.loc[7][0],Gamma.loc[7][1]))\n",
    "for i in range(3):\n",
    "    k = gamma[i + 1][1]/(gamma[i + 1][0] + 0.01)\n",
    "    fk = lambda x: k*x\n",
    "    x = np.linspace(0, gamma[i + 1][0], 10)\n",
    "    ax0.plot(x, fk(x), c = \"y\")\n",
    "    gammai = Gamma.loc[i + 1]\n",
    "    k_ = gammai[1]/gammai[0]\n",
    "    fk_ = lambda x: k_*x\n",
    "    x_ = np.linspace(0, gammai[0], 10)\n",
    "    ax0.plot(x_, fk_(x_), linestyle = \"--\", c = \"g\")\n",
    "\n",
    "Gamma = df321[[\"γ1\", \"γ2\"]].round(2)\n",
    "Gamma\n",
    "ax1.set_title(r\"n = 300, $\\epsilon$ ~ $Cauchy(0, 1)$\")\n",
    "ax1 = fig.add_subplot(spec[0,1])\n",
    "ax1.set_xlabel(r\"$\\gamma_1$\")\n",
    "ax1.set_ylabel(r\"$\\gamma_2$\")\n",
    "# ax1.text(0.5,3.5, r\"$\\gamma$ = $(1, 4)^T$\")\n",
    "# ax1.text(0.12,2.2, r\"$\\hat \\gamma$ = $({}, {})^T$\".format(Gamma.loc[4][0],Gamma.loc[4][1]))\n",
    "# ax1.text(3.0,0.8, r\"$\\gamma$ = $(4, 1)^T$\")\n",
    "# ax1.text(2.0,0.4, r\"$\\hat \\gamma$ = $({}, {})^T$\".format(Gamma.loc[7][0],Gamma.loc[7][1]))\n",
    "for i in range(3):\n",
    "    k = gamma[i + 1][1]/(gamma[i + 1][0] + 0.01)\n",
    "    fk = lambda x: k*x\n",
    "    x = np.linspace(0, gamma[i + 1][0], 10)\n",
    "    ax1.plot(x, fk(x), c = \"y\")\n",
    "    gammai = Gamma.loc[i + 1]\n",
    "    k_ = gammai[1]/gammai[0]\n",
    "    fk_ = lambda x: k_*x\n",
    "    x_ = np.linspace(0, gammai[0], 10)\n",
    "    ax1.plot(x_, fk_(x_), linestyle = \"--\", c = \"g\")\n",
    "\n",
    "Gamma = df620[[\"γ1\", \"γ2\"]].round(2)\n",
    "Gamma\n",
    "ax2.set_title(r\"n = 600, $\\epsilon$ ~ $N(0, 1)$\")\n",
    "ax2 = fig.add_subplot(spec[1,0])\n",
    "ax2.set_xlabel(r\"$\\gamma_1$\")\n",
    "ax2.set_ylabel(r\"$\\gamma_2$\")\n",
    "# ax2.text(0.5,3.5, r\"$\\gamma$ = $(1, 4)^T$\")\n",
    "# ax2.text(0.12,2.2, r\"$\\hat \\gamma$ = $({}, {})^T$\".format(Gamma.loc[4][0],Gamma.loc[4][1]))\n",
    "# ax2.text(3.0,0.8, r\"$\\gamma$ = $(4, 1)^T$\")\n",
    "# ax2.text(2.0,0.4, r\"$\\hat \\gamma$ = $({}, {})^T$\".format(Gamma.loc[7][0],Gamma.loc[7][1]))\n",
    "for i in range(3):\n",
    "    k = gamma[i + 1][1]/(gamma[i + 1][0] + 0.01)\n",
    "    fk = lambda x: k*x\n",
    "    x = np.linspace(0, gamma[i + 1][0], 10)\n",
    "    ax2.plot(x, fk(x), c = \"y\")\n",
    "    gammai = Gamma.loc[i + 1]\n",
    "    k_ = gammai[1]/gammai[0]\n",
    "    fk_ = lambda x: k_*x\n",
    "    x_ = np.linspace(0, gammai[0], 10)\n",
    "    ax2.plot(x_, fk_(x_), linestyle = \"--\", c = \"g\")\n",
    "\n",
    "Gamma = df621[[\"γ1\", \"γ2\"]].round(2)\n",
    "Gamma\n",
    "ax3.set_title(r\"n = 600, $\\epsilon$ ~ $Cauchy(0, 1)$\")\n",
    "ax3 = fig.add_subplot(spec[1,1])\n",
    "ax3.set_xlabel(r\"$\\gamma_1$\")\n",
    "ax3.set_ylabel(r\"$\\gamma_2$\")\n",
    "# ax3.text(0.5,3.5, r\"$\\gamma$ = $(1, 4)^T$\")\n",
    "# ax3.text(0.12,2.2, r\"$\\hat \\gamma$ = $({}, {})^T$\".format(Gamma.loc[4][0],Gamma.loc[4][1]))\n",
    "# ax3.text(3.0,0.8, r\"$\\gamma$ = $(4, 1)^T$\")\n",
    "# ax3.text(2.0,0.4, r\"$\\hat \\gamma$ = $({}, {})^T$\".format(Gamma.loc[7][0],Gamma.loc[7][1]))\n",
    "for i in range(3):\n",
    "    k = gamma[i + 1][1]/(gamma[i + 1][0] + 0.01)\n",
    "    fk = lambda x: k*x\n",
    "    x = np.linspace(0, gamma[i + 1][0], 10)\n",
    "    ax3.plot(x, fk(x), c = \"y\")\n",
    "    gammai = Gamma.loc[i + 1]\n",
    "    k_ = gammai[1]/gammai[0]\n",
    "    fk_ = lambda x: k_*x\n",
    "    x_ = np.linspace(0, gammai[0], 10)\n",
    "    ax3.plot(x_, fk_(x_), linestyle = \"--\", c = \"g\")\n",
    "\n",
    "plt.savefig(\"model_2.png\", format='png', bbox_inches='tight', dpi=300, transparent=True)"
   ]
  },
  {
   "cell_type": "code",
   "execution_count": 287,
   "metadata": {},
   "outputs": [],
   "source": [
    "fig.savefig(\"model_2.png\")"
   ]
  },
  {
   "cell_type": "code",
   "execution_count": 102,
   "metadata": {},
   "outputs": [
    {
     "name": "stdout",
     "output_type": "stream",
     "text": [
      " 0.9994215685377588\n",
      " 0.9999941336742791\n",
      " 0.99995613933659\n",
      " 0.9997189287243002\n",
      " 0.999969069416688\n",
      " 0.9999975360914906\n",
      " 0.9997783344796746\n"
     ]
    }
   ],
   "source": [
    "for k in range(7):\n",
    "    γk = gamma[k + 1]\n",
    "    gammak = Gamma.loc[k + 1]\n",
    "    angle = np.sum(gammak * γk) / (np.linalg.norm(γk)* np.linalg.norm(gammak))\n",
    "    print(\"\",angle)"
   ]
  },
  {
   "cell_type": "code",
   "execution_count": 91,
   "metadata": {},
   "outputs": [
    {
     "data": {
      "text/plain": [
       "[[0, 0],\n",
       " [1.0, 0.001],\n",
       " [1.0, 1.0],\n",
       " [1.0, 2.0],\n",
       " [1.0, 4.0],\n",
       " [0.001, 1.0],\n",
       " [2.0, 1.0],\n",
       " [4.0, 1.0]]"
      ]
     },
     "execution_count": 91,
     "metadata": {},
     "output_type": "execute_result"
    }
   ],
   "source": [
    "gamma"
   ]
  },
  {
   "cell_type": "code",
   "execution_count": null,
   "metadata": {},
   "outputs": [],
   "source": []
  }
 ],
 "metadata": {
  "kernelspec": {
   "display_name": "Python 3",
   "language": "python",
   "name": "python3"
  },
  "language_info": {
   "codemirror_mode": {
    "name": "ipython",
    "version": 3
   },
   "file_extension": ".py",
   "mimetype": "text/x-python",
   "name": "python",
   "nbconvert_exporter": "python",
   "pygments_lexer": "ipython3",
   "version": "3.8.3"
  }
 },
 "nbformat": 4,
 "nbformat_minor": 4
}
